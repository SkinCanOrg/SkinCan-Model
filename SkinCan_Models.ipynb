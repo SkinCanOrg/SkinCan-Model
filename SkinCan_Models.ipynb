{
  "nbformat": 4,
  "nbformat_minor": 0,
  "metadata": {
    "colab": {
      "name": "SkinCan-Models.ipynb",
      "provenance": [],
      "collapsed_sections": [],
      "authorship_tag": "ABX9TyNTFkjgFqnCprwWRR260Cx5",
      "include_colab_link": true
    },
    "kernelspec": {
      "name": "python3",
      "display_name": "Python 3"
    },
    "language_info": {
      "name": "python"
    }
  },
  "cells": [
    {
      "cell_type": "markdown",
      "metadata": {
        "id": "view-in-github",
        "colab_type": "text"
      },
      "source": [
        "<a href=\"https://colab.research.google.com/github/fadlinisasiGit/SkinCan-model/blob/main/SkinCan_Models.ipynb\" target=\"_parent\"><img src=\"https://colab.research.google.com/assets/colab-badge.svg\" alt=\"Open In Colab\"/></a>"
      ]
    },
    {
      "cell_type": "markdown",
      "source": [
        "# **Product-Based-Capstone-Project**\n",
        "\n",
        "**SkinCan Skin Cancer Detection App**\n",
        "\n",
        "Final Selected Themes : Human Healthcare & Animal Welfare\n",
        "\n",
        "Team Member :\n",
        "*   (ML) M7134F1606 - Muhammad Fadli Ramadhan - Politeknik Negeri Sriwijaya\n",
        "*   (ML) M2008F0851 - Adhitya Ghiffari Pramudito - Universitas Gadjah Mada\n",
        "*   (MD) A2191F1821 - Ahmad Ansori Palembani - Universitas Bina Darma\n",
        "*   (MD) A7191F1820 - Muhammad Fharid Akbar - Universitas Bina Darma\n",
        "*   (CC) C2322F2819 - Muhammad Mustafa Kamal - Universitas Syiah Kuala\n",
        "*   (CC) C7457F3068 - Wulan Ayu Rania Sari -Universitas Nahdlatul Ulama Lampung\n",
        "\n",
        "\n",
        "\n",
        "\n",
        "\n",
        "\n",
        "\n",
        "\n",
        "\n",
        "\n",
        "\n"
      ],
      "metadata": {
        "id": "7AJAnLv7sChw"
      }
    },
    {
      "cell_type": "markdown",
      "source": [
        "**Executive Summary :**\n",
        "\n",
        "At this time there are so many dangers that can lurk human health, even in this era of pandemic, maintaining health is very important for everyone. People should have awareness to maintain health, especially the health of the skin. Therefore, by utilizing machine learning, cloud computing to create a skin cancer detection application by identifying the input image to remind the public the importance of maintaining healthy skin. In this project, We have a problem formulation as follows:\n",
        "\n",
        "*   How to detect various skin cancers in humans through the application?\n",
        "*   How to treat skin cancer early?\n",
        "*   How accurately does this application detect skin cancer?\n",
        "\n",
        "Our team wants to solve this problem because we want someone who has the potential for cancer to avoid a more serious problem, so that users who use this application can take preventive measures to prevent this problem.\n",
        "\n",
        "**How did your team come up with this project?**\n",
        "\n",
        "We want to build an application that can help the public and health workers to detect skin diseases in humans, including skin cancer. This application uses Deep Learning algorithms to predict various skin diseases to achieve maximum accuracy in predicting skin diseases at an early stage. Feature extraction plays a key role in the classification of skin diseases. In addition, Explainable AI is used to interpret decisions made by our machine learning models. With this application, hopefully, it can help users to detect skin diseases early so they can take preventive measures.\n",
        "\n",
        "**Based on your knowledge and explorations, tell us the Machine Learning Part of your capstone?**\n",
        "\n",
        "In this project, we’re using Python as main programming language, Tensorflow as mandatory library, Sckit-learn and keras as libraries, AI Platform as platform, TFLite as Tools for Model Deployment to Android, Kaggle as dataset resource, Google Colab as IDE, and create Machine Learning Model as main the feature in our app."
      ],
      "metadata": {
        "id": "w_QxS3fBBOXl"
      }
    },
    {
      "cell_type": "markdown",
      "source": [
        "## **Data Collecting**"
      ],
      "metadata": {
        "id": "nmBCumxbuPx9"
      }
    },
    {
      "cell_type": "code",
      "execution_count": null,
      "metadata": {
        "id": "kD3EZLLXrqGP"
      },
      "outputs": [],
      "source": [
        "# Import Libraries\n",
        "import tensorflow as tf\n",
        "from tensorflow.keras.optimizers import RMSprop\n",
        "from tensorflow.keras.preprocessing.image import ImageDataGenerator\n",
        "import numpy as np\n",
        "import matplotlib.pyplot as plt\n",
        "import pandas as pd\n",
        "%matplotlib inline\n",
        "import seaborn as sns"
      ]
    },
    {
      "cell_type": "code",
      "source": [
        "# Checking tensorflow version\n",
        "print(tf.__version__)"
      ],
      "metadata": {
        "id": "Suvs-sMouW_r"
      },
      "execution_count": null,
      "outputs": []
    },
    {
      "cell_type": "code",
      "source": [
        "# install opendataset packages\n",
        "!pip install opendatasets"
      ],
      "metadata": {
        "id": "rkKPY5sBugim"
      },
      "execution_count": null,
      "outputs": []
    },
    {
      "cell_type": "code",
      "source": [
        "# install paket kaggle\n",
        "!pip install -q kaggle\n",
        "\n",
        "# Upload file kaggle.json dari Create New API Token Akun Kaggle\n",
        "from google.colab import files\n",
        "files.upload()"
      ],
      "metadata": {
        "id": "hi7IFqsvukJw"
      },
      "execution_count": null,
      "outputs": []
    },
    {
      "cell_type": "code",
      "source": [
        "# Download Dataset from Kaggle\n",
        "import opendatasets as od\n",
        "dataset_url= 'https://www.kaggle.com/datasets/jaiahuja/skin-cancer-detection'\n",
        "od.download('https://www.kaggle.com/datasets/jaiahuja/skin-cancer-detection')"
      ],
      "metadata": {
        "id": "W3yrZuBuuq-q"
      },
      "execution_count": null,
      "outputs": []
    },
    {
      "cell_type": "markdown",
      "source": [
        "## **Data Understanding**\n",
        "\n"
      ],
      "metadata": {
        "id": "hdIWgYIswAYs"
      }
    },
    {
      "cell_type": "code",
      "source": [
        "# Create new directories, and variables\n",
        "# melakukan ekstraksi pada file zip\n",
        "import zipfile,os\n",
        "\n",
        " \n",
        "base_dir = '/content/Skin cancer ISIC The International Skin Imaging Collaboration'\n",
        "train_dir = os.path.join(base_dir, 'train')\n",
        "test_dir = os.path.join(base_dir, 'test')\n",
        "\n",
        "os.listdir('/content/Skin cancer ISIC The International Skin Imaging Collaboration/train')\n",
        "os.listdir('/content/Skin cancer ISIC The International Skin Imaging Collaboration/test')"
      ],
      "metadata": {
        "id": "4WnvbYKvvGGw"
      },
      "execution_count": null,
      "outputs": []
    },
    {
      "cell_type": "code",
      "source": [
        "# Exploratory Data Analysis (EDA)\n",
        "\n",
        "# Count the number of images in each folder dataset \n",
        "train_ak = len(os.listdir('/content/Skin cancer ISIC The International Skin Imaging Collaboration/train/actinic keratosis'))\n",
        "train_bcc = len(os.listdir('/content/Skin cancer ISIC The International Skin Imaging Collaboration/train/basal cell carcinoma'))\n",
        "train_df = len(os.listdir('/content/Skin cancer ISIC The International Skin Imaging Collaboration/train/dermatofibroma'))\n",
        "train_mel = len(os.listdir('/content/Skin cancer ISIC The International Skin Imaging Collaboration/train/melanoma'))\n",
        "train_nev = len(os.listdir('/content/Skin cancer ISIC The International Skin Imaging Collaboration/train/nevus'))\n",
        "train_pbk = len(os.listdir('/content/Skin cancer ISIC The International Skin Imaging Collaboration/train/pigmented benign keratosis'))\n",
        "train_sk = len(os.listdir('/content/Skin cancer ISIC The International Skin Imaging Collaboration/train/seborrheic keratosis'))\n",
        "train_scc = len(os.listdir('/content/Skin cancer ISIC The International Skin Imaging Collaboration/train/squamous cell carcinoma'))\n",
        "train_vasc = len(os.listdir('/content/Skin cancer ISIC The International Skin Imaging Collaboration/train/vascular lesion'))\n",
        "train_all = len(os.listdir('/content/Skin cancer ISIC The International Skin Imaging Collaboration/train'))\n",
        "\n",
        "test_ak = len(os.listdir('/content/Skin cancer ISIC The International Skin Imaging Collaboration/test/actinic keratosis'))\n",
        "test_bcc = len(os.listdir('/content/Skin cancer ISIC The International Skin Imaging Collaboration/test/basal cell carcinoma'))\n",
        "test_df = len(os.listdir('/content/Skin cancer ISIC The International Skin Imaging Collaboration/test/dermatofibroma'))\n",
        "test_mel = len(os.listdir('/content/Skin cancer ISIC The International Skin Imaging Collaboration/test/melanoma'))\n",
        "test_nev = len(os.listdir('/content/Skin cancer ISIC The International Skin Imaging Collaboration/test/nevus'))\n",
        "test_pbk = len(os.listdir('/content/Skin cancer ISIC The International Skin Imaging Collaboration/test/pigmented benign keratosis'))\n",
        "test_sk = len(os.listdir('/content/Skin cancer ISIC The International Skin Imaging Collaboration/test/seborrheic keratosis'))\n",
        "test_scc = len(os.listdir('/content/Skin cancer ISIC The International Skin Imaging Collaboration/test/squamous cell carcinoma'))\n",
        "test_vasc = len(os.listdir('/content/Skin cancer ISIC The International Skin Imaging Collaboration/test/vascular lesion'))\n",
        "test_all = len(os.listdir('/content/Skin cancer ISIC The International Skin Imaging Collaboration/test'))\n",
        "\n",
        "print(\"count data: \")\n",
        "print(\"train actinic keratosis: \" + str(train_ak))\n",
        "print(\"train basal cell carcinoma: \" + str(train_bcc))\n",
        "print(\"train dermatofibroma: \" + str(train_df))\n",
        "print(\"train melanoma: \" + str(train_mel))\n",
        "print(\"train nevus: \" + str(train_nev))\n",
        "print(\"train pigmented benign keratosis: \" + str(train_pbk))\n",
        "print(\"train seborrheic keratosis: \" + str(train_sk))\n",
        "print(\"train squamous cell carcinoma: \" + str(train_scc))\n",
        "print(\"train vascular lesion: \" + str(train_vasc))\n",
        "print(\"total data train: \"+ str(train_all))\n",
        "\n",
        "print(\"test actinic keratosis: \" + str(test_ak))\n",
        "print(\"test basal cell carcinoma: \" + str(test_bcc))\n",
        "print(\"test dermatofibroma: \" + str(test_df))\n",
        "print(\"test melanoma: \" + str(test_mel))\n",
        "print(\"test nevus: \" + str(test_nev))\n",
        "print(\"test pigmented benign keratosis: \" + str(test_pbk))\n",
        "print(\"test seborrheic keratosis: \" + str(test_sk))\n",
        "print(\"test squamous cell carcinoma: \" + str(test_scc))\n",
        "print(\"test vascular lesion: \" + str(test_vasc))\n",
        "print(\"total data test: \"+ str(test_all))\n",
        "\n",
        "print(\"total dataset : \"+ str(train_all+test_all))\n"
      ],
      "metadata": {
        "id": "I85_FztHzvsZ"
      },
      "execution_count": null,
      "outputs": []
    },
    {
      "cell_type": "markdown",
      "source": [
        "## **Data Preparation**"
      ],
      "metadata": {
        "id": "TKWW7xzT6xsm"
      }
    },
    {
      "cell_type": "code",
      "source": [
        "# Train data split 20% and augmentation\n",
        "from tensorflow.keras.preprocessing.image import ImageDataGenerator\n",
        "\n",
        "train_datagen = ImageDataGenerator(\n",
        "                    rescale=1./255,\n",
        "                    rotation_range=20,\n",
        "                    horizontal_flip=True,\n",
        "                    shear_range = 0.2,\n",
        "                    fill_mode = 'nearest',\n",
        "                    validation_split = 0.2)\n",
        "\n",
        "test_datagen = ImageDataGenerator(\n",
        "                    rescale=1./255,\n",
        "                    rotation_range=20,\n",
        "                    horizontal_flip=True,\n",
        "                    shear_range = 0.2,\n",
        "                    fill_mode = 'nearest',\n",
        "                    validation_split = 0.2)\n",
        "\n",
        "train_generator = train_datagen.flow_from_directory(\n",
        "        train_dir,  # train directory\n",
        "        target_size=(150, 150),  # converts the entire image to a resolution of 150x150 pixels\n",
        "        batch_size=4,\n",
        "        # because we are a multiclass classification problem then use class_mode = 'categorical'\n",
        "        class_mode='categorical',\n",
        "        subset = 'training')\n",
        "\n",
        "test_generator = test_datagen.flow_from_directory(\n",
        "        test_dir, # validation directory\n",
        "        target_size=(150, 150), # converts the entire image to a resolution of 150x150 pixels\n",
        "        batch_size=4, # because we are a multiclass classification problem then use class_mode = 'categorical'\n",
        "        class_mode='categorical',\n",
        "        subset = 'validation')"
      ],
      "metadata": {
        "id": "Gtbi5mlL6ZDu"
      },
      "execution_count": null,
      "outputs": []
    },
    {
      "cell_type": "code",
      "source": [
        "# Indexing the class\n",
        "print(train_generator.class_indices)"
      ],
      "metadata": {
        "id": "IngNt0Le7kX6"
      },
      "execution_count": null,
      "outputs": []
    },
    {
      "cell_type": "markdown",
      "source": [
        "## **Modelling**\n"
      ],
      "metadata": {
        "id": "74zXf5HRABYH"
      }
    },
    {
      "cell_type": "code",
      "source": [
        "# building the architecture of a CNN Model with deep learning\n",
        "model = tf.keras.models.Sequential([\n",
        "    tf.keras.layers.Conv2D(32, (3,3), activation='relu', input_shape=(150, 150, 3)),\n",
        "    tf.keras.layers.MaxPooling2D(2, 2),\n",
        "    tf.keras.layers.Conv2D(64, (3,3), activation='relu'),\n",
        "    tf.keras.layers.MaxPooling2D(2,2),\n",
        "    tf.keras.layers.Conv2D(128, (3,3), activation='relu'),\n",
        "    tf.keras.layers.MaxPooling2D(2,2),\n",
        "    tf.keras.layers.Conv2D(256, (3,3), activation='relu'),\n",
        "    tf.keras.layers.Flatten(),\n",
        "    tf.keras.layers.Dropout(0.5),\n",
        "    tf.keras.layers.Dense(512, activation='relu'),\n",
        "    tf.keras.layers.Dense(9, activation='sigmoid')\n",
        "])\n",
        "model.summary()"
      ],
      "metadata": {
        "id": "I7RbZhHNAFGA"
      },
      "execution_count": null,
      "outputs": []
    },
    {
      "cell_type": "code",
      "source": [
        "# Using Callback\n",
        "class myCallback(tf.keras.callbacks.Callback):\n",
        "  def on_epoch_end(self, epoch, logs={}):\n",
        "    if(logs.get('accuracy')>=0.98 and logs.get('val_accuracy')>=0.98):\n",
        "      print(\"\\nTraining Model Stopped! Accuracy Model is very good!\")\n",
        "      self.model.stop_training = True\n",
        "callbacks = myCallback()"
      ],
      "metadata": {
        "id": "UkiLRZYuAJFK"
      },
      "execution_count": null,
      "outputs": []
    },
    {
      "cell_type": "code",
      "source": [
        "# using Optimizer with learning rate\n",
        "from tensorflow.keras.optimizers import Adam\n",
        "\n",
        "adam = Adam(lr=0.0001)\n",
        "\n",
        "model.compile(loss = 'categorical_crossentropy',\n",
        "              optimizer = adam,\n",
        "              metrics = ['accuracy'])"
      ],
      "metadata": {
        "id": "fKq3fSSJAL0I"
      },
      "execution_count": null,
      "outputs": []
    },
    {
      "cell_type": "code",
      "source": [
        "# Training model\n",
        "history = model.fit(\n",
        "      train_generator,  \n",
        "      epochs=200, \n",
        "      steps_per_epoch=25,\n",
        "      validation_data=test_generator,\n",
        "      validation_steps=5, \n",
        "      verbose=2,\n",
        "      callbacks=[callbacks])"
      ],
      "metadata": {
        "id": "5lMuMcRlAbaO"
      },
      "execution_count": null,
      "outputs": []
    },
    {
      "cell_type": "markdown",
      "source": [
        "## **Evaluation**"
      ],
      "metadata": {
        "id": "IU-s3te7B4qj"
      }
    },
    {
      "cell_type": "code",
      "source": [
        "# Evaluation Metric\n",
        "# PLOTTING PLOT ACCURACY and LOSS of TRAINING and VALIDATION\n",
        "import matplotlib.pyplot as plt\n",
        "acc = history.history['accuracy']\n",
        "val_acc = history.history['val_accuracy']\n",
        "loss = history.history['loss']\n",
        "val_loss = history.history['val_loss']\n",
        "\n",
        "epochs = range(len(acc))\n",
        "\n",
        "plt.plot(epochs, acc, 'r', label='Training accuracy')\n",
        "plt.plot(epochs, val_acc, 'b', label='Validation accuracy')\n",
        "plt.title('Training and validation accuracy')\n",
        "plt.legend(loc=0)\n",
        "plt.figure()\n",
        "plt.show()\n",
        "\n",
        "plt.plot(epochs, loss, 'r', label='Training loss')\n",
        "plt.plot(epochs, val_loss, 'b', label='Validation loss')\n",
        "plt.title('Training and validation loss')\n",
        "plt.legend(loc=0)\n",
        "plt.figure()\n",
        "plt.show()"
      ],
      "metadata": {
        "id": "YZ_GCR6qB8K0"
      },
      "execution_count": null,
      "outputs": []
    },
    {
      "cell_type": "markdown",
      "source": [
        "## **Image Prediction**"
      ],
      "metadata": {
        "id": "bvuL4Hb5Brvo"
      }
    },
    {
      "cell_type": "code",
      "source": [
        "# view the results of the model you have created on the Notebook.\n",
        "import numpy as np\n",
        "from google.colab import files\n",
        "from keras.preprocessing import image\n",
        "import matplotlib.pyplot as plt\n",
        "import matplotlib.image as mpimg\n",
        "%matplotlib inline\n",
        " \n",
        "uploaded = files.upload()\n",
        " \n",
        "for fn in uploaded.keys():\n",
        " \n",
        "  # predicting images\n",
        "  path = fn\n",
        "  img = image.load_img(path, target_size=(150,150))\n",
        "  imgplot = plt.imshow(img)\n",
        "  x = image.img_to_array(img)\n",
        "  x = np.expand_dims(x, axis=0)\n",
        " \n",
        "  images = np.vstack([x])\n",
        "  classes = model.predict(images, batch_size=10)\n",
        "  \n",
        "  print(fn)\n",
        "  if classes==0:\n",
        "    print('You have an actinic keratosis skin cancer!')\n",
        "  elif classes==1:\n",
        "    print('You have a basal cell carcinoma skin cancer!')\n",
        "  elif classes==2:\n",
        "    print('You have a dermatofibroma skin cancer!')\n",
        "  elif classes==3:\n",
        "    print('You have a melanoma skin cancer!')\n",
        "  elif classes==4:\n",
        "    print('You have a nevus skin cancer!')\n",
        "  elif classes==5:\n",
        "    print('You have a pigmented benign keratosis skin cancer!')\n",
        "  elif classes==6:\n",
        "    print('You have a seborrheic keratosis skin cancer!')\n",
        "  elif classes==7:\n",
        "    print('You have a squamous cell carcinoma cancer!')\n",
        "  elif classes==8:\n",
        "    print('You have a vascular lesion skin cancer!')\n",
        "  else:\n",
        "    print('Clear')"
      ],
      "metadata": {
        "id": "cwy0X3GtBws9"
      },
      "execution_count": null,
      "outputs": []
    }
  ]
}