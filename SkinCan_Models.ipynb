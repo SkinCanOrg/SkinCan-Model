{
  "nbformat": 4,
  "nbformat_minor": 0,
  "metadata": {
    "colab": {
      "name": "SkinCan-Models.ipynb",
      "provenance": [],
      "collapsed_sections": [],
      "authorship_tag": "ABX9TyPJxL2dtU0MoQn25aArbwOS",
      "include_colab_link": true
    },
    "kernelspec": {
      "name": "python3",
      "display_name": "Python 3"
    },
    "language_info": {
      "name": "python"
    }
  },
  "cells": [
    {
      "cell_type": "markdown",
      "metadata": {
        "id": "view-in-github",
        "colab_type": "text"
      },
      "source": [
        "<a href=\"https://colab.research.google.com/github/fadlinisasiGit/SkinCan-model/blob/main/SkinCan_Models.ipynb\" target=\"_parent\"><img src=\"https://colab.research.google.com/assets/colab-badge.svg\" alt=\"Open In Colab\"/></a>"
      ]
    },
    {
      "cell_type": "markdown",
      "source": [
        "# **Product-Based-Capstone-Project**\n",
        "\n",
        "**SkinCan Skin Cancer Detection App**\n",
        "\n",
        "Final Selected Themes : Human Healthcare & Animal Welfare\n",
        "\n",
        "Team Member :\n",
        "*   (ML) M7134F1606 - Muhammad Fadli Ramadhan - Politeknik Negeri Sriwijaya\n",
        "*   (ML) M2008F0851 - Adhitya Ghiffari Pramudito - Universitas Gadjah Mada\n",
        "*   (MD) A2191F1821 - Ahmad Ansori Palembani - Universitas Bina Darma\n",
        "*   (MD) A7191F1820 - Muhammad Fharid Akbar - Universitas Bina Darma\n",
        "*   (CC) C2322F2819 - Muhammad Mustafa Kamal - Universitas Syiah Kuala\n",
        "*   (CC) C7457F3068 - Wulan Ayu Rania Sari -Universitas Nahdlatul Ulama Lampung\n",
        "\n",
        "\n",
        "\n",
        "\n",
        "\n",
        "\n",
        "\n",
        "\n",
        "\n",
        "\n",
        "\n"
      ],
      "metadata": {
        "id": "7AJAnLv7sChw"
      }
    },
    {
      "cell_type": "markdown",
      "source": [
        "## **Data Collecting**"
      ],
      "metadata": {
        "id": "nmBCumxbuPx9"
      }
    },
    {
      "cell_type": "code",
      "execution_count": null,
      "metadata": {
        "id": "kD3EZLLXrqGP"
      },
      "outputs": [],
      "source": [
        "# Import Libraries\n",
        "import tensorflow as tf\n",
        "from tensorflow.keras.optimizers import RMSprop\n",
        "from tensorflow.keras.preprocessing.image import ImageDataGenerator\n",
        "import numpy as np\n",
        "import matplotlib.pyplot as plt\n",
        "import pandas as pd\n",
        "%matplotlib inline\n",
        "import seaborn as sns"
      ]
    },
    {
      "cell_type": "code",
      "source": [
        "# Checking tensorflow version\n",
        "print(tf.__version__)"
      ],
      "metadata": {
        "id": "Suvs-sMouW_r"
      },
      "execution_count": null,
      "outputs": []
    },
    {
      "cell_type": "code",
      "source": [
        "# install opendataset packages\n",
        "!pip install opendatasets"
      ],
      "metadata": {
        "id": "rkKPY5sBugim"
      },
      "execution_count": null,
      "outputs": []
    },
    {
      "cell_type": "code",
      "source": [
        "# install paket kaggle\n",
        "!pip install -q kaggle\n",
        "\n",
        "# Upload file kaggle.json dari Create New API Token Akun Kaggle\n",
        "from google.colab import files\n",
        "files.upload()"
      ],
      "metadata": {
        "id": "hi7IFqsvukJw"
      },
      "execution_count": null,
      "outputs": []
    },
    {
      "cell_type": "code",
      "source": [
        "# Download Dataset from Kaggle\n",
        "import opendatasets as od\n",
        "dataset_url= 'https://www.kaggle.com/datasets/jaiahuja/skin-cancer-detection'\n",
        "od.download('https://www.kaggle.com/datasets/jaiahuja/skin-cancer-detection')"
      ],
      "metadata": {
        "id": "W3yrZuBuuq-q"
      },
      "execution_count": null,
      "outputs": []
    },
    {
      "cell_type": "markdown",
      "source": [
        "## **Data Understanding**\n",
        "\n"
      ],
      "metadata": {
        "id": "hdIWgYIswAYs"
      }
    },
    {
      "cell_type": "code",
      "source": [
        "# Create new directories, and variables\n",
        "# melakukan ekstraksi pada file zip\n",
        "import zipfile,os\n",
        "\n",
        " \n",
        "base_dir = '/content/Skin cancer ISIC The International Skin Imaging Collaboration'\n",
        "train_dir = os.path.join(base_dir, 'train')\n",
        "test_dir = os.path.join(base_dir, 'test')\n",
        "\n",
        "os.listdir('/content/Skin cancer ISIC The International Skin Imaging Collaboration/train')\n",
        "os.listdir('/content/Skin cancer ISIC The International Skin Imaging Collaboration/test')"
      ],
      "metadata": {
        "id": "4WnvbYKvvGGw"
      },
      "execution_count": null,
      "outputs": []
    },
    {
      "cell_type": "code",
      "source": [
        "# Exploratory Data Analysis (EDA)\n",
        "\n",
        "# Count the number of images in each folder dataset \n",
        "train_ak = len(os.listdir('/content/Skin cancer ISIC The International Skin Imaging Collaboration/train/actinic keratosis'))\n",
        "train_bcc = len(os.listdir('/content/Skin cancer ISIC The International Skin Imaging Collaboration/train/basal cell carcinoma'))\n",
        "train_df = len(os.listdir('/content/Skin cancer ISIC The International Skin Imaging Collaboration/train/dermatofibroma'))\n",
        "train_mel = len(os.listdir('/content/Skin cancer ISIC The International Skin Imaging Collaboration/train/melanoma'))\n",
        "train_nev = len(os.listdir('/content/Skin cancer ISIC The International Skin Imaging Collaboration/train/nevus'))\n",
        "train_pbk = len(os.listdir('/content/Skin cancer ISIC The International Skin Imaging Collaboration/train/pigmented benign keratosis'))\n",
        "train_sk = len(os.listdir('/content/Skin cancer ISIC The International Skin Imaging Collaboration/train/seborrheic keratosis'))\n",
        "train_scc = len(os.listdir('/content/Skin cancer ISIC The International Skin Imaging Collaboration/train/squamous cell carcinoma'))\n",
        "train_vasc = len(os.listdir('/content/Skin cancer ISIC The International Skin Imaging Collaboration/train/vascular lesion'))\n",
        "train_all = len(os.listdir('/content/Skin cancer ISIC The International Skin Imaging Collaboration/train'))\n",
        "\n",
        "test_ak = len(os.listdir('/content/Skin cancer ISIC The International Skin Imaging Collaboration/test/actinic keratosis'))\n",
        "test_bcc = len(os.listdir('/content/Skin cancer ISIC The International Skin Imaging Collaboration/test/basal cell carcinoma'))\n",
        "test_df = len(os.listdir('/content/Skin cancer ISIC The International Skin Imaging Collaboration/test/dermatofibroma'))\n",
        "test_mel = len(os.listdir('/content/Skin cancer ISIC The International Skin Imaging Collaboration/test/melanoma'))\n",
        "test_nev = len(os.listdir('/content/Skin cancer ISIC The International Skin Imaging Collaboration/test/nevus'))\n",
        "test_pbk = len(os.listdir('/content/Skin cancer ISIC The International Skin Imaging Collaboration/test/pigmented benign keratosis'))\n",
        "test_sk = len(os.listdir('/content/Skin cancer ISIC The International Skin Imaging Collaboration/test/seborrheic keratosis'))\n",
        "test_scc = len(os.listdir('/content/Skin cancer ISIC The International Skin Imaging Collaboration/test/squamous cell carcinoma'))\n",
        "test_vasc = len(os.listdir('/content/Skin cancer ISIC The International Skin Imaging Collaboration/test/vascular lesion'))\n",
        "test_all = len(os.listdir('/content/Skin cancer ISIC The International Skin Imaging Collaboration/test'))\n",
        "\n",
        "print(\"count data: \")\n",
        "print(\"train actinic keratosis: \" + str(train_ak))\n",
        "print(\"train basal cell carcinoma: \" + str(train_bcc))\n",
        "print(\"train dermatofibroma: \" + str(train_df))\n",
        "print(\"train melanoma: \" + str(train_mel))\n",
        "print(\"train nevus: \" + str(train_nev))\n",
        "print(\"train pigmented benign keratosis: \" + str(train_pbk))\n",
        "print(\"train seborrheic keratosis: \" + str(train_sk))\n",
        "print(\"train squamous cell carcinoma: \" + str(train_scc))\n",
        "print(\"train vascular lesion: \" + str(train_vasc))\n",
        "print(\"total data train: \"+ str(train_all))\n",
        "\n",
        "print(\"test actinic keratosis: \" + str(test_ak))\n",
        "print(\"test basal cell carcinoma: \" + str(test_bcc))\n",
        "print(\"test dermatofibroma: \" + str(test_df))\n",
        "print(\"test melanoma: \" + str(test_mel))\n",
        "print(\"test nevus: \" + str(test_nev))\n",
        "print(\"test pigmented benign keratosis: \" + str(test_pbk))\n",
        "print(\"test seborrheic keratosis: \" + str(test_sk))\n",
        "print(\"test squamous cell carcinoma: \" + str(test_scc))\n",
        "print(\"test vascular lesion: \" + str(test_vasc))\n",
        "print(\"total data test: \"+ str(test_all))\n",
        "\n",
        "print(\"total dataset : \"+ str(train_all+test_all))\n"
      ],
      "metadata": {
        "id": "I85_FztHzvsZ"
      },
      "execution_count": null,
      "outputs": []
    },
    {
      "cell_type": "markdown",
      "source": [
        "## **Data Preparation**"
      ],
      "metadata": {
        "id": "TKWW7xzT6xsm"
      }
    },
    {
      "cell_type": "code",
      "source": [
        "# Train data split 20% and augmentation\n",
        "from tensorflow.keras.preprocessing.image import ImageDataGenerator\n",
        "\n",
        "train_datagen = ImageDataGenerator(\n",
        "                    rescale=1./255,\n",
        "                    rotation_range=20,\n",
        "                    horizontal_flip=True,\n",
        "                    shear_range = 0.2,\n",
        "                    fill_mode = 'nearest',\n",
        "                    validation_split = 0.2)\n",
        "\n",
        "test_datagen = ImageDataGenerator(\n",
        "                    rescale=1./255,\n",
        "                    rotation_range=20,\n",
        "                    horizontal_flip=True,\n",
        "                    shear_range = 0.2,\n",
        "                    fill_mode = 'nearest',\n",
        "                    validation_split = 0.2)\n",
        "\n",
        "train_generator = train_datagen.flow_from_directory(\n",
        "        train_dir,  # train directory\n",
        "        target_size=(150, 150),  # converts the entire image to a resolution of 150x150 pixels\n",
        "        batch_size=4,\n",
        "        # because we are a multiclass classification problem then use class_mode = 'categorical'\n",
        "        class_mode='categorical',\n",
        "        subset = 'training')\n",
        "\n",
        "test_generator = test_datagen.flow_from_directory(\n",
        "        test_dir, # validation directory\n",
        "        target_size=(150, 150), # converts the entire image to a resolution of 150x150 pixels\n",
        "        batch_size=4, # because we are a multiclass classification problem then use class_mode = 'categorical'\n",
        "        class_mode='categorical',\n",
        "        subset = 'validation')"
      ],
      "metadata": {
        "id": "Gtbi5mlL6ZDu"
      },
      "execution_count": null,
      "outputs": []
    },
    {
      "cell_type": "code",
      "source": [
        "# Indexing the class\n",
        "print(train_generator.class_indices)"
      ],
      "metadata": {
        "id": "IngNt0Le7kX6"
      },
      "execution_count": null,
      "outputs": []
    }
  ]
}