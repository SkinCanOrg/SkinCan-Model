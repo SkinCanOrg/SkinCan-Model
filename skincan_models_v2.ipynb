{
  "nbformat": 4,
  "nbformat_minor": 0,
  "metadata": {
    "colab": {
      "name": "skincan-models-v2.ipynb",
      "provenance": [],
      "collapsed_sections": [],
      "authorship_tag": "ABX9TyM/NhiF1z4Ih86/3fSfNLCU",
      "include_colab_link": true
    },
    "kernelspec": {
      "name": "python3",
      "display_name": "Python 3"
    },
    "language_info": {
      "name": "python"
    }
  },
  "cells": [
    {
      "cell_type": "markdown",
      "metadata": {
        "id": "view-in-github",
        "colab_type": "text"
      },
      "source": [
        "<a href=\"https://colab.research.google.com/github/fadlinisasiGit/SkinCan-model/blob/main/skincan_models_v2.ipynb\" target=\"_parent\"><img src=\"https://colab.research.google.com/assets/colab-badge.svg\" alt=\"Open In Colab\"/></a>"
      ]
    },
    {
      "cell_type": "markdown",
      "source": [
        "# **Product-Based-Capstone-Project**\n",
        "\n",
        "**SkinCan Skin Cancer Detection App**\n",
        "\n",
        "Final Selected Themes : Human Healthcare & Animal Welfare\n",
        "\n",
        "Team Member :\n",
        "*   (ML) M7134F1606 - Muhammad Fadli Ramadhan - Politeknik Negeri Sriwijaya\n",
        "*   (ML) M2008F0851 - Adhitya Ghiffari Pramudito - Universitas Gadjah Mada\n",
        "*   (MD) A2191F1821 - Ahmad Ansori Palembani - Universitas Bina Darma\n",
        "*   (MD) A7191F1820 - Muhammad Fharid Akbar - Universitas Bina Darma\n",
        "*   (CC) C2322F2819 - Muhammad Mustafa Kamal - Universitas Syiah Kuala\n",
        "*   (CC) C7457F3068 - Wulan Ayu Rania Sari -Universitas Nahdlatul Ulama Lampung\n",
        "\n",
        "\n",
        "\n",
        "\n",
        "\n",
        "\n",
        "\n",
        "\n",
        "\n",
        "\n",
        "\n"
      ],
      "metadata": {
        "id": "zIxXcEZlz3HF"
      }
    },
    {
      "cell_type": "markdown",
      "source": [
        "**Executive Summary :**\n",
        "\n",
        "At this time there are so many dangers that can lurk human health, even in this era of pandemic, maintaining health is very important for everyone. People should have awareness to maintain health, especially the health of the skin. Therefore, by utilizing machine learning, cloud computing to create a skin cancer detection application by identifying the input image to remind the public the importance of maintaining healthy skin. In this project, We have a problem formulation as follows:\n",
        "\n",
        "*   How to detect various skin cancers in humans through the application?\n",
        "*   How to treat skin cancer early?\n",
        "*   How accurately does this application detect skin cancer?\n",
        "\n",
        "Our team wants to solve this problem because we want someone who has the potential for cancer to avoid a more serious problem, so that users who use this application can take preventive measures to prevent this problem.\n",
        "\n",
        "**How did your team come up with this project?**\n",
        "\n",
        "We want to build an application that can help the public and health workers to detect skin diseases in humans, including skin cancer. This application uses Deep Learning algorithms to predict various skin diseases to achieve maximum accuracy in predicting skin diseases at an early stage. Feature extraction plays a key role in the classification of skin diseases. In addition, Explainable AI is used to interpret decisions made by our machine learning models. With this application, hopefully, it can help users to detect skin diseases early so they can take preventive measures.\n",
        "\n",
        "**Based on your knowledge and explorations, tell us the Machine Learning Part of your capstone?**\n",
        "\n",
        "In this project, we’re using Python as main programming language, Tensorflow as mandatory library, Sckit-learn and keras as libraries, AI Platform as platform, TFLite as Tools for Model Deployment to Android, Kaggle as dataset resource, Google Colab as IDE, and create Machine Learning Model as main the feature in our app."
      ],
      "metadata": {
        "id": "Ocm-YF600oQq"
      }
    },
    {
      "cell_type": "markdown",
      "source": [
        "## **Data Collecting**"
      ],
      "metadata": {
        "id": "VS-OE0ia0wsu"
      }
    },
    {
      "cell_type": "code",
      "execution_count": null,
      "metadata": {
        "id": "e2KadP35ySn9"
      },
      "outputs": [],
      "source": [
        "# Import Libraries\n",
        "\n",
        "import tensorflow as tf\n",
        "import numpy as np\n",
        "import pandas as pd\n",
        "import io\n",
        "import os\n",
        "\n",
        "from PIL import Image\n",
        "from glob import glob\n",
        "import itertools\n",
        "\n",
        "import plotly.graph_objects as go\n",
        "import plotly.express as px\n",
        "from plotly.subplots import make_subplots\n",
        "import matplotlib.pyplot as plt\n",
        "import seaborn as sns\n",
        "\n",
        "\n",
        "from tensorflow.keras.preprocessing.image import ImageDataGenerator\n",
        "from tensorflow.keras.models import Sequential\n",
        "from tensorflow.keras.layers import Conv2D, Flatten, BatchNormalization, Dropout, Dense, MaxPool2D\n",
        "from tensorflow.keras.callbacks import ReduceLROnPlateau, EarlyStopping\n",
        "\n",
        "from sklearn.model_selection import train_test_split\n",
        "from sklearn.metrics import classification_report, confusion_matrix\n",
        "\n",
        "from IPython.display import display\n",
        "#To see the value of multiple statements at once.\n",
        "from IPython.core.interactiveshell import InteractiveShell\n",
        "InteractiveShell.ast_node_interactivity = \"all\""
      ]
    },
    {
      "cell_type": "code",
      "source": [
        "import warnings # tf needs to learn to stfu\n",
        "warnings.simplefilter(action=\"ignore\", category=FutureWarning)\n",
        "warnings.simplefilter(action=\"ignore\", category=UserWarning)\n",
        "warnings.simplefilter(action=\"ignore\", category=RuntimeWarning)\n",
        "warnings.simplefilter(action='ignore', category=DeprecationWarning)"
      ],
      "metadata": {
        "id": "OgKpF4Zu15dP"
      },
      "execution_count": null,
      "outputs": []
    },
    {
      "cell_type": "code",
      "source": [
        "# Checking tensorflow version\n",
        "print(tf.__version__)"
      ],
      "metadata": {
        "id": "TuRA3mfG04AP"
      },
      "execution_count": null,
      "outputs": []
    },
    {
      "cell_type": "code",
      "source": [
        "# install opendataset packages\n",
        "!pip install opendatasets\n",
        "\n",
        "# download plotly package\n",
        "!pip install plotly"
      ],
      "metadata": {
        "id": "2aUijBUp044q"
      },
      "execution_count": null,
      "outputs": []
    },
    {
      "cell_type": "code",
      "source": [
        "# install paket kaggle\n",
        "!pip install -q kaggle\n",
        "\n",
        "# Upload file kaggle.json dari Create New API Token Akun Kaggle\n",
        "from google.colab import files\n",
        "files.upload()"
      ],
      "metadata": {
        "id": "V-P7WcEC06tU"
      },
      "execution_count": null,
      "outputs": []
    },
    {
      "cell_type": "code",
      "source": [
        "# Download Dataset from Kaggle\n",
        "import opendatasets as od\n",
        "dataset_url= 'https://www.kaggle.com/datasets/kmader/skin-cancer-mnist-ham10000'\n",
        "od.download('https://www.kaggle.com/datasets/kmader/skin-cancer-mnist-ham10000')"
      ],
      "metadata": {
        "id": "ekTTyyMz089b"
      },
      "execution_count": null,
      "outputs": []
    },
    {
      "cell_type": "code",
      "source": [
        ""
      ],
      "metadata": {
        "id": "iwJ7Gstb0_9I"
      },
      "execution_count": null,
      "outputs": []
    }
  ]
}