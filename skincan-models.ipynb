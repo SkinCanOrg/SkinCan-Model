{
 "cells": [
  {
   "cell_type": "markdown",
   "id": "fc5cfc53",
   "metadata": {
    "papermill": {
     "duration": 0.004924,
     "end_time": "2022-05-29T23:23:45.607478",
     "exception": false,
     "start_time": "2022-05-29T23:23:45.602554",
     "status": "completed"
    },
    "tags": []
   },
   "source": [
    "# Product-Based Capstone Project\n",
    "\n",
    "Team ID : C22-PS096\n",
    "\n",
    "Team Member :\n",
    "* (ML) M7134F1606 - Muhammad Fadli Ramadhan - Politeknik Negeri Sriwijaya\n",
    "* (ML) M2008F0851 - Adhitya Ghiffari Pramudito - Universitas Gadjah Mada\n",
    "* (MD) A2191F1821 - Ahmad Ansori Palembani - Universitas Bina Darma\n",
    "* (MD) A7191F1820 - Muhammad Fharid Akbar - Universitas Bina Darma\n",
    "* (CC) C2322F2819 - Muhammad Mustafa Kamal  - Universitas Syiah Kuala\n",
    "* (CC) C7457F3068 - Wulan Ayu Rania Sari  -Universitas Nahdlatul Ulama Lampung\n",
    "\n",
    "Final Selected Themes :\n",
    "Human Healthcare & Animal Welfare\n",
    "\n",
    "Title of the Project :\n",
    "SkinCan : Skin Cancer Detection App\n",
    "\n"
   ]
  },
  {
   "cell_type": "markdown",
   "id": "dd883baa",
   "metadata": {
    "papermill": {
     "duration": 0.003905,
     "end_time": "2022-05-29T23:23:45.615685",
     "exception": false,
     "start_time": "2022-05-29T23:23:45.611780",
     "status": "completed"
    },
    "tags": []
   },
   "source": [
    "**Executive Summary :**\n",
    "\n",
    "At this time there are so many dangers that can lurk human health, even in this era of pandemic, maintaining health is very important for everyone. People should have awareness to maintain health, especially the health of the skin. Therefore, by utilizing machine learning, cloud computing to create a skin cancer detection application by identifying the input image to remind the public the importance of maintaining healthy skin. In this project, We have a problem formulation as follows:\n",
    "* How to detect various skin cancers in humans through the application?\n",
    "* How to treat skin cancer early?\n",
    "* How accurately does this application detect skin cancer? \n",
    "\n",
    "Our team wants to solve this problem because we want someone who has the potential for cancer to avoid a more serious problem, so that users who use this application can take preventive measures to prevent this problem.\n",
    "\n",
    "**How did your team come up with this project?**\n",
    "\n",
    "We want to build an application that can help the public and health workers to detect skin diseases in humans, including skin cancer. This application uses Deep Learning algorithms to predict various skin diseases to achieve maximum accuracy in predicting skin diseases at an early stage. Feature extraction plays a key role in the classification of skin diseases. In addition, Explainable AI is used to interpret decisions made by our machine learning models. With this application, hopefully, it can help users to detect skin diseases early so they can take preventive measures.\n",
    "\n",
    "**Based on your knowledge and explorations, tell us the Machine Learning Part of your capstone?**\n",
    "\n",
    "In this project, we’re using Python as main programming language, Tensorflow as mandatory library, Sckit-learn and keras as libraries, AI Platform as platform, TFLite as Tools for Model Deployment to Android, Kaggle as dataset resource, Google Colab as IDE, and Machine Learning Model as main the feature in our app.\n"
   ]
  },
  {
   "cell_type": "markdown",
   "id": "75a42ff7",
   "metadata": {
    "papermill": {
     "duration": 0.003675,
     "end_time": "2022-05-29T23:23:45.623171",
     "exception": false,
     "start_time": "2022-05-29T23:23:45.619496",
     "status": "completed"
    },
    "tags": []
   },
   "source": [
    "# **Modeling Machine Learning Model for SkinCan App**"
   ]
  },
  {
   "cell_type": "markdown",
   "id": "d467a7ae",
   "metadata": {
    "papermill": {
     "duration": 0.003945,
     "end_time": "2022-05-29T23:23:45.631144",
     "exception": false,
     "start_time": "2022-05-29T23:23:45.627199",
     "status": "completed"
    },
    "tags": []
   },
   "source": [
    "# Data Collecting"
   ]
  },
  {
   "cell_type": "code",
   "execution_count": 1,
   "id": "8fb0577b",
   "metadata": {
    "execution": {
     "iopub.execute_input": "2022-05-29T23:23:45.641145Z",
     "iopub.status.busy": "2022-05-29T23:23:45.640170Z",
     "iopub.status.idle": "2022-05-29T23:23:45.651966Z",
     "shell.execute_reply": "2022-05-29T23:23:45.651269Z"
    },
    "papermill": {
     "duration": 0.018663,
     "end_time": "2022-05-29T23:23:45.653665",
     "exception": false,
     "start_time": "2022-05-29T23:23:45.635002",
     "status": "completed"
    },
    "tags": []
   },
   "outputs": [],
   "source": [
    "import warnings # tf needs to learn to stfu\n",
    "warnings.simplefilter(action=\"ignore\", category=FutureWarning)\n",
    "warnings.simplefilter(action=\"ignore\", category=UserWarning)\n",
    "warnings.simplefilter(action=\"ignore\", category=RuntimeWarning)\n",
    "warnings.simplefilter(action='ignore', category=DeprecationWarning)"
   ]
  },
  {
   "cell_type": "code",
   "execution_count": 2,
   "id": "714b7ee9",
   "metadata": {
    "execution": {
     "iopub.execute_input": "2022-05-29T23:23:45.662556Z",
     "iopub.status.busy": "2022-05-29T23:23:45.662291Z",
     "iopub.status.idle": "2022-05-29T23:23:56.335480Z",
     "shell.execute_reply": "2022-05-29T23:23:56.334427Z"
    },
    "papermill": {
     "duration": 10.680324,
     "end_time": "2022-05-29T23:23:56.338041",
     "exception": false,
     "start_time": "2022-05-29T23:23:45.657717",
     "status": "completed"
    },
    "tags": []
   },
   "outputs": [
    {
     "name": "stdout",
     "output_type": "stream",
     "text": [
      "Requirement already satisfied: plotly in /opt/conda/lib/python3.7/site-packages (5.8.0)\r\n",
      "Requirement already satisfied: tenacity>=6.2.0 in /opt/conda/lib/python3.7/site-packages (from plotly) (8.0.1)\r\n",
      "\u001b[33mWARNING: Running pip as the 'root' user can result in broken permissions and conflicting behaviour with the system package manager. It is recommended to use a virtual environment instead: https://pip.pypa.io/warnings/venv\u001b[0m\u001b[33m\r\n",
      "\u001b[0m"
     ]
    }
   ],
   "source": [
    "# download plotly package\n",
    "!pip install plotly"
   ]
  },
  {
   "cell_type": "code",
   "execution_count": 3,
   "id": "0ba51d9b",
   "metadata": {
    "execution": {
     "iopub.execute_input": "2022-05-29T23:23:56.348488Z",
     "iopub.status.busy": "2022-05-29T23:23:56.348146Z",
     "iopub.status.idle": "2022-05-29T23:24:05.738472Z",
     "shell.execute_reply": "2022-05-29T23:24:05.737580Z"
    },
    "papermill": {
     "duration": 9.398518,
     "end_time": "2022-05-29T23:24:05.741239",
     "exception": false,
     "start_time": "2022-05-29T23:23:56.342721",
     "status": "completed"
    },
    "tags": []
   },
   "outputs": [],
   "source": [
    "# import libraries\n",
    "import tensorflow as tf\n",
    "import numpy as np\n",
    "import pandas as pd\n",
    "import io\n",
    "import os\n",
    "\n",
    "from PIL import Image\n",
    "from glob import glob\n",
    "import itertools\n",
    "\n",
    "import plotly.graph_objects as go\n",
    "import plotly.express as px\n",
    "from plotly.subplots import make_subplots\n",
    "import matplotlib.pyplot as plt\n",
    "import seaborn as sns\n",
    "\n",
    "\n",
    "from tensorflow.keras.preprocessing.image import ImageDataGenerator\n",
    "from tensorflow.keras.models import Sequential\n",
    "from tensorflow.keras.layers import Conv2D, Flatten, BatchNormalization, Dropout, Dense, MaxPool2D\n",
    "from tensorflow.keras.callbacks import ReduceLROnPlateau, EarlyStopping\n",
    "\n",
    "from sklearn.model_selection import train_test_split\n",
    "from sklearn.metrics import classification_report, confusion_matrix\n",
    "\n",
    "from IPython.display import display\n",
    "#To see the value of multiple statements at once.\n",
    "from IPython.core.interactiveshell import InteractiveShell\n",
    "InteractiveShell.ast_node_interactivity = \"all\"\n",
    "\n"
   ]
  },
  {
   "cell_type": "markdown",
   "id": "7fa92c0f",
   "metadata": {
    "papermill": {
     "duration": 0.006559,
     "end_time": "2022-05-29T23:24:05.755282",
     "exception": false,
     "start_time": "2022-05-29T23:24:05.748723",
     "status": "completed"
    },
    "tags": []
   },
   "source": [
    "##  **Create Function**"
   ]
  },
  {
   "cell_type": "markdown",
   "id": "1b44c502",
   "metadata": {
    "papermill": {
     "duration": 0.006535,
     "end_time": "2022-05-29T23:24:05.768716",
     "exception": false,
     "start_time": "2022-05-29T23:24:05.762181",
     "status": "completed"
    },
    "tags": []
   },
   "source": [
    "**Train test splits**"
   ]
  },
  {
   "cell_type": "code",
   "execution_count": 4,
   "id": "6a144bc6",
   "metadata": {
    "execution": {
     "iopub.execute_input": "2022-05-29T23:24:05.783996Z",
     "iopub.status.busy": "2022-05-29T23:24:05.783509Z",
     "iopub.status.idle": "2022-05-29T23:24:05.793693Z",
     "shell.execute_reply": "2022-05-29T23:24:05.793039Z"
    },
    "papermill": {
     "duration": 0.020287,
     "end_time": "2022-05-29T23:24:05.795978",
     "exception": false,
     "start_time": "2022-05-29T23:24:05.775691",
     "status": "completed"
    },
    "tags": []
   },
   "outputs": [],
   "source": [
    "# define function for train test splits\n",
    "def train_test_splits(X, Y):\n",
    "    # Splitting into train and test set\n",
    "    X_train, X_test, Y_train, Y_test = train_test_split(X, Y, test_size=0.2, random_state=1)\n",
    "    \n",
    "    # Prepare data for training and testing the model\n",
    "    train_datagen = ImageDataGenerator(rescale = 1./255,\n",
    "                                  rotation_range = 10,\n",
    "                                  width_shift_range = 0.2,\n",
    "                                  height_shift_range = 0.2,\n",
    "                                  shear_range = 0.2,\n",
    "                                  horizontal_flip = True,\n",
    "                                  vertical_flip = True,\n",
    "                                  fill_mode = 'nearest')\n",
    "    train_datagen.fit(X_train)\n",
    "    test_datagen = ImageDataGenerator(rescale = 1./255)\n",
    "    test_datagen.fit(X_test)\n",
    "    return X_train, X_test, Y_train, Y_test"
   ]
  },
  {
   "cell_type": "code",
   "execution_count": 5,
   "id": "f2bd8136",
   "metadata": {
    "execution": {
     "iopub.execute_input": "2022-05-29T23:24:05.810687Z",
     "iopub.status.busy": "2022-05-29T23:24:05.810280Z",
     "iopub.status.idle": "2022-05-29T23:24:05.825094Z",
     "shell.execute_reply": "2022-05-29T23:24:05.824285Z"
    },
    "papermill": {
     "duration": 0.024482,
     "end_time": "2022-05-29T23:24:05.827237",
     "exception": false,
     "start_time": "2022-05-29T23:24:05.802755",
     "status": "completed"
    },
    "tags": []
   },
   "outputs": [],
   "source": [
    "# define function for create model\n",
    "def model():\n",
    "    model = Sequential()\n",
    "    model.add(Conv2D(16, kernel_size = (3,3), input_shape = (28, 28, 3), activation = 'relu', padding = 'same'))\n",
    "    model.add(MaxPool2D(pool_size = (2,2)))\n",
    "\n",
    "    model.add(Conv2D(32, kernel_size = (3,3), activation = 'relu', padding = 'same'))\n",
    "    model.add(MaxPool2D(pool_size = (2,2), padding = 'same'))\n",
    "\n",
    "    model.add(Conv2D(64, kernel_size = (3,3), activation = 'relu', padding = 'same'))\n",
    "    model.add(MaxPool2D(pool_size = (2,2), padding = 'same'))\n",
    "    model.add(Conv2D(128, kernel_size = (3,3), activation = 'relu', padding = 'same'))\n",
    "    model.add(MaxPool2D(pool_size = (2,2), padding = 'same'))\n",
    "\n",
    "    model.add(Flatten())\n",
    "    model.add(Dense(64, activation = 'relu'))\n",
    "    model.add(Dense(32, activation='relu'))\n",
    "    model.add(Dense(7, activation='softmax'))\n",
    "\n",
    "    optimizer = tf.keras.optimizers.Adam(learning_rate = 0.001)\n",
    "\n",
    "    model.compile(loss = 'sparse_categorical_crossentropy',\n",
    "                 optimizer = optimizer,\n",
    "                  metrics = ['accuracy'])\n",
    "    print(model.summary())\n",
    "    return model;"
   ]
  },
  {
   "cell_type": "markdown",
   "id": "fa05e751",
   "metadata": {
    "papermill": {
     "duration": 0.006527,
     "end_time": "2022-05-29T23:24:05.840881",
     "exception": false,
     "start_time": "2022-05-29T23:24:05.834354",
     "status": "completed"
    },
    "tags": []
   },
   "source": [
    "**Training model**"
   ]
  },
  {
   "cell_type": "code",
   "execution_count": 6,
   "id": "9993231c",
   "metadata": {
    "execution": {
     "iopub.execute_input": "2022-05-29T23:24:05.856043Z",
     "iopub.status.busy": "2022-05-29T23:24:05.855574Z",
     "iopub.status.idle": "2022-05-29T23:24:05.864593Z",
     "shell.execute_reply": "2022-05-29T23:24:05.863798Z"
    },
    "papermill": {
     "duration": 0.021806,
     "end_time": "2022-05-29T23:24:05.869569",
     "exception": false,
     "start_time": "2022-05-29T23:24:05.847763",
     "status": "completed"
    },
    "tags": []
   },
   "outputs": [],
   "source": [
    "# Define function for training model\n",
    "def train_model(model, X_train, Y_train, EPOCHS=25):\n",
    "    early_stop = EarlyStopping(monitor='val_loss', patience=10, verbose=1, \n",
    "                           mode='auto')\n",
    "                               \n",
    "    \n",
    "    reduce_lr = ReduceLROnPlateau(monitor='val_loss', factor=0.1, patience=3, \n",
    "                              verbose=1, mode='auto')\n",
    "    \n",
    "    history = model.fit(X_train,\n",
    "                        Y_train,\n",
    "                        validation_split=0.2,\n",
    "                        batch_size = 64,\n",
    "                        epochs = EPOCHS,\n",
    "                        callbacks = [reduce_lr, early_stop])\n",
    "    return history"
   ]
  },
  {
   "cell_type": "markdown",
   "id": "567775d9",
   "metadata": {
    "papermill": {
     "duration": 0.006648,
     "end_time": "2022-05-29T23:24:05.883655",
     "exception": false,
     "start_time": "2022-05-29T23:24:05.877007",
     "status": "completed"
    },
    "tags": []
   },
   "source": [
    "**Test model**"
   ]
  },
  {
   "cell_type": "code",
   "execution_count": 7,
   "id": "3d025827",
   "metadata": {
    "execution": {
     "iopub.execute_input": "2022-05-29T23:24:05.898840Z",
     "iopub.status.busy": "2022-05-29T23:24:05.898495Z",
     "iopub.status.idle": "2022-05-29T23:24:05.910168Z",
     "shell.execute_reply": "2022-05-29T23:24:05.909512Z"
    },
    "papermill": {
     "duration": 0.021675,
     "end_time": "2022-05-29T23:24:05.912331",
     "exception": false,
     "start_time": "2022-05-29T23:24:05.890656",
     "status": "completed"
    },
    "tags": []
   },
   "outputs": [],
   "source": [
    "# Define function for model testing\n",
    "def test_model(model, X_test, Y_test):\n",
    "    model_acc = model.evaluate(X_test, Y_test, verbose=0)[1]\n",
    "    print(\"Test Accuracy: {:.3f}%\".format(model_acc * 100))\n",
    "    y_true = np.array(Y_test)\n",
    "    y_pred = model.predict(X_test)\n",
    "    y_pred = np.array(list(map(lambda x: np.argmax(x), y_pred)))\n",
    "    clr = classification_report(y_true, y_pred, target_names=label_mapping.values())\n",
    "    print(clr)\n",
    "    \n",
    "    sample_data = X_test[:15]\n",
    "    plt.figure(figsize=(22, 12))\n",
    "    for i in range(15):\n",
    "        plt.subplot(3, 5, i + 1)\n",
    "        plt.imshow(sample_data[i])\n",
    "        plt.title(label_mapping[y_true[i][0]] + '|' + label_mapping[y_pred[i]])\n",
    "        plt.axis(\"off\")\n",
    "    plt.show() "
   ]
  },
  {
   "cell_type": "markdown",
   "id": "f59c8509",
   "metadata": {
    "papermill": {
     "duration": 0.006848,
     "end_time": "2022-05-29T23:24:05.926356",
     "exception": false,
     "start_time": "2022-05-29T23:24:05.919508",
     "status": "completed"
    },
    "tags": []
   },
   "source": [
    "**Training curves plot**"
   ]
  },
  {
   "cell_type": "code",
   "execution_count": 8,
   "id": "50f598d7",
   "metadata": {
    "execution": {
     "iopub.execute_input": "2022-05-29T23:24:05.940365Z",
     "iopub.status.busy": "2022-05-29T23:24:05.940089Z",
     "iopub.status.idle": "2022-05-29T23:24:05.946692Z",
     "shell.execute_reply": "2022-05-29T23:24:05.945992Z"
    },
    "papermill": {
     "duration": 0.013491,
     "end_time": "2022-05-29T23:24:05.948437",
     "exception": false,
     "start_time": "2022-05-29T23:24:05.934946",
     "status": "completed"
    },
    "tags": []
   },
   "outputs": [],
   "source": [
    "# Define function for training curves plot\n",
    "def plot_model_training_curve(history):\n",
    "    fig = make_subplots(rows=1, cols=2, subplot_titles=['Model Accuracy', 'Model Loss'])\n",
    "    fig.add_trace(\n",
    "        go.Scatter(\n",
    "            y=history.history['accuracy'], \n",
    "            name='train_acc'), \n",
    "        row=1, col=1)\n",
    "    fig.add_trace(\n",
    "        go.Scatter(\n",
    "            y=history.history['val_accuracy'], \n",
    "            name='val_acc'), \n",
    "        row=1, col=1)\n",
    "    fig.add_trace(\n",
    "        go.Scatter(\n",
    "            y=history.history['loss'], \n",
    "            name='train_loss'), \n",
    "        row=1, col=2)\n",
    "    fig.add_trace(\n",
    "        go.Scatter(\n",
    "            y=history.history['val_loss'], \n",
    "            name='val_loss'), \n",
    "        row=1, col=2)\n",
    "    fig.show()"
   ]
  },
  {
   "cell_type": "markdown",
   "id": "510c3e37",
   "metadata": {
    "papermill": {
     "duration": 0.004085,
     "end_time": "2022-05-29T23:24:05.956918",
     "exception": false,
     "start_time": "2022-05-29T23:24:05.952833",
     "status": "completed"
    },
    "tags": []
   },
   "source": [
    "**Multi class confision matrix**"
   ]
  },
  {
   "cell_type": "code",
   "execution_count": 9,
   "id": "37fa300e",
   "metadata": {
    "execution": {
     "iopub.execute_input": "2022-05-29T23:24:05.966526Z",
     "iopub.status.busy": "2022-05-29T23:24:05.966274Z",
     "iopub.status.idle": "2022-05-29T23:24:05.970600Z",
     "shell.execute_reply": "2022-05-29T23:24:05.969856Z"
    },
    "papermill": {
     "duration": 0.010936,
     "end_time": "2022-05-29T23:24:05.972180",
     "exception": false,
     "start_time": "2022-05-29T23:24:05.961244",
     "status": "completed"
    },
    "tags": []
   },
   "outputs": [],
   "source": [
    "# Define function for create multi class confision matrix\n",
    "def create_confusion_matrix(model, x_test_normalized, y_test, cm_plot_labels, name):\n",
    "    #Get the true and predicted labels\n",
    "    y_predict_classes, y_true_classes = cal_true_pred_classes(model, x_test_normalized, y_test)\n",
    "\n",
    "    #Compute the confusion matrix\n",
    "    confusion_matrix_computed = confusion_matrix(y_true_classes, y_predict_classes)\n",
    "\n",
    "    #Plot the confusion matrix\n",
    "    plot_confusion_matrix(confusion_matrix_computed, cm_plot_labels, name) "
   ]
  },
  {
   "cell_type": "code",
   "execution_count": 10,
   "id": "68745fb7",
   "metadata": {
    "execution": {
     "iopub.execute_input": "2022-05-29T23:24:05.982116Z",
     "iopub.status.busy": "2022-05-29T23:24:05.981725Z",
     "iopub.status.idle": "2022-05-29T23:24:05.990532Z",
     "shell.execute_reply": "2022-05-29T23:24:05.989820Z"
    },
    "papermill": {
     "duration": 0.01577,
     "end_time": "2022-05-29T23:24:05.992261",
     "exception": false,
     "start_time": "2022-05-29T23:24:05.976491",
     "status": "completed"
    },
    "tags": []
   },
   "outputs": [],
   "source": [
    "# Define function for confusion matrix plot\n",
    "def plot_confusion_matrix(cm, classes,\n",
    "                          name,\n",
    "                          normalize=False,\n",
    "                          title='Confusion matrix',\n",
    "                          cmap=plt.cm.Blues):\n",
    "    \n",
    "    plt.figure(figsize=(8,6))\n",
    "    plt.imshow(cm, interpolation='nearest', cmap=cmap)\n",
    "    plt.title(name)\n",
    "    plt.colorbar()\n",
    "    tick_marks = np.arange(len(classes))\n",
    "    plt.xticks(tick_marks, classes, rotation=45)\n",
    "    plt.yticks(tick_marks, classes)\n",
    "\n",
    "    if normalize:\n",
    "        cm = cm.astype('float') / cm.sum(axis=1)[:, np.newaxis]\n",
    "\n",
    "    thresh = cm.max() / 2.\n",
    "    for i, j in itertools.product(range(cm.shape[0]), range(cm.shape[1])):\n",
    "        plt.text(j, i, cm[i, j],\n",
    "                 horizontalalignment=\"center\",\n",
    "                 color=\"white\" if cm[i, j] > thresh else \"black\")\n",
    "    \n",
    "#     b, t = plt.ylim()\n",
    "#     b += 0.5\n",
    "#     t -= 0.5\n",
    "#     plt.ylim(b, t)\n",
    "    \n",
    "    plt.tight_layout()\n",
    "    plt.ylabel('True Labels')\n",
    "    plt.xlabel('Predicted Labels')\n",
    "    fig = plt\n",
    "    fig.savefig('E:\\SIB BANGKIT 2022\\CAPSTONE\\Model Aset\\\\' + name + '_confusion_matrix.png', dpi=300)"
   ]
  }
 ],
 "metadata": {
  "kernelspec": {
   "display_name": "Python 3",
   "language": "python",
   "name": "python3"
  },
  "language_info": {
   "codemirror_mode": {
    "name": "ipython",
    "version": 3
   },
   "file_extension": ".py",
   "mimetype": "text/x-python",
   "name": "python",
   "nbconvert_exporter": "python",
   "pygments_lexer": "ipython3",
   "version": "3.7.12"
  },
  "papermill": {
   "default_parameters": {},
   "duration": 31.36427,
   "end_time": "2022-05-29T23:24:08.878457",
   "environment_variables": {},
   "exception": null,
   "input_path": "__notebook__.ipynb",
   "output_path": "__notebook__.ipynb",
   "parameters": {},
   "start_time": "2022-05-29T23:23:37.514187",
   "version": "2.3.4"
  }
 },
 "nbformat": 4,
 "nbformat_minor": 5
}
