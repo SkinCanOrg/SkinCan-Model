{
 "cells": [
  {
   "cell_type": "markdown",
   "id": "bb4b2b22",
   "metadata": {
    "papermill": {
     "duration": 0.007029,
     "end_time": "2022-05-30T00:18:05.666104",
     "exception": false,
     "start_time": "2022-05-30T00:18:05.659075",
     "status": "completed"
    },
    "tags": []
   },
   "source": [
    "# Product-Based Capstone Project\n",
    "\n",
    "Team ID : C22-PS096\n",
    "\n",
    "Team Member :\n",
    "* (ML) M7134F1606 - Muhammad Fadli Ramadhan - Politeknik Negeri Sriwijaya\n",
    "* (ML) M2008F0851 - Adhitya Ghiffari Pramudito - Universitas Gadjah Mada\n",
    "* (MD) A2191F1821 - Ahmad Ansori Palembani - Universitas Bina Darma\n",
    "* (MD) A7191F1820 - Muhammad Fharid Akbar - Universitas Bina Darma\n",
    "* (CC) C2322F2819 - Muhammad Mustafa Kamal  - Universitas Syiah Kuala\n",
    "* (CC) C7457F3068 - Wulan Ayu Rania Sari  -Universitas Nahdlatul Ulama Lampung\n",
    "\n",
    "Final Selected Themes :\n",
    "Human Healthcare & Animal Welfare\n",
    "\n",
    "Title of the Project :\n",
    "SkinCan : Skin Cancer Detection App\n",
    "\n"
   ]
  },
  {
   "cell_type": "markdown",
   "id": "79d93098",
   "metadata": {
    "papermill": {
     "duration": 0.005537,
     "end_time": "2022-05-30T00:18:05.679681",
     "exception": false,
     "start_time": "2022-05-30T00:18:05.674144",
     "status": "completed"
    },
    "tags": []
   },
   "source": [
    "**Executive Summary :**\n",
    "\n",
    "At this time there are so many dangers that can lurk human health, even in this era of pandemic, maintaining health is very important for everyone. People should have awareness to maintain health, especially the health of the skin. Therefore, by utilizing machine learning, cloud computing to create a skin cancer detection application by identifying the input image to remind the public the importance of maintaining healthy skin. In this project, We have a problem formulation as follows:\n",
    "* How to detect various skin cancers in humans through the application?\n",
    "* How to treat skin cancer early?\n",
    "* How accurately does this application detect skin cancer? \n",
    "\n",
    "Our team wants to solve this problem because we want someone who has the potential for cancer to avoid a more serious problem, so that users who use this application can take preventive measures to prevent this problem.\n",
    "\n",
    "**How did your team come up with this project?**\n",
    "\n",
    "We want to build an application that can help the public and health workers to detect skin diseases in humans, including skin cancer. This application uses Deep Learning algorithms to predict various skin diseases to achieve maximum accuracy in predicting skin diseases at an early stage. Feature extraction plays a key role in the classification of skin diseases. In addition, Explainable AI is used to interpret decisions made by our machine learning models. With this application, hopefully, it can help users to detect skin diseases early so they can take preventive measures.\n",
    "\n",
    "**Based on your knowledge and explorations, tell us the Machine Learning Part of your capstone?**\n",
    "\n",
    "In this project, we’re using Python as main programming language, Tensorflow as mandatory library, Sckit-learn and keras as libraries, AI Platform as platform, TFLite as Tools for Model Deployment to Android, Kaggle as dataset resource, Google Colab as IDE, and Machine Learning Model as main the feature in our app.\n"
   ]
  },
  {
   "cell_type": "markdown",
   "id": "0f2e352e",
   "metadata": {
    "papermill": {
     "duration": 0.00533,
     "end_time": "2022-05-30T00:18:05.690732",
     "exception": false,
     "start_time": "2022-05-30T00:18:05.685402",
     "status": "completed"
    },
    "tags": []
   },
   "source": [
    "# **Modeling Machine Learning Model for SkinCan App**"
   ]
  },
  {
   "cell_type": "markdown",
   "id": "63ca7ee8",
   "metadata": {
    "papermill": {
     "duration": 0.005338,
     "end_time": "2022-05-30T00:18:05.701698",
     "exception": false,
     "start_time": "2022-05-30T00:18:05.696360",
     "status": "completed"
    },
    "tags": []
   },
   "source": [
    "# Data Collecting"
   ]
  },
  {
   "cell_type": "code",
   "execution_count": 1,
   "id": "8d29260e",
   "metadata": {
    "execution": {
     "iopub.execute_input": "2022-05-30T00:18:05.714773Z",
     "iopub.status.busy": "2022-05-30T00:18:05.714171Z",
     "iopub.status.idle": "2022-05-30T00:18:05.726883Z",
     "shell.execute_reply": "2022-05-30T00:18:05.726163Z"
    },
    "papermill": {
     "duration": 0.021459,
     "end_time": "2022-05-30T00:18:05.728687",
     "exception": false,
     "start_time": "2022-05-30T00:18:05.707228",
     "status": "completed"
    },
    "tags": []
   },
   "outputs": [],
   "source": [
    "import warnings # tf needs to learn to stfu\n",
    "warnings.simplefilter(action=\"ignore\", category=FutureWarning)\n",
    "warnings.simplefilter(action=\"ignore\", category=UserWarning)\n",
    "warnings.simplefilter(action=\"ignore\", category=RuntimeWarning)\n",
    "warnings.simplefilter(action='ignore', category=DeprecationWarning)"
   ]
  },
  {
   "cell_type": "code",
   "execution_count": 2,
   "id": "e33782e1",
   "metadata": {
    "execution": {
     "iopub.execute_input": "2022-05-30T00:18:05.740991Z",
     "iopub.status.busy": "2022-05-30T00:18:05.740716Z",
     "iopub.status.idle": "2022-05-30T00:18:16.198031Z",
     "shell.execute_reply": "2022-05-30T00:18:16.197024Z"
    },
    "papermill": {
     "duration": 10.46584,
     "end_time": "2022-05-30T00:18:16.200154",
     "exception": false,
     "start_time": "2022-05-30T00:18:05.734314",
     "status": "completed"
    },
    "tags": []
   },
   "outputs": [
    {
     "name": "stdout",
     "output_type": "stream",
     "text": [
      "Requirement already satisfied: plotly in /opt/conda/lib/python3.7/site-packages (5.8.0)\r\n",
      "Requirement already satisfied: tenacity>=6.2.0 in /opt/conda/lib/python3.7/site-packages (from plotly) (8.0.1)\r\n",
      "\u001b[33mWARNING: Running pip as the 'root' user can result in broken permissions and conflicting behaviour with the system package manager. It is recommended to use a virtual environment instead: https://pip.pypa.io/warnings/venv\u001b[0m\u001b[33m\r\n",
      "\u001b[0m"
     ]
    }
   ],
   "source": [
    "# download plotly package\n",
    "!pip install plotly"
   ]
  },
  {
   "cell_type": "code",
   "execution_count": 3,
   "id": "115787a2",
   "metadata": {
    "execution": {
     "iopub.execute_input": "2022-05-30T00:18:16.213972Z",
     "iopub.status.busy": "2022-05-30T00:18:16.213605Z",
     "iopub.status.idle": "2022-05-30T00:18:25.448878Z",
     "shell.execute_reply": "2022-05-30T00:18:25.448047Z"
    },
    "papermill": {
     "duration": 9.244618,
     "end_time": "2022-05-30T00:18:25.451113",
     "exception": false,
     "start_time": "2022-05-30T00:18:16.206495",
     "status": "completed"
    },
    "tags": []
   },
   "outputs": [],
   "source": [
    "# import libraries\n",
    "import tensorflow as tf\n",
    "import numpy as np\n",
    "import pandas as pd\n",
    "import io\n",
    "import os\n",
    "\n",
    "from PIL import Image\n",
    "from glob import glob\n",
    "import itertools\n",
    "\n",
    "import plotly.graph_objects as go\n",
    "import plotly.express as px\n",
    "from plotly.subplots import make_subplots\n",
    "import matplotlib.pyplot as plt\n",
    "import seaborn as sns\n",
    "\n",
    "\n",
    "from tensorflow.keras.preprocessing.image import ImageDataGenerator\n",
    "from tensorflow.keras.models import Sequential\n",
    "from tensorflow.keras.layers import Conv2D, Flatten, BatchNormalization, Dropout, Dense, MaxPool2D\n",
    "from tensorflow.keras.callbacks import ReduceLROnPlateau, EarlyStopping\n",
    "\n",
    "from sklearn.model_selection import train_test_split\n",
    "from sklearn.metrics import classification_report, confusion_matrix\n",
    "\n",
    "from IPython.display import display\n",
    "#To see the value of multiple statements at once.\n",
    "from IPython.core.interactiveshell import InteractiveShell\n",
    "InteractiveShell.ast_node_interactivity = \"all\"\n",
    "\n"
   ]
  },
  {
   "cell_type": "markdown",
   "id": "565ee42a",
   "metadata": {
    "papermill": {
     "duration": 0.006019,
     "end_time": "2022-05-30T00:18:25.463639",
     "exception": false,
     "start_time": "2022-05-30T00:18:25.457620",
     "status": "completed"
    },
    "tags": []
   },
   "source": [
    "## **Create Function**"
   ]
  },
  {
   "cell_type": "markdown",
   "id": "fe65d762",
   "metadata": {
    "papermill": {
     "duration": 0.005638,
     "end_time": "2022-05-30T00:18:25.475143",
     "exception": false,
     "start_time": "2022-05-30T00:18:25.469505",
     "status": "completed"
    },
    "tags": []
   },
   "source": [
    "**Train test splits**"
   ]
  },
  {
   "cell_type": "code",
   "execution_count": 4,
   "id": "bced1a1a",
   "metadata": {
    "execution": {
     "iopub.execute_input": "2022-05-30T00:18:25.488807Z",
     "iopub.status.busy": "2022-05-30T00:18:25.488167Z",
     "iopub.status.idle": "2022-05-30T00:18:25.495395Z",
     "shell.execute_reply": "2022-05-30T00:18:25.494687Z"
    },
    "papermill": {
     "duration": 0.016251,
     "end_time": "2022-05-30T00:18:25.497239",
     "exception": false,
     "start_time": "2022-05-30T00:18:25.480988",
     "status": "completed"
    },
    "tags": []
   },
   "outputs": [],
   "source": [
    "# define function for train test splits\n",
    "def train_test_splits(X, Y):\n",
    "    # Splitting into train and test set\n",
    "    X_train, X_test, Y_train, Y_test = train_test_split(X, Y, test_size=0.2, random_state=1)\n",
    "    \n",
    "    # Prepare data for training and testing the model\n",
    "    train_datagen = ImageDataGenerator(rescale = 1./255,\n",
    "                                  rotation_range = 10,\n",
    "                                  width_shift_range = 0.2,\n",
    "                                  height_shift_range = 0.2,\n",
    "                                  shear_range = 0.2,\n",
    "                                  horizontal_flip = True,\n",
    "                                  vertical_flip = True,\n",
    "                                  fill_mode = 'nearest')\n",
    "    train_datagen.fit(X_train)\n",
    "    test_datagen = ImageDataGenerator(rescale = 1./255)\n",
    "    test_datagen.fit(X_test)\n",
    "    return X_train, X_test, Y_train, Y_test"
   ]
  },
  {
   "cell_type": "markdown",
   "id": "33f0bea5",
   "metadata": {
    "papermill": {
     "duration": 0.005778,
     "end_time": "2022-05-30T00:18:25.508956",
     "exception": false,
     "start_time": "2022-05-30T00:18:25.503178",
     "status": "completed"
    },
    "tags": []
   },
   "source": [
    "**Modeling Model**"
   ]
  },
  {
   "cell_type": "code",
   "execution_count": 5,
   "id": "49380001",
   "metadata": {
    "execution": {
     "iopub.execute_input": "2022-05-30T00:18:25.521833Z",
     "iopub.status.busy": "2022-05-30T00:18:25.521553Z",
     "iopub.status.idle": "2022-05-30T00:18:25.531255Z",
     "shell.execute_reply": "2022-05-30T00:18:25.530540Z"
    },
    "papermill": {
     "duration": 0.018036,
     "end_time": "2022-05-30T00:18:25.532957",
     "exception": false,
     "start_time": "2022-05-30T00:18:25.514921",
     "status": "completed"
    },
    "tags": []
   },
   "outputs": [],
   "source": [
    "# define function for create model\n",
    "def model():\n",
    "    model = Sequential()\n",
    "    model.add(Conv2D(16, kernel_size = (3,3), input_shape = (28, 28, 3), activation = 'relu', padding = 'same'))\n",
    "    model.add(MaxPool2D(pool_size = (2,2)))\n",
    "\n",
    "    model.add(Conv2D(32, kernel_size = (3,3), activation = 'relu', padding = 'same'))\n",
    "    model.add(MaxPool2D(pool_size = (2,2), padding = 'same'))\n",
    "\n",
    "    model.add(Conv2D(64, kernel_size = (3,3), activation = 'relu', padding = 'same'))\n",
    "    model.add(MaxPool2D(pool_size = (2,2), padding = 'same'))\n",
    "    model.add(Conv2D(128, kernel_size = (3,3), activation = 'relu', padding = 'same'))\n",
    "    model.add(MaxPool2D(pool_size = (2,2), padding = 'same'))\n",
    "\n",
    "    model.add(Flatten())\n",
    "    model.add(Dense(64, activation = 'relu'))\n",
    "    model.add(Dense(32, activation='relu'))\n",
    "    model.add(Dense(7, activation='softmax'))\n",
    "\n",
    "    optimizer = tf.keras.optimizers.Adam(learning_rate = 0.001)\n",
    "\n",
    "    model.compile(loss = 'sparse_categorical_crossentropy',\n",
    "                 optimizer = optimizer,\n",
    "                  metrics = ['accuracy'])\n",
    "    print(model.summary())\n",
    "    return model;"
   ]
  },
  {
   "cell_type": "markdown",
   "id": "25069538",
   "metadata": {
    "papermill": {
     "duration": 0.005888,
     "end_time": "2022-05-30T00:18:25.544707",
     "exception": false,
     "start_time": "2022-05-30T00:18:25.538819",
     "status": "completed"
    },
    "tags": []
   },
   "source": [
    "**Training model**"
   ]
  },
  {
   "cell_type": "code",
   "execution_count": 6,
   "id": "f9c464dd",
   "metadata": {
    "execution": {
     "iopub.execute_input": "2022-05-30T00:18:25.557747Z",
     "iopub.status.busy": "2022-05-30T00:18:25.557456Z",
     "iopub.status.idle": "2022-05-30T00:18:25.563565Z",
     "shell.execute_reply": "2022-05-30T00:18:25.562819Z"
    },
    "papermill": {
     "duration": 0.014622,
     "end_time": "2022-05-30T00:18:25.565297",
     "exception": false,
     "start_time": "2022-05-30T00:18:25.550675",
     "status": "completed"
    },
    "tags": []
   },
   "outputs": [],
   "source": [
    "# Define function for training model\n",
    "def train_model(model, X_train, Y_train, EPOCHS=25):\n",
    "    early_stop = EarlyStopping(monitor='val_loss', patience=10, verbose=1, \n",
    "                           mode='auto')\n",
    "                               \n",
    "    \n",
    "    reduce_lr = ReduceLROnPlateau(monitor='val_loss', factor=0.1, patience=3, \n",
    "                              verbose=1, mode='auto')\n",
    "    \n",
    "    history = model.fit(X_train,\n",
    "                        Y_train,\n",
    "                        validation_split=0.2,\n",
    "                        batch_size = 64,\n",
    "                        epochs = EPOCHS,\n",
    "                        callbacks = [reduce_lr, early_stop])\n",
    "    return history"
   ]
  },
  {
   "cell_type": "markdown",
   "id": "c06308d2",
   "metadata": {
    "papermill": {
     "duration": 0.005881,
     "end_time": "2022-05-30T00:18:25.577097",
     "exception": false,
     "start_time": "2022-05-30T00:18:25.571216",
     "status": "completed"
    },
    "tags": []
   },
   "source": [
    "**Test model**"
   ]
  },
  {
   "cell_type": "code",
   "execution_count": 7,
   "id": "6f38583e",
   "metadata": {
    "execution": {
     "iopub.execute_input": "2022-05-30T00:18:25.590212Z",
     "iopub.status.busy": "2022-05-30T00:18:25.589929Z",
     "iopub.status.idle": "2022-05-30T00:18:25.597222Z",
     "shell.execute_reply": "2022-05-30T00:18:25.596456Z"
    },
    "papermill": {
     "duration": 0.015777,
     "end_time": "2022-05-30T00:18:25.598882",
     "exception": false,
     "start_time": "2022-05-30T00:18:25.583105",
     "status": "completed"
    },
    "tags": []
   },
   "outputs": [],
   "source": [
    "# Define function for model testing\n",
    "def test_model(model, X_test, Y_test):\n",
    "    model_acc = model.evaluate(X_test, Y_test, verbose=0)[1]\n",
    "    print(\"Test Accuracy: {:.3f}%\".format(model_acc * 100))\n",
    "    y_true = np.array(Y_test)\n",
    "    y_pred = model.predict(X_test)\n",
    "    y_pred = np.array(list(map(lambda x: np.argmax(x), y_pred)))\n",
    "    clr = classification_report(y_true, y_pred, target_names=label_mapping.values())\n",
    "    print(clr)\n",
    "    \n",
    "    sample_data = X_test[:15]\n",
    "    plt.figure(figsize=(22, 12))\n",
    "    for i in range(15):\n",
    "        plt.subplot(3, 5, i + 1)\n",
    "        plt.imshow(sample_data[i])\n",
    "        plt.title(label_mapping[y_true[i][0]] + '|' + label_mapping[y_pred[i]])\n",
    "        plt.axis(\"off\")\n",
    "    plt.show() "
   ]
  },
  {
   "cell_type": "markdown",
   "id": "b7f240ad",
   "metadata": {
    "papermill": {
     "duration": 0.005904,
     "end_time": "2022-05-30T00:18:25.610729",
     "exception": false,
     "start_time": "2022-05-30T00:18:25.604825",
     "status": "completed"
    },
    "tags": []
   },
   "source": [
    "**Training curves plot**"
   ]
  },
  {
   "cell_type": "code",
   "execution_count": 8,
   "id": "2751f7bc",
   "metadata": {
    "execution": {
     "iopub.execute_input": "2022-05-30T00:18:25.623794Z",
     "iopub.status.busy": "2022-05-30T00:18:25.623526Z",
     "iopub.status.idle": "2022-05-30T00:18:25.630288Z",
     "shell.execute_reply": "2022-05-30T00:18:25.629580Z"
    },
    "papermill": {
     "duration": 0.015403,
     "end_time": "2022-05-30T00:18:25.632115",
     "exception": false,
     "start_time": "2022-05-30T00:18:25.616712",
     "status": "completed"
    },
    "tags": []
   },
   "outputs": [],
   "source": [
    "# Define function for training curves plot\n",
    "def plot_model_training_curve(history):\n",
    "    fig = make_subplots(rows=1, cols=2, subplot_titles=['Model Accuracy', 'Model Loss'])\n",
    "    fig.add_trace(\n",
    "        go.Scatter(\n",
    "            y=history.history['accuracy'], \n",
    "            name='train_acc'), \n",
    "        row=1, col=1)\n",
    "    fig.add_trace(\n",
    "        go.Scatter(\n",
    "            y=history.history['val_accuracy'], \n",
    "            name='val_acc'), \n",
    "        row=1, col=1)\n",
    "    fig.add_trace(\n",
    "        go.Scatter(\n",
    "            y=history.history['loss'], \n",
    "            name='train_loss'), \n",
    "        row=1, col=2)\n",
    "    fig.add_trace(\n",
    "        go.Scatter(\n",
    "            y=history.history['val_loss'], \n",
    "            name='val_loss'), \n",
    "        row=1, col=2)\n",
    "    fig.show()"
   ]
  },
  {
   "cell_type": "markdown",
   "id": "af7d4915",
   "metadata": {
    "papermill": {
     "duration": 0.005962,
     "end_time": "2022-05-30T00:18:25.644114",
     "exception": false,
     "start_time": "2022-05-30T00:18:25.638152",
     "status": "completed"
    },
    "tags": []
   },
   "source": [
    "**Multi class confision matrix**"
   ]
  },
  {
   "cell_type": "code",
   "execution_count": 9,
   "id": "4a534e7e",
   "metadata": {
    "execution": {
     "iopub.execute_input": "2022-05-30T00:18:25.657306Z",
     "iopub.status.busy": "2022-05-30T00:18:25.657030Z",
     "iopub.status.idle": "2022-05-30T00:18:25.661839Z",
     "shell.execute_reply": "2022-05-30T00:18:25.661015Z"
    },
    "papermill": {
     "duration": 0.013578,
     "end_time": "2022-05-30T00:18:25.663701",
     "exception": false,
     "start_time": "2022-05-30T00:18:25.650123",
     "status": "completed"
    },
    "tags": []
   },
   "outputs": [],
   "source": [
    "# Define function for create multi class confision matrix\n",
    "def create_confusion_matrix(model, x_test_normalized, y_test, cm_plot_labels, name):\n",
    "    #Get the true and predicted labels\n",
    "    y_predict_classes, y_true_classes = cal_true_pred_classes(model, x_test_normalized, y_test)\n",
    "\n",
    "    #Compute the confusion matrix\n",
    "    confusion_matrix_computed = confusion_matrix(y_true_classes, y_predict_classes)\n",
    "\n",
    "    #Plot the confusion matrix\n",
    "    plot_confusion_matrix(confusion_matrix_computed, cm_plot_labels, name) "
   ]
  },
  {
   "cell_type": "code",
   "execution_count": 10,
   "id": "a88ab8ba",
   "metadata": {
    "execution": {
     "iopub.execute_input": "2022-05-30T00:18:25.677154Z",
     "iopub.status.busy": "2022-05-30T00:18:25.676891Z",
     "iopub.status.idle": "2022-05-30T00:18:25.686428Z",
     "shell.execute_reply": "2022-05-30T00:18:25.685746Z"
    },
    "papermill": {
     "duration": 0.018138,
     "end_time": "2022-05-30T00:18:25.688056",
     "exception": false,
     "start_time": "2022-05-30T00:18:25.669918",
     "status": "completed"
    },
    "tags": []
   },
   "outputs": [],
   "source": [
    "# Define function for confusion matrix plot\n",
    "def plot_confusion_matrix(cm, classes,\n",
    "                          name,\n",
    "                          normalize=False,\n",
    "                          title='Confusion matrix',\n",
    "                          cmap=plt.cm.Blues):\n",
    "    \n",
    "    plt.figure(figsize=(8,6))\n",
    "    plt.imshow(cm, interpolation='nearest', cmap=cmap)\n",
    "    plt.title(name)\n",
    "    plt.colorbar()\n",
    "    tick_marks = np.arange(len(classes))\n",
    "    plt.xticks(tick_marks, classes, rotation=45)\n",
    "    plt.yticks(tick_marks, classes)\n",
    "\n",
    "    if normalize:\n",
    "        cm = cm.astype('float') / cm.sum(axis=1)[:, np.newaxis]\n",
    "\n",
    "    thresh = cm.max() / 2.\n",
    "    for i, j in itertools.product(range(cm.shape[0]), range(cm.shape[1])):\n",
    "        plt.text(j, i, cm[i, j],\n",
    "                 horizontalalignment=\"center\",\n",
    "                 color=\"white\" if cm[i, j] > thresh else \"black\")\n",
    "    \n",
    "#     b, t = plt.ylim()\n",
    "#     b += 0.5\n",
    "#     t -= 0.5\n",
    "#     plt.ylim(b, t)\n",
    "    \n",
    "    plt.tight_layout()\n",
    "    plt.ylabel('True Labels')\n",
    "    plt.xlabel('Predicted Labels')\n",
    "    fig = plt\n",
    "    fig.savefig('E:\\SIB BANGKIT 2022\\CAPSTONE\\Model Aset\\\\' + name + '_confusion_matrix.png', dpi=300)"
   ]
  },
  {
   "cell_type": "markdown",
   "id": "7932b942",
   "metadata": {
    "papermill": {
     "duration": 0.005951,
     "end_time": "2022-05-30T00:18:25.700148",
     "exception": false,
     "start_time": "2022-05-30T00:18:25.694197",
     "status": "completed"
    },
    "tags": []
   },
   "source": [
    "# Data Understanding"
   ]
  },
  {
   "cell_type": "code",
   "execution_count": 11,
   "id": "dc2356cf",
   "metadata": {
    "execution": {
     "iopub.execute_input": "2022-05-30T00:18:25.714151Z",
     "iopub.status.busy": "2022-05-30T00:18:25.713490Z",
     "iopub.status.idle": "2022-05-30T00:18:26.874208Z",
     "shell.execute_reply": "2022-05-30T00:18:26.873379Z"
    },
    "papermill": {
     "duration": 1.170327,
     "end_time": "2022-05-30T00:18:26.876594",
     "exception": false,
     "start_time": "2022-05-30T00:18:25.706267",
     "status": "completed"
    },
    "tags": []
   },
   "outputs": [],
   "source": [
    "# Create directory\n",
    "base_skin_dir = os.path.join('..', 'input')\n",
    "\n",
    "# Merging images from both folders HAM10000_images_part1.zip and HAM10000_images_part2.zip into one dictionary\n",
    "\n",
    "imageid_path_dict = {os.path.splitext(os.path.basename(x))[0]: x\n",
    "                     for x in glob(os.path.join(base_skin_dir,\"skin-cancer-mnist-ham10000/\", '*', '*.jpg'))}\n",
    "# create dictionary for type of skin cancer\n",
    "lesion_type_dict = {\n",
    "    'nv': 'Melanocytic nevi (nv)',\n",
    "    'mel': 'Melanoma (mel)',\n",
    "    'bkl': 'Benign keratosis-like lesions (bkl)',\n",
    "    'bcc': 'Basal cell carcinoma (bcc)',\n",
    "    'akiec': 'Actinic keratoses (akiec)',\n",
    "    'vasc': 'Vascular lesions (vasc)',\n",
    "    'df': 'Dermatofibroma (df)'\n",
    "}\n",
    "# create label mapping\n",
    "label_mapping = {\n",
    "    0: 'nv',\n",
    "    1: 'mel',\n",
    "    2: 'bkl',\n",
    "    3: 'bcc',\n",
    "    4: 'akiec',\n",
    "    5: 'vasc',\n",
    "    6: 'df'\n",
    "}\n",
    "reverse_label_mapping = dict((value, key) for key, value in label_mapping.items())"
   ]
  },
  {
   "cell_type": "code",
   "execution_count": 12,
   "id": "3e6513f3",
   "metadata": {
    "execution": {
     "iopub.execute_input": "2022-05-30T00:18:26.891235Z",
     "iopub.status.busy": "2022-05-30T00:18:26.890588Z",
     "iopub.status.idle": "2022-05-30T00:18:26.921620Z",
     "shell.execute_reply": "2022-05-30T00:18:26.920881Z"
    },
    "papermill": {
     "duration": 0.040464,
     "end_time": "2022-05-30T00:18:26.923652",
     "exception": false,
     "start_time": "2022-05-30T00:18:26.883188",
     "status": "completed"
    },
    "tags": []
   },
   "outputs": [],
   "source": [
    "# read the csv data\n",
    "data = pd.read_csv(os.path.join(base_skin_dir,\"skin-cancer-mnist-ham10000/\",'HAM10000_metadata.csv'))"
   ]
  },
  {
   "cell_type": "code",
   "execution_count": 13,
   "id": "eb543cdf",
   "metadata": {
    "execution": {
     "iopub.execute_input": "2022-05-30T00:18:26.938343Z",
     "iopub.status.busy": "2022-05-30T00:18:26.937739Z",
     "iopub.status.idle": "2022-05-30T00:18:26.957695Z",
     "shell.execute_reply": "2022-05-30T00:18:26.956909Z"
    },
    "papermill": {
     "duration": 0.029228,
     "end_time": "2022-05-30T00:18:26.959543",
     "exception": false,
     "start_time": "2022-05-30T00:18:26.930315",
     "status": "completed"
    },
    "tags": []
   },
   "outputs": [
    {
     "data": {
      "text/html": [
       "<div>\n",
       "<style scoped>\n",
       "    .dataframe tbody tr th:only-of-type {\n",
       "        vertical-align: middle;\n",
       "    }\n",
       "\n",
       "    .dataframe tbody tr th {\n",
       "        vertical-align: top;\n",
       "    }\n",
       "\n",
       "    .dataframe thead th {\n",
       "        text-align: right;\n",
       "    }\n",
       "</style>\n",
       "<table border=\"1\" class=\"dataframe\">\n",
       "  <thead>\n",
       "    <tr style=\"text-align: right;\">\n",
       "      <th></th>\n",
       "      <th>lesion_id</th>\n",
       "      <th>image_id</th>\n",
       "      <th>dx</th>\n",
       "      <th>dx_type</th>\n",
       "      <th>age</th>\n",
       "      <th>sex</th>\n",
       "      <th>localization</th>\n",
       "    </tr>\n",
       "  </thead>\n",
       "  <tbody>\n",
       "    <tr>\n",
       "      <th>0</th>\n",
       "      <td>HAM_0000118</td>\n",
       "      <td>ISIC_0027419</td>\n",
       "      <td>bkl</td>\n",
       "      <td>histo</td>\n",
       "      <td>80.0</td>\n",
       "      <td>male</td>\n",
       "      <td>scalp</td>\n",
       "    </tr>\n",
       "    <tr>\n",
       "      <th>1</th>\n",
       "      <td>HAM_0000118</td>\n",
       "      <td>ISIC_0025030</td>\n",
       "      <td>bkl</td>\n",
       "      <td>histo</td>\n",
       "      <td>80.0</td>\n",
       "      <td>male</td>\n",
       "      <td>scalp</td>\n",
       "    </tr>\n",
       "    <tr>\n",
       "      <th>2</th>\n",
       "      <td>HAM_0002730</td>\n",
       "      <td>ISIC_0026769</td>\n",
       "      <td>bkl</td>\n",
       "      <td>histo</td>\n",
       "      <td>80.0</td>\n",
       "      <td>male</td>\n",
       "      <td>scalp</td>\n",
       "    </tr>\n",
       "    <tr>\n",
       "      <th>3</th>\n",
       "      <td>HAM_0002730</td>\n",
       "      <td>ISIC_0025661</td>\n",
       "      <td>bkl</td>\n",
       "      <td>histo</td>\n",
       "      <td>80.0</td>\n",
       "      <td>male</td>\n",
       "      <td>scalp</td>\n",
       "    </tr>\n",
       "    <tr>\n",
       "      <th>4</th>\n",
       "      <td>HAM_0001466</td>\n",
       "      <td>ISIC_0031633</td>\n",
       "      <td>bkl</td>\n",
       "      <td>histo</td>\n",
       "      <td>75.0</td>\n",
       "      <td>male</td>\n",
       "      <td>ear</td>\n",
       "    </tr>\n",
       "  </tbody>\n",
       "</table>\n",
       "</div>"
      ],
      "text/plain": [
       "     lesion_id      image_id   dx dx_type   age   sex localization\n",
       "0  HAM_0000118  ISIC_0027419  bkl   histo  80.0  male        scalp\n",
       "1  HAM_0000118  ISIC_0025030  bkl   histo  80.0  male        scalp\n",
       "2  HAM_0002730  ISIC_0026769  bkl   histo  80.0  male        scalp\n",
       "3  HAM_0002730  ISIC_0025661  bkl   histo  80.0  male        scalp\n",
       "4  HAM_0001466  ISIC_0031633  bkl   histo  75.0  male          ear"
      ]
     },
     "execution_count": 13,
     "metadata": {},
     "output_type": "execute_result"
    }
   ],
   "source": [
    "# Now lets see the sample of tile_df to look on newly made columns\n",
    "data.head()"
   ]
  },
  {
   "cell_type": "code",
   "execution_count": 14,
   "id": "41dd8ff6",
   "metadata": {
    "execution": {
     "iopub.execute_input": "2022-05-30T00:18:26.974374Z",
     "iopub.status.busy": "2022-05-30T00:18:26.973823Z",
     "iopub.status.idle": "2022-05-30T00:18:27.020745Z",
     "shell.execute_reply": "2022-05-30T00:18:27.019736Z"
    },
    "papermill": {
     "duration": 0.056695,
     "end_time": "2022-05-30T00:18:27.022946",
     "exception": false,
     "start_time": "2022-05-30T00:18:26.966251",
     "status": "completed"
    },
    "tags": []
   },
   "outputs": [
    {
     "data": {
      "text/html": [
       "<div>\n",
       "<style scoped>\n",
       "    .dataframe tbody tr th:only-of-type {\n",
       "        vertical-align: middle;\n",
       "    }\n",
       "\n",
       "    .dataframe tbody tr th {\n",
       "        vertical-align: top;\n",
       "    }\n",
       "\n",
       "    .dataframe thead th {\n",
       "        text-align: right;\n",
       "    }\n",
       "</style>\n",
       "<table border=\"1\" class=\"dataframe\">\n",
       "  <thead>\n",
       "    <tr style=\"text-align: right;\">\n",
       "      <th></th>\n",
       "      <th>lesion_id</th>\n",
       "      <th>image_id</th>\n",
       "      <th>dx</th>\n",
       "      <th>dx_type</th>\n",
       "      <th>sex</th>\n",
       "      <th>localization</th>\n",
       "    </tr>\n",
       "  </thead>\n",
       "  <tbody>\n",
       "    <tr>\n",
       "      <th>count</th>\n",
       "      <td>10015</td>\n",
       "      <td>10015</td>\n",
       "      <td>10015</td>\n",
       "      <td>10015</td>\n",
       "      <td>10015</td>\n",
       "      <td>10015</td>\n",
       "    </tr>\n",
       "    <tr>\n",
       "      <th>unique</th>\n",
       "      <td>7470</td>\n",
       "      <td>10015</td>\n",
       "      <td>7</td>\n",
       "      <td>4</td>\n",
       "      <td>3</td>\n",
       "      <td>15</td>\n",
       "    </tr>\n",
       "    <tr>\n",
       "      <th>top</th>\n",
       "      <td>HAM_0003789</td>\n",
       "      <td>ISIC_0027419</td>\n",
       "      <td>nv</td>\n",
       "      <td>histo</td>\n",
       "      <td>male</td>\n",
       "      <td>back</td>\n",
       "    </tr>\n",
       "    <tr>\n",
       "      <th>freq</th>\n",
       "      <td>6</td>\n",
       "      <td>1</td>\n",
       "      <td>6705</td>\n",
       "      <td>5340</td>\n",
       "      <td>5406</td>\n",
       "      <td>2192</td>\n",
       "    </tr>\n",
       "  </tbody>\n",
       "</table>\n",
       "</div>"
      ],
      "text/plain": [
       "          lesion_id      image_id     dx dx_type    sex localization\n",
       "count         10015         10015  10015   10015  10015        10015\n",
       "unique         7470         10015      7       4      3           15\n",
       "top     HAM_0003789  ISIC_0027419     nv   histo   male         back\n",
       "freq              6             1   6705    5340   5406         2192"
      ]
     },
     "execution_count": 14,
     "metadata": {},
     "output_type": "execute_result"
    }
   ],
   "source": [
    "# more info about data \n",
    "data.describe(exclude=[np.number])"
   ]
  },
  {
   "cell_type": "markdown",
   "id": "6d19875d",
   "metadata": {
    "papermill": {
     "duration": 0.006628,
     "end_time": "2022-05-30T00:18:27.036660",
     "exception": false,
     "start_time": "2022-05-30T00:18:27.030032",
     "status": "completed"
    },
    "tags": []
   },
   "source": [
    "**Data Cleaning**"
   ]
  },
  {
   "cell_type": "code",
   "execution_count": 15,
   "id": "2ec14dac",
   "metadata": {
    "execution": {
     "iopub.execute_input": "2022-05-30T00:18:27.051481Z",
     "iopub.status.busy": "2022-05-30T00:18:27.051154Z",
     "iopub.status.idle": "2022-05-30T00:18:27.064198Z",
     "shell.execute_reply": "2022-05-30T00:18:27.063336Z"
    },
    "papermill": {
     "duration": 0.022518,
     "end_time": "2022-05-30T00:18:27.065908",
     "exception": false,
     "start_time": "2022-05-30T00:18:27.043390",
     "status": "completed"
    },
    "tags": []
   },
   "outputs": [
    {
     "data": {
      "text/plain": [
       "1"
      ]
     },
     "execution_count": 15,
     "metadata": {},
     "output_type": "execute_result"
    }
   ],
   "source": [
    "# Checking a null data\n",
    "data.isnull().any().sum()"
   ]
  },
  {
   "cell_type": "code",
   "execution_count": 16,
   "id": "ce6f4421",
   "metadata": {
    "execution": {
     "iopub.execute_input": "2022-05-30T00:18:27.081145Z",
     "iopub.status.busy": "2022-05-30T00:18:27.080803Z",
     "iopub.status.idle": "2022-05-30T00:18:27.092566Z",
     "shell.execute_reply": "2022-05-30T00:18:27.091892Z"
    },
    "papermill": {
     "duration": 0.021296,
     "end_time": "2022-05-30T00:18:27.094263",
     "exception": false,
     "start_time": "2022-05-30T00:18:27.072967",
     "status": "completed"
    },
    "tags": []
   },
   "outputs": [],
   "source": [
    "# Handling null values\n",
    "data['age'].fillna(value=int(data['age'].mean()), inplace=True)\n",
    "# Converting dtype of age to int32\n",
    "data['age'] = data['age'].astype('int32')\n",
    "\n",
    "# Adding cell_type and image_path columns\n",
    "data['cell_type'] = data['dx'].map(lesion_type_dict.get)\n",
    "data['path'] = data['image_id'].map(imageid_path_dict.get)"
   ]
  },
  {
   "cell_type": "code",
   "execution_count": 17,
   "id": "21aba733",
   "metadata": {
    "execution": {
     "iopub.execute_input": "2022-05-30T00:18:27.109714Z",
     "iopub.status.busy": "2022-05-30T00:18:27.109401Z",
     "iopub.status.idle": "2022-05-30T00:18:27.121783Z",
     "shell.execute_reply": "2022-05-30T00:18:27.121059Z"
    },
    "papermill": {
     "duration": 0.022346,
     "end_time": "2022-05-30T00:18:27.123788",
     "exception": false,
     "start_time": "2022-05-30T00:18:27.101442",
     "status": "completed"
    },
    "tags": []
   },
   "outputs": [
    {
     "data": {
      "text/html": [
       "<div>\n",
       "<style scoped>\n",
       "    .dataframe tbody tr th:only-of-type {\n",
       "        vertical-align: middle;\n",
       "    }\n",
       "\n",
       "    .dataframe tbody tr th {\n",
       "        vertical-align: top;\n",
       "    }\n",
       "\n",
       "    .dataframe thead th {\n",
       "        text-align: right;\n",
       "    }\n",
       "</style>\n",
       "<table border=\"1\" class=\"dataframe\">\n",
       "  <thead>\n",
       "    <tr style=\"text-align: right;\">\n",
       "      <th></th>\n",
       "      <th>lesion_id</th>\n",
       "      <th>image_id</th>\n",
       "      <th>dx</th>\n",
       "      <th>dx_type</th>\n",
       "      <th>age</th>\n",
       "      <th>sex</th>\n",
       "      <th>localization</th>\n",
       "      <th>cell_type</th>\n",
       "      <th>path</th>\n",
       "    </tr>\n",
       "  </thead>\n",
       "  <tbody>\n",
       "    <tr>\n",
       "      <th>0</th>\n",
       "      <td>HAM_0000118</td>\n",
       "      <td>ISIC_0027419</td>\n",
       "      <td>bkl</td>\n",
       "      <td>histo</td>\n",
       "      <td>80</td>\n",
       "      <td>male</td>\n",
       "      <td>scalp</td>\n",
       "      <td>Benign keratosis-like lesions (bkl)</td>\n",
       "      <td>../input/skin-cancer-mnist-ham10000/ham10000_i...</td>\n",
       "    </tr>\n",
       "    <tr>\n",
       "      <th>1</th>\n",
       "      <td>HAM_0000118</td>\n",
       "      <td>ISIC_0025030</td>\n",
       "      <td>bkl</td>\n",
       "      <td>histo</td>\n",
       "      <td>80</td>\n",
       "      <td>male</td>\n",
       "      <td>scalp</td>\n",
       "      <td>Benign keratosis-like lesions (bkl)</td>\n",
       "      <td>../input/skin-cancer-mnist-ham10000/ham10000_i...</td>\n",
       "    </tr>\n",
       "    <tr>\n",
       "      <th>2</th>\n",
       "      <td>HAM_0002730</td>\n",
       "      <td>ISIC_0026769</td>\n",
       "      <td>bkl</td>\n",
       "      <td>histo</td>\n",
       "      <td>80</td>\n",
       "      <td>male</td>\n",
       "      <td>scalp</td>\n",
       "      <td>Benign keratosis-like lesions (bkl)</td>\n",
       "      <td>../input/skin-cancer-mnist-ham10000/ham10000_i...</td>\n",
       "    </tr>\n",
       "    <tr>\n",
       "      <th>3</th>\n",
       "      <td>HAM_0002730</td>\n",
       "      <td>ISIC_0025661</td>\n",
       "      <td>bkl</td>\n",
       "      <td>histo</td>\n",
       "      <td>80</td>\n",
       "      <td>male</td>\n",
       "      <td>scalp</td>\n",
       "      <td>Benign keratosis-like lesions (bkl)</td>\n",
       "      <td>../input/skin-cancer-mnist-ham10000/ham10000_i...</td>\n",
       "    </tr>\n",
       "    <tr>\n",
       "      <th>4</th>\n",
       "      <td>HAM_0001466</td>\n",
       "      <td>ISIC_0031633</td>\n",
       "      <td>bkl</td>\n",
       "      <td>histo</td>\n",
       "      <td>75</td>\n",
       "      <td>male</td>\n",
       "      <td>ear</td>\n",
       "      <td>Benign keratosis-like lesions (bkl)</td>\n",
       "      <td>../input/skin-cancer-mnist-ham10000/ham10000_i...</td>\n",
       "    </tr>\n",
       "  </tbody>\n",
       "</table>\n",
       "</div>"
      ],
      "text/plain": [
       "     lesion_id      image_id   dx dx_type  age   sex localization  \\\n",
       "0  HAM_0000118  ISIC_0027419  bkl   histo   80  male        scalp   \n",
       "1  HAM_0000118  ISIC_0025030  bkl   histo   80  male        scalp   \n",
       "2  HAM_0002730  ISIC_0026769  bkl   histo   80  male        scalp   \n",
       "3  HAM_0002730  ISIC_0025661  bkl   histo   80  male        scalp   \n",
       "4  HAM_0001466  ISIC_0031633  bkl   histo   75  male          ear   \n",
       "\n",
       "                             cell_type  \\\n",
       "0  Benign keratosis-like lesions (bkl)   \n",
       "1  Benign keratosis-like lesions (bkl)   \n",
       "2  Benign keratosis-like lesions (bkl)   \n",
       "3  Benign keratosis-like lesions (bkl)   \n",
       "4  Benign keratosis-like lesions (bkl)   \n",
       "\n",
       "                                                path  \n",
       "0  ../input/skin-cancer-mnist-ham10000/ham10000_i...  \n",
       "1  ../input/skin-cancer-mnist-ham10000/ham10000_i...  \n",
       "2  ../input/skin-cancer-mnist-ham10000/ham10000_i...  \n",
       "3  ../input/skin-cancer-mnist-ham10000/ham10000_i...  \n",
       "4  ../input/skin-cancer-mnist-ham10000/ham10000_i...  "
      ]
     },
     "execution_count": 17,
     "metadata": {},
     "output_type": "execute_result"
    }
   ],
   "source": [
    "# check a data\n",
    "data.head()"
   ]
  },
  {
   "cell_type": "code",
   "execution_count": 18,
   "id": "65122319",
   "metadata": {
    "execution": {
     "iopub.execute_input": "2022-05-30T00:18:27.140381Z",
     "iopub.status.busy": "2022-05-30T00:18:27.139730Z",
     "iopub.status.idle": "2022-05-30T00:21:58.753741Z",
     "shell.execute_reply": "2022-05-30T00:21:58.752913Z"
    },
    "papermill": {
     "duration": 211.624958,
     "end_time": "2022-05-30T00:21:58.756153",
     "exception": false,
     "start_time": "2022-05-30T00:18:27.131195",
     "status": "completed"
    },
    "tags": []
   },
   "outputs": [],
   "source": [
    "# Adding image pixels\n",
    "data['image_pixel'] = data['path'].map(lambda x: np.asarray(Image.open(x).resize((28,28))))"
   ]
  },
  {
   "cell_type": "code",
   "execution_count": 19,
   "id": "9d760b7d",
   "metadata": {
    "execution": {
     "iopub.execute_input": "2022-05-30T00:21:58.773537Z",
     "iopub.status.busy": "2022-05-30T00:21:58.772935Z",
     "iopub.status.idle": "2022-05-30T00:21:59.891565Z",
     "shell.execute_reply": "2022-05-30T00:21:59.890731Z"
    },
    "papermill": {
     "duration": 1.129124,
     "end_time": "2022-05-30T00:21:59.893471",
     "exception": false,
     "start_time": "2022-05-30T00:21:58.764347",
     "status": "completed"
    },
    "tags": []
   },
   "outputs": [
    {
     "data": {
      "text/html": [
       "<div>\n",
       "<style scoped>\n",
       "    .dataframe tbody tr th:only-of-type {\n",
       "        vertical-align: middle;\n",
       "    }\n",
       "\n",
       "    .dataframe tbody tr th {\n",
       "        vertical-align: top;\n",
       "    }\n",
       "\n",
       "    .dataframe thead th {\n",
       "        text-align: right;\n",
       "    }\n",
       "</style>\n",
       "<table border=\"1\" class=\"dataframe\">\n",
       "  <thead>\n",
       "    <tr style=\"text-align: right;\">\n",
       "      <th></th>\n",
       "      <th>lesion_id</th>\n",
       "      <th>image_id</th>\n",
       "      <th>dx</th>\n",
       "      <th>dx_type</th>\n",
       "      <th>age</th>\n",
       "      <th>sex</th>\n",
       "      <th>localization</th>\n",
       "      <th>cell_type</th>\n",
       "      <th>path</th>\n",
       "      <th>image_pixel</th>\n",
       "    </tr>\n",
       "  </thead>\n",
       "  <tbody>\n",
       "    <tr>\n",
       "      <th>0</th>\n",
       "      <td>HAM_0000118</td>\n",
       "      <td>ISIC_0027419</td>\n",
       "      <td>bkl</td>\n",
       "      <td>histo</td>\n",
       "      <td>80</td>\n",
       "      <td>male</td>\n",
       "      <td>scalp</td>\n",
       "      <td>Benign keratosis-like lesions (bkl)</td>\n",
       "      <td>../input/skin-cancer-mnist-ham10000/ham10000_i...</td>\n",
       "      <td>[[[192, 153, 193], [195, 155, 192], [197, 154,...</td>\n",
       "    </tr>\n",
       "    <tr>\n",
       "      <th>1</th>\n",
       "      <td>HAM_0000118</td>\n",
       "      <td>ISIC_0025030</td>\n",
       "      <td>bkl</td>\n",
       "      <td>histo</td>\n",
       "      <td>80</td>\n",
       "      <td>male</td>\n",
       "      <td>scalp</td>\n",
       "      <td>Benign keratosis-like lesions (bkl)</td>\n",
       "      <td>../input/skin-cancer-mnist-ham10000/ham10000_i...</td>\n",
       "      <td>[[[27, 16, 32], [69, 49, 76], [122, 93, 126], ...</td>\n",
       "    </tr>\n",
       "    <tr>\n",
       "      <th>2</th>\n",
       "      <td>HAM_0002730</td>\n",
       "      <td>ISIC_0026769</td>\n",
       "      <td>bkl</td>\n",
       "      <td>histo</td>\n",
       "      <td>80</td>\n",
       "      <td>male</td>\n",
       "      <td>scalp</td>\n",
       "      <td>Benign keratosis-like lesions (bkl)</td>\n",
       "      <td>../input/skin-cancer-mnist-ham10000/ham10000_i...</td>\n",
       "      <td>[[[192, 138, 153], [200, 144, 162], [202, 142,...</td>\n",
       "    </tr>\n",
       "    <tr>\n",
       "      <th>3</th>\n",
       "      <td>HAM_0002730</td>\n",
       "      <td>ISIC_0025661</td>\n",
       "      <td>bkl</td>\n",
       "      <td>histo</td>\n",
       "      <td>80</td>\n",
       "      <td>male</td>\n",
       "      <td>scalp</td>\n",
       "      <td>Benign keratosis-like lesions (bkl)</td>\n",
       "      <td>../input/skin-cancer-mnist-ham10000/ham10000_i...</td>\n",
       "      <td>[[[40, 21, 31], [95, 61, 73], [143, 102, 118],...</td>\n",
       "    </tr>\n",
       "    <tr>\n",
       "      <th>4</th>\n",
       "      <td>HAM_0001466</td>\n",
       "      <td>ISIC_0031633</td>\n",
       "      <td>bkl</td>\n",
       "      <td>histo</td>\n",
       "      <td>75</td>\n",
       "      <td>male</td>\n",
       "      <td>ear</td>\n",
       "      <td>Benign keratosis-like lesions (bkl)</td>\n",
       "      <td>../input/skin-cancer-mnist-ham10000/ham10000_i...</td>\n",
       "      <td>[[[159, 114, 140], [194, 144, 173], [215, 162,...</td>\n",
       "    </tr>\n",
       "  </tbody>\n",
       "</table>\n",
       "</div>"
      ],
      "text/plain": [
       "     lesion_id      image_id   dx dx_type  age   sex localization  \\\n",
       "0  HAM_0000118  ISIC_0027419  bkl   histo   80  male        scalp   \n",
       "1  HAM_0000118  ISIC_0025030  bkl   histo   80  male        scalp   \n",
       "2  HAM_0002730  ISIC_0026769  bkl   histo   80  male        scalp   \n",
       "3  HAM_0002730  ISIC_0025661  bkl   histo   80  male        scalp   \n",
       "4  HAM_0001466  ISIC_0031633  bkl   histo   75  male          ear   \n",
       "\n",
       "                             cell_type  \\\n",
       "0  Benign keratosis-like lesions (bkl)   \n",
       "1  Benign keratosis-like lesions (bkl)   \n",
       "2  Benign keratosis-like lesions (bkl)   \n",
       "3  Benign keratosis-like lesions (bkl)   \n",
       "4  Benign keratosis-like lesions (bkl)   \n",
       "\n",
       "                                                path  \\\n",
       "0  ../input/skin-cancer-mnist-ham10000/ham10000_i...   \n",
       "1  ../input/skin-cancer-mnist-ham10000/ham10000_i...   \n",
       "2  ../input/skin-cancer-mnist-ham10000/ham10000_i...   \n",
       "3  ../input/skin-cancer-mnist-ham10000/ham10000_i...   \n",
       "4  ../input/skin-cancer-mnist-ham10000/ham10000_i...   \n",
       "\n",
       "                                         image_pixel  \n",
       "0  [[[192, 153, 193], [195, 155, 192], [197, 154,...  \n",
       "1  [[[27, 16, 32], [69, 49, 76], [122, 93, 126], ...  \n",
       "2  [[[192, 138, 153], [200, 144, 162], [202, 142,...  \n",
       "3  [[[40, 21, 31], [95, 61, 73], [143, 102, 118],...  \n",
       "4  [[[159, 114, 140], [194, 144, 173], [215, 162,...  "
      ]
     },
     "execution_count": 19,
     "metadata": {},
     "output_type": "execute_result"
    }
   ],
   "source": [
    "# New updates of data\n",
    "data.head(5)"
   ]
  }
 ],
 "metadata": {
  "kernelspec": {
   "display_name": "Python 3",
   "language": "python",
   "name": "python3"
  },
  "language_info": {
   "codemirror_mode": {
    "name": "ipython",
    "version": 3
   },
   "file_extension": ".py",
   "mimetype": "text/x-python",
   "name": "python",
   "nbconvert_exporter": "python",
   "pygments_lexer": "ipython3",
   "version": "3.7.12"
  },
  "papermill": {
   "default_parameters": {},
   "duration": 246.44883,
   "end_time": "2022-05-30T00:22:03.473352",
   "environment_variables": {},
   "exception": null,
   "input_path": "__notebook__.ipynb",
   "output_path": "__notebook__.ipynb",
   "parameters": {},
   "start_time": "2022-05-30T00:17:57.024522",
   "version": "2.3.4"
  }
 },
 "nbformat": 4,
 "nbformat_minor": 5
}
