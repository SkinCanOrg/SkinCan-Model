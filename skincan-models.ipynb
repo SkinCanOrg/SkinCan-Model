{
 "cells": [
  {
   "cell_type": "markdown",
   "id": "37074d5c",
   "metadata": {
    "papermill": {
     "duration": 0.004128,
     "end_time": "2022-05-29T23:57:57.173688",
     "exception": false,
     "start_time": "2022-05-29T23:57:57.169560",
     "status": "completed"
    },
    "tags": []
   },
   "source": [
    "# Product-Based Capstone Project\n",
    "\n",
    "Team ID : C22-PS096\n",
    "\n",
    "Team Member :\n",
    "* (ML) M7134F1606 - Muhammad Fadli Ramadhan - Politeknik Negeri Sriwijaya\n",
    "* (ML) M2008F0851 - Adhitya Ghiffari Pramudito - Universitas Gadjah Mada\n",
    "* (MD) A2191F1821 - Ahmad Ansori Palembani - Universitas Bina Darma\n",
    "* (MD) A7191F1820 - Muhammad Fharid Akbar - Universitas Bina Darma\n",
    "* (CC) C2322F2819 - Muhammad Mustafa Kamal  - Universitas Syiah Kuala\n",
    "* (CC) C7457F3068 - Wulan Ayu Rania Sari  -Universitas Nahdlatul Ulama Lampung\n",
    "\n",
    "Final Selected Themes :\n",
    "Human Healthcare & Animal Welfare\n",
    "\n",
    "Title of the Project :\n",
    "SkinCan : Skin Cancer Detection App\n",
    "\n"
   ]
  },
  {
   "cell_type": "markdown",
   "id": "351cd39f",
   "metadata": {
    "papermill": {
     "duration": 0.003217,
     "end_time": "2022-05-29T23:57:57.180469",
     "exception": false,
     "start_time": "2022-05-29T23:57:57.177252",
     "status": "completed"
    },
    "tags": []
   },
   "source": [
    "**Executive Summary :**\n",
    "\n",
    "At this time there are so many dangers that can lurk human health, even in this era of pandemic, maintaining health is very important for everyone. People should have awareness to maintain health, especially the health of the skin. Therefore, by utilizing machine learning, cloud computing to create a skin cancer detection application by identifying the input image to remind the public the importance of maintaining healthy skin. In this project, We have a problem formulation as follows:\n",
    "* How to detect various skin cancers in humans through the application?\n",
    "* How to treat skin cancer early?\n",
    "* How accurately does this application detect skin cancer? \n",
    "\n",
    "Our team wants to solve this problem because we want someone who has the potential for cancer to avoid a more serious problem, so that users who use this application can take preventive measures to prevent this problem.\n",
    "\n",
    "**How did your team come up with this project?**\n",
    "\n",
    "We want to build an application that can help the public and health workers to detect skin diseases in humans, including skin cancer. This application uses Deep Learning algorithms to predict various skin diseases to achieve maximum accuracy in predicting skin diseases at an early stage. Feature extraction plays a key role in the classification of skin diseases. In addition, Explainable AI is used to interpret decisions made by our machine learning models. With this application, hopefully, it can help users to detect skin diseases early so they can take preventive measures.\n",
    "\n",
    "**Based on your knowledge and explorations, tell us the Machine Learning Part of your capstone?**\n",
    "\n",
    "In this project, we’re using Python as main programming language, Tensorflow as mandatory library, Sckit-learn and keras as libraries, AI Platform as platform, TFLite as Tools for Model Deployment to Android, Kaggle as dataset resource, Google Colab as IDE, and Machine Learning Model as main the feature in our app.\n"
   ]
  },
  {
   "cell_type": "markdown",
   "id": "d40e2761",
   "metadata": {
    "papermill": {
     "duration": 0.004689,
     "end_time": "2022-05-29T23:57:57.188390",
     "exception": false,
     "start_time": "2022-05-29T23:57:57.183701",
     "status": "completed"
    },
    "tags": []
   },
   "source": [
    "# **Modeling Machine Learning Model for SkinCan App**"
   ]
  },
  {
   "cell_type": "markdown",
   "id": "ea8c1992",
   "metadata": {
    "papermill": {
     "duration": 0.005686,
     "end_time": "2022-05-29T23:57:57.199054",
     "exception": false,
     "start_time": "2022-05-29T23:57:57.193368",
     "status": "completed"
    },
    "tags": []
   },
   "source": [
    "# Data Collecting"
   ]
  },
  {
   "cell_type": "code",
   "execution_count": 1,
   "id": "68af6945",
   "metadata": {
    "execution": {
     "iopub.execute_input": "2022-05-29T23:57:57.211544Z",
     "iopub.status.busy": "2022-05-29T23:57:57.211010Z",
     "iopub.status.idle": "2022-05-29T23:57:57.229058Z",
     "shell.execute_reply": "2022-05-29T23:57:57.228292Z"
    },
    "papermill": {
     "duration": 0.027157,
     "end_time": "2022-05-29T23:57:57.231469",
     "exception": false,
     "start_time": "2022-05-29T23:57:57.204312",
     "status": "completed"
    },
    "tags": []
   },
   "outputs": [],
   "source": [
    "import warnings # tf needs to learn to stfu\n",
    "warnings.simplefilter(action=\"ignore\", category=FutureWarning)\n",
    "warnings.simplefilter(action=\"ignore\", category=UserWarning)\n",
    "warnings.simplefilter(action=\"ignore\", category=RuntimeWarning)\n",
    "warnings.simplefilter(action='ignore', category=DeprecationWarning)"
   ]
  },
  {
   "cell_type": "code",
   "execution_count": 2,
   "id": "e0279246",
   "metadata": {
    "execution": {
     "iopub.execute_input": "2022-05-29T23:57:57.243474Z",
     "iopub.status.busy": "2022-05-29T23:57:57.243033Z",
     "iopub.status.idle": "2022-05-29T23:58:08.261611Z",
     "shell.execute_reply": "2022-05-29T23:58:08.260478Z"
    },
    "papermill": {
     "duration": 11.027097,
     "end_time": "2022-05-29T23:58:08.264009",
     "exception": false,
     "start_time": "2022-05-29T23:57:57.236912",
     "status": "completed"
    },
    "tags": []
   },
   "outputs": [
    {
     "name": "stdout",
     "output_type": "stream",
     "text": [
      "Requirement already satisfied: plotly in /opt/conda/lib/python3.7/site-packages (5.8.0)\r\n",
      "Requirement already satisfied: tenacity>=6.2.0 in /opt/conda/lib/python3.7/site-packages (from plotly) (8.0.1)\r\n",
      "\u001b[33mWARNING: Running pip as the 'root' user can result in broken permissions and conflicting behaviour with the system package manager. It is recommended to use a virtual environment instead: https://pip.pypa.io/warnings/venv\u001b[0m\u001b[33m\r\n",
      "\u001b[0m"
     ]
    }
   ],
   "source": [
    "# download plotly package\n",
    "!pip install plotly"
   ]
  },
  {
   "cell_type": "code",
   "execution_count": 3,
   "id": "5c8e7e4d",
   "metadata": {
    "execution": {
     "iopub.execute_input": "2022-05-29T23:58:08.272936Z",
     "iopub.status.busy": "2022-05-29T23:58:08.272623Z",
     "iopub.status.idle": "2022-05-29T23:58:17.104695Z",
     "shell.execute_reply": "2022-05-29T23:58:17.103811Z"
    },
    "papermill": {
     "duration": 8.838918,
     "end_time": "2022-05-29T23:58:17.106912",
     "exception": false,
     "start_time": "2022-05-29T23:58:08.267994",
     "status": "completed"
    },
    "tags": []
   },
   "outputs": [],
   "source": [
    "# import libraries\n",
    "import tensorflow as tf\n",
    "import numpy as np\n",
    "import pandas as pd\n",
    "import io\n",
    "import os\n",
    "\n",
    "from PIL import Image\n",
    "from glob import glob\n",
    "import itertools\n",
    "\n",
    "import plotly.graph_objects as go\n",
    "import plotly.express as px\n",
    "from plotly.subplots import make_subplots\n",
    "import matplotlib.pyplot as plt\n",
    "import seaborn as sns\n",
    "\n",
    "\n",
    "from tensorflow.keras.preprocessing.image import ImageDataGenerator\n",
    "from tensorflow.keras.models import Sequential\n",
    "from tensorflow.keras.layers import Conv2D, Flatten, BatchNormalization, Dropout, Dense, MaxPool2D\n",
    "from tensorflow.keras.callbacks import ReduceLROnPlateau, EarlyStopping\n",
    "\n",
    "from sklearn.model_selection import train_test_split\n",
    "from sklearn.metrics import classification_report, confusion_matrix\n",
    "\n",
    "from IPython.display import display\n",
    "#To see the value of multiple statements at once.\n",
    "from IPython.core.interactiveshell import InteractiveShell\n",
    "InteractiveShell.ast_node_interactivity = \"all\"\n",
    "\n"
   ]
  },
  {
   "cell_type": "markdown",
   "id": "38c09b1b",
   "metadata": {
    "papermill": {
     "duration": 0.003473,
     "end_time": "2022-05-29T23:58:17.114616",
     "exception": false,
     "start_time": "2022-05-29T23:58:17.111143",
     "status": "completed"
    },
    "tags": []
   },
   "source": [
    "## **Create Function**"
   ]
  },
  {
   "cell_type": "markdown",
   "id": "ddb7c929",
   "metadata": {
    "papermill": {
     "duration": 0.003232,
     "end_time": "2022-05-29T23:58:17.121762",
     "exception": false,
     "start_time": "2022-05-29T23:58:17.118530",
     "status": "completed"
    },
    "tags": []
   },
   "source": [
    "**Train test splits**"
   ]
  },
  {
   "cell_type": "code",
   "execution_count": 4,
   "id": "cf07f5dc",
   "metadata": {
    "execution": {
     "iopub.execute_input": "2022-05-29T23:58:17.130064Z",
     "iopub.status.busy": "2022-05-29T23:58:17.129777Z",
     "iopub.status.idle": "2022-05-29T23:58:17.135534Z",
     "shell.execute_reply": "2022-05-29T23:58:17.134793Z"
    },
    "papermill": {
     "duration": 0.012184,
     "end_time": "2022-05-29T23:58:17.137395",
     "exception": false,
     "start_time": "2022-05-29T23:58:17.125211",
     "status": "completed"
    },
    "tags": []
   },
   "outputs": [],
   "source": [
    "# define function for train test splits\n",
    "def train_test_splits(X, Y):\n",
    "    # Splitting into train and test set\n",
    "    X_train, X_test, Y_train, Y_test = train_test_split(X, Y, test_size=0.2, random_state=1)\n",
    "    \n",
    "    # Prepare data for training and testing the model\n",
    "    train_datagen = ImageDataGenerator(rescale = 1./255,\n",
    "                                  rotation_range = 10,\n",
    "                                  width_shift_range = 0.2,\n",
    "                                  height_shift_range = 0.2,\n",
    "                                  shear_range = 0.2,\n",
    "                                  horizontal_flip = True,\n",
    "                                  vertical_flip = True,\n",
    "                                  fill_mode = 'nearest')\n",
    "    train_datagen.fit(X_train)\n",
    "    test_datagen = ImageDataGenerator(rescale = 1./255)\n",
    "    test_datagen.fit(X_test)\n",
    "    return X_train, X_test, Y_train, Y_test"
   ]
  },
  {
   "cell_type": "markdown",
   "id": "8dceca82",
   "metadata": {
    "papermill": {
     "duration": 0.003467,
     "end_time": "2022-05-29T23:58:17.144351",
     "exception": false,
     "start_time": "2022-05-29T23:58:17.140884",
     "status": "completed"
    },
    "tags": []
   },
   "source": [
    "**Modeling Model**"
   ]
  },
  {
   "cell_type": "code",
   "execution_count": 5,
   "id": "c9fea3b3",
   "metadata": {
    "execution": {
     "iopub.execute_input": "2022-05-29T23:58:17.152681Z",
     "iopub.status.busy": "2022-05-29T23:58:17.152425Z",
     "iopub.status.idle": "2022-05-29T23:58:17.161920Z",
     "shell.execute_reply": "2022-05-29T23:58:17.161090Z"
    },
    "papermill": {
     "duration": 0.015691,
     "end_time": "2022-05-29T23:58:17.163713",
     "exception": false,
     "start_time": "2022-05-29T23:58:17.148022",
     "status": "completed"
    },
    "tags": []
   },
   "outputs": [],
   "source": [
    "# define function for create model\n",
    "def model():\n",
    "    model = Sequential()\n",
    "    model.add(Conv2D(16, kernel_size = (3,3), input_shape = (28, 28, 3), activation = 'relu', padding = 'same'))\n",
    "    model.add(MaxPool2D(pool_size = (2,2)))\n",
    "\n",
    "    model.add(Conv2D(32, kernel_size = (3,3), activation = 'relu', padding = 'same'))\n",
    "    model.add(MaxPool2D(pool_size = (2,2), padding = 'same'))\n",
    "\n",
    "    model.add(Conv2D(64, kernel_size = (3,3), activation = 'relu', padding = 'same'))\n",
    "    model.add(MaxPool2D(pool_size = (2,2), padding = 'same'))\n",
    "    model.add(Conv2D(128, kernel_size = (3,3), activation = 'relu', padding = 'same'))\n",
    "    model.add(MaxPool2D(pool_size = (2,2), padding = 'same'))\n",
    "\n",
    "    model.add(Flatten())\n",
    "    model.add(Dense(64, activation = 'relu'))\n",
    "    model.add(Dense(32, activation='relu'))\n",
    "    model.add(Dense(7, activation='softmax'))\n",
    "\n",
    "    optimizer = tf.keras.optimizers.Adam(learning_rate = 0.001)\n",
    "\n",
    "    model.compile(loss = 'sparse_categorical_crossentropy',\n",
    "                 optimizer = optimizer,\n",
    "                  metrics = ['accuracy'])\n",
    "    print(model.summary())\n",
    "    return model;"
   ]
  },
  {
   "cell_type": "markdown",
   "id": "f9cd3a4c",
   "metadata": {
    "papermill": {
     "duration": 0.003366,
     "end_time": "2022-05-29T23:58:17.170946",
     "exception": false,
     "start_time": "2022-05-29T23:58:17.167580",
     "status": "completed"
    },
    "tags": []
   },
   "source": [
    "**Training model**"
   ]
  },
  {
   "cell_type": "code",
   "execution_count": 6,
   "id": "2d1c921e",
   "metadata": {
    "execution": {
     "iopub.execute_input": "2022-05-29T23:58:17.179188Z",
     "iopub.status.busy": "2022-05-29T23:58:17.178944Z",
     "iopub.status.idle": "2022-05-29T23:58:17.184326Z",
     "shell.execute_reply": "2022-05-29T23:58:17.183525Z"
    },
    "papermill": {
     "duration": 0.011855,
     "end_time": "2022-05-29T23:58:17.186382",
     "exception": false,
     "start_time": "2022-05-29T23:58:17.174527",
     "status": "completed"
    },
    "tags": []
   },
   "outputs": [],
   "source": [
    "# Define function for training model\n",
    "def train_model(model, X_train, Y_train, EPOCHS=25):\n",
    "    early_stop = EarlyStopping(monitor='val_loss', patience=10, verbose=1, \n",
    "                           mode='auto')\n",
    "                               \n",
    "    \n",
    "    reduce_lr = ReduceLROnPlateau(monitor='val_loss', factor=0.1, patience=3, \n",
    "                              verbose=1, mode='auto')\n",
    "    \n",
    "    history = model.fit(X_train,\n",
    "                        Y_train,\n",
    "                        validation_split=0.2,\n",
    "                        batch_size = 64,\n",
    "                        epochs = EPOCHS,\n",
    "                        callbacks = [reduce_lr, early_stop])\n",
    "    return history"
   ]
  },
  {
   "cell_type": "markdown",
   "id": "d6f8eff3",
   "metadata": {
    "papermill": {
     "duration": 0.003443,
     "end_time": "2022-05-29T23:58:17.193507",
     "exception": false,
     "start_time": "2022-05-29T23:58:17.190064",
     "status": "completed"
    },
    "tags": []
   },
   "source": [
    "**Test model**"
   ]
  },
  {
   "cell_type": "code",
   "execution_count": 7,
   "id": "9a7b56f9",
   "metadata": {
    "execution": {
     "iopub.execute_input": "2022-05-29T23:58:17.201844Z",
     "iopub.status.busy": "2022-05-29T23:58:17.201599Z",
     "iopub.status.idle": "2022-05-29T23:58:17.209081Z",
     "shell.execute_reply": "2022-05-29T23:58:17.208321Z"
    },
    "papermill": {
     "duration": 0.013437,
     "end_time": "2022-05-29T23:58:17.210765",
     "exception": false,
     "start_time": "2022-05-29T23:58:17.197328",
     "status": "completed"
    },
    "tags": []
   },
   "outputs": [],
   "source": [
    "# Define function for model testing\n",
    "def test_model(model, X_test, Y_test):\n",
    "    model_acc = model.evaluate(X_test, Y_test, verbose=0)[1]\n",
    "    print(\"Test Accuracy: {:.3f}%\".format(model_acc * 100))\n",
    "    y_true = np.array(Y_test)\n",
    "    y_pred = model.predict(X_test)\n",
    "    y_pred = np.array(list(map(lambda x: np.argmax(x), y_pred)))\n",
    "    clr = classification_report(y_true, y_pred, target_names=label_mapping.values())\n",
    "    print(clr)\n",
    "    \n",
    "    sample_data = X_test[:15]\n",
    "    plt.figure(figsize=(22, 12))\n",
    "    for i in range(15):\n",
    "        plt.subplot(3, 5, i + 1)\n",
    "        plt.imshow(sample_data[i])\n",
    "        plt.title(label_mapping[y_true[i][0]] + '|' + label_mapping[y_pred[i]])\n",
    "        plt.axis(\"off\")\n",
    "    plt.show() "
   ]
  }
 ],
 "metadata": {
  "kernelspec": {
   "display_name": "Python 3",
   "language": "python",
   "name": "python3"
  },
  "language_info": {
   "codemirror_mode": {
    "name": "ipython",
    "version": 3
   },
   "file_extension": ".py",
   "mimetype": "text/x-python",
   "name": "python",
   "nbconvert_exporter": "python",
   "pygments_lexer": "ipython3",
   "version": "3.7.12"
  },
  "papermill": {
   "default_parameters": {},
   "duration": 31.286625,
   "end_time": "2022-05-29T23:58:20.405508",
   "environment_variables": {},
   "exception": null,
   "input_path": "__notebook__.ipynb",
   "output_path": "__notebook__.ipynb",
   "parameters": {},
   "start_time": "2022-05-29T23:57:49.118883",
   "version": "2.3.4"
  }
 },
 "nbformat": 4,
 "nbformat_minor": 5
}
