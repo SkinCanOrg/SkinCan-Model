{
 "cells": [
  {
   "cell_type": "markdown",
   "id": "ead6c1ee",
   "metadata": {
    "papermill": {
     "duration": 0.004667,
     "end_time": "2022-05-29T23:53:50.494892",
     "exception": false,
     "start_time": "2022-05-29T23:53:50.490225",
     "status": "completed"
    },
    "tags": []
   },
   "source": [
    "# Product-Based Capstone Project\n",
    "\n",
    "Team ID : C22-PS096\n",
    "\n",
    "Team Member :\n",
    "* (ML) M7134F1606 - Muhammad Fadli Ramadhan - Politeknik Negeri Sriwijaya\n",
    "* (ML) M2008F0851 - Adhitya Ghiffari Pramudito - Universitas Gadjah Mada\n",
    "* (MD) A2191F1821 - Ahmad Ansori Palembani - Universitas Bina Darma\n",
    "* (MD) A7191F1820 - Muhammad Fharid Akbar - Universitas Bina Darma\n",
    "* (CC) C2322F2819 - Muhammad Mustafa Kamal  - Universitas Syiah Kuala\n",
    "* (CC) C7457F3068 - Wulan Ayu Rania Sari  -Universitas Nahdlatul Ulama Lampung\n",
    "\n",
    "Final Selected Themes :\n",
    "Human Healthcare & Animal Welfare\n",
    "\n",
    "Title of the Project :\n",
    "SkinCan : Skin Cancer Detection App\n",
    "\n"
   ]
  },
  {
   "cell_type": "markdown",
   "id": "d9383c3a",
   "metadata": {
    "papermill": {
     "duration": 0.005831,
     "end_time": "2022-05-29T23:53:50.505694",
     "exception": false,
     "start_time": "2022-05-29T23:53:50.499863",
     "status": "completed"
    },
    "tags": []
   },
   "source": [
    "**Executive Summary :**\n",
    "\n",
    "At this time there are so many dangers that can lurk human health, even in this era of pandemic, maintaining health is very important for everyone. People should have awareness to maintain health, especially the health of the skin. Therefore, by utilizing machine learning, cloud computing to create a skin cancer detection application by identifying the input image to remind the public the importance of maintaining healthy skin. In this project, We have a problem formulation as follows:\n",
    "* How to detect various skin cancers in humans through the application?\n",
    "* How to treat skin cancer early?\n",
    "* How accurately does this application detect skin cancer? \n",
    "\n",
    "Our team wants to solve this problem because we want someone who has the potential for cancer to avoid a more serious problem, so that users who use this application can take preventive measures to prevent this problem.\n",
    "\n",
    "**How did your team come up with this project?**\n",
    "\n",
    "We want to build an application that can help the public and health workers to detect skin diseases in humans, including skin cancer. This application uses Deep Learning algorithms to predict various skin diseases to achieve maximum accuracy in predicting skin diseases at an early stage. Feature extraction plays a key role in the classification of skin diseases. In addition, Explainable AI is used to interpret decisions made by our machine learning models. With this application, hopefully, it can help users to detect skin diseases early so they can take preventive measures.\n",
    "\n",
    "**Based on your knowledge and explorations, tell us the Machine Learning Part of your capstone?**\n",
    "\n",
    "In this project, we’re using Python as main programming language, Tensorflow as mandatory library, Sckit-learn and keras as libraries, AI Platform as platform, TFLite as Tools for Model Deployment to Android, Kaggle as dataset resource, Google Colab as IDE, and Machine Learning Model as main the feature in our app.\n"
   ]
  },
  {
   "cell_type": "markdown",
   "id": "7a1bb46b",
   "metadata": {
    "papermill": {
     "duration": 0.004064,
     "end_time": "2022-05-29T23:53:50.513838",
     "exception": false,
     "start_time": "2022-05-29T23:53:50.509774",
     "status": "completed"
    },
    "tags": []
   },
   "source": [
    "# **Modeling Machine Learning Model for SkinCan App**"
   ]
  },
  {
   "cell_type": "markdown",
   "id": "0a900bc3",
   "metadata": {
    "papermill": {
     "duration": 0.003772,
     "end_time": "2022-05-29T23:53:50.522217",
     "exception": false,
     "start_time": "2022-05-29T23:53:50.518445",
     "status": "completed"
    },
    "tags": []
   },
   "source": [
    "# Data Collecting"
   ]
  },
  {
   "cell_type": "code",
   "execution_count": 1,
   "id": "e3c23d2b",
   "metadata": {
    "execution": {
     "iopub.execute_input": "2022-05-29T23:53:50.532290Z",
     "iopub.status.busy": "2022-05-29T23:53:50.531073Z",
     "iopub.status.idle": "2022-05-29T23:53:50.544238Z",
     "shell.execute_reply": "2022-05-29T23:53:50.543552Z"
    },
    "papermill": {
     "duration": 0.019991,
     "end_time": "2022-05-29T23:53:50.546013",
     "exception": false,
     "start_time": "2022-05-29T23:53:50.526022",
     "status": "completed"
    },
    "tags": []
   },
   "outputs": [],
   "source": [
    "import warnings # tf needs to learn to stfu\n",
    "warnings.simplefilter(action=\"ignore\", category=FutureWarning)\n",
    "warnings.simplefilter(action=\"ignore\", category=UserWarning)\n",
    "warnings.simplefilter(action=\"ignore\", category=RuntimeWarning)\n",
    "warnings.simplefilter(action='ignore', category=DeprecationWarning)"
   ]
  },
  {
   "cell_type": "code",
   "execution_count": 2,
   "id": "0878b92f",
   "metadata": {
    "execution": {
     "iopub.execute_input": "2022-05-29T23:53:50.553260Z",
     "iopub.status.busy": "2022-05-29T23:53:50.552890Z",
     "iopub.status.idle": "2022-05-29T23:54:00.784500Z",
     "shell.execute_reply": "2022-05-29T23:54:00.783543Z"
    },
    "papermill": {
     "duration": 10.23845,
     "end_time": "2022-05-29T23:54:00.787176",
     "exception": false,
     "start_time": "2022-05-29T23:53:50.548726",
     "status": "completed"
    },
    "tags": []
   },
   "outputs": [
    {
     "name": "stdout",
     "output_type": "stream",
     "text": [
      "Requirement already satisfied: plotly in /opt/conda/lib/python3.7/site-packages (5.8.0)\r\n",
      "Requirement already satisfied: tenacity>=6.2.0 in /opt/conda/lib/python3.7/site-packages (from plotly) (8.0.1)\r\n",
      "\u001b[33mWARNING: Running pip as the 'root' user can result in broken permissions and conflicting behaviour with the system package manager. It is recommended to use a virtual environment instead: https://pip.pypa.io/warnings/venv\u001b[0m\u001b[33m\r\n",
      "\u001b[0m"
     ]
    }
   ],
   "source": [
    "# download plotly package\n",
    "!pip install plotly"
   ]
  },
  {
   "cell_type": "code",
   "execution_count": 3,
   "id": "c83fb057",
   "metadata": {
    "execution": {
     "iopub.execute_input": "2022-05-29T23:54:00.794907Z",
     "iopub.status.busy": "2022-05-29T23:54:00.794587Z",
     "iopub.status.idle": "2022-05-29T23:54:09.531246Z",
     "shell.execute_reply": "2022-05-29T23:54:09.530418Z"
    },
    "papermill": {
     "duration": 8.742907,
     "end_time": "2022-05-29T23:54:09.533313",
     "exception": false,
     "start_time": "2022-05-29T23:54:00.790406",
     "status": "completed"
    },
    "tags": []
   },
   "outputs": [],
   "source": [
    "# import libraries\n",
    "import tensorflow as tf\n",
    "import numpy as np\n",
    "import pandas as pd\n",
    "import io\n",
    "import os\n",
    "\n",
    "from PIL import Image\n",
    "from glob import glob\n",
    "import itertools\n",
    "\n",
    "import plotly.graph_objects as go\n",
    "import plotly.express as px\n",
    "from plotly.subplots import make_subplots\n",
    "import matplotlib.pyplot as plt\n",
    "import seaborn as sns\n",
    "\n",
    "\n",
    "from tensorflow.keras.preprocessing.image import ImageDataGenerator\n",
    "from tensorflow.keras.models import Sequential\n",
    "from tensorflow.keras.layers import Conv2D, Flatten, BatchNormalization, Dropout, Dense, MaxPool2D\n",
    "from tensorflow.keras.callbacks import ReduceLROnPlateau, EarlyStopping\n",
    "\n",
    "from sklearn.model_selection import train_test_split\n",
    "from sklearn.metrics import classification_report, confusion_matrix\n",
    "\n",
    "from IPython.display import display\n",
    "#To see the value of multiple statements at once.\n",
    "from IPython.core.interactiveshell import InteractiveShell\n",
    "InteractiveShell.ast_node_interactivity = \"all\"\n",
    "\n"
   ]
  },
  {
   "cell_type": "markdown",
   "id": "d8ca2683",
   "metadata": {
    "papermill": {
     "duration": 0.002774,
     "end_time": "2022-05-29T23:54:09.539274",
     "exception": false,
     "start_time": "2022-05-29T23:54:09.536500",
     "status": "completed"
    },
    "tags": []
   },
   "source": [
    "## **Create Function**"
   ]
  },
  {
   "cell_type": "markdown",
   "id": "d37d6c8a",
   "metadata": {
    "papermill": {
     "duration": 0.002658,
     "end_time": "2022-05-29T23:54:09.544835",
     "exception": false,
     "start_time": "2022-05-29T23:54:09.542177",
     "status": "completed"
    },
    "tags": []
   },
   "source": [
    "**Train test splits**"
   ]
  },
  {
   "cell_type": "code",
   "execution_count": 4,
   "id": "02070c1c",
   "metadata": {
    "execution": {
     "iopub.execute_input": "2022-05-29T23:54:09.551935Z",
     "iopub.status.busy": "2022-05-29T23:54:09.551641Z",
     "iopub.status.idle": "2022-05-29T23:54:09.557940Z",
     "shell.execute_reply": "2022-05-29T23:54:09.556986Z"
    },
    "papermill": {
     "duration": 0.012212,
     "end_time": "2022-05-29T23:54:09.559971",
     "exception": false,
     "start_time": "2022-05-29T23:54:09.547759",
     "status": "completed"
    },
    "tags": []
   },
   "outputs": [],
   "source": [
    "# define function for train test splits\n",
    "def train_test_splits(X, Y):\n",
    "    # Splitting into train and test set\n",
    "    X_train, X_test, Y_train, Y_test = train_test_split(X, Y, test_size=0.2, random_state=1)\n",
    "    \n",
    "    # Prepare data for training and testing the model\n",
    "    train_datagen = ImageDataGenerator(rescale = 1./255,\n",
    "                                  rotation_range = 10,\n",
    "                                  width_shift_range = 0.2,\n",
    "                                  height_shift_range = 0.2,\n",
    "                                  shear_range = 0.2,\n",
    "                                  horizontal_flip = True,\n",
    "                                  vertical_flip = True,\n",
    "                                  fill_mode = 'nearest')\n",
    "    train_datagen.fit(X_train)\n",
    "    test_datagen = ImageDataGenerator(rescale = 1./255)\n",
    "    test_datagen.fit(X_test)\n",
    "    return X_train, X_test, Y_train, Y_test"
   ]
  },
  {
   "cell_type": "markdown",
   "id": "59ab19c5",
   "metadata": {
    "papermill": {
     "duration": 0.003772,
     "end_time": "2022-05-29T23:54:09.567061",
     "exception": false,
     "start_time": "2022-05-29T23:54:09.563289",
     "status": "completed"
    },
    "tags": []
   },
   "source": [
    "**Modeling Model**"
   ]
  },
  {
   "cell_type": "code",
   "execution_count": 5,
   "id": "b5f98b2c",
   "metadata": {
    "execution": {
     "iopub.execute_input": "2022-05-29T23:54:09.574407Z",
     "iopub.status.busy": "2022-05-29T23:54:09.573921Z",
     "iopub.status.idle": "2022-05-29T23:54:09.583291Z",
     "shell.execute_reply": "2022-05-29T23:54:09.582382Z"
    },
    "papermill": {
     "duration": 0.01505,
     "end_time": "2022-05-29T23:54:09.585133",
     "exception": false,
     "start_time": "2022-05-29T23:54:09.570083",
     "status": "completed"
    },
    "tags": []
   },
   "outputs": [],
   "source": [
    "# define function for create model\n",
    "def model():\n",
    "    model = Sequential()\n",
    "    model.add(Conv2D(16, kernel_size = (3,3), input_shape = (28, 28, 3), activation = 'relu', padding = 'same'))\n",
    "    model.add(MaxPool2D(pool_size = (2,2)))\n",
    "\n",
    "    model.add(Conv2D(32, kernel_size = (3,3), activation = 'relu', padding = 'same'))\n",
    "    model.add(MaxPool2D(pool_size = (2,2), padding = 'same'))\n",
    "\n",
    "    model.add(Conv2D(64, kernel_size = (3,3), activation = 'relu', padding = 'same'))\n",
    "    model.add(MaxPool2D(pool_size = (2,2), padding = 'same'))\n",
    "    model.add(Conv2D(128, kernel_size = (3,3), activation = 'relu', padding = 'same'))\n",
    "    model.add(MaxPool2D(pool_size = (2,2), padding = 'same'))\n",
    "\n",
    "    model.add(Flatten())\n",
    "    model.add(Dense(64, activation = 'relu'))\n",
    "    model.add(Dense(32, activation='relu'))\n",
    "    model.add(Dense(7, activation='softmax'))\n",
    "\n",
    "    optimizer = tf.keras.optimizers.Adam(learning_rate = 0.001)\n",
    "\n",
    "    model.compile(loss = 'sparse_categorical_crossentropy',\n",
    "                 optimizer = optimizer,\n",
    "                  metrics = ['accuracy'])\n",
    "    print(model.summary())\n",
    "    return model;"
   ]
  }
 ],
 "metadata": {
  "kernelspec": {
   "display_name": "Python 3",
   "language": "python",
   "name": "python3"
  },
  "language_info": {
   "codemirror_mode": {
    "name": "ipython",
    "version": 3
   },
   "file_extension": ".py",
   "mimetype": "text/x-python",
   "name": "python",
   "nbconvert_exporter": "python",
   "pygments_lexer": "ipython3",
   "version": "3.7.12"
  },
  "papermill": {
   "default_parameters": {},
   "duration": 30.275559,
   "end_time": "2022-05-29T23:54:13.001342",
   "environment_variables": {},
   "exception": null,
   "input_path": "__notebook__.ipynb",
   "output_path": "__notebook__.ipynb",
   "parameters": {},
   "start_time": "2022-05-29T23:53:42.725783",
   "version": "2.3.4"
  }
 },
 "nbformat": 4,
 "nbformat_minor": 5
}
