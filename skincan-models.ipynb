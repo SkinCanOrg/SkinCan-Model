{
 "cells": [
  {
   "cell_type": "markdown",
   "id": "3419dcbe",
   "metadata": {
    "papermill": {
     "duration": 0.007408,
     "end_time": "2022-05-30T00:02:32.264189",
     "exception": false,
     "start_time": "2022-05-30T00:02:32.256781",
     "status": "completed"
    },
    "tags": []
   },
   "source": [
    "# Product-Based Capstone Project\n",
    "\n",
    "Team ID : C22-PS096\n",
    "\n",
    "Team Member :\n",
    "* (ML) M7134F1606 - Muhammad Fadli Ramadhan - Politeknik Negeri Sriwijaya\n",
    "* (ML) M2008F0851 - Adhitya Ghiffari Pramudito - Universitas Gadjah Mada\n",
    "* (MD) A2191F1821 - Ahmad Ansori Palembani - Universitas Bina Darma\n",
    "* (MD) A7191F1820 - Muhammad Fharid Akbar - Universitas Bina Darma\n",
    "* (CC) C2322F2819 - Muhammad Mustafa Kamal  - Universitas Syiah Kuala\n",
    "* (CC) C7457F3068 - Wulan Ayu Rania Sari  -Universitas Nahdlatul Ulama Lampung\n",
    "\n",
    "Final Selected Themes :\n",
    "Human Healthcare & Animal Welfare\n",
    "\n",
    "Title of the Project :\n",
    "SkinCan : Skin Cancer Detection App\n",
    "\n"
   ]
  },
  {
   "cell_type": "markdown",
   "id": "e6aafaba",
   "metadata": {
    "papermill": {
     "duration": 0.007796,
     "end_time": "2022-05-30T00:02:32.280585",
     "exception": false,
     "start_time": "2022-05-30T00:02:32.272789",
     "status": "completed"
    },
    "tags": []
   },
   "source": [
    "**Executive Summary :**\n",
    "\n",
    "At this time there are so many dangers that can lurk human health, even in this era of pandemic, maintaining health is very important for everyone. People should have awareness to maintain health, especially the health of the skin. Therefore, by utilizing machine learning, cloud computing to create a skin cancer detection application by identifying the input image to remind the public the importance of maintaining healthy skin. In this project, We have a problem formulation as follows:\n",
    "* How to detect various skin cancers in humans through the application?\n",
    "* How to treat skin cancer early?\n",
    "* How accurately does this application detect skin cancer? \n",
    "\n",
    "Our team wants to solve this problem because we want someone who has the potential for cancer to avoid a more serious problem, so that users who use this application can take preventive measures to prevent this problem.\n",
    "\n",
    "**How did your team come up with this project?**\n",
    "\n",
    "We want to build an application that can help the public and health workers to detect skin diseases in humans, including skin cancer. This application uses Deep Learning algorithms to predict various skin diseases to achieve maximum accuracy in predicting skin diseases at an early stage. Feature extraction plays a key role in the classification of skin diseases. In addition, Explainable AI is used to interpret decisions made by our machine learning models. With this application, hopefully, it can help users to detect skin diseases early so they can take preventive measures.\n",
    "\n",
    "**Based on your knowledge and explorations, tell us the Machine Learning Part of your capstone?**\n",
    "\n",
    "In this project, we’re using Python as main programming language, Tensorflow as mandatory library, Sckit-learn and keras as libraries, AI Platform as platform, TFLite as Tools for Model Deployment to Android, Kaggle as dataset resource, Google Colab as IDE, and Machine Learning Model as main the feature in our app.\n"
   ]
  },
  {
   "cell_type": "markdown",
   "id": "5a1d747a",
   "metadata": {
    "papermill": {
     "duration": 0.006167,
     "end_time": "2022-05-30T00:02:32.293153",
     "exception": false,
     "start_time": "2022-05-30T00:02:32.286986",
     "status": "completed"
    },
    "tags": []
   },
   "source": [
    "# **Modeling Machine Learning Model for SkinCan App**"
   ]
  },
  {
   "cell_type": "markdown",
   "id": "68b704e9",
   "metadata": {
    "papermill": {
     "duration": 0.005981,
     "end_time": "2022-05-30T00:02:32.305434",
     "exception": false,
     "start_time": "2022-05-30T00:02:32.299453",
     "status": "completed"
    },
    "tags": []
   },
   "source": [
    "# Data Collecting"
   ]
  },
  {
   "cell_type": "code",
   "execution_count": 1,
   "id": "042901c1",
   "metadata": {
    "execution": {
     "iopub.execute_input": "2022-05-30T00:02:32.322045Z",
     "iopub.status.busy": "2022-05-30T00:02:32.321500Z",
     "iopub.status.idle": "2022-05-30T00:02:32.333314Z",
     "shell.execute_reply": "2022-05-30T00:02:32.332515Z"
    },
    "papermill": {
     "duration": 0.023431,
     "end_time": "2022-05-30T00:02:32.335097",
     "exception": false,
     "start_time": "2022-05-30T00:02:32.311666",
     "status": "completed"
    },
    "tags": []
   },
   "outputs": [],
   "source": [
    "import warnings # tf needs to learn to stfu\n",
    "warnings.simplefilter(action=\"ignore\", category=FutureWarning)\n",
    "warnings.simplefilter(action=\"ignore\", category=UserWarning)\n",
    "warnings.simplefilter(action=\"ignore\", category=RuntimeWarning)\n",
    "warnings.simplefilter(action='ignore', category=DeprecationWarning)"
   ]
  },
  {
   "cell_type": "code",
   "execution_count": 2,
   "id": "db53d62c",
   "metadata": {
    "execution": {
     "iopub.execute_input": "2022-05-30T00:02:32.344621Z",
     "iopub.status.busy": "2022-05-30T00:02:32.343997Z",
     "iopub.status.idle": "2022-05-30T00:02:42.697955Z",
     "shell.execute_reply": "2022-05-30T00:02:42.696966Z"
    },
    "papermill": {
     "duration": 10.361149,
     "end_time": "2022-05-30T00:02:42.700292",
     "exception": false,
     "start_time": "2022-05-30T00:02:32.339143",
     "status": "completed"
    },
    "tags": []
   },
   "outputs": [
    {
     "name": "stdout",
     "output_type": "stream",
     "text": [
      "Requirement already satisfied: plotly in /opt/conda/lib/python3.7/site-packages (5.8.0)\r\n",
      "Requirement already satisfied: tenacity>=6.2.0 in /opt/conda/lib/python3.7/site-packages (from plotly) (8.0.1)\r\n",
      "\u001b[33mWARNING: Running pip as the 'root' user can result in broken permissions and conflicting behaviour with the system package manager. It is recommended to use a virtual environment instead: https://pip.pypa.io/warnings/venv\u001b[0m\u001b[33m\r\n",
      "\u001b[0m"
     ]
    }
   ],
   "source": [
    "# download plotly package\n",
    "!pip install plotly"
   ]
  },
  {
   "cell_type": "code",
   "execution_count": 3,
   "id": "f8a7adab",
   "metadata": {
    "execution": {
     "iopub.execute_input": "2022-05-30T00:02:42.710648Z",
     "iopub.status.busy": "2022-05-30T00:02:42.710320Z",
     "iopub.status.idle": "2022-05-30T00:02:51.974125Z",
     "shell.execute_reply": "2022-05-30T00:02:51.973313Z"
    },
    "papermill": {
     "duration": 9.271327,
     "end_time": "2022-05-30T00:02:51.976299",
     "exception": false,
     "start_time": "2022-05-30T00:02:42.704972",
     "status": "completed"
    },
    "tags": []
   },
   "outputs": [],
   "source": [
    "# import libraries\n",
    "import tensorflow as tf\n",
    "import numpy as np\n",
    "import pandas as pd\n",
    "import io\n",
    "import os\n",
    "\n",
    "from PIL import Image\n",
    "from glob import glob\n",
    "import itertools\n",
    "\n",
    "import plotly.graph_objects as go\n",
    "import plotly.express as px\n",
    "from plotly.subplots import make_subplots\n",
    "import matplotlib.pyplot as plt\n",
    "import seaborn as sns\n",
    "\n",
    "\n",
    "from tensorflow.keras.preprocessing.image import ImageDataGenerator\n",
    "from tensorflow.keras.models import Sequential\n",
    "from tensorflow.keras.layers import Conv2D, Flatten, BatchNormalization, Dropout, Dense, MaxPool2D\n",
    "from tensorflow.keras.callbacks import ReduceLROnPlateau, EarlyStopping\n",
    "\n",
    "from sklearn.model_selection import train_test_split\n",
    "from sklearn.metrics import classification_report, confusion_matrix\n",
    "\n",
    "from IPython.display import display\n",
    "#To see the value of multiple statements at once.\n",
    "from IPython.core.interactiveshell import InteractiveShell\n",
    "InteractiveShell.ast_node_interactivity = \"all\"\n",
    "\n"
   ]
  },
  {
   "cell_type": "markdown",
   "id": "4f3d411e",
   "metadata": {
    "papermill": {
     "duration": 0.004215,
     "end_time": "2022-05-30T00:02:51.985008",
     "exception": false,
     "start_time": "2022-05-30T00:02:51.980793",
     "status": "completed"
    },
    "tags": []
   },
   "source": [
    "## **Create Function**"
   ]
  },
  {
   "cell_type": "markdown",
   "id": "c67b401c",
   "metadata": {
    "papermill": {
     "duration": 0.004107,
     "end_time": "2022-05-30T00:02:51.993438",
     "exception": false,
     "start_time": "2022-05-30T00:02:51.989331",
     "status": "completed"
    },
    "tags": []
   },
   "source": [
    "**Train test splits**"
   ]
  },
  {
   "cell_type": "code",
   "execution_count": 4,
   "id": "f407c325",
   "metadata": {
    "execution": {
     "iopub.execute_input": "2022-05-30T00:02:52.003584Z",
     "iopub.status.busy": "2022-05-30T00:02:52.002809Z",
     "iopub.status.idle": "2022-05-30T00:02:52.009237Z",
     "shell.execute_reply": "2022-05-30T00:02:52.008527Z"
    },
    "papermill": {
     "duration": 0.013223,
     "end_time": "2022-05-30T00:02:52.010856",
     "exception": false,
     "start_time": "2022-05-30T00:02:51.997633",
     "status": "completed"
    },
    "tags": []
   },
   "outputs": [],
   "source": [
    "# define function for train test splits\n",
    "def train_test_splits(X, Y):\n",
    "    # Splitting into train and test set\n",
    "    X_train, X_test, Y_train, Y_test = train_test_split(X, Y, test_size=0.2, random_state=1)\n",
    "    \n",
    "    # Prepare data for training and testing the model\n",
    "    train_datagen = ImageDataGenerator(rescale = 1./255,\n",
    "                                  rotation_range = 10,\n",
    "                                  width_shift_range = 0.2,\n",
    "                                  height_shift_range = 0.2,\n",
    "                                  shear_range = 0.2,\n",
    "                                  horizontal_flip = True,\n",
    "                                  vertical_flip = True,\n",
    "                                  fill_mode = 'nearest')\n",
    "    train_datagen.fit(X_train)\n",
    "    test_datagen = ImageDataGenerator(rescale = 1./255)\n",
    "    test_datagen.fit(X_test)\n",
    "    return X_train, X_test, Y_train, Y_test"
   ]
  },
  {
   "cell_type": "markdown",
   "id": "9eea6c14",
   "metadata": {
    "papermill": {
     "duration": 0.004092,
     "end_time": "2022-05-30T00:02:52.019267",
     "exception": false,
     "start_time": "2022-05-30T00:02:52.015175",
     "status": "completed"
    },
    "tags": []
   },
   "source": [
    "**Modeling Model**"
   ]
  },
  {
   "cell_type": "code",
   "execution_count": 5,
   "id": "cf2c8d1a",
   "metadata": {
    "execution": {
     "iopub.execute_input": "2022-05-30T00:02:52.028961Z",
     "iopub.status.busy": "2022-05-30T00:02:52.028682Z",
     "iopub.status.idle": "2022-05-30T00:02:52.037743Z",
     "shell.execute_reply": "2022-05-30T00:02:52.036915Z"
    },
    "papermill": {
     "duration": 0.015937,
     "end_time": "2022-05-30T00:02:52.039600",
     "exception": false,
     "start_time": "2022-05-30T00:02:52.023663",
     "status": "completed"
    },
    "tags": []
   },
   "outputs": [],
   "source": [
    "# define function for create model\n",
    "def model():\n",
    "    model = Sequential()\n",
    "    model.add(Conv2D(16, kernel_size = (3,3), input_shape = (28, 28, 3), activation = 'relu', padding = 'same'))\n",
    "    model.add(MaxPool2D(pool_size = (2,2)))\n",
    "\n",
    "    model.add(Conv2D(32, kernel_size = (3,3), activation = 'relu', padding = 'same'))\n",
    "    model.add(MaxPool2D(pool_size = (2,2), padding = 'same'))\n",
    "\n",
    "    model.add(Conv2D(64, kernel_size = (3,3), activation = 'relu', padding = 'same'))\n",
    "    model.add(MaxPool2D(pool_size = (2,2), padding = 'same'))\n",
    "    model.add(Conv2D(128, kernel_size = (3,3), activation = 'relu', padding = 'same'))\n",
    "    model.add(MaxPool2D(pool_size = (2,2), padding = 'same'))\n",
    "\n",
    "    model.add(Flatten())\n",
    "    model.add(Dense(64, activation = 'relu'))\n",
    "    model.add(Dense(32, activation='relu'))\n",
    "    model.add(Dense(7, activation='softmax'))\n",
    "\n",
    "    optimizer = tf.keras.optimizers.Adam(learning_rate = 0.001)\n",
    "\n",
    "    model.compile(loss = 'sparse_categorical_crossentropy',\n",
    "                 optimizer = optimizer,\n",
    "                  metrics = ['accuracy'])\n",
    "    print(model.summary())\n",
    "    return model;"
   ]
  },
  {
   "cell_type": "markdown",
   "id": "7624e598",
   "metadata": {
    "papermill": {
     "duration": 0.004167,
     "end_time": "2022-05-30T00:02:52.048154",
     "exception": false,
     "start_time": "2022-05-30T00:02:52.043987",
     "status": "completed"
    },
    "tags": []
   },
   "source": [
    "**Training model**"
   ]
  },
  {
   "cell_type": "code",
   "execution_count": 6,
   "id": "667b3f8e",
   "metadata": {
    "execution": {
     "iopub.execute_input": "2022-05-30T00:02:52.057780Z",
     "iopub.status.busy": "2022-05-30T00:02:52.057527Z",
     "iopub.status.idle": "2022-05-30T00:02:52.062714Z",
     "shell.execute_reply": "2022-05-30T00:02:52.061970Z"
    },
    "papermill": {
     "duration": 0.011871,
     "end_time": "2022-05-30T00:02:52.064385",
     "exception": false,
     "start_time": "2022-05-30T00:02:52.052514",
     "status": "completed"
    },
    "tags": []
   },
   "outputs": [],
   "source": [
    "# Define function for training model\n",
    "def train_model(model, X_train, Y_train, EPOCHS=25):\n",
    "    early_stop = EarlyStopping(monitor='val_loss', patience=10, verbose=1, \n",
    "                           mode='auto')\n",
    "                               \n",
    "    \n",
    "    reduce_lr = ReduceLROnPlateau(monitor='val_loss', factor=0.1, patience=3, \n",
    "                              verbose=1, mode='auto')\n",
    "    \n",
    "    history = model.fit(X_train,\n",
    "                        Y_train,\n",
    "                        validation_split=0.2,\n",
    "                        batch_size = 64,\n",
    "                        epochs = EPOCHS,\n",
    "                        callbacks = [reduce_lr, early_stop])\n",
    "    return history"
   ]
  },
  {
   "cell_type": "markdown",
   "id": "b2cbcd5b",
   "metadata": {
    "papermill": {
     "duration": 0.004199,
     "end_time": "2022-05-30T00:02:52.073001",
     "exception": false,
     "start_time": "2022-05-30T00:02:52.068802",
     "status": "completed"
    },
    "tags": []
   },
   "source": [
    "**Test model**"
   ]
  },
  {
   "cell_type": "code",
   "execution_count": 7,
   "id": "ff077daf",
   "metadata": {
    "execution": {
     "iopub.execute_input": "2022-05-30T00:02:52.083028Z",
     "iopub.status.busy": "2022-05-30T00:02:52.082765Z",
     "iopub.status.idle": "2022-05-30T00:02:52.090366Z",
     "shell.execute_reply": "2022-05-30T00:02:52.089626Z"
    },
    "papermill": {
     "duration": 0.014681,
     "end_time": "2022-05-30T00:02:52.092035",
     "exception": false,
     "start_time": "2022-05-30T00:02:52.077354",
     "status": "completed"
    },
    "tags": []
   },
   "outputs": [],
   "source": [
    "# Define function for model testing\n",
    "def test_model(model, X_test, Y_test):\n",
    "    model_acc = model.evaluate(X_test, Y_test, verbose=0)[1]\n",
    "    print(\"Test Accuracy: {:.3f}%\".format(model_acc * 100))\n",
    "    y_true = np.array(Y_test)\n",
    "    y_pred = model.predict(X_test)\n",
    "    y_pred = np.array(list(map(lambda x: np.argmax(x), y_pred)))\n",
    "    clr = classification_report(y_true, y_pred, target_names=label_mapping.values())\n",
    "    print(clr)\n",
    "    \n",
    "    sample_data = X_test[:15]\n",
    "    plt.figure(figsize=(22, 12))\n",
    "    for i in range(15):\n",
    "        plt.subplot(3, 5, i + 1)\n",
    "        plt.imshow(sample_data[i])\n",
    "        plt.title(label_mapping[y_true[i][0]] + '|' + label_mapping[y_pred[i]])\n",
    "        plt.axis(\"off\")\n",
    "    plt.show() "
   ]
  },
  {
   "cell_type": "markdown",
   "id": "cd5fb35c",
   "metadata": {
    "papermill": {
     "duration": 0.004249,
     "end_time": "2022-05-30T00:02:52.100780",
     "exception": false,
     "start_time": "2022-05-30T00:02:52.096531",
     "status": "completed"
    },
    "tags": []
   },
   "source": [
    "**Training curves plot**"
   ]
  },
  {
   "cell_type": "code",
   "execution_count": 8,
   "id": "02a18c7f",
   "metadata": {
    "execution": {
     "iopub.execute_input": "2022-05-30T00:02:52.110619Z",
     "iopub.status.busy": "2022-05-30T00:02:52.110340Z",
     "iopub.status.idle": "2022-05-30T00:02:52.116883Z",
     "shell.execute_reply": "2022-05-30T00:02:52.116065Z"
    },
    "papermill": {
     "duration": 0.013589,
     "end_time": "2022-05-30T00:02:52.118800",
     "exception": false,
     "start_time": "2022-05-30T00:02:52.105211",
     "status": "completed"
    },
    "tags": []
   },
   "outputs": [],
   "source": [
    "# Define function for training curves plot\n",
    "def plot_model_training_curve(history):\n",
    "    fig = make_subplots(rows=1, cols=2, subplot_titles=['Model Accuracy', 'Model Loss'])\n",
    "    fig.add_trace(\n",
    "        go.Scatter(\n",
    "            y=history.history['accuracy'], \n",
    "            name='train_acc'), \n",
    "        row=1, col=1)\n",
    "    fig.add_trace(\n",
    "        go.Scatter(\n",
    "            y=history.history['val_accuracy'], \n",
    "            name='val_acc'), \n",
    "        row=1, col=1)\n",
    "    fig.add_trace(\n",
    "        go.Scatter(\n",
    "            y=history.history['loss'], \n",
    "            name='train_loss'), \n",
    "        row=1, col=2)\n",
    "    fig.add_trace(\n",
    "        go.Scatter(\n",
    "            y=history.history['val_loss'], \n",
    "            name='val_loss'), \n",
    "        row=1, col=2)\n",
    "    fig.show()"
   ]
  },
  {
   "cell_type": "markdown",
   "id": "47971fdf",
   "metadata": {
    "papermill": {
     "duration": 0.004244,
     "end_time": "2022-05-30T00:02:52.127401",
     "exception": false,
     "start_time": "2022-05-30T00:02:52.123157",
     "status": "completed"
    },
    "tags": []
   },
   "source": [
    "**Multi class confision matrix**"
   ]
  },
  {
   "cell_type": "code",
   "execution_count": 9,
   "id": "7102d9db",
   "metadata": {
    "execution": {
     "iopub.execute_input": "2022-05-30T00:02:52.137156Z",
     "iopub.status.busy": "2022-05-30T00:02:52.136886Z",
     "iopub.status.idle": "2022-05-30T00:02:52.142167Z",
     "shell.execute_reply": "2022-05-30T00:02:52.141450Z"
    },
    "papermill": {
     "duration": 0.012058,
     "end_time": "2022-05-30T00:02:52.143865",
     "exception": false,
     "start_time": "2022-05-30T00:02:52.131807",
     "status": "completed"
    },
    "tags": []
   },
   "outputs": [],
   "source": [
    "# Define function for create multi class confision matrix\n",
    "def create_confusion_matrix(model, x_test_normalized, y_test, cm_plot_labels, name):\n",
    "    #Get the true and predicted labels\n",
    "    y_predict_classes, y_true_classes = cal_true_pred_classes(model, x_test_normalized, y_test)\n",
    "\n",
    "    #Compute the confusion matrix\n",
    "    confusion_matrix_computed = confusion_matrix(y_true_classes, y_predict_classes)\n",
    "\n",
    "    #Plot the confusion matrix\n",
    "    plot_confusion_matrix(confusion_matrix_computed, cm_plot_labels, name) "
   ]
  },
  {
   "cell_type": "code",
   "execution_count": 10,
   "id": "7a2a4a8c",
   "metadata": {
    "execution": {
     "iopub.execute_input": "2022-05-30T00:02:52.154079Z",
     "iopub.status.busy": "2022-05-30T00:02:52.153831Z",
     "iopub.status.idle": "2022-05-30T00:02:52.162302Z",
     "shell.execute_reply": "2022-05-30T00:02:52.161517Z"
    },
    "papermill": {
     "duration": 0.015535,
     "end_time": "2022-05-30T00:02:52.164132",
     "exception": false,
     "start_time": "2022-05-30T00:02:52.148597",
     "status": "completed"
    },
    "tags": []
   },
   "outputs": [],
   "source": [
    "# Define function for confusion matrix plot\n",
    "def plot_confusion_matrix(cm, classes,\n",
    "                          name,\n",
    "                          normalize=False,\n",
    "                          title='Confusion matrix',\n",
    "                          cmap=plt.cm.Blues):\n",
    "    \n",
    "    plt.figure(figsize=(8,6))\n",
    "    plt.imshow(cm, interpolation='nearest', cmap=cmap)\n",
    "    plt.title(name)\n",
    "    plt.colorbar()\n",
    "    tick_marks = np.arange(len(classes))\n",
    "    plt.xticks(tick_marks, classes, rotation=45)\n",
    "    plt.yticks(tick_marks, classes)\n",
    "\n",
    "    if normalize:\n",
    "        cm = cm.astype('float') / cm.sum(axis=1)[:, np.newaxis]\n",
    "\n",
    "    thresh = cm.max() / 2.\n",
    "    for i, j in itertools.product(range(cm.shape[0]), range(cm.shape[1])):\n",
    "        plt.text(j, i, cm[i, j],\n",
    "                 horizontalalignment=\"center\",\n",
    "                 color=\"white\" if cm[i, j] > thresh else \"black\")\n",
    "    \n",
    "#     b, t = plt.ylim()\n",
    "#     b += 0.5\n",
    "#     t -= 0.5\n",
    "#     plt.ylim(b, t)\n",
    "    \n",
    "    plt.tight_layout()\n",
    "    plt.ylabel('True Labels')\n",
    "    plt.xlabel('Predicted Labels')\n",
    "    fig = plt\n",
    "    fig.savefig('E:\\SIB BANGKIT 2022\\CAPSTONE\\Model Aset\\\\' + name + '_confusion_matrix.png', dpi=300)"
   ]
  }
 ],
 "metadata": {
  "kernelspec": {
   "display_name": "Python 3",
   "language": "python",
   "name": "python3"
  },
  "language_info": {
   "codemirror_mode": {
    "name": "ipython",
    "version": 3
   },
   "file_extension": ".py",
   "mimetype": "text/x-python",
   "name": "python",
   "nbconvert_exporter": "python",
   "pygments_lexer": "ipython3",
   "version": "3.7.12"
  },
  "papermill": {
   "default_parameters": {},
   "duration": 31.363708,
   "end_time": "2022-05-30T00:02:55.561150",
   "environment_variables": {},
   "exception": null,
   "input_path": "__notebook__.ipynb",
   "output_path": "__notebook__.ipynb",
   "parameters": {},
   "start_time": "2022-05-30T00:02:24.197442",
   "version": "2.3.4"
  }
 },
 "nbformat": 4,
 "nbformat_minor": 5
}
