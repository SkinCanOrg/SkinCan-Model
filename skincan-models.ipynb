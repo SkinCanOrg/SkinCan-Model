{
 "cells": [
  {
   "cell_type": "markdown",
   "id": "118ffa20",
   "metadata": {
    "papermill": {
     "duration": 0.004481,
     "end_time": "2022-05-29T23:36:16.462577",
     "exception": false,
     "start_time": "2022-05-29T23:36:16.458096",
     "status": "completed"
    },
    "tags": []
   },
   "source": [
    "# Product-Based Capstone Project\n",
    "\n",
    "Team ID : C22-PS096\n",
    "\n",
    "Team Member :\n",
    "* (ML) M7134F1606 - Muhammad Fadli Ramadhan - Politeknik Negeri Sriwijaya\n",
    "* (ML) M2008F0851 - Adhitya Ghiffari Pramudito - Universitas Gadjah Mada\n",
    "* (MD) A2191F1821 - Ahmad Ansori Palembani - Universitas Bina Darma\n",
    "* (MD) A7191F1820 - Muhammad Fharid Akbar - Universitas Bina Darma\n",
    "* (CC) C2322F2819 - Muhammad Mustafa Kamal  - Universitas Syiah Kuala\n",
    "* (CC) C7457F3068 - Wulan Ayu Rania Sari  -Universitas Nahdlatul Ulama Lampung\n",
    "\n",
    "Final Selected Themes :\n",
    "Human Healthcare & Animal Welfare\n",
    "\n",
    "Title of the Project :\n",
    "SkinCan : Skin Cancer Detection App\n",
    "\n"
   ]
  },
  {
   "cell_type": "markdown",
   "id": "8f022373",
   "metadata": {
    "papermill": {
     "duration": 0.002367,
     "end_time": "2022-05-29T23:36:16.468351",
     "exception": false,
     "start_time": "2022-05-29T23:36:16.465984",
     "status": "completed"
    },
    "tags": []
   },
   "source": [
    "**Executive Summary :**\n",
    "\n",
    "At this time there are so many dangers that can lurk human health, even in this era of pandemic, maintaining health is very important for everyone. People should have awareness to maintain health, especially the health of the skin. Therefore, by utilizing machine learning, cloud computing to create a skin cancer detection application by identifying the input image to remind the public the importance of maintaining healthy skin. In this project, We have a problem formulation as follows:\n",
    "* How to detect various skin cancers in humans through the application?\n",
    "* How to treat skin cancer early?\n",
    "* How accurately does this application detect skin cancer? \n",
    "\n",
    "Our team wants to solve this problem because we want someone who has the potential for cancer to avoid a more serious problem, so that users who use this application can take preventive measures to prevent this problem.\n",
    "\n",
    "**How did your team come up with this project?**\n",
    "\n",
    "We want to build an application that can help the public and health workers to detect skin diseases in humans, including skin cancer. This application uses Deep Learning algorithms to predict various skin diseases to achieve maximum accuracy in predicting skin diseases at an early stage. Feature extraction plays a key role in the classification of skin diseases. In addition, Explainable AI is used to interpret decisions made by our machine learning models. With this application, hopefully, it can help users to detect skin diseases early so they can take preventive measures.\n",
    "\n",
    "**Based on your knowledge and explorations, tell us the Machine Learning Part of your capstone?**\n",
    "\n",
    "In this project, we’re using Python as main programming language, Tensorflow as mandatory library, Sckit-learn and keras as libraries, AI Platform as platform, TFLite as Tools for Model Deployment to Android, Kaggle as dataset resource, Google Colab as IDE, and Machine Learning Model as main the feature in our app.\n"
   ]
  },
  {
   "cell_type": "markdown",
   "id": "6ed083b2",
   "metadata": {
    "papermill": {
     "duration": 0.001732,
     "end_time": "2022-05-29T23:36:16.474309",
     "exception": false,
     "start_time": "2022-05-29T23:36:16.472577",
     "status": "completed"
    },
    "tags": []
   },
   "source": [
    "# **Modeling Machine Learning Model for SkinCan App**"
   ]
  },
  {
   "cell_type": "markdown",
   "id": "e7f3b7ad",
   "metadata": {
    "papermill": {
     "duration": 0.001779,
     "end_time": "2022-05-29T23:36:16.478045",
     "exception": false,
     "start_time": "2022-05-29T23:36:16.476266",
     "status": "completed"
    },
    "tags": []
   },
   "source": [
    "# Data Collecting"
   ]
  },
  {
   "cell_type": "code",
   "execution_count": 1,
   "id": "17843550",
   "metadata": {
    "execution": {
     "iopub.execute_input": "2022-05-29T23:36:16.484001Z",
     "iopub.status.busy": "2022-05-29T23:36:16.483458Z",
     "iopub.status.idle": "2022-05-29T23:36:16.495202Z",
     "shell.execute_reply": "2022-05-29T23:36:16.494490Z"
    },
    "papermill": {
     "duration": 0.016749,
     "end_time": "2022-05-29T23:36:16.496966",
     "exception": false,
     "start_time": "2022-05-29T23:36:16.480217",
     "status": "completed"
    },
    "tags": []
   },
   "outputs": [],
   "source": [
    "import warnings # tf needs to learn to stfu\n",
    "warnings.simplefilter(action=\"ignore\", category=FutureWarning)\n",
    "warnings.simplefilter(action=\"ignore\", category=UserWarning)\n",
    "warnings.simplefilter(action=\"ignore\", category=RuntimeWarning)\n",
    "warnings.simplefilter(action='ignore', category=DeprecationWarning)"
   ]
  },
  {
   "cell_type": "code",
   "execution_count": 2,
   "id": "36a4ca41",
   "metadata": {
    "execution": {
     "iopub.execute_input": "2022-05-29T23:36:16.502370Z",
     "iopub.status.busy": "2022-05-29T23:36:16.502097Z",
     "iopub.status.idle": "2022-05-29T23:36:27.094091Z",
     "shell.execute_reply": "2022-05-29T23:36:27.092923Z"
    },
    "papermill": {
     "duration": 10.597347,
     "end_time": "2022-05-29T23:36:27.096423",
     "exception": false,
     "start_time": "2022-05-29T23:36:16.499076",
     "status": "completed"
    },
    "tags": []
   },
   "outputs": [
    {
     "name": "stdout",
     "output_type": "stream",
     "text": [
      "Requirement already satisfied: plotly in /opt/conda/lib/python3.7/site-packages (5.8.0)\r\n",
      "Requirement already satisfied: tenacity>=6.2.0 in /opt/conda/lib/python3.7/site-packages (from plotly) (8.0.1)\r\n",
      "\u001b[33mWARNING: Running pip as the 'root' user can result in broken permissions and conflicting behaviour with the system package manager. It is recommended to use a virtual environment instead: https://pip.pypa.io/warnings/venv\u001b[0m\u001b[33m\r\n",
      "\u001b[0m"
     ]
    }
   ],
   "source": [
    "# download plotly package\n",
    "!pip install plotly"
   ]
  },
  {
   "cell_type": "code",
   "execution_count": 3,
   "id": "7fd8c091",
   "metadata": {
    "execution": {
     "iopub.execute_input": "2022-05-29T23:36:27.103082Z",
     "iopub.status.busy": "2022-05-29T23:36:27.102729Z",
     "iopub.status.idle": "2022-05-29T23:36:36.140080Z",
     "shell.execute_reply": "2022-05-29T23:36:36.139223Z"
    },
    "papermill": {
     "duration": 9.043661,
     "end_time": "2022-05-29T23:36:36.142706",
     "exception": false,
     "start_time": "2022-05-29T23:36:27.099045",
     "status": "completed"
    },
    "tags": []
   },
   "outputs": [],
   "source": [
    "# import libraries\n",
    "import tensorflow as tf\n",
    "import numpy as np\n",
    "import pandas as pd\n",
    "import io\n",
    "import os\n",
    "\n",
    "from PIL import Image\n",
    "from glob import glob\n",
    "import itertools\n",
    "\n",
    "import plotly.graph_objects as go\n",
    "import plotly.express as px\n",
    "from plotly.subplots import make_subplots\n",
    "import matplotlib.pyplot as plt\n",
    "import seaborn as sns\n",
    "\n",
    "\n",
    "from tensorflow.keras.preprocessing.image import ImageDataGenerator\n",
    "from tensorflow.keras.models import Sequential\n",
    "from tensorflow.keras.layers import Conv2D, Flatten, BatchNormalization, Dropout, Dense, MaxPool2D\n",
    "from tensorflow.keras.callbacks import ReduceLROnPlateau, EarlyStopping\n",
    "\n",
    "from sklearn.model_selection import train_test_split\n",
    "from sklearn.metrics import classification_report, confusion_matrix\n",
    "\n",
    "from IPython.display import display\n",
    "#To see the value of multiple statements at once.\n",
    "from IPython.core.interactiveshell import InteractiveShell\n",
    "InteractiveShell.ast_node_interactivity = \"all\"\n",
    "\n"
   ]
  }
 ],
 "metadata": {
  "kernelspec": {
   "display_name": "Python 3",
   "language": "python",
   "name": "python3"
  },
  "language_info": {
   "codemirror_mode": {
    "name": "ipython",
    "version": 3
   },
   "file_extension": ".py",
   "mimetype": "text/x-python",
   "name": "python",
   "nbconvert_exporter": "python",
   "pygments_lexer": "ipython3",
   "version": "3.7.12"
  },
  "papermill": {
   "default_parameters": {},
   "duration": 31.388524,
   "end_time": "2022-05-29T23:36:39.701126",
   "environment_variables": {},
   "exception": null,
   "input_path": "__notebook__.ipynb",
   "output_path": "__notebook__.ipynb",
   "parameters": {},
   "start_time": "2022-05-29T23:36:08.312602",
   "version": "2.3.4"
  }
 },
 "nbformat": 4,
 "nbformat_minor": 5
}
