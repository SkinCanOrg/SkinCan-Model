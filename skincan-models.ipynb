{
 "cells": [
  {
   "cell_type": "markdown",
   "id": "03ce8f03",
   "metadata": {
    "papermill": {
     "duration": 0.006017,
     "end_time": "2022-05-30T00:12:04.524506",
     "exception": false,
     "start_time": "2022-05-30T00:12:04.518489",
     "status": "completed"
    },
    "tags": []
   },
   "source": [
    "# Product-Based Capstone Project\n",
    "\n",
    "Team ID : C22-PS096\n",
    "\n",
    "Team Member :\n",
    "* (ML) M7134F1606 - Muhammad Fadli Ramadhan - Politeknik Negeri Sriwijaya\n",
    "* (ML) M2008F0851 - Adhitya Ghiffari Pramudito - Universitas Gadjah Mada\n",
    "* (MD) A2191F1821 - Ahmad Ansori Palembani - Universitas Bina Darma\n",
    "* (MD) A7191F1820 - Muhammad Fharid Akbar - Universitas Bina Darma\n",
    "* (CC) C2322F2819 - Muhammad Mustafa Kamal  - Universitas Syiah Kuala\n",
    "* (CC) C7457F3068 - Wulan Ayu Rania Sari  -Universitas Nahdlatul Ulama Lampung\n",
    "\n",
    "Final Selected Themes :\n",
    "Human Healthcare & Animal Welfare\n",
    "\n",
    "Title of the Project :\n",
    "SkinCan : Skin Cancer Detection App\n",
    "\n"
   ]
  },
  {
   "cell_type": "markdown",
   "id": "e88e6e91",
   "metadata": {
    "papermill": {
     "duration": 0.004496,
     "end_time": "2022-05-30T00:12:04.533949",
     "exception": false,
     "start_time": "2022-05-30T00:12:04.529453",
     "status": "completed"
    },
    "tags": []
   },
   "source": [
    "**Executive Summary :**\n",
    "\n",
    "At this time there are so many dangers that can lurk human health, even in this era of pandemic, maintaining health is very important for everyone. People should have awareness to maintain health, especially the health of the skin. Therefore, by utilizing machine learning, cloud computing to create a skin cancer detection application by identifying the input image to remind the public the importance of maintaining healthy skin. In this project, We have a problem formulation as follows:\n",
    "* How to detect various skin cancers in humans through the application?\n",
    "* How to treat skin cancer early?\n",
    "* How accurately does this application detect skin cancer? \n",
    "\n",
    "Our team wants to solve this problem because we want someone who has the potential for cancer to avoid a more serious problem, so that users who use this application can take preventive measures to prevent this problem.\n",
    "\n",
    "**How did your team come up with this project?**\n",
    "\n",
    "We want to build an application that can help the public and health workers to detect skin diseases in humans, including skin cancer. This application uses Deep Learning algorithms to predict various skin diseases to achieve maximum accuracy in predicting skin diseases at an early stage. Feature extraction plays a key role in the classification of skin diseases. In addition, Explainable AI is used to interpret decisions made by our machine learning models. With this application, hopefully, it can help users to detect skin diseases early so they can take preventive measures.\n",
    "\n",
    "**Based on your knowledge and explorations, tell us the Machine Learning Part of your capstone?**\n",
    "\n",
    "In this project, we’re using Python as main programming language, Tensorflow as mandatory library, Sckit-learn and keras as libraries, AI Platform as platform, TFLite as Tools for Model Deployment to Android, Kaggle as dataset resource, Google Colab as IDE, and Machine Learning Model as main the feature in our app.\n"
   ]
  },
  {
   "cell_type": "markdown",
   "id": "aaf6cdc3",
   "metadata": {
    "papermill": {
     "duration": 0.004446,
     "end_time": "2022-05-30T00:12:04.543080",
     "exception": false,
     "start_time": "2022-05-30T00:12:04.538634",
     "status": "completed"
    },
    "tags": []
   },
   "source": [
    "# **Modeling Machine Learning Model for SkinCan App**"
   ]
  },
  {
   "cell_type": "markdown",
   "id": "a29ac5f9",
   "metadata": {
    "papermill": {
     "duration": 0.004483,
     "end_time": "2022-05-30T00:12:04.552198",
     "exception": false,
     "start_time": "2022-05-30T00:12:04.547715",
     "status": "completed"
    },
    "tags": []
   },
   "source": [
    "# Data Collecting"
   ]
  },
  {
   "cell_type": "code",
   "execution_count": 1,
   "id": "d21f4dee",
   "metadata": {
    "execution": {
     "iopub.execute_input": "2022-05-30T00:12:04.563521Z",
     "iopub.status.busy": "2022-05-30T00:12:04.563000Z",
     "iopub.status.idle": "2022-05-30T00:12:04.573941Z",
     "shell.execute_reply": "2022-05-30T00:12:04.573243Z"
    },
    "papermill": {
     "duration": 0.018815,
     "end_time": "2022-05-30T00:12:04.575661",
     "exception": false,
     "start_time": "2022-05-30T00:12:04.556846",
     "status": "completed"
    },
    "tags": []
   },
   "outputs": [],
   "source": [
    "import warnings # tf needs to learn to stfu\n",
    "warnings.simplefilter(action=\"ignore\", category=FutureWarning)\n",
    "warnings.simplefilter(action=\"ignore\", category=UserWarning)\n",
    "warnings.simplefilter(action=\"ignore\", category=RuntimeWarning)\n",
    "warnings.simplefilter(action='ignore', category=DeprecationWarning)"
   ]
  },
  {
   "cell_type": "code",
   "execution_count": 2,
   "id": "beca9515",
   "metadata": {
    "execution": {
     "iopub.execute_input": "2022-05-30T00:12:04.586192Z",
     "iopub.status.busy": "2022-05-30T00:12:04.585943Z",
     "iopub.status.idle": "2022-05-30T00:12:14.931293Z",
     "shell.execute_reply": "2022-05-30T00:12:14.930315Z"
    },
    "papermill": {
     "duration": 10.352966,
     "end_time": "2022-05-30T00:12:14.933494",
     "exception": false,
     "start_time": "2022-05-30T00:12:04.580528",
     "status": "completed"
    },
    "tags": []
   },
   "outputs": [
    {
     "name": "stdout",
     "output_type": "stream",
     "text": [
      "Requirement already satisfied: plotly in /opt/conda/lib/python3.7/site-packages (5.8.0)\r\n",
      "Requirement already satisfied: tenacity>=6.2.0 in /opt/conda/lib/python3.7/site-packages (from plotly) (8.0.1)\r\n",
      "\u001b[33mWARNING: Running pip as the 'root' user can result in broken permissions and conflicting behaviour with the system package manager. It is recommended to use a virtual environment instead: https://pip.pypa.io/warnings/venv\u001b[0m\u001b[33m\r\n",
      "\u001b[0m"
     ]
    }
   ],
   "source": [
    "# download plotly package\n",
    "!pip install plotly"
   ]
  },
  {
   "cell_type": "code",
   "execution_count": 3,
   "id": "d4df2fa8",
   "metadata": {
    "execution": {
     "iopub.execute_input": "2022-05-30T00:12:14.945998Z",
     "iopub.status.busy": "2022-05-30T00:12:14.945292Z",
     "iopub.status.idle": "2022-05-30T00:12:23.213955Z",
     "shell.execute_reply": "2022-05-30T00:12:23.213162Z"
    },
    "papermill": {
     "duration": 8.276864,
     "end_time": "2022-05-30T00:12:23.215979",
     "exception": false,
     "start_time": "2022-05-30T00:12:14.939115",
     "status": "completed"
    },
    "tags": []
   },
   "outputs": [],
   "source": [
    "# import libraries\n",
    "import tensorflow as tf\n",
    "import numpy as np\n",
    "import pandas as pd\n",
    "import io\n",
    "import os\n",
    "\n",
    "from PIL import Image\n",
    "from glob import glob\n",
    "import itertools\n",
    "\n",
    "import plotly.graph_objects as go\n",
    "import plotly.express as px\n",
    "from plotly.subplots import make_subplots\n",
    "import matplotlib.pyplot as plt\n",
    "import seaborn as sns\n",
    "\n",
    "\n",
    "from tensorflow.keras.preprocessing.image import ImageDataGenerator\n",
    "from tensorflow.keras.models import Sequential\n",
    "from tensorflow.keras.layers import Conv2D, Flatten, BatchNormalization, Dropout, Dense, MaxPool2D\n",
    "from tensorflow.keras.callbacks import ReduceLROnPlateau, EarlyStopping\n",
    "\n",
    "from sklearn.model_selection import train_test_split\n",
    "from sklearn.metrics import classification_report, confusion_matrix\n",
    "\n",
    "from IPython.display import display\n",
    "#To see the value of multiple statements at once.\n",
    "from IPython.core.interactiveshell import InteractiveShell\n",
    "InteractiveShell.ast_node_interactivity = \"all\"\n",
    "\n"
   ]
  },
  {
   "cell_type": "markdown",
   "id": "de20db07",
   "metadata": {
    "papermill": {
     "duration": 0.004984,
     "end_time": "2022-05-30T00:12:23.226317",
     "exception": false,
     "start_time": "2022-05-30T00:12:23.221333",
     "status": "completed"
    },
    "tags": []
   },
   "source": [
    "## **Create Function**"
   ]
  },
  {
   "cell_type": "markdown",
   "id": "3a1b8198",
   "metadata": {
    "papermill": {
     "duration": 0.004778,
     "end_time": "2022-05-30T00:12:23.236091",
     "exception": false,
     "start_time": "2022-05-30T00:12:23.231313",
     "status": "completed"
    },
    "tags": []
   },
   "source": [
    "**Train test splits**"
   ]
  },
  {
   "cell_type": "code",
   "execution_count": 4,
   "id": "a28c0056",
   "metadata": {
    "execution": {
     "iopub.execute_input": "2022-05-30T00:12:23.247604Z",
     "iopub.status.busy": "2022-05-30T00:12:23.246976Z",
     "iopub.status.idle": "2022-05-30T00:12:23.252794Z",
     "shell.execute_reply": "2022-05-30T00:12:23.252076Z"
    },
    "papermill": {
     "duration": 0.01337,
     "end_time": "2022-05-30T00:12:23.254422",
     "exception": false,
     "start_time": "2022-05-30T00:12:23.241052",
     "status": "completed"
    },
    "tags": []
   },
   "outputs": [],
   "source": [
    "# define function for train test splits\n",
    "def train_test_splits(X, Y):\n",
    "    # Splitting into train and test set\n",
    "    X_train, X_test, Y_train, Y_test = train_test_split(X, Y, test_size=0.2, random_state=1)\n",
    "    \n",
    "    # Prepare data for training and testing the model\n",
    "    train_datagen = ImageDataGenerator(rescale = 1./255,\n",
    "                                  rotation_range = 10,\n",
    "                                  width_shift_range = 0.2,\n",
    "                                  height_shift_range = 0.2,\n",
    "                                  shear_range = 0.2,\n",
    "                                  horizontal_flip = True,\n",
    "                                  vertical_flip = True,\n",
    "                                  fill_mode = 'nearest')\n",
    "    train_datagen.fit(X_train)\n",
    "    test_datagen = ImageDataGenerator(rescale = 1./255)\n",
    "    test_datagen.fit(X_test)\n",
    "    return X_train, X_test, Y_train, Y_test"
   ]
  },
  {
   "cell_type": "markdown",
   "id": "25355052",
   "metadata": {
    "papermill": {
     "duration": 0.00486,
     "end_time": "2022-05-30T00:12:23.264341",
     "exception": false,
     "start_time": "2022-05-30T00:12:23.259481",
     "status": "completed"
    },
    "tags": []
   },
   "source": [
    "**Modeling Model**"
   ]
  },
  {
   "cell_type": "code",
   "execution_count": 5,
   "id": "d478f4c5",
   "metadata": {
    "execution": {
     "iopub.execute_input": "2022-05-30T00:12:23.275375Z",
     "iopub.status.busy": "2022-05-30T00:12:23.275135Z",
     "iopub.status.idle": "2022-05-30T00:12:23.284238Z",
     "shell.execute_reply": "2022-05-30T00:12:23.283439Z"
    },
    "papermill": {
     "duration": 0.016397,
     "end_time": "2022-05-30T00:12:23.285792",
     "exception": false,
     "start_time": "2022-05-30T00:12:23.269395",
     "status": "completed"
    },
    "tags": []
   },
   "outputs": [],
   "source": [
    "# define function for create model\n",
    "def model():\n",
    "    model = Sequential()\n",
    "    model.add(Conv2D(16, kernel_size = (3,3), input_shape = (28, 28, 3), activation = 'relu', padding = 'same'))\n",
    "    model.add(MaxPool2D(pool_size = (2,2)))\n",
    "\n",
    "    model.add(Conv2D(32, kernel_size = (3,3), activation = 'relu', padding = 'same'))\n",
    "    model.add(MaxPool2D(pool_size = (2,2), padding = 'same'))\n",
    "\n",
    "    model.add(Conv2D(64, kernel_size = (3,3), activation = 'relu', padding = 'same'))\n",
    "    model.add(MaxPool2D(pool_size = (2,2), padding = 'same'))\n",
    "    model.add(Conv2D(128, kernel_size = (3,3), activation = 'relu', padding = 'same'))\n",
    "    model.add(MaxPool2D(pool_size = (2,2), padding = 'same'))\n",
    "\n",
    "    model.add(Flatten())\n",
    "    model.add(Dense(64, activation = 'relu'))\n",
    "    model.add(Dense(32, activation='relu'))\n",
    "    model.add(Dense(7, activation='softmax'))\n",
    "\n",
    "    optimizer = tf.keras.optimizers.Adam(learning_rate = 0.001)\n",
    "\n",
    "    model.compile(loss = 'sparse_categorical_crossentropy',\n",
    "                 optimizer = optimizer,\n",
    "                  metrics = ['accuracy'])\n",
    "    print(model.summary())\n",
    "    return model;"
   ]
  },
  {
   "cell_type": "markdown",
   "id": "8125a3ec",
   "metadata": {
    "papermill": {
     "duration": 0.004842,
     "end_time": "2022-05-30T00:12:23.295712",
     "exception": false,
     "start_time": "2022-05-30T00:12:23.290870",
     "status": "completed"
    },
    "tags": []
   },
   "source": [
    "**Training model**"
   ]
  },
  {
   "cell_type": "code",
   "execution_count": 6,
   "id": "25f1a9ea",
   "metadata": {
    "execution": {
     "iopub.execute_input": "2022-05-30T00:12:23.306725Z",
     "iopub.status.busy": "2022-05-30T00:12:23.306467Z",
     "iopub.status.idle": "2022-05-30T00:12:23.311774Z",
     "shell.execute_reply": "2022-05-30T00:12:23.311036Z"
    },
    "papermill": {
     "duration": 0.012622,
     "end_time": "2022-05-30T00:12:23.313331",
     "exception": false,
     "start_time": "2022-05-30T00:12:23.300709",
     "status": "completed"
    },
    "tags": []
   },
   "outputs": [],
   "source": [
    "# Define function for training model\n",
    "def train_model(model, X_train, Y_train, EPOCHS=25):\n",
    "    early_stop = EarlyStopping(monitor='val_loss', patience=10, verbose=1, \n",
    "                           mode='auto')\n",
    "                               \n",
    "    \n",
    "    reduce_lr = ReduceLROnPlateau(monitor='val_loss', factor=0.1, patience=3, \n",
    "                              verbose=1, mode='auto')\n",
    "    \n",
    "    history = model.fit(X_train,\n",
    "                        Y_train,\n",
    "                        validation_split=0.2,\n",
    "                        batch_size = 64,\n",
    "                        epochs = EPOCHS,\n",
    "                        callbacks = [reduce_lr, early_stop])\n",
    "    return history"
   ]
  },
  {
   "cell_type": "markdown",
   "id": "60fddd5b",
   "metadata": {
    "papermill": {
     "duration": 0.004859,
     "end_time": "2022-05-30T00:12:23.323253",
     "exception": false,
     "start_time": "2022-05-30T00:12:23.318394",
     "status": "completed"
    },
    "tags": []
   },
   "source": [
    "**Test model**"
   ]
  },
  {
   "cell_type": "code",
   "execution_count": 7,
   "id": "6c7cf370",
   "metadata": {
    "execution": {
     "iopub.execute_input": "2022-05-30T00:12:23.334202Z",
     "iopub.status.busy": "2022-05-30T00:12:23.333964Z",
     "iopub.status.idle": "2022-05-30T00:12:23.340749Z",
     "shell.execute_reply": "2022-05-30T00:12:23.340072Z"
    },
    "papermill": {
     "duration": 0.014079,
     "end_time": "2022-05-30T00:12:23.342362",
     "exception": false,
     "start_time": "2022-05-30T00:12:23.328283",
     "status": "completed"
    },
    "tags": []
   },
   "outputs": [],
   "source": [
    "# Define function for model testing\n",
    "def test_model(model, X_test, Y_test):\n",
    "    model_acc = model.evaluate(X_test, Y_test, verbose=0)[1]\n",
    "    print(\"Test Accuracy: {:.3f}%\".format(model_acc * 100))\n",
    "    y_true = np.array(Y_test)\n",
    "    y_pred = model.predict(X_test)\n",
    "    y_pred = np.array(list(map(lambda x: np.argmax(x), y_pred)))\n",
    "    clr = classification_report(y_true, y_pred, target_names=label_mapping.values())\n",
    "    print(clr)\n",
    "    \n",
    "    sample_data = X_test[:15]\n",
    "    plt.figure(figsize=(22, 12))\n",
    "    for i in range(15):\n",
    "        plt.subplot(3, 5, i + 1)\n",
    "        plt.imshow(sample_data[i])\n",
    "        plt.title(label_mapping[y_true[i][0]] + '|' + label_mapping[y_pred[i]])\n",
    "        plt.axis(\"off\")\n",
    "    plt.show() "
   ]
  },
  {
   "cell_type": "markdown",
   "id": "b3702060",
   "metadata": {
    "papermill": {
     "duration": 0.004907,
     "end_time": "2022-05-30T00:12:23.352423",
     "exception": false,
     "start_time": "2022-05-30T00:12:23.347516",
     "status": "completed"
    },
    "tags": []
   },
   "source": [
    "**Training curves plot**"
   ]
  },
  {
   "cell_type": "code",
   "execution_count": 8,
   "id": "b7044a1f",
   "metadata": {
    "execution": {
     "iopub.execute_input": "2022-05-30T00:12:23.363597Z",
     "iopub.status.busy": "2022-05-30T00:12:23.363362Z",
     "iopub.status.idle": "2022-05-30T00:12:23.370169Z",
     "shell.execute_reply": "2022-05-30T00:12:23.369516Z"
    },
    "papermill": {
     "duration": 0.014069,
     "end_time": "2022-05-30T00:12:23.371638",
     "exception": false,
     "start_time": "2022-05-30T00:12:23.357569",
     "status": "completed"
    },
    "tags": []
   },
   "outputs": [],
   "source": [
    "# Define function for training curves plot\n",
    "def plot_model_training_curve(history):\n",
    "    fig = make_subplots(rows=1, cols=2, subplot_titles=['Model Accuracy', 'Model Loss'])\n",
    "    fig.add_trace(\n",
    "        go.Scatter(\n",
    "            y=history.history['accuracy'], \n",
    "            name='train_acc'), \n",
    "        row=1, col=1)\n",
    "    fig.add_trace(\n",
    "        go.Scatter(\n",
    "            y=history.history['val_accuracy'], \n",
    "            name='val_acc'), \n",
    "        row=1, col=1)\n",
    "    fig.add_trace(\n",
    "        go.Scatter(\n",
    "            y=history.history['loss'], \n",
    "            name='train_loss'), \n",
    "        row=1, col=2)\n",
    "    fig.add_trace(\n",
    "        go.Scatter(\n",
    "            y=history.history['val_loss'], \n",
    "            name='val_loss'), \n",
    "        row=1, col=2)\n",
    "    fig.show()"
   ]
  },
  {
   "cell_type": "markdown",
   "id": "964fba40",
   "metadata": {
    "papermill": {
     "duration": 0.005065,
     "end_time": "2022-05-30T00:12:23.381915",
     "exception": false,
     "start_time": "2022-05-30T00:12:23.376850",
     "status": "completed"
    },
    "tags": []
   },
   "source": [
    "**Multi class confision matrix**"
   ]
  },
  {
   "cell_type": "code",
   "execution_count": 9,
   "id": "a1203b9e",
   "metadata": {
    "execution": {
     "iopub.execute_input": "2022-05-30T00:12:23.392994Z",
     "iopub.status.busy": "2022-05-30T00:12:23.392756Z",
     "iopub.status.idle": "2022-05-30T00:12:23.396846Z",
     "shell.execute_reply": "2022-05-30T00:12:23.396148Z"
    },
    "papermill": {
     "duration": 0.011463,
     "end_time": "2022-05-30T00:12:23.398480",
     "exception": false,
     "start_time": "2022-05-30T00:12:23.387017",
     "status": "completed"
    },
    "tags": []
   },
   "outputs": [],
   "source": [
    "# Define function for create multi class confision matrix\n",
    "def create_confusion_matrix(model, x_test_normalized, y_test, cm_plot_labels, name):\n",
    "    #Get the true and predicted labels\n",
    "    y_predict_classes, y_true_classes = cal_true_pred_classes(model, x_test_normalized, y_test)\n",
    "\n",
    "    #Compute the confusion matrix\n",
    "    confusion_matrix_computed = confusion_matrix(y_true_classes, y_predict_classes)\n",
    "\n",
    "    #Plot the confusion matrix\n",
    "    plot_confusion_matrix(confusion_matrix_computed, cm_plot_labels, name) "
   ]
  },
  {
   "cell_type": "code",
   "execution_count": 10,
   "id": "85dee9c2",
   "metadata": {
    "execution": {
     "iopub.execute_input": "2022-05-30T00:12:23.410072Z",
     "iopub.status.busy": "2022-05-30T00:12:23.409552Z",
     "iopub.status.idle": "2022-05-30T00:12:23.419092Z",
     "shell.execute_reply": "2022-05-30T00:12:23.418439Z"
    },
    "papermill": {
     "duration": 0.017123,
     "end_time": "2022-05-30T00:12:23.420755",
     "exception": false,
     "start_time": "2022-05-30T00:12:23.403632",
     "status": "completed"
    },
    "tags": []
   },
   "outputs": [],
   "source": [
    "# Define function for confusion matrix plot\n",
    "def plot_confusion_matrix(cm, classes,\n",
    "                          name,\n",
    "                          normalize=False,\n",
    "                          title='Confusion matrix',\n",
    "                          cmap=plt.cm.Blues):\n",
    "    \n",
    "    plt.figure(figsize=(8,6))\n",
    "    plt.imshow(cm, interpolation='nearest', cmap=cmap)\n",
    "    plt.title(name)\n",
    "    plt.colorbar()\n",
    "    tick_marks = np.arange(len(classes))\n",
    "    plt.xticks(tick_marks, classes, rotation=45)\n",
    "    plt.yticks(tick_marks, classes)\n",
    "\n",
    "    if normalize:\n",
    "        cm = cm.astype('float') / cm.sum(axis=1)[:, np.newaxis]\n",
    "\n",
    "    thresh = cm.max() / 2.\n",
    "    for i, j in itertools.product(range(cm.shape[0]), range(cm.shape[1])):\n",
    "        plt.text(j, i, cm[i, j],\n",
    "                 horizontalalignment=\"center\",\n",
    "                 color=\"white\" if cm[i, j] > thresh else \"black\")\n",
    "    \n",
    "#     b, t = plt.ylim()\n",
    "#     b += 0.5\n",
    "#     t -= 0.5\n",
    "#     plt.ylim(b, t)\n",
    "    \n",
    "    plt.tight_layout()\n",
    "    plt.ylabel('True Labels')\n",
    "    plt.xlabel('Predicted Labels')\n",
    "    fig = plt\n",
    "    fig.savefig('E:\\SIB BANGKIT 2022\\CAPSTONE\\Model Aset\\\\' + name + '_confusion_matrix.png', dpi=300)"
   ]
  },
  {
   "cell_type": "markdown",
   "id": "cc7f6cf4",
   "metadata": {
    "papermill": {
     "duration": 0.005026,
     "end_time": "2022-05-30T00:12:23.431126",
     "exception": false,
     "start_time": "2022-05-30T00:12:23.426100",
     "status": "completed"
    },
    "tags": []
   },
   "source": [
    "# Data Understanding"
   ]
  },
  {
   "cell_type": "code",
   "execution_count": 11,
   "id": "02da9c6d",
   "metadata": {
    "execution": {
     "iopub.execute_input": "2022-05-30T00:12:23.442435Z",
     "iopub.status.busy": "2022-05-30T00:12:23.442199Z",
     "iopub.status.idle": "2022-05-30T00:12:24.981060Z",
     "shell.execute_reply": "2022-05-30T00:12:24.980222Z"
    },
    "papermill": {
     "duration": 1.547118,
     "end_time": "2022-05-30T00:12:24.983457",
     "exception": false,
     "start_time": "2022-05-30T00:12:23.436339",
     "status": "completed"
    },
    "tags": []
   },
   "outputs": [],
   "source": [
    "# Create directory\n",
    "base_skin_dir = os.path.join('..', 'input')\n",
    "\n",
    "# Merging images from both folders HAM10000_images_part1.zip and HAM10000_images_part2.zip into one dictionary\n",
    "\n",
    "imageid_path_dict = {os.path.splitext(os.path.basename(x))[0]: x\n",
    "                     for x in glob(os.path.join(base_skin_dir,\"skin-cancer-mnist-ham10000/\", '*', '*.jpg'))}\n",
    "# create dictionary for type of skin cancer\n",
    "lesion_type_dict = {\n",
    "    'nv': 'Melanocytic nevi (nv)',\n",
    "    'mel': 'Melanoma (mel)',\n",
    "    'bkl': 'Benign keratosis-like lesions (bkl)',\n",
    "    'bcc': 'Basal cell carcinoma (bcc)',\n",
    "    'akiec': 'Actinic keratoses (akiec)',\n",
    "    'vasc': 'Vascular lesions (vasc)',\n",
    "    'df': 'Dermatofibroma (df)'\n",
    "}\n",
    "# create label mapping\n",
    "label_mapping = {\n",
    "    0: 'nv',\n",
    "    1: 'mel',\n",
    "    2: 'bkl',\n",
    "    3: 'bcc',\n",
    "    4: 'akiec',\n",
    "    5: 'vasc',\n",
    "    6: 'df'\n",
    "}\n",
    "reverse_label_mapping = dict((value, key) for key, value in label_mapping.items())"
   ]
  },
  {
   "cell_type": "code",
   "execution_count": 12,
   "id": "d6357a5c",
   "metadata": {
    "execution": {
     "iopub.execute_input": "2022-05-30T00:12:24.997115Z",
     "iopub.status.busy": "2022-05-30T00:12:24.996784Z",
     "iopub.status.idle": "2022-05-30T00:12:25.047039Z",
     "shell.execute_reply": "2022-05-30T00:12:25.046336Z"
    },
    "papermill": {
     "duration": 0.059169,
     "end_time": "2022-05-30T00:12:25.048709",
     "exception": false,
     "start_time": "2022-05-30T00:12:24.989540",
     "status": "completed"
    },
    "tags": []
   },
   "outputs": [],
   "source": [
    "# read the csv data\n",
    "data = pd.read_csv(os.path.join(base_skin_dir,\"skin-cancer-mnist-ham10000/\",'HAM10000_metadata.csv'))"
   ]
  },
  {
   "cell_type": "code",
   "execution_count": 13,
   "id": "9ea0172b",
   "metadata": {
    "execution": {
     "iopub.execute_input": "2022-05-30T00:12:25.061191Z",
     "iopub.status.busy": "2022-05-30T00:12:25.060432Z",
     "iopub.status.idle": "2022-05-30T00:12:25.079312Z",
     "shell.execute_reply": "2022-05-30T00:12:25.078508Z"
    },
    "papermill": {
     "duration": 0.027104,
     "end_time": "2022-05-30T00:12:25.081227",
     "exception": false,
     "start_time": "2022-05-30T00:12:25.054123",
     "status": "completed"
    },
    "tags": []
   },
   "outputs": [
    {
     "data": {
      "text/html": [
       "<div>\n",
       "<style scoped>\n",
       "    .dataframe tbody tr th:only-of-type {\n",
       "        vertical-align: middle;\n",
       "    }\n",
       "\n",
       "    .dataframe tbody tr th {\n",
       "        vertical-align: top;\n",
       "    }\n",
       "\n",
       "    .dataframe thead th {\n",
       "        text-align: right;\n",
       "    }\n",
       "</style>\n",
       "<table border=\"1\" class=\"dataframe\">\n",
       "  <thead>\n",
       "    <tr style=\"text-align: right;\">\n",
       "      <th></th>\n",
       "      <th>lesion_id</th>\n",
       "      <th>image_id</th>\n",
       "      <th>dx</th>\n",
       "      <th>dx_type</th>\n",
       "      <th>age</th>\n",
       "      <th>sex</th>\n",
       "      <th>localization</th>\n",
       "    </tr>\n",
       "  </thead>\n",
       "  <tbody>\n",
       "    <tr>\n",
       "      <th>0</th>\n",
       "      <td>HAM_0000118</td>\n",
       "      <td>ISIC_0027419</td>\n",
       "      <td>bkl</td>\n",
       "      <td>histo</td>\n",
       "      <td>80.0</td>\n",
       "      <td>male</td>\n",
       "      <td>scalp</td>\n",
       "    </tr>\n",
       "    <tr>\n",
       "      <th>1</th>\n",
       "      <td>HAM_0000118</td>\n",
       "      <td>ISIC_0025030</td>\n",
       "      <td>bkl</td>\n",
       "      <td>histo</td>\n",
       "      <td>80.0</td>\n",
       "      <td>male</td>\n",
       "      <td>scalp</td>\n",
       "    </tr>\n",
       "    <tr>\n",
       "      <th>2</th>\n",
       "      <td>HAM_0002730</td>\n",
       "      <td>ISIC_0026769</td>\n",
       "      <td>bkl</td>\n",
       "      <td>histo</td>\n",
       "      <td>80.0</td>\n",
       "      <td>male</td>\n",
       "      <td>scalp</td>\n",
       "    </tr>\n",
       "    <tr>\n",
       "      <th>3</th>\n",
       "      <td>HAM_0002730</td>\n",
       "      <td>ISIC_0025661</td>\n",
       "      <td>bkl</td>\n",
       "      <td>histo</td>\n",
       "      <td>80.0</td>\n",
       "      <td>male</td>\n",
       "      <td>scalp</td>\n",
       "    </tr>\n",
       "    <tr>\n",
       "      <th>4</th>\n",
       "      <td>HAM_0001466</td>\n",
       "      <td>ISIC_0031633</td>\n",
       "      <td>bkl</td>\n",
       "      <td>histo</td>\n",
       "      <td>75.0</td>\n",
       "      <td>male</td>\n",
       "      <td>ear</td>\n",
       "    </tr>\n",
       "  </tbody>\n",
       "</table>\n",
       "</div>"
      ],
      "text/plain": [
       "     lesion_id      image_id   dx dx_type   age   sex localization\n",
       "0  HAM_0000118  ISIC_0027419  bkl   histo  80.0  male        scalp\n",
       "1  HAM_0000118  ISIC_0025030  bkl   histo  80.0  male        scalp\n",
       "2  HAM_0002730  ISIC_0026769  bkl   histo  80.0  male        scalp\n",
       "3  HAM_0002730  ISIC_0025661  bkl   histo  80.0  male        scalp\n",
       "4  HAM_0001466  ISIC_0031633  bkl   histo  75.0  male          ear"
      ]
     },
     "execution_count": 13,
     "metadata": {},
     "output_type": "execute_result"
    }
   ],
   "source": [
    "# Now lets see the sample of tile_df to look on newly made columns\n",
    "data.head()"
   ]
  },
  {
   "cell_type": "code",
   "execution_count": 14,
   "id": "b98f1363",
   "metadata": {
    "execution": {
     "iopub.execute_input": "2022-05-30T00:12:25.093525Z",
     "iopub.status.busy": "2022-05-30T00:12:25.093272Z",
     "iopub.status.idle": "2022-05-30T00:12:25.136269Z",
     "shell.execute_reply": "2022-05-30T00:12:25.135457Z"
    },
    "papermill": {
     "duration": 0.051048,
     "end_time": "2022-05-30T00:12:25.137992",
     "exception": false,
     "start_time": "2022-05-30T00:12:25.086944",
     "status": "completed"
    },
    "tags": []
   },
   "outputs": [
    {
     "data": {
      "text/html": [
       "<div>\n",
       "<style scoped>\n",
       "    .dataframe tbody tr th:only-of-type {\n",
       "        vertical-align: middle;\n",
       "    }\n",
       "\n",
       "    .dataframe tbody tr th {\n",
       "        vertical-align: top;\n",
       "    }\n",
       "\n",
       "    .dataframe thead th {\n",
       "        text-align: right;\n",
       "    }\n",
       "</style>\n",
       "<table border=\"1\" class=\"dataframe\">\n",
       "  <thead>\n",
       "    <tr style=\"text-align: right;\">\n",
       "      <th></th>\n",
       "      <th>lesion_id</th>\n",
       "      <th>image_id</th>\n",
       "      <th>dx</th>\n",
       "      <th>dx_type</th>\n",
       "      <th>sex</th>\n",
       "      <th>localization</th>\n",
       "    </tr>\n",
       "  </thead>\n",
       "  <tbody>\n",
       "    <tr>\n",
       "      <th>count</th>\n",
       "      <td>10015</td>\n",
       "      <td>10015</td>\n",
       "      <td>10015</td>\n",
       "      <td>10015</td>\n",
       "      <td>10015</td>\n",
       "      <td>10015</td>\n",
       "    </tr>\n",
       "    <tr>\n",
       "      <th>unique</th>\n",
       "      <td>7470</td>\n",
       "      <td>10015</td>\n",
       "      <td>7</td>\n",
       "      <td>4</td>\n",
       "      <td>3</td>\n",
       "      <td>15</td>\n",
       "    </tr>\n",
       "    <tr>\n",
       "      <th>top</th>\n",
       "      <td>HAM_0003789</td>\n",
       "      <td>ISIC_0027419</td>\n",
       "      <td>nv</td>\n",
       "      <td>histo</td>\n",
       "      <td>male</td>\n",
       "      <td>back</td>\n",
       "    </tr>\n",
       "    <tr>\n",
       "      <th>freq</th>\n",
       "      <td>6</td>\n",
       "      <td>1</td>\n",
       "      <td>6705</td>\n",
       "      <td>5340</td>\n",
       "      <td>5406</td>\n",
       "      <td>2192</td>\n",
       "    </tr>\n",
       "  </tbody>\n",
       "</table>\n",
       "</div>"
      ],
      "text/plain": [
       "          lesion_id      image_id     dx dx_type    sex localization\n",
       "count         10015         10015  10015   10015  10015        10015\n",
       "unique         7470         10015      7       4      3           15\n",
       "top     HAM_0003789  ISIC_0027419     nv   histo   male         back\n",
       "freq              6             1   6705    5340   5406         2192"
      ]
     },
     "execution_count": 14,
     "metadata": {},
     "output_type": "execute_result"
    }
   ],
   "source": [
    "# more info about data \n",
    "data.describe(exclude=[np.number])"
   ]
  }
 ],
 "metadata": {
  "kernelspec": {
   "display_name": "Python 3",
   "language": "python",
   "name": "python3"
  },
  "language_info": {
   "codemirror_mode": {
    "name": "ipython",
    "version": 3
   },
   "file_extension": ".py",
   "mimetype": "text/x-python",
   "name": "python",
   "nbconvert_exporter": "python",
   "pygments_lexer": "ipython3",
   "version": "3.7.12"
  },
  "papermill": {
   "default_parameters": {},
   "duration": 31.442402,
   "end_time": "2022-05-30T00:12:27.884807",
   "environment_variables": {},
   "exception": null,
   "input_path": "__notebook__.ipynb",
   "output_path": "__notebook__.ipynb",
   "parameters": {},
   "start_time": "2022-05-30T00:11:56.442405",
   "version": "2.3.4"
  }
 },
 "nbformat": 4,
 "nbformat_minor": 5
}
