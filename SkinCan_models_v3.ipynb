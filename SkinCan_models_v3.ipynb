{
  "nbformat": 4,
  "nbformat_minor": 0,
  "metadata": {
    "colab": {
      "name": "SkinCan-models-v3.ipynb",
      "provenance": [],
      "collapsed_sections": [],
      "include_colab_link": true
    },
    "kernelspec": {
      "name": "python3",
      "display_name": "Python 3"
    },
    "language_info": {
      "name": "python"
    },
    "accelerator": "GPU"
  },
  "cells": [
    {
      "cell_type": "markdown",
      "metadata": {
        "id": "view-in-github",
        "colab_type": "text"
      },
      "source": [
        "<a href=\"https://colab.research.google.com/github/fadlinisasiGit/SkinCan-model/blob/main/SkinCan_models_v3.ipynb\" target=\"_parent\"><img src=\"https://colab.research.google.com/assets/colab-badge.svg\" alt=\"Open In Colab\"/></a>"
      ]
    },
    {
      "cell_type": "markdown",
      "source": [
        "# **Product-Based-Capstone-Project**\n",
        "\n",
        "**SkinCan Skin Cancer Detection App**\n",
        "\n",
        "Final Selected Themes : Human Healthcare & Animal Welfare\n",
        "\n",
        "Team Member :\n",
        "*   (ML) M7134F1606 - Muhammad Fadli Ramadhan - Politeknik Negeri Sriwijaya\n",
        "*   (ML) M2008F0851 - Adhitya Ghiffari Pramudito - Universitas Gadjah Mada\n",
        "*   (MD) A2191F1821 - Ahmad Ansori Palembani - Universitas Bina Darma\n",
        "*   (MD) A7191F1820 - Muhammad Fharid Akbar - Universitas Bina Darma\n",
        "*   (CC) C2322F2819 - Muhammad Mustafa Kamal - Universitas Syiah Kuala\n",
        "*   (CC) C7457F3068 - Wulan Ayu Rania Sari -Universitas Nahdlatul Ulama Lampung\n",
        "\n",
        "\n",
        "\n",
        "\n",
        "\n",
        "\n",
        "\n",
        "\n",
        "\n",
        "\n",
        "\n"
      ],
      "metadata": {
        "id": "VRNdmYr6APia"
      }
    },
    {
      "cell_type": "markdown",
      "source": [
        "**Executive Summary :**\n",
        "\n",
        "At this time there are so many dangers that can lurk human health, even in this era of pandemic, maintaining health is very important for everyone. People should have awareness to maintain health, especially the health of the skin. Therefore, by utilizing machine learning, cloud computing to create a skin cancer detection application by identifying the input image to remind the public the importance of maintaining healthy skin. In this project, We have a problem formulation as follows:\n",
        "\n",
        "*   How to detect various skin cancers in humans through the application?\n",
        "*   How to treat skin cancer early?\n",
        "*   How accurately does this application detect skin cancer?\n",
        "\n",
        "Our team wants to solve this problem because we want someone who has the potential for cancer to avoid a more serious problem, so that users who use this application can take preventive measures to prevent this problem.\n",
        "\n",
        "**How did your team come up with this project?**\n",
        "\n",
        "We want to build an application that can help the public and health workers to detect skin diseases in humans, including skin cancer. This application uses Deep Learning algorithms to predict various skin diseases to achieve maximum accuracy in predicting skin diseases at an early stage. Feature extraction plays a key role in the classification of skin diseases. In addition, Explainable AI is used to interpret decisions made by our machine learning models. With this application, hopefully, it can help users to detect skin diseases early so they can take preventive measures.\n",
        "\n",
        "**Based on your knowledge and explorations, tell us the Machine Learning Part of your capstone?**\n",
        "\n",
        "In this project, we’re using Python as main programming language, Tensorflow as mandatory library, Sckit-learn and keras as libraries, AI Platform as platform, TFLite as Tools for Model Deployment to Android, Kaggle as dataset resource, Google Colab as IDE, and create Machine Learning Model as main the feature in our app."
      ],
      "metadata": {
        "id": "PF5TWx8xARDI"
      }
    },
    {
      "cell_type": "markdown",
      "source": [
        "## **Data Collecting**"
      ],
      "metadata": {
        "id": "jadO5_piAe5Z"
      }
    },
    {
      "cell_type": "markdown",
      "source": [
        "**Download dataset from kaggle**"
      ],
      "metadata": {
        "id": "fHYKBYnZDKIU"
      }
    },
    {
      "cell_type": "code",
      "execution_count": 1,
      "metadata": {
        "colab": {
          "base_uri": "https://localhost:8080/"
        },
        "id": "pr8ajcGbAB9n",
        "outputId": "a1c21a5c-057e-4a0c-d053-983dc5cd4349"
      },
      "outputs": [
        {
          "output_type": "stream",
          "name": "stdout",
          "text": [
            "Looking in indexes: https://pypi.org/simple, https://us-python.pkg.dev/colab-wheels/public/simple/\n",
            "Collecting opendatasets\n",
            "  Downloading opendatasets-0.1.22-py3-none-any.whl (15 kB)\n",
            "Requirement already satisfied: kaggle in /usr/local/lib/python3.7/dist-packages (from opendatasets) (1.5.12)\n",
            "Requirement already satisfied: tqdm in /usr/local/lib/python3.7/dist-packages (from opendatasets) (4.64.0)\n",
            "Requirement already satisfied: click in /usr/local/lib/python3.7/dist-packages (from opendatasets) (7.1.2)\n",
            "Requirement already satisfied: certifi in /usr/local/lib/python3.7/dist-packages (from kaggle->opendatasets) (2022.5.18.1)\n",
            "Requirement already satisfied: requests in /usr/local/lib/python3.7/dist-packages (from kaggle->opendatasets) (2.23.0)\n",
            "Requirement already satisfied: python-slugify in /usr/local/lib/python3.7/dist-packages (from kaggle->opendatasets) (6.1.2)\n",
            "Requirement already satisfied: six>=1.10 in /usr/local/lib/python3.7/dist-packages (from kaggle->opendatasets) (1.15.0)\n",
            "Requirement already satisfied: python-dateutil in /usr/local/lib/python3.7/dist-packages (from kaggle->opendatasets) (2.8.2)\n",
            "Requirement already satisfied: urllib3 in /usr/local/lib/python3.7/dist-packages (from kaggle->opendatasets) (1.24.3)\n",
            "Requirement already satisfied: text-unidecode>=1.3 in /usr/local/lib/python3.7/dist-packages (from python-slugify->kaggle->opendatasets) (1.3)\n",
            "Requirement already satisfied: idna<3,>=2.5 in /usr/local/lib/python3.7/dist-packages (from requests->kaggle->opendatasets) (2.10)\n",
            "Requirement already satisfied: chardet<4,>=3.0.2 in /usr/local/lib/python3.7/dist-packages (from requests->kaggle->opendatasets) (3.0.4)\n",
            "Installing collected packages: opendatasets\n",
            "Successfully installed opendatasets-0.1.22\n"
          ]
        }
      ],
      "source": [
        "!pip install opendatasets"
      ]
    },
    {
      "cell_type": "code",
      "source": [
        "# install paket kaggle\n",
        "!pip install -q kaggle\n",
        "\n",
        "# Upload file kaggle.json from Create New API Token Akun Kaggle\n",
        "from google.colab import files\n",
        "files.upload()"
      ],
      "metadata": {
        "colab": {
          "resources": {
            "http://localhost:8080/nbextensions/google.colab/files.js": {
              "data": "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",
              "ok": true,
              "headers": [
                [
                  "content-type",
                  "application/javascript"
                ]
              ],
              "status": 200,
              "status_text": ""
            }
          },
          "base_uri": "https://localhost:8080/",
          "height": 90
        },
        "id": "MSTn7o90DghF",
        "outputId": "7e05b3f4-2d99-459e-a8a3-e094b7caca67"
      },
      "execution_count": 2,
      "outputs": [
        {
          "output_type": "display_data",
          "data": {
            "text/plain": [
              "<IPython.core.display.HTML object>"
            ],
            "text/html": [
              "\n",
              "     <input type=\"file\" id=\"files-9d39190c-27bf-46a3-b819-2cae4f186513\" name=\"files[]\" multiple disabled\n",
              "        style=\"border:none\" />\n",
              "     <output id=\"result-9d39190c-27bf-46a3-b819-2cae4f186513\">\n",
              "      Upload widget is only available when the cell has been executed in the\n",
              "      current browser session. Please rerun this cell to enable.\n",
              "      </output>\n",
              "      <script src=\"/nbextensions/google.colab/files.js\"></script> "
            ]
          },
          "metadata": {}
        },
        {
          "output_type": "stream",
          "name": "stdout",
          "text": [
            "Saving kaggle.json to kaggle.json\n"
          ]
        },
        {
          "output_type": "execute_result",
          "data": {
            "text/plain": [
              "{'kaggle.json': b'{\"username\":\"mfadliramadhan\",\"key\":\"25601c0254f1e180eb7b83717bc9463f\"}'}"
            ]
          },
          "metadata": {},
          "execution_count": 2
        }
      ]
    },
    {
      "cell_type": "code",
      "source": [
        "# Download Dataset from Kaggle\n",
        "\n",
        "import opendatasets as od\n",
        "dataset_url= 'https://www.kaggle.com/datasets/kmader/skin-cancer-mnist-ham10000'\n",
        "od.download('https://www.kaggle.com/datasets/kmader/skin-cancer-mnist-ham10000')"
      ],
      "metadata": {
        "colab": {
          "base_uri": "https://localhost:8080/"
        },
        "id": "gFxeCMZjCCgA",
        "outputId": "eb870866-8831-4037-dbac-0c51225e543c"
      },
      "execution_count": 3,
      "outputs": [
        {
          "output_type": "stream",
          "name": "stdout",
          "text": [
            "Downloading skin-cancer-mnist-ham10000.zip to ./skin-cancer-mnist-ham10000\n"
          ]
        },
        {
          "output_type": "stream",
          "name": "stderr",
          "text": [
            "100%|██████████| 5.20G/5.20G [00:30<00:00, 184MB/s]\n"
          ]
        },
        {
          "output_type": "stream",
          "name": "stdout",
          "text": [
            "\n"
          ]
        }
      ]
    },
    {
      "cell_type": "markdown",
      "source": [
        "## **Pre-Model**"
      ],
      "metadata": {
        "id": "V-_i83az4KeC"
      }
    },
    {
      "cell_type": "markdown",
      "source": [
        "**Import Libraries**"
      ],
      "metadata": {
        "id": "_gqJ1oFtAJJS"
      }
    },
    {
      "cell_type": "code",
      "source": [
        "# Import Essential Libraries\n",
        "import os\n",
        "import pandas as pd\n",
        "import numpy as np\n",
        "import kaggle\n",
        "import matplotlib.pyplot as plt\n",
        "import tensorflow as tf\n",
        "\n",
        "\n",
        "from keras.datasets import mnist\n",
        "from keras.utils.np_utils import to_categorical\n",
        "from keras.callbacks import EarlyStopping\n",
        "from keras.preprocessing.image import ImageDataGenerator\n",
        "from keras.callbacks import ReduceLROnPlateau\n",
        "from keras.models import Sequential\n",
        "from keras.layers import Dense, Dropout, Flatten\n",
        "from keras.layers import Conv2D, MaxPooling2D\n",
        "from sklearn.model_selection import train_test_split\n",
        "from typing import Optional\n",
        "from PIL import Image\n",
        "import seaborn as sns"
      ],
      "metadata": {
        "id": "5dPPXJgd4U95"
      },
      "execution_count": 4,
      "outputs": []
    },
    {
      "cell_type": "code",
      "source": [
        "# Read the selected csv file\n",
        "data = pd.read_csv('/content/skin-cancer-mnist-ham10000/hmnist_28_28_RGB.csv')"
      ],
      "metadata": {
        "id": "VJ1nqRf14X2F"
      },
      "execution_count": 5,
      "outputs": []
    },
    {
      "cell_type": "code",
      "source": [
        "data.head()"
      ],
      "metadata": {
        "id": "k8-w17ys4mLV",
        "colab": {
          "base_uri": "https://localhost:8080/",
          "height": 300
        },
        "outputId": "b75fd112-8a14-4b49-e59e-191a54673f5f"
      },
      "execution_count": 6,
      "outputs": [
        {
          "output_type": "execute_result",
          "data": {
            "text/plain": [
              "   pixel0000  pixel0001  pixel0002  pixel0003  pixel0004  pixel0005  \\\n",
              "0        192        153        193        195        155        192   \n",
              "1         25         14         30         68         48         75   \n",
              "2        192        138        153        200        145        163   \n",
              "3         38         19         30         95         59         72   \n",
              "4        158        113        139        194        144        174   \n",
              "\n",
              "   pixel0006  pixel0007  pixel0008  pixel0009  ...  pixel2343  pixel2344  \\\n",
              "0        197        154        185        202  ...        173        124   \n",
              "1        123         93        126        158  ...         60         39   \n",
              "2        201        142        160        206  ...        167        129   \n",
              "3        143        103        119        171  ...         44         26   \n",
              "4        215        162        191        225  ...        209        166   \n",
              "\n",
              "   pixel2345  pixel2346  pixel2347  pixel2348  pixel2349  pixel2350  \\\n",
              "0        138        183        147        166        185        154   \n",
              "1         55         25         14         28         25         14   \n",
              "2        143        159        124        142        136        104   \n",
              "3         36         25         12         17         25         12   \n",
              "4        185        172        135        149        109         78   \n",
              "\n",
              "   pixel2351  label  \n",
              "0        177      2  \n",
              "1         27      2  \n",
              "2        117      2  \n",
              "3         15      2  \n",
              "4         92      2  \n",
              "\n",
              "[5 rows x 2353 columns]"
            ],
            "text/html": [
              "\n",
              "  <div id=\"df-c3b75e1c-5f3d-41d4-96cf-06bdb15d594b\">\n",
              "    <div class=\"colab-df-container\">\n",
              "      <div>\n",
              "<style scoped>\n",
              "    .dataframe tbody tr th:only-of-type {\n",
              "        vertical-align: middle;\n",
              "    }\n",
              "\n",
              "    .dataframe tbody tr th {\n",
              "        vertical-align: top;\n",
              "    }\n",
              "\n",
              "    .dataframe thead th {\n",
              "        text-align: right;\n",
              "    }\n",
              "</style>\n",
              "<table border=\"1\" class=\"dataframe\">\n",
              "  <thead>\n",
              "    <tr style=\"text-align: right;\">\n",
              "      <th></th>\n",
              "      <th>pixel0000</th>\n",
              "      <th>pixel0001</th>\n",
              "      <th>pixel0002</th>\n",
              "      <th>pixel0003</th>\n",
              "      <th>pixel0004</th>\n",
              "      <th>pixel0005</th>\n",
              "      <th>pixel0006</th>\n",
              "      <th>pixel0007</th>\n",
              "      <th>pixel0008</th>\n",
              "      <th>pixel0009</th>\n",
              "      <th>...</th>\n",
              "      <th>pixel2343</th>\n",
              "      <th>pixel2344</th>\n",
              "      <th>pixel2345</th>\n",
              "      <th>pixel2346</th>\n",
              "      <th>pixel2347</th>\n",
              "      <th>pixel2348</th>\n",
              "      <th>pixel2349</th>\n",
              "      <th>pixel2350</th>\n",
              "      <th>pixel2351</th>\n",
              "      <th>label</th>\n",
              "    </tr>\n",
              "  </thead>\n",
              "  <tbody>\n",
              "    <tr>\n",
              "      <th>0</th>\n",
              "      <td>192</td>\n",
              "      <td>153</td>\n",
              "      <td>193</td>\n",
              "      <td>195</td>\n",
              "      <td>155</td>\n",
              "      <td>192</td>\n",
              "      <td>197</td>\n",
              "      <td>154</td>\n",
              "      <td>185</td>\n",
              "      <td>202</td>\n",
              "      <td>...</td>\n",
              "      <td>173</td>\n",
              "      <td>124</td>\n",
              "      <td>138</td>\n",
              "      <td>183</td>\n",
              "      <td>147</td>\n",
              "      <td>166</td>\n",
              "      <td>185</td>\n",
              "      <td>154</td>\n",
              "      <td>177</td>\n",
              "      <td>2</td>\n",
              "    </tr>\n",
              "    <tr>\n",
              "      <th>1</th>\n",
              "      <td>25</td>\n",
              "      <td>14</td>\n",
              "      <td>30</td>\n",
              "      <td>68</td>\n",
              "      <td>48</td>\n",
              "      <td>75</td>\n",
              "      <td>123</td>\n",
              "      <td>93</td>\n",
              "      <td>126</td>\n",
              "      <td>158</td>\n",
              "      <td>...</td>\n",
              "      <td>60</td>\n",
              "      <td>39</td>\n",
              "      <td>55</td>\n",
              "      <td>25</td>\n",
              "      <td>14</td>\n",
              "      <td>28</td>\n",
              "      <td>25</td>\n",
              "      <td>14</td>\n",
              "      <td>27</td>\n",
              "      <td>2</td>\n",
              "    </tr>\n",
              "    <tr>\n",
              "      <th>2</th>\n",
              "      <td>192</td>\n",
              "      <td>138</td>\n",
              "      <td>153</td>\n",
              "      <td>200</td>\n",
              "      <td>145</td>\n",
              "      <td>163</td>\n",
              "      <td>201</td>\n",
              "      <td>142</td>\n",
              "      <td>160</td>\n",
              "      <td>206</td>\n",
              "      <td>...</td>\n",
              "      <td>167</td>\n",
              "      <td>129</td>\n",
              "      <td>143</td>\n",
              "      <td>159</td>\n",
              "      <td>124</td>\n",
              "      <td>142</td>\n",
              "      <td>136</td>\n",
              "      <td>104</td>\n",
              "      <td>117</td>\n",
              "      <td>2</td>\n",
              "    </tr>\n",
              "    <tr>\n",
              "      <th>3</th>\n",
              "      <td>38</td>\n",
              "      <td>19</td>\n",
              "      <td>30</td>\n",
              "      <td>95</td>\n",
              "      <td>59</td>\n",
              "      <td>72</td>\n",
              "      <td>143</td>\n",
              "      <td>103</td>\n",
              "      <td>119</td>\n",
              "      <td>171</td>\n",
              "      <td>...</td>\n",
              "      <td>44</td>\n",
              "      <td>26</td>\n",
              "      <td>36</td>\n",
              "      <td>25</td>\n",
              "      <td>12</td>\n",
              "      <td>17</td>\n",
              "      <td>25</td>\n",
              "      <td>12</td>\n",
              "      <td>15</td>\n",
              "      <td>2</td>\n",
              "    </tr>\n",
              "    <tr>\n",
              "      <th>4</th>\n",
              "      <td>158</td>\n",
              "      <td>113</td>\n",
              "      <td>139</td>\n",
              "      <td>194</td>\n",
              "      <td>144</td>\n",
              "      <td>174</td>\n",
              "      <td>215</td>\n",
              "      <td>162</td>\n",
              "      <td>191</td>\n",
              "      <td>225</td>\n",
              "      <td>...</td>\n",
              "      <td>209</td>\n",
              "      <td>166</td>\n",
              "      <td>185</td>\n",
              "      <td>172</td>\n",
              "      <td>135</td>\n",
              "      <td>149</td>\n",
              "      <td>109</td>\n",
              "      <td>78</td>\n",
              "      <td>92</td>\n",
              "      <td>2</td>\n",
              "    </tr>\n",
              "  </tbody>\n",
              "</table>\n",
              "<p>5 rows × 2353 columns</p>\n",
              "</div>\n",
              "      <button class=\"colab-df-convert\" onclick=\"convertToInteractive('df-c3b75e1c-5f3d-41d4-96cf-06bdb15d594b')\"\n",
              "              title=\"Convert this dataframe to an interactive table.\"\n",
              "              style=\"display:none;\">\n",
              "        \n",
              "  <svg xmlns=\"http://www.w3.org/2000/svg\" height=\"24px\"viewBox=\"0 0 24 24\"\n",
              "       width=\"24px\">\n",
              "    <path d=\"M0 0h24v24H0V0z\" fill=\"none\"/>\n",
              "    <path d=\"M18.56 5.44l.94 2.06.94-2.06 2.06-.94-2.06-.94-.94-2.06-.94 2.06-2.06.94zm-11 1L8.5 8.5l.94-2.06 2.06-.94-2.06-.94L8.5 2.5l-.94 2.06-2.06.94zm10 10l.94 2.06.94-2.06 2.06-.94-2.06-.94-.94-2.06-.94 2.06-2.06.94z\"/><path d=\"M17.41 7.96l-1.37-1.37c-.4-.4-.92-.59-1.43-.59-.52 0-1.04.2-1.43.59L10.3 9.45l-7.72 7.72c-.78.78-.78 2.05 0 2.83L4 21.41c.39.39.9.59 1.41.59.51 0 1.02-.2 1.41-.59l7.78-7.78 2.81-2.81c.8-.78.8-2.07 0-2.86zM5.41 20L4 18.59l7.72-7.72 1.47 1.35L5.41 20z\"/>\n",
              "  </svg>\n",
              "      </button>\n",
              "      \n",
              "  <style>\n",
              "    .colab-df-container {\n",
              "      display:flex;\n",
              "      flex-wrap:wrap;\n",
              "      gap: 12px;\n",
              "    }\n",
              "\n",
              "    .colab-df-convert {\n",
              "      background-color: #E8F0FE;\n",
              "      border: none;\n",
              "      border-radius: 50%;\n",
              "      cursor: pointer;\n",
              "      display: none;\n",
              "      fill: #1967D2;\n",
              "      height: 32px;\n",
              "      padding: 0 0 0 0;\n",
              "      width: 32px;\n",
              "    }\n",
              "\n",
              "    .colab-df-convert:hover {\n",
              "      background-color: #E2EBFA;\n",
              "      box-shadow: 0px 1px 2px rgba(60, 64, 67, 0.3), 0px 1px 3px 1px rgba(60, 64, 67, 0.15);\n",
              "      fill: #174EA6;\n",
              "    }\n",
              "\n",
              "    [theme=dark] .colab-df-convert {\n",
              "      background-color: #3B4455;\n",
              "      fill: #D2E3FC;\n",
              "    }\n",
              "\n",
              "    [theme=dark] .colab-df-convert:hover {\n",
              "      background-color: #434B5C;\n",
              "      box-shadow: 0px 1px 3px 1px rgba(0, 0, 0, 0.15);\n",
              "      filter: drop-shadow(0px 1px 2px rgba(0, 0, 0, 0.3));\n",
              "      fill: #FFFFFF;\n",
              "    }\n",
              "  </style>\n",
              "\n",
              "      <script>\n",
              "        const buttonEl =\n",
              "          document.querySelector('#df-c3b75e1c-5f3d-41d4-96cf-06bdb15d594b button.colab-df-convert');\n",
              "        buttonEl.style.display =\n",
              "          google.colab.kernel.accessAllowed ? 'block' : 'none';\n",
              "\n",
              "        async function convertToInteractive(key) {\n",
              "          const element = document.querySelector('#df-c3b75e1c-5f3d-41d4-96cf-06bdb15d594b');\n",
              "          const dataTable =\n",
              "            await google.colab.kernel.invokeFunction('convertToInteractive',\n",
              "                                                     [key], {});\n",
              "          if (!dataTable) return;\n",
              "\n",
              "          const docLinkHtml = 'Like what you see? Visit the ' +\n",
              "            '<a target=\"_blank\" href=https://colab.research.google.com/notebooks/data_table.ipynb>data table notebook</a>'\n",
              "            + ' to learn more about interactive tables.';\n",
              "          element.innerHTML = '';\n",
              "          dataTable['output_type'] = 'display_data';\n",
              "          await google.colab.output.renderOutput(dataTable, element);\n",
              "          const docLink = document.createElement('div');\n",
              "          docLink.innerHTML = docLinkHtml;\n",
              "          element.appendChild(docLink);\n",
              "        }\n",
              "      </script>\n",
              "    </div>\n",
              "  </div>\n",
              "  "
            ]
          },
          "metadata": {},
          "execution_count": 6
        }
      ]
    },
    {
      "cell_type": "markdown",
      "source": [
        "**Understanding the data**\n",
        "\n",
        "The dataset includes 10015 images that are 28 x 28 pixels = 784 pixels As they are RGB images and not gray scale they must be multipled by 3 (R, G, B). In total, there are 2352 pixels.\n",
        "\n",
        "Normalization is achieved by diving by 255\n",
        "Data is split into training, validation, and test sets using scikit-learn\n",
        "A model to test is created"
      ],
      "metadata": {
        "id": "r_zTbB-q4xmd"
      }
    },
    {
      "cell_type": "code",
      "source": [
        "X = data.drop(columns='label')/255\n",
        "Y = data['label']\n",
        "\n",
        "num_rows, num_cols = 28, 28\n",
        "num_classes = len(set(Y))"
      ],
      "metadata": {
        "id": "IgWMRhDt4pf9"
      },
      "execution_count": 7,
      "outputs": []
    },
    {
      "cell_type": "code",
      "source": [
        "X = np.array(X)\n",
        "X = X.reshape(X.shape[0], num_rows, num_cols, 3)"
      ],
      "metadata": {
        "id": "vkiPkOjl5AsS"
      },
      "execution_count": 8,
      "outputs": []
    },
    {
      "cell_type": "code",
      "source": [
        "Y = np.eye(num_classes)[np.array(Y.astype(int)).reshape(-1)]"
      ],
      "metadata": {
        "id": "3BC-c_C25CwE"
      },
      "execution_count": 9,
      "outputs": []
    },
    {
      "cell_type": "markdown",
      "source": [
        "**Train test spilts**\n",
        "\n",
        "In this step we have splitted the dataset into training and testing set of 80:20 ratio"
      ],
      "metadata": {
        "id": "JklYauEC60kV"
      }
    },
    {
      "cell_type": "code",
      "source": [
        "#Split the dataset into 80% training and 20% test\n",
        "X_train, X_test, y_train, y_test = train_test_split(X, Y, test_size=0.20, random_state=42)\n"
      ],
      "metadata": {
        "id": "S4aGaR-Y5E_h"
      },
      "execution_count": 10,
      "outputs": []
    },
    {
      "cell_type": "code",
      "source": [
        "#Split dataset into 10% of validation from training set\n",
        "X_train, X_validate, y_train, y_validate = train_test_split(X_train, y_train, test_size=0.10, random_state=42)\n"
      ],
      "metadata": {
        "id": "F1L12TG65IW1"
      },
      "execution_count": 11,
      "outputs": []
    },
    {
      "cell_type": "code",
      "source": [
        "model = Sequential()\n",
        "model.add(Conv2D(32, kernel_size=(3, 3),activation='relu',padding = 'Same',input_shape=(num_rows, num_cols, 3)))\n",
        "model.add(Conv2D(32,kernel_size=(3, 3), activation='relu',padding = 'Same',))\n",
        "model.add(MaxPooling2D(pool_size = (2, 2)))\n",
        "model.add(Dropout(0.25))\n",
        "\n",
        "model.add(Conv2D(64, (3, 3), activation='relu',padding = 'Same'))\n",
        "model.add(Conv2D(64, (3, 3), activation='relu',padding = 'Same'))\n",
        "model.add(MaxPooling2D(pool_size=(2, 2)))\n",
        "model.add(Dropout(0.40))\n",
        "\n",
        "model.add(Flatten())\n",
        "model.add(Dense(128, activation='relu'))\n",
        "model.add(Dropout(0.5))\n",
        "model.add(Dense(num_classes, activation='softmax'))\n",
        "model.compile(loss='categorical_crossentropy',\n",
        "              optimizer='adam',\n",
        "              metrics=['accuracy'])\n",
        "model.summary()"
      ],
      "metadata": {
        "id": "6yuzs70D5LqZ",
        "colab": {
          "base_uri": "https://localhost:8080/"
        },
        "outputId": "c8168955-35f1-4d39-f30f-1d192d683198"
      },
      "execution_count": 12,
      "outputs": [
        {
          "output_type": "stream",
          "name": "stdout",
          "text": [
            "Model: \"sequential\"\n",
            "_________________________________________________________________\n",
            " Layer (type)                Output Shape              Param #   \n",
            "=================================================================\n",
            " conv2d (Conv2D)             (None, 28, 28, 32)        896       \n",
            "                                                                 \n",
            " conv2d_1 (Conv2D)           (None, 28, 28, 32)        9248      \n",
            "                                                                 \n",
            " max_pooling2d (MaxPooling2D  (None, 14, 14, 32)       0         \n",
            " )                                                               \n",
            "                                                                 \n",
            " dropout (Dropout)           (None, 14, 14, 32)        0         \n",
            "                                                                 \n",
            " conv2d_2 (Conv2D)           (None, 14, 14, 64)        18496     \n",
            "                                                                 \n",
            " conv2d_3 (Conv2D)           (None, 14, 14, 64)        36928     \n",
            "                                                                 \n",
            " max_pooling2d_1 (MaxPooling  (None, 7, 7, 64)         0         \n",
            " 2D)                                                             \n",
            "                                                                 \n",
            " dropout_1 (Dropout)         (None, 7, 7, 64)          0         \n",
            "                                                                 \n",
            " flatten (Flatten)           (None, 3136)              0         \n",
            "                                                                 \n",
            " dense (Dense)               (None, 128)               401536    \n",
            "                                                                 \n",
            " dropout_2 (Dropout)         (None, 128)               0         \n",
            "                                                                 \n",
            " dense_1 (Dense)             (None, 7)                 903       \n",
            "                                                                 \n",
            "=================================================================\n",
            "Total params: 468,007\n",
            "Trainable params: 468,007\n",
            "Non-trainable params: 0\n",
            "_________________________________________________________________\n"
          ]
        }
      ]
    },
    {
      "cell_type": "markdown",
      "source": [
        "**Changes to the model** Early stopping Changing the drop % Including a train, test split (+ validation split within training)"
      ],
      "metadata": {
        "id": "_9I219lS5OtN"
      }
    },
    {
      "cell_type": "code",
      "source": [
        "early_stopping = EarlyStopping(monitor='val_loss', patience=2)"
      ],
      "metadata": {
        "id": "OnS1xBOr5Q-E"
      },
      "execution_count": 13,
      "outputs": []
    },
    {
      "cell_type": "markdown",
      "source": [
        "**Training and validation split**\n",
        "\n",
        "I choosed to split the train set in two parts : a small fraction (10%) became the validation set which the model is evaluated and the rest (90%) is used to train the model."
      ],
      "metadata": {
        "id": "J8EdZhEW7Mw1"
      }
    },
    {
      "cell_type": "code",
      "source": [
        "#10% drop 30% drop 50% drop\n",
        "model.fit(X_train, y_train, batch_size=32, epochs=30, validation_data=(X_validate, y_validate))\n"
      ],
      "metadata": {
        "id": "Sg2BUsDY5SeL",
        "colab": {
          "base_uri": "https://localhost:8080/"
        },
        "outputId": "cd6bcd93-d7ca-499c-c7a5-2930d27a023c"
      },
      "execution_count": 14,
      "outputs": [
        {
          "output_type": "stream",
          "name": "stdout",
          "text": [
            "Epoch 1/30\n",
            "226/226 [==============================] - 14s 7ms/step - loss: 1.0954 - accuracy: 0.6687 - val_loss: 0.9609 - val_accuracy: 0.6596\n",
            "Epoch 2/30\n",
            "226/226 [==============================] - 1s 5ms/step - loss: 0.9599 - accuracy: 0.6685 - val_loss: 0.9590 - val_accuracy: 0.6571\n",
            "Epoch 3/30\n",
            "226/226 [==============================] - 1s 5ms/step - loss: 0.8990 - accuracy: 0.6736 - val_loss: 0.8895 - val_accuracy: 0.6596\n",
            "Epoch 4/30\n",
            "226/226 [==============================] - 1s 5ms/step - loss: 0.8751 - accuracy: 0.6818 - val_loss: 0.8710 - val_accuracy: 0.6646\n",
            "Epoch 5/30\n",
            "226/226 [==============================] - 1s 5ms/step - loss: 0.8615 - accuracy: 0.6836 - val_loss: 0.8924 - val_accuracy: 0.6771\n",
            "Epoch 6/30\n",
            "226/226 [==============================] - 1s 5ms/step - loss: 0.8507 - accuracy: 0.6906 - val_loss: 0.8347 - val_accuracy: 0.7007\n",
            "Epoch 7/30\n",
            "226/226 [==============================] - 1s 5ms/step - loss: 0.8145 - accuracy: 0.6992 - val_loss: 0.8365 - val_accuracy: 0.6945\n",
            "Epoch 8/30\n",
            "226/226 [==============================] - 1s 5ms/step - loss: 0.8042 - accuracy: 0.7011 - val_loss: 0.8135 - val_accuracy: 0.6958\n",
            "Epoch 9/30\n",
            "226/226 [==============================] - 1s 5ms/step - loss: 0.7792 - accuracy: 0.7096 - val_loss: 0.7795 - val_accuracy: 0.7120\n",
            "Epoch 10/30\n",
            "226/226 [==============================] - 1s 5ms/step - loss: 0.7505 - accuracy: 0.7201 - val_loss: 0.7741 - val_accuracy: 0.7157\n",
            "Epoch 11/30\n",
            "226/226 [==============================] - 1s 5ms/step - loss: 0.7535 - accuracy: 0.7208 - val_loss: 0.7821 - val_accuracy: 0.7082\n",
            "Epoch 12/30\n",
            "226/226 [==============================] - 1s 5ms/step - loss: 0.7293 - accuracy: 0.7297 - val_loss: 0.8186 - val_accuracy: 0.6995\n",
            "Epoch 13/30\n",
            "226/226 [==============================] - 1s 5ms/step - loss: 0.7242 - accuracy: 0.7255 - val_loss: 0.7653 - val_accuracy: 0.7195\n",
            "Epoch 14/30\n",
            "226/226 [==============================] - 1s 5ms/step - loss: 0.7034 - accuracy: 0.7377 - val_loss: 0.7429 - val_accuracy: 0.7319\n",
            "Epoch 15/30\n",
            "226/226 [==============================] - 1s 5ms/step - loss: 0.6884 - accuracy: 0.7440 - val_loss: 0.7288 - val_accuracy: 0.7294\n",
            "Epoch 16/30\n",
            "226/226 [==============================] - 1s 5ms/step - loss: 0.6899 - accuracy: 0.7390 - val_loss: 0.7761 - val_accuracy: 0.7157\n",
            "Epoch 17/30\n",
            "226/226 [==============================] - 1s 5ms/step - loss: 0.6752 - accuracy: 0.7499 - val_loss: 0.7233 - val_accuracy: 0.7382\n",
            "Epoch 18/30\n",
            "226/226 [==============================] - 1s 5ms/step - loss: 0.6763 - accuracy: 0.7458 - val_loss: 0.7184 - val_accuracy: 0.7494\n",
            "Epoch 19/30\n",
            "226/226 [==============================] - 1s 5ms/step - loss: 0.6589 - accuracy: 0.7494 - val_loss: 0.7141 - val_accuracy: 0.7282\n",
            "Epoch 20/30\n",
            "226/226 [==============================] - 1s 5ms/step - loss: 0.6425 - accuracy: 0.7610 - val_loss: 0.7567 - val_accuracy: 0.7419\n",
            "Epoch 21/30\n",
            "226/226 [==============================] - 1s 5ms/step - loss: 0.6348 - accuracy: 0.7599 - val_loss: 0.7377 - val_accuracy: 0.7431\n",
            "Epoch 22/30\n",
            "226/226 [==============================] - 1s 5ms/step - loss: 0.6241 - accuracy: 0.7675 - val_loss: 0.7402 - val_accuracy: 0.7269\n",
            "Epoch 23/30\n",
            "226/226 [==============================] - 1s 5ms/step - loss: 0.6182 - accuracy: 0.7678 - val_loss: 0.7238 - val_accuracy: 0.7456\n",
            "Epoch 24/30\n",
            "226/226 [==============================] - 1s 5ms/step - loss: 0.5996 - accuracy: 0.7750 - val_loss: 0.7418 - val_accuracy: 0.7382\n",
            "Epoch 25/30\n",
            "226/226 [==============================] - 1s 5ms/step - loss: 0.5892 - accuracy: 0.7791 - val_loss: 0.7508 - val_accuracy: 0.7569\n",
            "Epoch 26/30\n",
            "226/226 [==============================] - 1s 5ms/step - loss: 0.5889 - accuracy: 0.7742 - val_loss: 0.7000 - val_accuracy: 0.7531\n",
            "Epoch 27/30\n",
            "226/226 [==============================] - 1s 6ms/step - loss: 0.5906 - accuracy: 0.7764 - val_loss: 0.7110 - val_accuracy: 0.7519\n",
            "Epoch 28/30\n",
            "226/226 [==============================] - 1s 5ms/step - loss: 0.5709 - accuracy: 0.7832 - val_loss: 0.6772 - val_accuracy: 0.7606\n",
            "Epoch 29/30\n",
            "226/226 [==============================] - 1s 5ms/step - loss: 0.5609 - accuracy: 0.7895 - val_loss: 0.7072 - val_accuracy: 0.7606\n",
            "Epoch 30/30\n",
            "226/226 [==============================] - 1s 5ms/step - loss: 0.5637 - accuracy: 0.7839 - val_loss: 0.7286 - val_accuracy: 0.7581\n"
          ]
        },
        {
          "output_type": "execute_result",
          "data": {
            "text/plain": [
              "<keras.callbacks.History at 0x7f3bdce511d0>"
            ]
          },
          "metadata": {},
          "execution_count": 14
        }
      ]
    },
    {
      "cell_type": "code",
      "source": [
        "loss, accuracy = model.evaluate(X_test, y_test, verbose=1)\n",
        "print(\"Test: accuracy = %f  ;  loss = %f\" % (accuracy, loss))"
      ],
      "metadata": {
        "id": "sRvzBA_H5XQO",
        "colab": {
          "base_uri": "https://localhost:8080/"
        },
        "outputId": "87df349e-112c-41c0-cba6-ef961f916cf2"
      },
      "execution_count": 15,
      "outputs": [
        {
          "output_type": "stream",
          "name": "stdout",
          "text": [
            "63/63 [==============================] - 0s 5ms/step - loss: 0.7052 - accuracy: 0.7519\n",
            "Test: accuracy = 0.751872  ;  loss = 0.705170\n"
          ]
        }
      ]
    },
    {
      "cell_type": "markdown",
      "source": [
        "Achieve a 93.5% Accuracy CNN The following model using image resizing, learning rate reduction, and image data augmentation in order to create a CNN model with 93.5% accuracy."
      ],
      "metadata": {
        "id": "6nUen57a5cRF"
      }
    },
    {
      "cell_type": "markdown",
      "source": [
        "## **New-Model**"
      ],
      "metadata": {
        "id": "kGuKC1nr5tpH"
      }
    },
    {
      "cell_type": "code",
      "source": [
        "#1. Function to plot model's validation loss and validation accuracy\n",
        "def plot_model_history(model_history):\n",
        "    fig, axs = plt.subplots(1,2,figsize=(15,5))\n",
        "    # summarize history for accuracy\n",
        "    axs[0].plot(range(1,len(model_history.history['accuracy'])+1),model_history.history['accuracy'])\n",
        "    axs[0].plot(range(1,len(model_history.history['val_accuracy'])+1),model_history.history['val_accuracy'])\n",
        "    axs[0].set_title('Model Accuracy')\n",
        "    axs[0].set_ylabel('Accuracy')\n",
        "    axs[0].set_xlabel('Epoch')\n",
        "    axs[0].set_xticks(np.arange(1,len(model_history.history['accuracy'])+1),len(model_history.history['accuracy'])/10)\n",
        "    axs[0].legend(['train', 'val'], loc='best')\n",
        "    # summarize history for loss\n",
        "    axs[1].plot(range(1,len(model_history.history['loss'])+1),model_history.history['loss'])\n",
        "    axs[1].plot(range(1,len(model_history.history['val_loss'])+1),model_history.history['val_loss'])\n",
        "    axs[1].set_title('Model Loss')\n",
        "    axs[1].set_ylabel('Loss')\n",
        "    axs[1].set_xlabel('Epoch')\n",
        "    axs[1].set_xticks(np.arange(1,len(model_history.history['loss'])+1),len(model_history.history['loss'])/10)\n",
        "    axs[1].legend(['train', 'val'], loc='best')\n",
        "    plt.show()"
      ],
      "metadata": {
        "id": "UQwtP5GHCWN3"
      },
      "execution_count": 58,
      "outputs": []
    },
    {
      "cell_type": "markdown",
      "source": [
        "## **Data Undestanding**"
      ],
      "metadata": {
        "id": "lvU-OIQ2CcE9"
      }
    },
    {
      "cell_type": "markdown",
      "source": [
        "**Making dictionary of images and labels**\n",
        "\n",
        "In this step I have made the image path dictionary by joining the folder path from base directory base_skin_dir and merge the images in jpg format from both the folders HAM10000_images_part1.zip and HAM10000_images_part2.zip"
      ],
      "metadata": {
        "id": "iWpRrWaED75s"
      }
    },
    {
      "cell_type": "code",
      "source": [
        "# Making Dictionary of images and labels\n",
        "from glob import glob\n",
        "base_skin_dir = os.path.join('/content/skin-cancer-mnist-ham10000')\n",
        "\n",
        "# Merging images from both folders HAM10000_images_part1.zip and HAM10000_images_part2.zip into one dictionary\n",
        "\n",
        "imageid_path_dict = {os.path.splitext(os.path.basename(x))[0]: x\n",
        "                     for x in glob(os.path.join(base_skin_dir, '*', '*.jpg'))}\n",
        "\n",
        "# This dictionary is useful for displaying more human-friendly labels later on\n",
        "\n",
        "lesion_type_dict = {\n",
        "    'nv': 'Melanocytic nevi',\n",
        "    'mel': 'Melanoma',\n",
        "    'bkl': 'Benign keratosis-like lesions ',\n",
        "    'bcc': 'Basal cell carcinoma',\n",
        "    'akiec': 'Actinic keratoses',\n",
        "    'vasc': 'Vascular lesions',\n",
        "    'df': 'Dermatofibroma'\n",
        "}"
      ],
      "metadata": {
        "id": "SD3-OlPgChal"
      },
      "execution_count": 17,
      "outputs": []
    },
    {
      "cell_type": "markdown",
      "source": [
        "**Reading and processing data**\n",
        "\n",
        "In this step we have read the csv by joining the path of image folder which is the base folder where all the images are placed named base_skin_dir. After that we made some new columns which is easily understood for later reference such as we have made column path which contains the image_id, cell_type which contains the short name of lesion type and at last we have made the categorical column cell_type_idx in which we have categorize the lesion type in to codes from 0 to 6"
      ],
      "metadata": {
        "id": "cz-SJRqHEMnx"
      }
    },
    {
      "cell_type": "code",
      "source": [
        "# Reading & Processing data\n",
        "skin_df = pd.read_csv(os.path.join(base_skin_dir, 'HAM10000_metadata.csv'))\n",
        "\n",
        "skin_df['path'] = skin_df['image_id'].map(imageid_path_dict.get)\n",
        "skin_df['cell_type'] = skin_df['dx'].map(lesion_type_dict.get) \n",
        "skin_df['cell_type_idx'] = pd.Categorical(skin_df['cell_type']).codes"
      ],
      "metadata": {
        "id": "d84EYluhCks5"
      },
      "execution_count": 18,
      "outputs": []
    },
    {
      "cell_type": "code",
      "source": [
        "# Now lets see the sample of tile_df to look on newly made columns\n",
        "skin_df.head()"
      ],
      "metadata": {
        "colab": {
          "base_uri": "https://localhost:8080/",
          "height": 424
        },
        "id": "V5f0UGcRCrou",
        "outputId": "c82e34b9-9fd0-4227-bc86-fbb244114555"
      },
      "execution_count": 19,
      "outputs": [
        {
          "output_type": "execute_result",
          "data": {
            "text/plain": [
              "     lesion_id      image_id   dx dx_type   age   sex localization  \\\n",
              "0  HAM_0000118  ISIC_0027419  bkl   histo  80.0  male        scalp   \n",
              "1  HAM_0000118  ISIC_0025030  bkl   histo  80.0  male        scalp   \n",
              "2  HAM_0002730  ISIC_0026769  bkl   histo  80.0  male        scalp   \n",
              "3  HAM_0002730  ISIC_0025661  bkl   histo  80.0  male        scalp   \n",
              "4  HAM_0001466  ISIC_0031633  bkl   histo  75.0  male          ear   \n",
              "\n",
              "                                                path  \\\n",
              "0  /content/skin-cancer-mnist-ham10000/ham10000_i...   \n",
              "1  /content/skin-cancer-mnist-ham10000/ham10000_i...   \n",
              "2  /content/skin-cancer-mnist-ham10000/ham10000_i...   \n",
              "3  /content/skin-cancer-mnist-ham10000/ham10000_i...   \n",
              "4  /content/skin-cancer-mnist-ham10000/ham10000_i...   \n",
              "\n",
              "                        cell_type  cell_type_idx  \n",
              "0  Benign keratosis-like lesions               2  \n",
              "1  Benign keratosis-like lesions               2  \n",
              "2  Benign keratosis-like lesions               2  \n",
              "3  Benign keratosis-like lesions               2  \n",
              "4  Benign keratosis-like lesions               2  "
            ],
            "text/html": [
              "\n",
              "  <div id=\"df-bc3910d9-3b56-48d4-92e1-69c867357f52\">\n",
              "    <div class=\"colab-df-container\">\n",
              "      <div>\n",
              "<style scoped>\n",
              "    .dataframe tbody tr th:only-of-type {\n",
              "        vertical-align: middle;\n",
              "    }\n",
              "\n",
              "    .dataframe tbody tr th {\n",
              "        vertical-align: top;\n",
              "    }\n",
              "\n",
              "    .dataframe thead th {\n",
              "        text-align: right;\n",
              "    }\n",
              "</style>\n",
              "<table border=\"1\" class=\"dataframe\">\n",
              "  <thead>\n",
              "    <tr style=\"text-align: right;\">\n",
              "      <th></th>\n",
              "      <th>lesion_id</th>\n",
              "      <th>image_id</th>\n",
              "      <th>dx</th>\n",
              "      <th>dx_type</th>\n",
              "      <th>age</th>\n",
              "      <th>sex</th>\n",
              "      <th>localization</th>\n",
              "      <th>path</th>\n",
              "      <th>cell_type</th>\n",
              "      <th>cell_type_idx</th>\n",
              "    </tr>\n",
              "  </thead>\n",
              "  <tbody>\n",
              "    <tr>\n",
              "      <th>0</th>\n",
              "      <td>HAM_0000118</td>\n",
              "      <td>ISIC_0027419</td>\n",
              "      <td>bkl</td>\n",
              "      <td>histo</td>\n",
              "      <td>80.0</td>\n",
              "      <td>male</td>\n",
              "      <td>scalp</td>\n",
              "      <td>/content/skin-cancer-mnist-ham10000/ham10000_i...</td>\n",
              "      <td>Benign keratosis-like lesions</td>\n",
              "      <td>2</td>\n",
              "    </tr>\n",
              "    <tr>\n",
              "      <th>1</th>\n",
              "      <td>HAM_0000118</td>\n",
              "      <td>ISIC_0025030</td>\n",
              "      <td>bkl</td>\n",
              "      <td>histo</td>\n",
              "      <td>80.0</td>\n",
              "      <td>male</td>\n",
              "      <td>scalp</td>\n",
              "      <td>/content/skin-cancer-mnist-ham10000/ham10000_i...</td>\n",
              "      <td>Benign keratosis-like lesions</td>\n",
              "      <td>2</td>\n",
              "    </tr>\n",
              "    <tr>\n",
              "      <th>2</th>\n",
              "      <td>HAM_0002730</td>\n",
              "      <td>ISIC_0026769</td>\n",
              "      <td>bkl</td>\n",
              "      <td>histo</td>\n",
              "      <td>80.0</td>\n",
              "      <td>male</td>\n",
              "      <td>scalp</td>\n",
              "      <td>/content/skin-cancer-mnist-ham10000/ham10000_i...</td>\n",
              "      <td>Benign keratosis-like lesions</td>\n",
              "      <td>2</td>\n",
              "    </tr>\n",
              "    <tr>\n",
              "      <th>3</th>\n",
              "      <td>HAM_0002730</td>\n",
              "      <td>ISIC_0025661</td>\n",
              "      <td>bkl</td>\n",
              "      <td>histo</td>\n",
              "      <td>80.0</td>\n",
              "      <td>male</td>\n",
              "      <td>scalp</td>\n",
              "      <td>/content/skin-cancer-mnist-ham10000/ham10000_i...</td>\n",
              "      <td>Benign keratosis-like lesions</td>\n",
              "      <td>2</td>\n",
              "    </tr>\n",
              "    <tr>\n",
              "      <th>4</th>\n",
              "      <td>HAM_0001466</td>\n",
              "      <td>ISIC_0031633</td>\n",
              "      <td>bkl</td>\n",
              "      <td>histo</td>\n",
              "      <td>75.0</td>\n",
              "      <td>male</td>\n",
              "      <td>ear</td>\n",
              "      <td>/content/skin-cancer-mnist-ham10000/ham10000_i...</td>\n",
              "      <td>Benign keratosis-like lesions</td>\n",
              "      <td>2</td>\n",
              "    </tr>\n",
              "  </tbody>\n",
              "</table>\n",
              "</div>\n",
              "      <button class=\"colab-df-convert\" onclick=\"convertToInteractive('df-bc3910d9-3b56-48d4-92e1-69c867357f52')\"\n",
              "              title=\"Convert this dataframe to an interactive table.\"\n",
              "              style=\"display:none;\">\n",
              "        \n",
              "  <svg xmlns=\"http://www.w3.org/2000/svg\" height=\"24px\"viewBox=\"0 0 24 24\"\n",
              "       width=\"24px\">\n",
              "    <path d=\"M0 0h24v24H0V0z\" fill=\"none\"/>\n",
              "    <path d=\"M18.56 5.44l.94 2.06.94-2.06 2.06-.94-2.06-.94-.94-2.06-.94 2.06-2.06.94zm-11 1L8.5 8.5l.94-2.06 2.06-.94-2.06-.94L8.5 2.5l-.94 2.06-2.06.94zm10 10l.94 2.06.94-2.06 2.06-.94-2.06-.94-.94-2.06-.94 2.06-2.06.94z\"/><path d=\"M17.41 7.96l-1.37-1.37c-.4-.4-.92-.59-1.43-.59-.52 0-1.04.2-1.43.59L10.3 9.45l-7.72 7.72c-.78.78-.78 2.05 0 2.83L4 21.41c.39.39.9.59 1.41.59.51 0 1.02-.2 1.41-.59l7.78-7.78 2.81-2.81c.8-.78.8-2.07 0-2.86zM5.41 20L4 18.59l7.72-7.72 1.47 1.35L5.41 20z\"/>\n",
              "  </svg>\n",
              "      </button>\n",
              "      \n",
              "  <style>\n",
              "    .colab-df-container {\n",
              "      display:flex;\n",
              "      flex-wrap:wrap;\n",
              "      gap: 12px;\n",
              "    }\n",
              "\n",
              "    .colab-df-convert {\n",
              "      background-color: #E8F0FE;\n",
              "      border: none;\n",
              "      border-radius: 50%;\n",
              "      cursor: pointer;\n",
              "      display: none;\n",
              "      fill: #1967D2;\n",
              "      height: 32px;\n",
              "      padding: 0 0 0 0;\n",
              "      width: 32px;\n",
              "    }\n",
              "\n",
              "    .colab-df-convert:hover {\n",
              "      background-color: #E2EBFA;\n",
              "      box-shadow: 0px 1px 2px rgba(60, 64, 67, 0.3), 0px 1px 3px 1px rgba(60, 64, 67, 0.15);\n",
              "      fill: #174EA6;\n",
              "    }\n",
              "\n",
              "    [theme=dark] .colab-df-convert {\n",
              "      background-color: #3B4455;\n",
              "      fill: #D2E3FC;\n",
              "    }\n",
              "\n",
              "    [theme=dark] .colab-df-convert:hover {\n",
              "      background-color: #434B5C;\n",
              "      box-shadow: 0px 1px 3px 1px rgba(0, 0, 0, 0.15);\n",
              "      filter: drop-shadow(0px 1px 2px rgba(0, 0, 0, 0.3));\n",
              "      fill: #FFFFFF;\n",
              "    }\n",
              "  </style>\n",
              "\n",
              "      <script>\n",
              "        const buttonEl =\n",
              "          document.querySelector('#df-bc3910d9-3b56-48d4-92e1-69c867357f52 button.colab-df-convert');\n",
              "        buttonEl.style.display =\n",
              "          google.colab.kernel.accessAllowed ? 'block' : 'none';\n",
              "\n",
              "        async function convertToInteractive(key) {\n",
              "          const element = document.querySelector('#df-bc3910d9-3b56-48d4-92e1-69c867357f52');\n",
              "          const dataTable =\n",
              "            await google.colab.kernel.invokeFunction('convertToInteractive',\n",
              "                                                     [key], {});\n",
              "          if (!dataTable) return;\n",
              "\n",
              "          const docLinkHtml = 'Like what you see? Visit the ' +\n",
              "            '<a target=\"_blank\" href=https://colab.research.google.com/notebooks/data_table.ipynb>data table notebook</a>'\n",
              "            + ' to learn more about interactive tables.';\n",
              "          element.innerHTML = '';\n",
              "          dataTable['output_type'] = 'display_data';\n",
              "          await google.colab.output.renderOutput(dataTable, element);\n",
              "          const docLink = document.createElement('div');\n",
              "          docLink.innerHTML = docLinkHtml;\n",
              "          element.appendChild(docLink);\n",
              "        }\n",
              "      </script>\n",
              "    </div>\n",
              "  </div>\n",
              "  "
            ]
          },
          "metadata": {},
          "execution_count": 19
        }
      ]
    },
    {
      "cell_type": "markdown",
      "source": [
        "**Data cleaning**\n",
        "\n",
        "In this step we check for Missing values and datatype of each field"
      ],
      "metadata": {
        "id": "ONzVl7KQEYac"
      }
    },
    {
      "cell_type": "code",
      "source": [
        "skin_df.isnull().sum()"
      ],
      "metadata": {
        "colab": {
          "base_uri": "https://localhost:8080/"
        },
        "id": "D4nxst6IEflt",
        "outputId": "cd22fefe-0ef7-44a4-f592-92d776b6b3c5"
      },
      "execution_count": 20,
      "outputs": [
        {
          "output_type": "execute_result",
          "data": {
            "text/plain": [
              "lesion_id         0\n",
              "image_id          0\n",
              "dx                0\n",
              "dx_type           0\n",
              "age              57\n",
              "sex               0\n",
              "localization      0\n",
              "path              0\n",
              "cell_type         0\n",
              "cell_type_idx     0\n",
              "dtype: int64"
            ]
          },
          "metadata": {},
          "execution_count": 20
        }
      ]
    },
    {
      "cell_type": "code",
      "source": [
        "# Remove the null value in label age\n",
        "skin_df['age'].fillna((skin_df['age'].mean()), inplace=True)"
      ],
      "metadata": {
        "id": "qRnIGPyaEgzU"
      },
      "execution_count": 21,
      "outputs": []
    },
    {
      "cell_type": "code",
      "source": [
        "# Check the presensce of null values again\n",
        "skin_df.isnull().sum()"
      ],
      "metadata": {
        "colab": {
          "base_uri": "https://localhost:8080/"
        },
        "id": "beU3mtXpEkKb",
        "outputId": "7fbdcea4-bf79-43f8-cef4-0e86bdc29611"
      },
      "execution_count": 22,
      "outputs": [
        {
          "output_type": "execute_result",
          "data": {
            "text/plain": [
              "lesion_id        0\n",
              "image_id         0\n",
              "dx               0\n",
              "dx_type          0\n",
              "age              0\n",
              "sex              0\n",
              "localization     0\n",
              "path             0\n",
              "cell_type        0\n",
              "cell_type_idx    0\n",
              "dtype: int64"
            ]
          },
          "metadata": {},
          "execution_count": 22
        }
      ]
    },
    {
      "cell_type": "code",
      "source": [
        "# Check data type \n",
        "print(skin_df.dtypes)"
      ],
      "metadata": {
        "colab": {
          "base_uri": "https://localhost:8080/"
        },
        "id": "hskjml-8EqDD",
        "outputId": "c1959a22-db27-4a03-e29a-8474e33a748c"
      },
      "execution_count": 23,
      "outputs": [
        {
          "output_type": "stream",
          "name": "stdout",
          "text": [
            "lesion_id         object\n",
            "image_id          object\n",
            "dx                object\n",
            "dx_type           object\n",
            "age              float64\n",
            "sex               object\n",
            "localization      object\n",
            "path              object\n",
            "cell_type         object\n",
            "cell_type_idx       int8\n",
            "dtype: object\n"
          ]
        }
      ]
    },
    {
      "cell_type": "markdown",
      "source": [
        "**Exploratoy Data Analysis**\n",
        "\n",
        "In this we will explore different features of the dataset , their distrubtions and actual counts"
      ],
      "metadata": {
        "id": "U7bQOsm7Euas"
      }
    },
    {
      "cell_type": "code",
      "source": [
        "# Plot to see distribution of 7 different classes of cell type\n",
        "fig, ax1 = plt.subplots(1, 1, figsize= (10, 5))\n",
        "skin_df['cell_type'].value_counts().plot(kind='bar', ax=ax1)"
      ],
      "metadata": {
        "colab": {
          "base_uri": "https://localhost:8080/",
          "height": 474
        },
        "id": "xOAgoEoAFz2s",
        "outputId": "f55766d7-8575-46fc-8508-69f6debe693c"
      },
      "execution_count": 24,
      "outputs": [
        {
          "output_type": "execute_result",
          "data": {
            "text/plain": [
              "<matplotlib.axes._subplots.AxesSubplot at 0x7f3bdd1eb6d0>"
            ]
          },
          "metadata": {},
          "execution_count": 24
        },
        {
          "output_type": "display_data",
          "data": {
            "text/plain": [
              "<Figure size 720x360 with 1 Axes>"
            ],
            "image/png": "[encoded data removed]"
          },
          "metadata": {
            "needs_background": "light"
          }
        }
      ]
    },
    {
      "cell_type": "markdown",
      "source": [
        "Its seems from the above plot that in this dataset cell type Melanecytic nevi has very large number of instances in comparison to other cell types"
      ],
      "metadata": {
        "id": "so9R10naGIRr"
      }
    },
    {
      "cell_type": "code",
      "source": [
        "# Plotting of Technical Validation field (ground truth)\n",
        "skin_df['dx_type'].value_counts().plot(kind='bar')"
      ],
      "metadata": {
        "colab": {
          "base_uri": "https://localhost:8080/",
          "height": 325
        },
        "id": "y5io235lGkAT",
        "outputId": "ae3c9fdf-fb0c-4da3-89d6-8a963450bc09"
      },
      "execution_count": 25,
      "outputs": [
        {
          "output_type": "execute_result",
          "data": {
            "text/plain": [
              "<matplotlib.axes._subplots.AxesSubplot at 0x7f3bdcd08110>"
            ]
          },
          "metadata": {},
          "execution_count": 25
        },
        {
          "output_type": "display_data",
          "data": {
            "text/plain": [
              "<Figure size 432x288 with 1 Axes>"
            ],
            "image/png": "[encoded data removed]"
          },
          "metadata": {
            "needs_background": "light"
          }
        }
      ]
    },
    {
      "cell_type": "markdown",
      "source": [
        "Plotting of Technical Validation field (ground truth) which is dx_type to see the distribution of its 4 categories which are listed below :\n",
        "1. Histopathology(Histo): Histopathologic diagnoses of excised lesions have been performed by specialized dermatopathologists.\n",
        "2. Confocal: Reflectance confocal microscopy is an in-vivo imaging technique with a resolution at near-cellular level , and some facial benign with a grey-world assumption of all training-set images in Lab-color space before and after manual histogram changes.\n",
        "3. Follow-up: If nevi monitored by digital dermatoscopy did not show any changes during 3 follow-up visits or 1.5 years biologists accepted this as evidence of biologic benignity. Only nevi, but no other benign diagnoses were labeled with this type of ground-truth because dermatologists usually do not monitor dermatofibromas, seborrheic keratoses, or vascular lesions.\n",
        "4. Consensus: For typical benign cases without histopathology or followup biologists provide an expert-consensus rating of authors PT and HK. They applied the consensus label only if both authors independently gave the same unequivocal benign diagnosis. Lesions with this type of groundtruth were usually photographed for educational reasons and did not need further follow-up or biopsy for confirmation."
      ],
      "metadata": {
        "id": "p2qkkf9nGnci"
      }
    },
    {
      "cell_type": "code",
      "source": [
        "# Plotting the distribution of localization field\n",
        "skin_df['localization'].value_counts().plot(kind='bar')"
      ],
      "metadata": {
        "colab": {
          "base_uri": "https://localhost:8080/",
          "height": 353
        },
        "id": "uIai_YlUG74-",
        "outputId": "989ca451-3349-43d5-e8e3-2164f247a714"
      },
      "execution_count": 26,
      "outputs": [
        {
          "output_type": "execute_result",
          "data": {
            "text/plain": [
              "<matplotlib.axes._subplots.AxesSubplot at 0x7f3bdcb16ad0>"
            ]
          },
          "metadata": {},
          "execution_count": 26
        },
        {
          "output_type": "display_data",
          "data": {
            "text/plain": [
              "<Figure size 432x288 with 1 Axes>"
            ],
            "image/png": "[encoded data removed]"
          },
          "metadata": {
            "needs_background": "light"
          }
        }
      ]
    },
    {
      "cell_type": "markdown",
      "source": [
        "It seems back , lower extremity,trunk and upper extremity are heavily compromised regions of skin cancer"
      ],
      "metadata": {
        "id": "eE6J2sAjG-Ew"
      }
    },
    {
      "cell_type": "code",
      "source": [
        "# Now, check the distribution of Age\n",
        "skin_df['age'].hist(bins=40)"
      ],
      "metadata": {
        "colab": {
          "base_uri": "https://localhost:8080/",
          "height": 282
        },
        "id": "D5te918HG_Ca",
        "outputId": "5412f783-34d1-4d81-bf78-625d1a4de625"
      },
      "execution_count": 27,
      "outputs": [
        {
          "output_type": "execute_result",
          "data": {
            "text/plain": [
              "<matplotlib.axes._subplots.AxesSubplot at 0x7f3bdd0b0a50>"
            ]
          },
          "metadata": {},
          "execution_count": 27
        },
        {
          "output_type": "display_data",
          "data": {
            "text/plain": [
              "<Figure size 432x288 with 1 Axes>"
            ],
            "image/png": "[encoded data removed]"
          },
          "metadata": {
            "needs_background": "light"
          }
        }
      ]
    },
    {
      "cell_type": "markdown",
      "source": [
        "It seems that there are larger instances of patients having age from 30 to 60"
      ],
      "metadata": {
        "id": "rkfRLyWSHC6A"
      }
    },
    {
      "cell_type": "code",
      "source": [
        "# Lets see the distribution of males and females\n",
        "skin_df['sex'].value_counts().plot(kind='bar')"
      ],
      "metadata": {
        "colab": {
          "base_uri": "https://localhost:8080/",
          "height": 318
        },
        "id": "KxwImpmsHE56",
        "outputId": "9a0f5554-e207-45e0-c7e3-d6f91a9ec2c0"
      },
      "execution_count": 28,
      "outputs": [
        {
          "output_type": "execute_result",
          "data": {
            "text/plain": [
              "<matplotlib.axes._subplots.AxesSubplot at 0x7f3bdd123990>"
            ]
          },
          "metadata": {},
          "execution_count": 28
        },
        {
          "output_type": "display_data",
          "data": {
            "text/plain": [
              "<Figure size 432x288 with 1 Axes>"
            ],
            "image/png": "[encoded data removed]"
          },
          "metadata": {
            "needs_background": "light"
          }
        }
      ]
    },
    {
      "cell_type": "code",
      "source": [
        "# Now lets visualize agewise distribution of skin cancer types\n",
        "sns.scatterplot('age','cell_type_idx',data=skin_df)"
      ],
      "metadata": {
        "colab": {
          "base_uri": "https://localhost:8080/",
          "height": 351
        },
        "id": "bxheHZZcHJQk",
        "outputId": "c9012e08-8440-42fe-a804-287bdac94f9e"
      },
      "execution_count": 29,
      "outputs": [
        {
          "output_type": "stream",
          "name": "stderr",
          "text": [
            "/usr/local/lib/python3.7/dist-packages/seaborn/_decorators.py:43: FutureWarning: Pass the following variables as keyword args: x, y. From version 0.12, the only valid positional argument will be `data`, and passing other arguments without an explicit keyword will result in an error or misinterpretation.\n",
            "  FutureWarning\n"
          ]
        },
        {
          "output_type": "execute_result",
          "data": {
            "text/plain": [
              "<matplotlib.axes._subplots.AxesSubplot at 0x7f3bd0077b10>"
            ]
          },
          "metadata": {},
          "execution_count": 29
        },
        {
          "output_type": "display_data",
          "data": {
            "text/plain": [
              "<Figure size 432x288 with 1 Axes>"
            ],
            "image/png": "[encoded data removed]"
          },
          "metadata": {
            "needs_background": "light"
          }
        }
      ]
    },
    {
      "cell_type": "markdown",
      "source": [
        "It seems that skin cancer types 0,1, 3 and 5 which are Melanocytic nevi,dermatofibroma,Basal cell carcinoma and Vascular lesions are not much prevalant below the age of 20 years"
      ],
      "metadata": {
        "id": "cLs3Q8o2HNNS"
      }
    },
    {
      "cell_type": "code",
      "source": [
        "# let's see the Sexwise distribution of skin cancer type\n",
        "import seaborn as sns\n",
        "sns.factorplot('sex','cell_type_idx',data=skin_df)"
      ],
      "metadata": {
        "colab": {
          "base_uri": "https://localhost:8080/",
          "height": 476
        },
        "id": "MiN_0MT_HO0N",
        "outputId": "cc25d9f6-e6ff-4103-de1f-03d960e85dad"
      },
      "execution_count": 30,
      "outputs": [
        {
          "output_type": "stream",
          "name": "stderr",
          "text": [
            "/usr/local/lib/python3.7/dist-packages/seaborn/categorical.py:3717: UserWarning: The `factorplot` function has been renamed to `catplot`. The original name will be removed in a future release. Please update your code. Note that the default `kind` in `factorplot` (`'point'`) has changed `'strip'` in `catplot`.\n",
            "  warnings.warn(msg)\n",
            "/usr/local/lib/python3.7/dist-packages/seaborn/_decorators.py:43: FutureWarning: Pass the following variables as keyword args: x, y. From version 0.12, the only valid positional argument will be `data`, and passing other arguments without an explicit keyword will result in an error or misinterpretation.\n",
            "  FutureWarning\n"
          ]
        },
        {
          "output_type": "execute_result",
          "data": {
            "text/plain": [
              "<seaborn.axisgrid.FacetGrid at 0x7f3bd0077710>"
            ]
          },
          "metadata": {},
          "execution_count": 30
        },
        {
          "output_type": "display_data",
          "data": {
            "text/plain": [
              "<Figure size 360x360 with 1 Axes>"
            ],
            "image/png": "[encoded data removed]"
          },
          "metadata": {
            "needs_background": "light"
          }
        }
      ]
    },
    {
      "cell_type": "markdown",
      "source": [
        "## **Data Preparation**\n"
      ],
      "metadata": {
        "id": "_-PCwfDUHers"
      }
    },
    {
      "cell_type": "markdown",
      "source": [
        "**Load and resize of image**\n",
        "\n",
        "In this step images will be loaded into the column named image from the image path from the image folder. We also resize the images as the original dimension of images are 450 x 600 x3 which TensorFlow can't handle, so that's why we resize it into 100 x 75. As this step resize all the 10015 images dimensions into 100x 75 so be patient it will take some time."
      ],
      "metadata": {
        "id": "tb-cceltHlWt"
      }
    },
    {
      "cell_type": "code",
      "source": [
        "# Resize images\n",
        "skin_df['image'] = skin_df['path'].map(lambda x: np.asarray(Image.open(x).resize((28, 28))))"
      ],
      "metadata": {
        "id": "CMVpeqRyIz08"
      },
      "execution_count": 31,
      "outputs": []
    },
    {
      "cell_type": "code",
      "source": [
        "skin_df.head()"
      ],
      "metadata": {
        "colab": {
          "base_uri": "https://localhost:8080/",
          "height": 930
        },
        "id": "Y1pI2uZ2I4Xw",
        "outputId": "63938203-72ad-45bd-8fe9-3774b9cb8356"
      },
      "execution_count": 32,
      "outputs": [
        {
          "output_type": "execute_result",
          "data": {
            "text/plain": [
              "     lesion_id      image_id   dx dx_type   age   sex localization  \\\n",
              "0  HAM_0000118  ISIC_0027419  bkl   histo  80.0  male        scalp   \n",
              "1  HAM_0000118  ISIC_0025030  bkl   histo  80.0  male        scalp   \n",
              "2  HAM_0002730  ISIC_0026769  bkl   histo  80.0  male        scalp   \n",
              "3  HAM_0002730  ISIC_0025661  bkl   histo  80.0  male        scalp   \n",
              "4  HAM_0001466  ISIC_0031633  bkl   histo  75.0  male          ear   \n",
              "\n",
              "                                                path  \\\n",
              "0  /content/skin-cancer-mnist-ham10000/ham10000_i...   \n",
              "1  /content/skin-cancer-mnist-ham10000/ham10000_i...   \n",
              "2  /content/skin-cancer-mnist-ham10000/ham10000_i...   \n",
              "3  /content/skin-cancer-mnist-ham10000/ham10000_i...   \n",
              "4  /content/skin-cancer-mnist-ham10000/ham10000_i...   \n",
              "\n",
              "                        cell_type  cell_type_idx  \\\n",
              "0  Benign keratosis-like lesions               2   \n",
              "1  Benign keratosis-like lesions               2   \n",
              "2  Benign keratosis-like lesions               2   \n",
              "3  Benign keratosis-like lesions               2   \n",
              "4  Benign keratosis-like lesions               2   \n",
              "\n",
              "                                               image  \n",
              "0  [[[192, 153, 193], [195, 155, 192], [197, 154,...  \n",
              "1  [[[27, 16, 32], [69, 49, 76], [122, 93, 126], ...  \n",
              "2  [[[192, 138, 153], [200, 144, 162], [202, 142,...  \n",
              "3  [[[40, 21, 31], [95, 61, 73], [143, 102, 118],...  \n",
              "4  [[[159, 114, 140], [194, 144, 173], [215, 162,...  "
            ],
            "text/html": [
              "\n",
              "  <div id=\"df-46d33bd9-b26d-4c3f-82fd-ceb505674000\">\n",
              "    <div class=\"colab-df-container\">\n",
              "      <div>\n",
              "<style scoped>\n",
              "    .dataframe tbody tr th:only-of-type {\n",
              "        vertical-align: middle;\n",
              "    }\n",
              "\n",
              "    .dataframe tbody tr th {\n",
              "        vertical-align: top;\n",
              "    }\n",
              "\n",
              "    .dataframe thead th {\n",
              "        text-align: right;\n",
              "    }\n",
              "</style>\n",
              "<table border=\"1\" class=\"dataframe\">\n",
              "  <thead>\n",
              "    <tr style=\"text-align: right;\">\n",
              "      <th></th>\n",
              "      <th>lesion_id</th>\n",
              "      <th>image_id</th>\n",
              "      <th>dx</th>\n",
              "      <th>dx_type</th>\n",
              "      <th>age</th>\n",
              "      <th>sex</th>\n",
              "      <th>localization</th>\n",
              "      <th>path</th>\n",
              "      <th>cell_type</th>\n",
              "      <th>cell_type_idx</th>\n",
              "      <th>image</th>\n",
              "    </tr>\n",
              "  </thead>\n",
              "  <tbody>\n",
              "    <tr>\n",
              "      <th>0</th>\n",
              "      <td>HAM_0000118</td>\n",
              "      <td>ISIC_0027419</td>\n",
              "      <td>bkl</td>\n",
              "      <td>histo</td>\n",
              "      <td>80.0</td>\n",
              "      <td>male</td>\n",
              "      <td>scalp</td>\n",
              "      <td>/content/skin-cancer-mnist-ham10000/ham10000_i...</td>\n",
              "      <td>Benign keratosis-like lesions</td>\n",
              "      <td>2</td>\n",
              "      <td>[[[192, 153, 193], [195, 155, 192], [197, 154,...</td>\n",
              "    </tr>\n",
              "    <tr>\n",
              "      <th>1</th>\n",
              "      <td>HAM_0000118</td>\n",
              "      <td>ISIC_0025030</td>\n",
              "      <td>bkl</td>\n",
              "      <td>histo</td>\n",
              "      <td>80.0</td>\n",
              "      <td>male</td>\n",
              "      <td>scalp</td>\n",
              "      <td>/content/skin-cancer-mnist-ham10000/ham10000_i...</td>\n",
              "      <td>Benign keratosis-like lesions</td>\n",
              "      <td>2</td>\n",
              "      <td>[[[27, 16, 32], [69, 49, 76], [122, 93, 126], ...</td>\n",
              "    </tr>\n",
              "    <tr>\n",
              "      <th>2</th>\n",
              "      <td>HAM_0002730</td>\n",
              "      <td>ISIC_0026769</td>\n",
              "      <td>bkl</td>\n",
              "      <td>histo</td>\n",
              "      <td>80.0</td>\n",
              "      <td>male</td>\n",
              "      <td>scalp</td>\n",
              "      <td>/content/skin-cancer-mnist-ham10000/ham10000_i...</td>\n",
              "      <td>Benign keratosis-like lesions</td>\n",
              "      <td>2</td>\n",
              "      <td>[[[192, 138, 153], [200, 144, 162], [202, 142,...</td>\n",
              "    </tr>\n",
              "    <tr>\n",
              "      <th>3</th>\n",
              "      <td>HAM_0002730</td>\n",
              "      <td>ISIC_0025661</td>\n",
              "      <td>bkl</td>\n",
              "      <td>histo</td>\n",
              "      <td>80.0</td>\n",
              "      <td>male</td>\n",
              "      <td>scalp</td>\n",
              "      <td>/content/skin-cancer-mnist-ham10000/ham10000_i...</td>\n",
              "      <td>Benign keratosis-like lesions</td>\n",
              "      <td>2</td>\n",
              "      <td>[[[40, 21, 31], [95, 61, 73], [143, 102, 118],...</td>\n",
              "    </tr>\n",
              "    <tr>\n",
              "      <th>4</th>\n",
              "      <td>HAM_0001466</td>\n",
              "      <td>ISIC_0031633</td>\n",
              "      <td>bkl</td>\n",
              "      <td>histo</td>\n",
              "      <td>75.0</td>\n",
              "      <td>male</td>\n",
              "      <td>ear</td>\n",
              "      <td>/content/skin-cancer-mnist-ham10000/ham10000_i...</td>\n",
              "      <td>Benign keratosis-like lesions</td>\n",
              "      <td>2</td>\n",
              "      <td>[[[159, 114, 140], [194, 144, 173], [215, 162,...</td>\n",
              "    </tr>\n",
              "  </tbody>\n",
              "</table>\n",
              "</div>\n",
              "      <button class=\"colab-df-convert\" onclick=\"convertToInteractive('df-46d33bd9-b26d-4c3f-82fd-ceb505674000')\"\n",
              "              title=\"Convert this dataframe to an interactive table.\"\n",
              "              style=\"display:none;\">\n",
              "        \n",
              "  <svg xmlns=\"http://www.w3.org/2000/svg\" height=\"24px\"viewBox=\"0 0 24 24\"\n",
              "       width=\"24px\">\n",
              "    <path d=\"M0 0h24v24H0V0z\" fill=\"none\"/>\n",
              "    <path d=\"M18.56 5.44l.94 2.06.94-2.06 2.06-.94-2.06-.94-.94-2.06-.94 2.06-2.06.94zm-11 1L8.5 8.5l.94-2.06 2.06-.94-2.06-.94L8.5 2.5l-.94 2.06-2.06.94zm10 10l.94 2.06.94-2.06 2.06-.94-2.06-.94-.94-2.06-.94 2.06-2.06.94z\"/><path d=\"M17.41 7.96l-1.37-1.37c-.4-.4-.92-.59-1.43-.59-.52 0-1.04.2-1.43.59L10.3 9.45l-7.72 7.72c-.78.78-.78 2.05 0 2.83L4 21.41c.39.39.9.59 1.41.59.51 0 1.02-.2 1.41-.59l7.78-7.78 2.81-2.81c.8-.78.8-2.07 0-2.86zM5.41 20L4 18.59l7.72-7.72 1.47 1.35L5.41 20z\"/>\n",
              "  </svg>\n",
              "      </button>\n",
              "      \n",
              "  <style>\n",
              "    .colab-df-container {\n",
              "      display:flex;\n",
              "      flex-wrap:wrap;\n",
              "      gap: 12px;\n",
              "    }\n",
              "\n",
              "    .colab-df-convert {\n",
              "      background-color: #E8F0FE;\n",
              "      border: none;\n",
              "      border-radius: 50%;\n",
              "      cursor: pointer;\n",
              "      display: none;\n",
              "      fill: #1967D2;\n",
              "      height: 32px;\n",
              "      padding: 0 0 0 0;\n",
              "      width: 32px;\n",
              "    }\n",
              "\n",
              "    .colab-df-convert:hover {\n",
              "      background-color: #E2EBFA;\n",
              "      box-shadow: 0px 1px 2px rgba(60, 64, 67, 0.3), 0px 1px 3px 1px rgba(60, 64, 67, 0.15);\n",
              "      fill: #174EA6;\n",
              "    }\n",
              "\n",
              "    [theme=dark] .colab-df-convert {\n",
              "      background-color: #3B4455;\n",
              "      fill: #D2E3FC;\n",
              "    }\n",
              "\n",
              "    [theme=dark] .colab-df-convert:hover {\n",
              "      background-color: #434B5C;\n",
              "      box-shadow: 0px 1px 3px 1px rgba(0, 0, 0, 0.15);\n",
              "      filter: drop-shadow(0px 1px 2px rgba(0, 0, 0, 0.3));\n",
              "      fill: #FFFFFF;\n",
              "    }\n",
              "  </style>\n",
              "\n",
              "      <script>\n",
              "        const buttonEl =\n",
              "          document.querySelector('#df-46d33bd9-b26d-4c3f-82fd-ceb505674000 button.colab-df-convert');\n",
              "        buttonEl.style.display =\n",
              "          google.colab.kernel.accessAllowed ? 'block' : 'none';\n",
              "\n",
              "        async function convertToInteractive(key) {\n",
              "          const element = document.querySelector('#df-46d33bd9-b26d-4c3f-82fd-ceb505674000');\n",
              "          const dataTable =\n",
              "            await google.colab.kernel.invokeFunction('convertToInteractive',\n",
              "                                                     [key], {});\n",
              "          if (!dataTable) return;\n",
              "\n",
              "          const docLinkHtml = 'Like what you see? Visit the ' +\n",
              "            '<a target=\"_blank\" href=https://colab.research.google.com/notebooks/data_table.ipynb>data table notebook</a>'\n",
              "            + ' to learn more about interactive tables.';\n",
              "          element.innerHTML = '';\n",
              "          dataTable['output_type'] = 'display_data';\n",
              "          await google.colab.output.renderOutput(dataTable, element);\n",
              "          const docLink = document.createElement('div');\n",
              "          docLink.innerHTML = docLinkHtml;\n",
              "          element.appendChild(docLink);\n",
              "        }\n",
              "      </script>\n",
              "    </div>\n",
              "  </div>\n",
              "  "
            ]
          },
          "metadata": {},
          "execution_count": 32
        }
      ]
    },
    {
      "cell_type": "markdown",
      "source": [
        "As we can see image column has been added in its color format code"
      ],
      "metadata": {
        "id": "_mMa_sGfI7U9"
      }
    },
    {
      "cell_type": "markdown",
      "source": [
        "Load images"
      ],
      "metadata": {
        "id": "KAtlOMlsJC_J"
      }
    },
    {
      "cell_type": "code",
      "source": [
        "# Most interesting part its always better to see sample of images Below we will show images of each cancer type\n",
        "n_samples = 5\n",
        "fig, m_axs = plt.subplots(7, n_samples, figsize = (4*n_samples, 3*7))\n",
        "for n_axs, (type_name, type_rows) in zip(m_axs, \n",
        "                                         skin_df.sort_values(['cell_type']).groupby('cell_type')):\n",
        "    n_axs[0].set_title(type_name)\n",
        "    for c_ax, (_, c_row) in zip(n_axs, type_rows.sample(n_samples, random_state=1234).iterrows()):\n",
        "        c_ax.imshow(c_row['image'])\n",
        "        c_ax.axis('off')\n",
        "fig.savefig('category_samples.png', dpi=300)"
      ],
      "metadata": {
        "colab": {
          "base_uri": "https://localhost:8080/",
          "height": 1000
        },
        "id": "oXr_vEmdI-lI",
        "outputId": "0b26e065-8a36-457b-c563-096e1f52557c"
      },
      "execution_count": 33,
      "outputs": [
        {
          "output_type": "display_data",
          "data": {
            "text/plain": [
              "<Figure size 1440x1512 with 35 Axes>"
            ],
            "image/png": "[encoded data removed]"
          },
          "metadata": {
            "needs_background": "light"
          }
        }
      ]
    },
    {
      "cell_type": "code",
      "source": [
        "skin_df['image'].map(lambda x: x.shape).value_counts()"
      ],
      "metadata": {
        "colab": {
          "base_uri": "https://localhost:8080/"
        },
        "id": "lbpDLCeVJGKs",
        "outputId": "a9c8f808-bf96-48f1-ce97-5edb0d2b29af"
      },
      "execution_count": 34,
      "outputs": [
        {
          "output_type": "execute_result",
          "data": {
            "text/plain": [
              "(28, 28, 3)    10015\n",
              "Name: image, dtype: int64"
            ]
          },
          "metadata": {},
          "execution_count": 34
        }
      ]
    },
    {
      "cell_type": "markdown",
      "source": [
        "## **Modeling**"
      ],
      "metadata": {
        "id": "0ukbknmbK3xk"
      }
    },
    {
      "cell_type": "markdown",
      "source": [
        "**Modeling CNN model**\n",
        "\n",
        "I used the Keras Sequential API, where you have just to add one layer at a time, starting from the input.\n",
        "\n",
        "The first is the convolutional (Conv2D) layer. It is like a set of learnable filters. I choosed to set 32 filters for the two firsts conv2D layers and 64 filters for the two last ones. Each filter transforms a part of the image (defined by the kernel size) using the kernel filter. The kernel filter matrix is applied on the whole image. Filters can be seen as a transformation of the image.\n",
        "\n",
        "The CNN can isolate features that are useful everywhere from these transformed images (feature maps).\n",
        "\n",
        "The second important layer in CNN is the pooling (MaxPool2D) layer. This layer simply acts as a downsampling filter. It looks at the 2 neighboring pixels and picks the maximal value. These are used to reduce computational cost, and to some extent also reduce overfitting. We have to choose the pooling size (i.e the area size pooled each time) more the pooling dimension is high, more the downsampling is important.\n",
        "\n",
        "Combining convolutional and pooling layers, CNN are able to combine local features and learn more global features of the image.\n",
        "\n",
        "Dropout is a regularization method, where a proportion of nodes in the layer are randomly ignored (setting their wieghts to zero) for each training sample. This drops randomly a propotion of the network and forces the network to learn features in a distributed way. This technique also improves generalization and reduces the overfitting.\n",
        "\n",
        "'relu' is the rectifier (activation function max(0,x). The rectifier activation function is used to add non linearity to the network.\n",
        "\n",
        "The Flatten layer is use to convert the final feature maps into a one single 1D vector. This flattening step is needed so that you can make use of fully connected layers after some convolutional/maxpool layers. It combines all the found local features of the previous convolutional layers.\n",
        "\n",
        "In the end i used the features in two fully-connected (Dense) layers which is just artificial an neural networks (ANN) classifier. In the last layer(Dense(10,activation=\"softmax\")) the net outputs distribution of probability of each class."
      ],
      "metadata": {
        "id": "nEsOoYziK6NX"
      }
    },
    {
      "cell_type": "code",
      "source": [
        "# Architecture of CNN Model\n",
        "from keras.callbacks import ReduceLROnPlateau\n",
        "from keras.models import Sequential\n",
        "from keras.layers import Dense, Dropout, Flatten\n",
        "from keras.layers import Conv2D, MaxPooling2D\n",
        "\n",
        "input_shape = (28, 28, 3)\n",
        "num_classes = 7\n",
        "model = Sequential([\n",
        "    Conv2D(32, 3, padding='same', activation='relu', input_shape=input_shape),\n",
        "    Conv2D(32, 3, padding='same', activation='relu'),\n",
        "    MaxPooling2D(),\n",
        "    Dropout(0.25),\n",
        "\n",
        "    Conv2D(64, 3, padding='same', activation='relu', input_shape=input_shape),\n",
        "    Conv2D(64, 3, padding='same', activation='relu'),\n",
        "    MaxPooling2D(),\n",
        "    Dropout(0.4),\n",
        "    \n",
        "    Conv2D(128, 3, padding='same', activation='relu'),\n",
        "    MaxPooling2D(),\n",
        "    Dropout(0.5),\n",
        "    \n",
        "    Flatten(),\n",
        "    Dense(512, activation='relu'),\n",
        "    Dropout(0.55),\n",
        "    Dense(7, activation='softmax')\n",
        "])\n",
        "\n",
        "model.compile(optimizer='adam',\n",
        "              loss='binary_crossentropy',\n",
        "              metrics=['accuracy'])\n",
        "\n",
        "learning_rate_reduction = ReduceLROnPlateau(monitor='val_loss', \n",
        "                                            patience=3, \n",
        "                                            verbose=1, \n",
        "                                            factor=0.5, \n",
        "                                            min_lr=0.001)\n",
        "\n",
        "model.summary()"
      ],
      "metadata": {
        "colab": {
          "base_uri": "https://localhost:8080/"
        },
        "id": "5LZ_vMR7LBof",
        "outputId": "9924a851-bd39-4f55-9fe5-531218febcae"
      },
      "execution_count": 35,
      "outputs": [
        {
          "output_type": "stream",
          "name": "stdout",
          "text": [
            "Model: \"sequential_1\"\n",
            "_________________________________________________________________\n",
            " Layer (type)                Output Shape              Param #   \n",
            "=================================================================\n",
            " conv2d_4 (Conv2D)           (None, 28, 28, 32)        896       \n",
            "                                                                 \n",
            " conv2d_5 (Conv2D)           (None, 28, 28, 32)        9248      \n",
            "                                                                 \n",
            " max_pooling2d_2 (MaxPooling  (None, 14, 14, 32)       0         \n",
            " 2D)                                                             \n",
            "                                                                 \n",
            " dropout_3 (Dropout)         (None, 14, 14, 32)        0         \n",
            "                                                                 \n",
            " conv2d_6 (Conv2D)           (None, 14, 14, 64)        18496     \n",
            "                                                                 \n",
            " conv2d_7 (Conv2D)           (None, 14, 14, 64)        36928     \n",
            "                                                                 \n",
            " max_pooling2d_3 (MaxPooling  (None, 7, 7, 64)         0         \n",
            " 2D)                                                             \n",
            "                                                                 \n",
            " dropout_4 (Dropout)         (None, 7, 7, 64)          0         \n",
            "                                                                 \n",
            " conv2d_8 (Conv2D)           (None, 7, 7, 128)         73856     \n",
            "                                                                 \n",
            " max_pooling2d_4 (MaxPooling  (None, 3, 3, 128)        0         \n",
            " 2D)                                                             \n",
            "                                                                 \n",
            " dropout_5 (Dropout)         (None, 3, 3, 128)         0         \n",
            "                                                                 \n",
            " flatten_1 (Flatten)         (None, 1152)              0         \n",
            "                                                                 \n",
            " dense_2 (Dense)             (None, 512)               590336    \n",
            "                                                                 \n",
            " dropout_6 (Dropout)         (None, 512)               0         \n",
            "                                                                 \n",
            " dense_3 (Dense)             (None, 7)                 3591      \n",
            "                                                                 \n",
            "=================================================================\n",
            "Total params: 733,351\n",
            "Trainable params: 733,351\n",
            "Non-trainable params: 0\n",
            "_________________________________________________________________\n"
          ]
        }
      ]
    },
    {
      "cell_type": "markdown",
      "source": [
        "**Set OPtimizer and annealer**\n",
        "\n",
        "Once our layers are added to the model, we need to set up a score function, a loss function and an optimisation algorithm. We define the loss function to measure how poorly our model performs on images with known labels. It is the error rate between the oberved labels and the predicted ones. We use a specific form for categorical classifications (>2 classes) called the \"categorical_crossentropy\". The most important function is the optimizer. This function will iteratively improve parameters (filters kernel values, weights and bias of neurons ...) in order to minimise the loss. I choosed Adam optimizer because it combines the advantages of two other extensions of stochastic gradient descent. Specifically:\n",
        "\n",
        "Adaptive Gradient Algorithm (AdaGrad) that maintains a per-parameter learning rate that improves performance on problems with sparse gradients (e.g. natural language and computer vision problems).\n",
        "\n",
        "Root Mean Square Propagation (RMSProp) that also maintains per-parameter learning rates that are adapted based on the average of recent magnitudes of the gradients for the weight (e.g. how quickly it is changing). This means the algorithm does well on online and non-stationary problems (e.g. noisy).\n",
        "\n",
        "Adam realizes the benefits of both AdaGrad and RMSProp.\n",
        "\n",
        "Adam is a popular algorithm in the field of deep learning because it achieves good results fast.\n",
        "\n",
        "The metric function \"accuracy\" is used is to evaluate the performance our model. This metric function is similar to the loss function, except that the results from the metric evaluation are not used when training the model (only for evaluation)."
      ],
      "metadata": {
        "id": "gLUxEm7BLIbF"
      }
    },
    {
      "cell_type": "markdown",
      "source": [
        "In order to make the optimizer converge faster and closest to the global minimum of the loss function, i used an annealing method of the learning rate (LR).\n",
        "\n",
        "The LR is the step by which the optimizer walks through the 'loss landscape'. The higher LR, the bigger are the steps and the quicker is the convergence. However the sampling is very poor with an high LR and the optimizer could probably fall into a local minima.\n",
        "\n",
        "Its better to have a decreasing learning rate during the training to reach efficiently the global minimum of the loss function.\n",
        "\n",
        "To keep the advantage of the fast computation time with a high LR, i decreased the LR dynamically every X steps (epochs) depending if it is necessary (when accuracy is not improved).\n",
        "\n",
        "With the ReduceLROnPlateau function from Keras.callbacks, i choose to reduce the LR by half if the accuracy is not improved after 3 epochs.\n",
        "\n",
        "**Learning Rate Reduction** The learning rate refers to how quickly the model can be adapted to the problem. It is a method update the weights during training. Depending on the size, the epochs need to be adjusted accordingly because smaller learning rates make smaller changes, thus need more epochs, while large learning rates result in rapid changes, thus need fewer epochs."
      ],
      "metadata": {
        "id": "J5BxoOIlLXQY"
      }
    },
    {
      "cell_type": "markdown",
      "source": [
        "**Data Augmentation**\n",
        "\n",
        "**Image Data Augmentation** A problem with this dataset includes the overfitting of one class. Therefore, in order to combat this I wanted to used ImageDataGenerator, a function in keras, which takes a batch of training images and applies transformations (i.e., rotation, zoom, shifts). After these transformations are completed, this function returns the original data and the transformed data. randomly transforming it, and then returning the transformed data, which is used to train the CNN.\n",
        "It is the optional step. In order to avoid overfitting problem, we need to expand artificially our HAM 10000 dataset. We can make your existing dataset even larger. The idea is to alter the training data with small transformations to reproduce the variations\n",
        "\n",
        "Approaches that alter the training data in ways that change the array representation while keeping the label the same are known as data augmentation techniques. Some popular augmentations people use are grayscales, horizontal flips, vertical flips, random crops, color jitters, translations, rotations, and much more.\n",
        "\n",
        "By applying just a couple of these transformations to our training data, we can easily double or triple the number of training examples and create a very robust model."
      ],
      "metadata": {
        "id": "NW_86e4KLYmF"
      }
    },
    {
      "cell_type": "code",
      "source": [
        "# With data augmentation to prevent overfitting \n",
        "\n",
        "datagen = ImageDataGenerator(\n",
        "        featurewise_center=False,  # set input mean to 0 over the dataset\n",
        "        samplewise_center=False,  # set each sample mean to 0\n",
        "        featurewise_std_normalization=False,  # divide inputs by std of the dataset\n",
        "        samplewise_std_normalization=False,  # divide each input by its std\n",
        "        zca_whitening=False,  # apply ZCA whitening\n",
        "        rotation_range=10,  # randomly rotate images in the range (degrees, 0 to 180)\n",
        "        zoom_range = 0.1, # Randomly zoom image \n",
        "        width_shift_range=0.1,  # randomly shift images horizontally (fraction of total width)\n",
        "        height_shift_range=0.1,  # randomly shift images vertically (fraction of total height)\n",
        "        horizontal_flip=False,  # randomly flip images\n",
        "        vertical_flip=False)  # randomly flip images\n",
        "\n",
        "datagen.fit(X_train)"
      ],
      "metadata": {
        "id": "LMCvk15BLeM4"
      },
      "execution_count": 36,
      "outputs": []
    },
    {
      "cell_type": "markdown",
      "source": [
        "For the data augmentation, i choosed to : Randomly rotate some training images by 10 degrees Randomly Zoom by 10% some training images Randomly shift images horizontally by 10% of the width Randomly shift images vertically by 10% of the height Once our model is ready, we fit the training dataset ."
      ],
      "metadata": {
        "id": "E9IKVFtTLf2u"
      }
    },
    {
      "cell_type": "markdown",
      "source": [
        "**Fitting the model**\n",
        "\n",
        "In this step finally I fit the model into x_train, y_train. In this step I have choosen batch size of 10 and 50 epochs as small as your batch size will be more efficiently your model will train and I have choosen 50 epochs to give the model sufficient epochs to train"
      ],
      "metadata": {
        "id": "eC_cKSfmLii7"
      }
    },
    {
      "cell_type": "code",
      "source": [
        "# Fit the model (Iteration 1)\n",
        "epochs = 50 \n",
        "batch_size = 100\n",
        "history = model.fit_generator(\n",
        "    datagen.flow(X_train,y_train, batch_size=batch_size),\n",
        "    steps_per_epoch=X_train.shape[0] // batch_size,\n",
        "    epochs=epochs,\n",
        "    validation_data=(X_validate,y_validate),\n",
        "    validation_steps=X_validate.shape[0] // batch_size\n",
        "    ,callbacks=[learning_rate_reduction]\n",
        ")"
      ],
      "metadata": {
        "colab": {
          "base_uri": "https://localhost:8080/"
        },
        "id": "bZjFxZC2LnbA",
        "outputId": "a38a6b0e-7fd3-47c5-9a77-7310f75fe2ab"
      },
      "execution_count": 37,
      "outputs": [
        {
          "output_type": "stream",
          "name": "stdout",
          "text": [
            "Epoch 1/50\n"
          ]
        },
        {
          "output_type": "stream",
          "name": "stderr",
          "text": [
            "/usr/local/lib/python3.7/dist-packages/ipykernel_launcher.py:10: UserWarning: `Model.fit_generator` is deprecated and will be removed in a future version. Please use `Model.fit`, which supports generators.\n",
            "  # Remove the CWD from sys.path while we load stuff.\n"
          ]
        },
        {
          "output_type": "stream",
          "name": "stdout",
          "text": [
            "72/72 [==============================] - 5s 47ms/step - loss: 0.2744 - accuracy: 0.6630 - val_loss: 0.2406 - val_accuracy: 0.6596 - lr: 0.0010\n",
            "Epoch 2/50\n",
            "72/72 [==============================] - 3s 42ms/step - loss: 0.2360 - accuracy: 0.6698 - val_loss: 0.2309 - val_accuracy: 0.6596 - lr: 0.0010\n",
            "Epoch 3/50\n",
            "72/72 [==============================] - 3s 43ms/step - loss: 0.2250 - accuracy: 0.6719 - val_loss: 0.2203 - val_accuracy: 0.6721 - lr: 0.0010\n",
            "Epoch 4/50\n",
            "72/72 [==============================] - 3s 42ms/step - loss: 0.2199 - accuracy: 0.6747 - val_loss: 0.2145 - val_accuracy: 0.6608 - lr: 0.0010\n",
            "Epoch 5/50\n",
            "72/72 [==============================] - 3s 42ms/step - loss: 0.2107 - accuracy: 0.6805 - val_loss: 0.2043 - val_accuracy: 0.6696 - lr: 0.0010\n",
            "Epoch 6/50\n",
            "72/72 [==============================] - 3s 42ms/step - loss: 0.2047 - accuracy: 0.6838 - val_loss: 0.1994 - val_accuracy: 0.6733 - lr: 0.0010\n",
            "Epoch 7/50\n",
            "72/72 [==============================] - 3s 42ms/step - loss: 0.2000 - accuracy: 0.6795 - val_loss: 0.1978 - val_accuracy: 0.6820 - lr: 0.0010\n",
            "Epoch 8/50\n",
            "72/72 [==============================] - 3s 43ms/step - loss: 0.1976 - accuracy: 0.6904 - val_loss: 0.1965 - val_accuracy: 0.6796 - lr: 0.0010\n",
            "Epoch 9/50\n",
            "72/72 [==============================] - 3s 43ms/step - loss: 0.1969 - accuracy: 0.6903 - val_loss: 0.1934 - val_accuracy: 0.6933 - lr: 0.0010\n",
            "Epoch 10/50\n",
            "72/72 [==============================] - 3s 43ms/step - loss: 0.1951 - accuracy: 0.6924 - val_loss: 0.1952 - val_accuracy: 0.6796 - lr: 0.0010\n",
            "Epoch 11/50\n",
            "72/72 [==============================] - 3s 42ms/step - loss: 0.1911 - accuracy: 0.6934 - val_loss: 0.1963 - val_accuracy: 0.6845 - lr: 0.0010\n",
            "Epoch 12/50\n",
            "72/72 [==============================] - 3s 42ms/step - loss: 0.1903 - accuracy: 0.6968 - val_loss: 0.2134 - val_accuracy: 0.6796 - lr: 0.0010\n",
            "Epoch 13/50\n",
            "72/72 [==============================] - 3s 43ms/step - loss: 0.1963 - accuracy: 0.6903 - val_loss: 0.1881 - val_accuracy: 0.6908 - lr: 0.0010\n",
            "Epoch 14/50\n",
            "72/72 [==============================] - 3s 43ms/step - loss: 0.1872 - accuracy: 0.7015 - val_loss: 0.1885 - val_accuracy: 0.6958 - lr: 0.0010\n",
            "Epoch 15/50\n",
            "72/72 [==============================] - 3s 44ms/step - loss: 0.1859 - accuracy: 0.7073 - val_loss: 0.1861 - val_accuracy: 0.6958 - lr: 0.0010\n",
            "Epoch 16/50\n",
            "72/72 [==============================] - 3s 43ms/step - loss: 0.1876 - accuracy: 0.7048 - val_loss: 0.1852 - val_accuracy: 0.7007 - lr: 0.0010\n",
            "Epoch 17/50\n",
            "72/72 [==============================] - 3s 43ms/step - loss: 0.1826 - accuracy: 0.7104 - val_loss: 0.1804 - val_accuracy: 0.7170 - lr: 0.0010\n",
            "Epoch 18/50\n",
            "72/72 [==============================] - 3s 44ms/step - loss: 0.1795 - accuracy: 0.7188 - val_loss: 0.1796 - val_accuracy: 0.7132 - lr: 0.0010\n",
            "Epoch 19/50\n",
            "72/72 [==============================] - 3s 44ms/step - loss: 0.1738 - accuracy: 0.7222 - val_loss: 0.1809 - val_accuracy: 0.7057 - lr: 0.0010\n",
            "Epoch 20/50\n",
            "72/72 [==============================] - 3s 43ms/step - loss: 0.1781 - accuracy: 0.7225 - val_loss: 0.1845 - val_accuracy: 0.7344 - lr: 0.0010\n",
            "Epoch 21/50\n",
            "72/72 [==============================] - 3s 43ms/step - loss: 0.1742 - accuracy: 0.7288 - val_loss: 0.1880 - val_accuracy: 0.7082 - lr: 0.0010\n",
            "Epoch 22/50\n",
            "72/72 [==============================] - 3s 43ms/step - loss: 0.1772 - accuracy: 0.7256 - val_loss: 0.1706 - val_accuracy: 0.7282 - lr: 0.0010\n",
            "Epoch 23/50\n",
            "72/72 [==============================] - 3s 42ms/step - loss: 0.1690 - accuracy: 0.7349 - val_loss: 0.1785 - val_accuracy: 0.7269 - lr: 0.0010\n",
            "Epoch 24/50\n",
            "72/72 [==============================] - 3s 44ms/step - loss: 0.1699 - accuracy: 0.7340 - val_loss: 0.1767 - val_accuracy: 0.7219 - lr: 0.0010\n",
            "Epoch 25/50\n",
            "72/72 [==============================] - 3s 42ms/step - loss: 0.1678 - accuracy: 0.7419 - val_loss: 0.1668 - val_accuracy: 0.7431 - lr: 0.0010\n",
            "Epoch 26/50\n",
            "72/72 [==============================] - 3s 43ms/step - loss: 0.1650 - accuracy: 0.7406 - val_loss: 0.1729 - val_accuracy: 0.7307 - lr: 0.0010\n",
            "Epoch 27/50\n",
            "72/72 [==============================] - 3s 43ms/step - loss: 0.1668 - accuracy: 0.7404 - val_loss: 0.1707 - val_accuracy: 0.7456 - lr: 0.0010\n",
            "Epoch 28/50\n",
            "72/72 [==============================] - 3s 43ms/step - loss: 0.1641 - accuracy: 0.7446 - val_loss: 0.1650 - val_accuracy: 0.7444 - lr: 0.0010\n",
            "Epoch 29/50\n",
            "72/72 [==============================] - 3s 45ms/step - loss: 0.1627 - accuracy: 0.7498 - val_loss: 0.1709 - val_accuracy: 0.7382 - lr: 0.0010\n",
            "Epoch 30/50\n",
            "72/72 [==============================] - 3s 43ms/step - loss: 0.1612 - accuracy: 0.7504 - val_loss: 0.1598 - val_accuracy: 0.7581 - lr: 0.0010\n",
            "Epoch 31/50\n",
            "72/72 [==============================] - 3s 43ms/step - loss: 0.1598 - accuracy: 0.7533 - val_loss: 0.1660 - val_accuracy: 0.7569 - lr: 0.0010\n",
            "Epoch 32/50\n",
            "72/72 [==============================] - 3s 42ms/step - loss: 0.1591 - accuracy: 0.7537 - val_loss: 0.1665 - val_accuracy: 0.7581 - lr: 0.0010\n",
            "Epoch 33/50\n",
            "72/72 [==============================] - 3s 43ms/step - loss: 0.1570 - accuracy: 0.7598 - val_loss: 0.1677 - val_accuracy: 0.7618 - lr: 0.0010\n",
            "Epoch 34/50\n",
            "72/72 [==============================] - 3s 44ms/step - loss: 0.1602 - accuracy: 0.7512 - val_loss: 0.1621 - val_accuracy: 0.7581 - lr: 0.0010\n",
            "Epoch 35/50\n",
            "72/72 [==============================] - 3s 42ms/step - loss: 0.1563 - accuracy: 0.7578 - val_loss: 0.1603 - val_accuracy: 0.7531 - lr: 0.0010\n",
            "Epoch 36/50\n",
            "72/72 [==============================] - 3s 43ms/step - loss: 0.1554 - accuracy: 0.7547 - val_loss: 0.1588 - val_accuracy: 0.7469 - lr: 0.0010\n",
            "Epoch 37/50\n",
            "72/72 [==============================] - 3s 42ms/step - loss: 0.1543 - accuracy: 0.7612 - val_loss: 0.1582 - val_accuracy: 0.7631 - lr: 0.0010\n",
            "Epoch 38/50\n",
            "72/72 [==============================] - 3s 43ms/step - loss: 0.1574 - accuracy: 0.7565 - val_loss: 0.1649 - val_accuracy: 0.7406 - lr: 0.0010\n",
            "Epoch 39/50\n",
            "72/72 [==============================] - 3s 43ms/step - loss: 0.1549 - accuracy: 0.7632 - val_loss: 0.1577 - val_accuracy: 0.7681 - lr: 0.0010\n",
            "Epoch 40/50\n",
            "72/72 [==============================] - 3s 42ms/step - loss: 0.1534 - accuracy: 0.7594 - val_loss: 0.1554 - val_accuracy: 0.7656 - lr: 0.0010\n",
            "Epoch 41/50\n",
            "72/72 [==============================] - 3s 43ms/step - loss: 0.1518 - accuracy: 0.7643 - val_loss: 0.1629 - val_accuracy: 0.7494 - lr: 0.0010\n",
            "Epoch 42/50\n",
            "72/72 [==============================] - 3s 43ms/step - loss: 0.1528 - accuracy: 0.7634 - val_loss: 0.1541 - val_accuracy: 0.7793 - lr: 0.0010\n",
            "Epoch 43/50\n",
            "72/72 [==============================] - 3s 42ms/step - loss: 0.1568 - accuracy: 0.7588 - val_loss: 0.1726 - val_accuracy: 0.7506 - lr: 0.0010\n",
            "Epoch 44/50\n",
            "72/72 [==============================] - 3s 42ms/step - loss: 0.1568 - accuracy: 0.7550 - val_loss: 0.1802 - val_accuracy: 0.7045 - lr: 0.0010\n",
            "Epoch 45/50\n",
            "72/72 [==============================] - 3s 42ms/step - loss: 0.1516 - accuracy: 0.7605 - val_loss: 0.1610 - val_accuracy: 0.7606 - lr: 0.0010\n",
            "Epoch 46/50\n",
            "72/72 [==============================] - 3s 42ms/step - loss: 0.1485 - accuracy: 0.7719 - val_loss: 0.1529 - val_accuracy: 0.7768 - lr: 0.0010\n",
            "Epoch 47/50\n",
            "72/72 [==============================] - 3s 42ms/step - loss: 0.1524 - accuracy: 0.7661 - val_loss: 0.1561 - val_accuracy: 0.7569 - lr: 0.0010\n",
            "Epoch 48/50\n",
            "72/72 [==============================] - 3s 43ms/step - loss: 0.1504 - accuracy: 0.7705 - val_loss: 0.1536 - val_accuracy: 0.7718 - lr: 0.0010\n",
            "Epoch 49/50\n",
            "72/72 [==============================] - 3s 42ms/step - loss: 0.1469 - accuracy: 0.7771 - val_loss: 0.1586 - val_accuracy: 0.7544 - lr: 0.0010\n",
            "Epoch 50/50\n",
            "72/72 [==============================] - 3s 42ms/step - loss: 0.1490 - accuracy: 0.7716 - val_loss: 0.1519 - val_accuracy: 0.7681 - lr: 0.0010\n"
          ]
        }
      ]
    },
    {
      "cell_type": "code",
      "source": [
        "# Fit the model (Iteration 1)\n",
        "epochs = 50 \n",
        "batch_size = 100\n",
        "history = model.fit_generator(\n",
        "    datagen.flow(X_train,y_train, batch_size=batch_size),\n",
        "    steps_per_epoch=X_train.shape[0] // batch_size,\n",
        "    epochs=epochs,\n",
        "    validation_data=(X_validate,y_validate),\n",
        "    validation_steps=X_validate.shape[0] // batch_size\n",
        "    ,callbacks=[learning_rate_reduction]\n",
        ")"
      ],
      "metadata": {
        "colab": {
          "base_uri": "https://localhost:8080/"
        },
        "id": "61HyeyFXlKjg",
        "outputId": "4efe9258-d308-4bdf-a782-1860dfe8ef00"
      },
      "execution_count": 38,
      "outputs": [
        {
          "output_type": "stream",
          "name": "stdout",
          "text": [
            "Epoch 1/50\n",
            " 2/72 [..............................] - ETA: 3s - loss: 0.1453 - accuracy: 0.7700"
          ]
        },
        {
          "output_type": "stream",
          "name": "stderr",
          "text": [
            "/usr/local/lib/python3.7/dist-packages/ipykernel_launcher.py:10: UserWarning: `Model.fit_generator` is deprecated and will be removed in a future version. Please use `Model.fit`, which supports generators.\n",
            "  # Remove the CWD from sys.path while we load stuff.\n"
          ]
        },
        {
          "output_type": "stream",
          "name": "stdout",
          "text": [
            "72/72 [==============================] - 3s 43ms/step - loss: 0.1476 - accuracy: 0.7710 - val_loss: 0.1599 - val_accuracy: 0.7606 - lr: 0.0010\n",
            "Epoch 2/50\n",
            "72/72 [==============================] - 3s 42ms/step - loss: 0.1440 - accuracy: 0.7819 - val_loss: 0.1545 - val_accuracy: 0.7681 - lr: 0.0010\n",
            "Epoch 3/50\n",
            "72/72 [==============================] - 3s 43ms/step - loss: 0.1479 - accuracy: 0.7720 - val_loss: 0.1520 - val_accuracy: 0.7743 - lr: 0.0010\n",
            "Epoch 4/50\n",
            "72/72 [==============================] - 3s 43ms/step - loss: 0.1432 - accuracy: 0.7769 - val_loss: 0.1515 - val_accuracy: 0.7656 - lr: 0.0010\n",
            "Epoch 5/50\n",
            "72/72 [==============================] - 3s 42ms/step - loss: 0.1428 - accuracy: 0.7795 - val_loss: 0.1625 - val_accuracy: 0.7456 - lr: 0.0010\n",
            "Epoch 6/50\n",
            "72/72 [==============================] - 3s 42ms/step - loss: 0.1479 - accuracy: 0.7693 - val_loss: 0.1533 - val_accuracy: 0.7643 - lr: 0.0010\n",
            "Epoch 7/50\n",
            "72/72 [==============================] - 3s 43ms/step - loss: 0.1458 - accuracy: 0.7768 - val_loss: 0.1571 - val_accuracy: 0.7718 - lr: 0.0010\n",
            "Epoch 8/50\n",
            "72/72 [==============================] - 3s 42ms/step - loss: 0.1452 - accuracy: 0.7792 - val_loss: 0.1549 - val_accuracy: 0.7731 - lr: 0.0010\n",
            "Epoch 9/50\n",
            "72/72 [==============================] - 3s 42ms/step - loss: 0.1464 - accuracy: 0.7771 - val_loss: 0.1627 - val_accuracy: 0.7643 - lr: 0.0010\n",
            "Epoch 10/50\n",
            "72/72 [==============================] - 3s 42ms/step - loss: 0.1461 - accuracy: 0.7752 - val_loss: 0.1548 - val_accuracy: 0.7718 - lr: 0.0010\n",
            "Epoch 11/50\n",
            "72/72 [==============================] - 3s 42ms/step - loss: 0.1421 - accuracy: 0.7816 - val_loss: 0.1503 - val_accuracy: 0.7805 - lr: 0.0010\n",
            "Epoch 12/50\n",
            "72/72 [==============================] - 3s 43ms/step - loss: 0.1405 - accuracy: 0.7799 - val_loss: 0.1565 - val_accuracy: 0.7768 - lr: 0.0010\n",
            "Epoch 13/50\n",
            "72/72 [==============================] - 3s 42ms/step - loss: 0.1391 - accuracy: 0.7872 - val_loss: 0.1567 - val_accuracy: 0.7731 - lr: 0.0010\n",
            "Epoch 14/50\n",
            "72/72 [==============================] - 3s 42ms/step - loss: 0.1412 - accuracy: 0.7823 - val_loss: 0.1563 - val_accuracy: 0.7643 - lr: 0.0010\n",
            "Epoch 15/50\n",
            "72/72 [==============================] - 3s 43ms/step - loss: 0.1412 - accuracy: 0.7842 - val_loss: 0.1573 - val_accuracy: 0.7618 - lr: 0.0010\n",
            "Epoch 16/50\n",
            "72/72 [==============================] - 3s 42ms/step - loss: 0.1390 - accuracy: 0.7897 - val_loss: 0.1487 - val_accuracy: 0.7793 - lr: 0.0010\n",
            "Epoch 17/50\n",
            "72/72 [==============================] - 3s 43ms/step - loss: 0.1398 - accuracy: 0.7855 - val_loss: 0.1481 - val_accuracy: 0.7880 - lr: 0.0010\n",
            "Epoch 18/50\n",
            "72/72 [==============================] - 3s 42ms/step - loss: 0.1357 - accuracy: 0.7921 - val_loss: 0.1593 - val_accuracy: 0.7668 - lr: 0.0010\n",
            "Epoch 19/50\n",
            "72/72 [==============================] - 3s 43ms/step - loss: 0.1415 - accuracy: 0.7851 - val_loss: 0.1552 - val_accuracy: 0.7743 - lr: 0.0010\n",
            "Epoch 20/50\n",
            "72/72 [==============================] - 3s 42ms/step - loss: 0.1360 - accuracy: 0.7947 - val_loss: 0.1476 - val_accuracy: 0.7768 - lr: 0.0010\n",
            "Epoch 21/50\n",
            "72/72 [==============================] - 3s 43ms/step - loss: 0.1377 - accuracy: 0.7900 - val_loss: 0.1533 - val_accuracy: 0.7818 - lr: 0.0010\n",
            "Epoch 22/50\n",
            "72/72 [==============================] - 3s 43ms/step - loss: 0.1385 - accuracy: 0.7864 - val_loss: 0.1469 - val_accuracy: 0.7905 - lr: 0.0010\n",
            "Epoch 23/50\n",
            "72/72 [==============================] - 3s 43ms/step - loss: 0.1348 - accuracy: 0.7947 - val_loss: 0.1488 - val_accuracy: 0.7743 - lr: 0.0010\n",
            "Epoch 24/50\n",
            "72/72 [==============================] - 3s 43ms/step - loss: 0.1350 - accuracy: 0.7918 - val_loss: 0.1519 - val_accuracy: 0.7681 - lr: 0.0010\n",
            "Epoch 25/50\n",
            "72/72 [==============================] - 3s 44ms/step - loss: 0.1344 - accuracy: 0.7896 - val_loss: 0.1736 - val_accuracy: 0.7444 - lr: 0.0010\n",
            "Epoch 26/50\n",
            "72/72 [==============================] - 3s 43ms/step - loss: 0.1372 - accuracy: 0.7918 - val_loss: 0.1545 - val_accuracy: 0.7830 - lr: 0.0010\n",
            "Epoch 27/50\n",
            "72/72 [==============================] - 3s 43ms/step - loss: 0.1330 - accuracy: 0.7952 - val_loss: 0.1646 - val_accuracy: 0.7594 - lr: 0.0010\n",
            "Epoch 28/50\n",
            "72/72 [==============================] - 4s 49ms/step - loss: 0.1548 - accuracy: 0.7582 - val_loss: 0.1675 - val_accuracy: 0.7419 - lr: 0.0010\n",
            "Epoch 29/50\n",
            "72/72 [==============================] - 3s 43ms/step - loss: 0.1508 - accuracy: 0.7707 - val_loss: 0.1558 - val_accuracy: 0.7718 - lr: 0.0010\n",
            "Epoch 30/50\n",
            "72/72 [==============================] - 3s 42ms/step - loss: 0.1382 - accuracy: 0.7869 - val_loss: 0.1495 - val_accuracy: 0.7768 - lr: 0.0010\n",
            "Epoch 31/50\n",
            "72/72 [==============================] - 3s 42ms/step - loss: 0.1363 - accuracy: 0.7895 - val_loss: 0.1602 - val_accuracy: 0.7656 - lr: 0.0010\n",
            "Epoch 32/50\n",
            "72/72 [==============================] - 3s 43ms/step - loss: 0.1380 - accuracy: 0.7842 - val_loss: 0.1641 - val_accuracy: 0.7594 - lr: 0.0010\n",
            "Epoch 33/50\n",
            "72/72 [==============================] - 3s 43ms/step - loss: 0.1395 - accuracy: 0.7882 - val_loss: 0.1458 - val_accuracy: 0.7830 - lr: 0.0010\n",
            "Epoch 34/50\n",
            "72/72 [==============================] - 3s 42ms/step - loss: 0.1330 - accuracy: 0.7949 - val_loss: 0.1553 - val_accuracy: 0.7681 - lr: 0.0010\n",
            "Epoch 35/50\n",
            "72/72 [==============================] - 3s 42ms/step - loss: 0.1316 - accuracy: 0.7980 - val_loss: 0.1504 - val_accuracy: 0.7631 - lr: 0.0010\n",
            "Epoch 36/50\n",
            "72/72 [==============================] - 3s 42ms/step - loss: 0.1328 - accuracy: 0.8017 - val_loss: 0.1569 - val_accuracy: 0.7581 - lr: 0.0010\n",
            "Epoch 37/50\n",
            "72/72 [==============================] - 3s 42ms/step - loss: 0.1322 - accuracy: 0.8001 - val_loss: 0.1683 - val_accuracy: 0.7594 - lr: 0.0010\n",
            "Epoch 38/50\n",
            "72/72 [==============================] - 3s 42ms/step - loss: 0.1312 - accuracy: 0.7997 - val_loss: 0.1481 - val_accuracy: 0.7781 - lr: 0.0010\n",
            "Epoch 39/50\n",
            "72/72 [==============================] - 3s 42ms/step - loss: 0.1303 - accuracy: 0.8001 - val_loss: 0.1465 - val_accuracy: 0.7868 - lr: 0.0010\n",
            "Epoch 40/50\n",
            "72/72 [==============================] - 3s 42ms/step - loss: 0.1293 - accuracy: 0.8004 - val_loss: 0.1553 - val_accuracy: 0.7681 - lr: 0.0010\n",
            "Epoch 41/50\n",
            "72/72 [==============================] - 3s 42ms/step - loss: 0.1269 - accuracy: 0.8072 - val_loss: 0.1492 - val_accuracy: 0.7855 - lr: 0.0010\n",
            "Epoch 42/50\n",
            "72/72 [==============================] - 3s 43ms/step - loss: 0.1289 - accuracy: 0.8038 - val_loss: 0.1501 - val_accuracy: 0.7768 - lr: 0.0010\n",
            "Epoch 43/50\n",
            "72/72 [==============================] - 3s 42ms/step - loss: 0.1276 - accuracy: 0.8059 - val_loss: 0.1541 - val_accuracy: 0.7718 - lr: 0.0010\n",
            "Epoch 44/50\n",
            "72/72 [==============================] - 3s 43ms/step - loss: 0.1321 - accuracy: 0.8024 - val_loss: 0.1464 - val_accuracy: 0.7805 - lr: 0.0010\n",
            "Epoch 45/50\n",
            "72/72 [==============================] - 3s 42ms/step - loss: 0.1287 - accuracy: 0.8049 - val_loss: 0.1492 - val_accuracy: 0.7818 - lr: 0.0010\n",
            "Epoch 46/50\n",
            "72/72 [==============================] - 3s 43ms/step - loss: 0.1280 - accuracy: 0.8070 - val_loss: 0.1576 - val_accuracy: 0.7693 - lr: 0.0010\n",
            "Epoch 47/50\n",
            "72/72 [==============================] - 3s 43ms/step - loss: 0.1255 - accuracy: 0.8091 - val_loss: 0.1507 - val_accuracy: 0.7805 - lr: 0.0010\n",
            "Epoch 48/50\n",
            "72/72 [==============================] - 3s 43ms/step - loss: 0.1256 - accuracy: 0.8068 - val_loss: 0.1516 - val_accuracy: 0.7768 - lr: 0.0010\n",
            "Epoch 49/50\n",
            "72/72 [==============================] - 3s 42ms/step - loss: 0.1290 - accuracy: 0.8017 - val_loss: 0.1513 - val_accuracy: 0.7805 - lr: 0.0010\n",
            "Epoch 50/50\n",
            "72/72 [==============================] - 3s 42ms/step - loss: 0.1242 - accuracy: 0.8094 - val_loss: 0.1613 - val_accuracy: 0.7768 - lr: 0.0010\n"
          ]
        }
      ]
    },
    {
      "cell_type": "code",
      "source": [
        "# Fit the model (Iteration 1)\n",
        "epochs = 50 \n",
        "batch_size = 100\n",
        "history = model.fit_generator(\n",
        "    datagen.flow(X_train,y_train, batch_size=batch_size),\n",
        "    steps_per_epoch=X_train.shape[0] // batch_size,\n",
        "    epochs=epochs,\n",
        "    validation_data=(X_validate,y_validate),\n",
        "    validation_steps=X_validate.shape[0] // batch_size\n",
        "    ,callbacks=[learning_rate_reduction]\n",
        ")"
      ],
      "metadata": {
        "colab": {
          "base_uri": "https://localhost:8080/"
        },
        "id": "pVoiwlgzlKFV",
        "outputId": "71463dd3-a345-4089-bb09-a7a1789d6730"
      },
      "execution_count": 39,
      "outputs": [
        {
          "output_type": "stream",
          "name": "stdout",
          "text": [
            "Epoch 1/50\n",
            " 1/72 [..............................] - ETA: 4s - loss: 0.1378 - accuracy: 0.8100"
          ]
        },
        {
          "output_type": "stream",
          "name": "stderr",
          "text": [
            "/usr/local/lib/python3.7/dist-packages/ipykernel_launcher.py:10: UserWarning: `Model.fit_generator` is deprecated and will be removed in a future version. Please use `Model.fit`, which supports generators.\n",
            "  # Remove the CWD from sys.path while we load stuff.\n"
          ]
        },
        {
          "output_type": "stream",
          "name": "stdout",
          "text": [
            "72/72 [==============================] - 3s 43ms/step - loss: 0.1293 - accuracy: 0.8051 - val_loss: 0.1580 - val_accuracy: 0.7569 - lr: 0.0010\n",
            "Epoch 2/50\n",
            "72/72 [==============================] - 3s 43ms/step - loss: 0.1276 - accuracy: 0.8034 - val_loss: 0.1531 - val_accuracy: 0.7643 - lr: 0.0010\n",
            "Epoch 3/50\n",
            "72/72 [==============================] - 3s 45ms/step - loss: 0.1206 - accuracy: 0.8143 - val_loss: 0.1523 - val_accuracy: 0.7693 - lr: 0.0010\n",
            "Epoch 4/50\n",
            "72/72 [==============================] - 3s 42ms/step - loss: 0.1258 - accuracy: 0.8135 - val_loss: 0.1479 - val_accuracy: 0.7756 - lr: 0.0010\n",
            "Epoch 5/50\n",
            "72/72 [==============================] - 3s 42ms/step - loss: 0.1227 - accuracy: 0.8082 - val_loss: 0.1532 - val_accuracy: 0.7793 - lr: 0.0010\n",
            "Epoch 6/50\n",
            "72/72 [==============================] - 3s 42ms/step - loss: 0.1229 - accuracy: 0.8146 - val_loss: 0.1517 - val_accuracy: 0.7756 - lr: 0.0010\n",
            "Epoch 7/50\n",
            "72/72 [==============================] - 3s 43ms/step - loss: 0.1274 - accuracy: 0.8077 - val_loss: 0.1512 - val_accuracy: 0.7805 - lr: 0.0010\n",
            "Epoch 8/50\n",
            "72/72 [==============================] - 3s 42ms/step - loss: 0.1250 - accuracy: 0.8129 - val_loss: 0.1508 - val_accuracy: 0.7893 - lr: 0.0010\n",
            "Epoch 9/50\n",
            "72/72 [==============================] - 3s 42ms/step - loss: 0.1198 - accuracy: 0.8169 - val_loss: 0.1567 - val_accuracy: 0.7581 - lr: 0.0010\n",
            "Epoch 10/50\n",
            "72/72 [==============================] - 3s 42ms/step - loss: 0.1296 - accuracy: 0.8028 - val_loss: 0.1452 - val_accuracy: 0.7893 - lr: 0.0010\n",
            "Epoch 11/50\n",
            "72/72 [==============================] - 3s 42ms/step - loss: 0.1255 - accuracy: 0.8014 - val_loss: 0.1469 - val_accuracy: 0.7868 - lr: 0.0010\n",
            "Epoch 12/50\n",
            "72/72 [==============================] - 3s 42ms/step - loss: 0.1255 - accuracy: 0.8063 - val_loss: 0.1532 - val_accuracy: 0.7818 - lr: 0.0010\n",
            "Epoch 13/50\n",
            "72/72 [==============================] - 3s 43ms/step - loss: 0.1252 - accuracy: 0.8073 - val_loss: 0.1518 - val_accuracy: 0.7781 - lr: 0.0010\n",
            "Epoch 14/50\n",
            "72/72 [==============================] - 3s 42ms/step - loss: 0.1224 - accuracy: 0.8111 - val_loss: 0.1540 - val_accuracy: 0.7681 - lr: 0.0010\n",
            "Epoch 15/50\n",
            "72/72 [==============================] - 3s 42ms/step - loss: 0.1240 - accuracy: 0.8143 - val_loss: 0.1515 - val_accuracy: 0.7818 - lr: 0.0010\n",
            "Epoch 16/50\n",
            "72/72 [==============================] - 3s 42ms/step - loss: 0.1230 - accuracy: 0.8121 - val_loss: 0.1582 - val_accuracy: 0.7594 - lr: 0.0010\n",
            "Epoch 17/50\n",
            "72/72 [==============================] - 3s 43ms/step - loss: 0.1240 - accuracy: 0.8128 - val_loss: 0.1522 - val_accuracy: 0.7756 - lr: 0.0010\n",
            "Epoch 18/50\n",
            "72/72 [==============================] - 3s 43ms/step - loss: 0.1217 - accuracy: 0.8134 - val_loss: 0.1470 - val_accuracy: 0.7818 - lr: 0.0010\n",
            "Epoch 19/50\n",
            "72/72 [==============================] - 3s 43ms/step - loss: 0.1214 - accuracy: 0.8166 - val_loss: 0.1467 - val_accuracy: 0.7805 - lr: 0.0010\n",
            "Epoch 20/50\n",
            "72/72 [==============================] - 3s 42ms/step - loss: 0.1208 - accuracy: 0.8186 - val_loss: 0.1539 - val_accuracy: 0.7706 - lr: 0.0010\n",
            "Epoch 21/50\n",
            "72/72 [==============================] - 3s 42ms/step - loss: 0.1205 - accuracy: 0.8176 - val_loss: 0.1419 - val_accuracy: 0.7880 - lr: 0.0010\n",
            "Epoch 22/50\n",
            "72/72 [==============================] - 3s 42ms/step - loss: 0.1245 - accuracy: 0.8111 - val_loss: 0.1496 - val_accuracy: 0.7818 - lr: 0.0010\n",
            "Epoch 23/50\n",
            "72/72 [==============================] - 3s 42ms/step - loss: 0.1206 - accuracy: 0.8177 - val_loss: 0.1511 - val_accuracy: 0.7718 - lr: 0.0010\n",
            "Epoch 24/50\n",
            "72/72 [==============================] - 3s 43ms/step - loss: 0.1186 - accuracy: 0.8165 - val_loss: 0.1494 - val_accuracy: 0.7743 - lr: 0.0010\n",
            "Epoch 25/50\n",
            "72/72 [==============================] - 3s 42ms/step - loss: 0.1169 - accuracy: 0.8188 - val_loss: 0.1513 - val_accuracy: 0.7818 - lr: 0.0010\n",
            "Epoch 26/50\n",
            "72/72 [==============================] - 3s 42ms/step - loss: 0.1207 - accuracy: 0.8188 - val_loss: 0.1559 - val_accuracy: 0.7731 - lr: 0.0010\n",
            "Epoch 27/50\n",
            "72/72 [==============================] - 3s 42ms/step - loss: 0.1163 - accuracy: 0.8245 - val_loss: 0.1549 - val_accuracy: 0.7830 - lr: 0.0010\n",
            "Epoch 28/50\n",
            "72/72 [==============================] - 3s 43ms/step - loss: 0.1183 - accuracy: 0.8204 - val_loss: 0.1548 - val_accuracy: 0.7693 - lr: 0.0010\n",
            "Epoch 29/50\n",
            "72/72 [==============================] - 3s 42ms/step - loss: 0.1144 - accuracy: 0.8248 - val_loss: 0.1500 - val_accuracy: 0.7830 - lr: 0.0010\n",
            "Epoch 30/50\n",
            "72/72 [==============================] - 3s 42ms/step - loss: 0.1201 - accuracy: 0.8188 - val_loss: 0.1461 - val_accuracy: 0.7880 - lr: 0.0010\n",
            "Epoch 31/50\n",
            "72/72 [==============================] - 3s 43ms/step - loss: 0.1202 - accuracy: 0.8252 - val_loss: 0.1492 - val_accuracy: 0.7731 - lr: 0.0010\n",
            "Epoch 32/50\n",
            "72/72 [==============================] - 3s 42ms/step - loss: 0.1340 - accuracy: 0.7951 - val_loss: 0.1519 - val_accuracy: 0.7756 - lr: 0.0010\n",
            "Epoch 33/50\n",
            "72/72 [==============================] - 3s 42ms/step - loss: 0.1246 - accuracy: 0.8118 - val_loss: 0.1660 - val_accuracy: 0.7594 - lr: 0.0010\n",
            "Epoch 34/50\n",
            "72/72 [==============================] - 3s 43ms/step - loss: 0.1237 - accuracy: 0.8128 - val_loss: 0.1437 - val_accuracy: 0.7830 - lr: 0.0010\n",
            "Epoch 35/50\n",
            "72/72 [==============================] - 3s 43ms/step - loss: 0.1189 - accuracy: 0.8205 - val_loss: 0.1512 - val_accuracy: 0.7880 - lr: 0.0010\n",
            "Epoch 36/50\n",
            "72/72 [==============================] - 3s 43ms/step - loss: 0.1171 - accuracy: 0.8215 - val_loss: 0.1471 - val_accuracy: 0.7756 - lr: 0.0010\n",
            "Epoch 37/50\n",
            "72/72 [==============================] - 3s 42ms/step - loss: 0.1152 - accuracy: 0.8271 - val_loss: 0.1501 - val_accuracy: 0.7930 - lr: 0.0010\n",
            "Epoch 38/50\n",
            "72/72 [==============================] - 3s 43ms/step - loss: 0.1123 - accuracy: 0.8277 - val_loss: 0.1465 - val_accuracy: 0.7805 - lr: 0.0010\n",
            "Epoch 39/50\n",
            "72/72 [==============================] - 3s 43ms/step - loss: 0.1180 - accuracy: 0.8217 - val_loss: 0.1471 - val_accuracy: 0.7880 - lr: 0.0010\n",
            "Epoch 40/50\n",
            "72/72 [==============================] - 3s 42ms/step - loss: 0.1115 - accuracy: 0.8328 - val_loss: 0.1457 - val_accuracy: 0.7768 - lr: 0.0010\n",
            "Epoch 41/50\n",
            "72/72 [==============================] - 3s 42ms/step - loss: 0.1157 - accuracy: 0.8239 - val_loss: 0.1476 - val_accuracy: 0.7930 - lr: 0.0010\n",
            "Epoch 42/50\n",
            "72/72 [==============================] - 3s 42ms/step - loss: 0.1129 - accuracy: 0.8291 - val_loss: 0.1487 - val_accuracy: 0.7830 - lr: 0.0010\n",
            "Epoch 43/50\n",
            "72/72 [==============================] - 3s 42ms/step - loss: 0.1150 - accuracy: 0.8257 - val_loss: 0.1556 - val_accuracy: 0.7656 - lr: 0.0010\n",
            "Epoch 44/50\n",
            "72/72 [==============================] - 3s 42ms/step - loss: 0.1132 - accuracy: 0.8287 - val_loss: 0.1492 - val_accuracy: 0.7930 - lr: 0.0010\n",
            "Epoch 45/50\n",
            "72/72 [==============================] - 3s 42ms/step - loss: 0.1141 - accuracy: 0.8273 - val_loss: 0.1439 - val_accuracy: 0.7818 - lr: 0.0010\n",
            "Epoch 46/50\n",
            "72/72 [==============================] - 3s 43ms/step - loss: 0.1140 - accuracy: 0.8309 - val_loss: 0.1430 - val_accuracy: 0.7930 - lr: 0.0010\n",
            "Epoch 47/50\n",
            "72/72 [==============================] - 3s 42ms/step - loss: 0.1162 - accuracy: 0.8217 - val_loss: 0.1573 - val_accuracy: 0.7893 - lr: 0.0010\n",
            "Epoch 48/50\n",
            "72/72 [==============================] - 3s 42ms/step - loss: 0.1167 - accuracy: 0.8257 - val_loss: 0.1478 - val_accuracy: 0.7830 - lr: 0.0010\n",
            "Epoch 49/50\n",
            "72/72 [==============================] - 3s 42ms/step - loss: 0.1127 - accuracy: 0.8335 - val_loss: 0.1486 - val_accuracy: 0.7805 - lr: 0.0010\n",
            "Epoch 50/50\n",
            "72/72 [==============================] - 3s 42ms/step - loss: 0.1166 - accuracy: 0.8236 - val_loss: 0.1458 - val_accuracy: 0.7843 - lr: 0.0010\n"
          ]
        }
      ]
    },
    {
      "cell_type": "code",
      "source": [
        "# Fit the model (Iteration 1)\n",
        "epochs = 50 \n",
        "batch_size = 100\n",
        "history = model.fit_generator(\n",
        "    datagen.flow(X_train,y_train, batch_size=batch_size),\n",
        "    steps_per_epoch=X_train.shape[0] // batch_size,\n",
        "    epochs=epochs,\n",
        "    validation_data=(X_validate,y_validate),\n",
        "    validation_steps=X_validate.shape[0] // batch_size\n",
        "    ,callbacks=[learning_rate_reduction]\n",
        ")"
      ],
      "metadata": {
        "colab": {
          "base_uri": "https://localhost:8080/"
        },
        "id": "8CG-4wKjlJpk",
        "outputId": "03d24f31-9837-488c-fb9e-241c5b42dd19"
      },
      "execution_count": 40,
      "outputs": [
        {
          "output_type": "stream",
          "name": "stdout",
          "text": [
            "Epoch 1/50\n",
            " 1/72 [..............................] - ETA: 3s - loss: 0.0910 - accuracy: 0.8400"
          ]
        },
        {
          "output_type": "stream",
          "name": "stderr",
          "text": [
            "/usr/local/lib/python3.7/dist-packages/ipykernel_launcher.py:10: UserWarning: `Model.fit_generator` is deprecated and will be removed in a future version. Please use `Model.fit`, which supports generators.\n",
            "  # Remove the CWD from sys.path while we load stuff.\n"
          ]
        },
        {
          "output_type": "stream",
          "name": "stdout",
          "text": [
            "72/72 [==============================] - 3s 43ms/step - loss: 0.1163 - accuracy: 0.8217 - val_loss: 0.1493 - val_accuracy: 0.7793 - lr: 0.0010\n",
            "Epoch 2/50\n",
            "72/72 [==============================] - 3s 42ms/step - loss: 0.1129 - accuracy: 0.8319 - val_loss: 0.1510 - val_accuracy: 0.7756 - lr: 0.0010\n",
            "Epoch 3/50\n",
            "72/72 [==============================] - 3s 41ms/step - loss: 0.1118 - accuracy: 0.8336 - val_loss: 0.1493 - val_accuracy: 0.7756 - lr: 0.0010\n",
            "Epoch 4/50\n",
            "72/72 [==============================] - 3s 42ms/step - loss: 0.1097 - accuracy: 0.8354 - val_loss: 0.1518 - val_accuracy: 0.7868 - lr: 0.0010\n",
            "Epoch 5/50\n",
            "72/72 [==============================] - 3s 41ms/step - loss: 0.1126 - accuracy: 0.8336 - val_loss: 0.1585 - val_accuracy: 0.7556 - lr: 0.0010\n",
            "Epoch 6/50\n",
            "72/72 [==============================] - 3s 42ms/step - loss: 0.1225 - accuracy: 0.8162 - val_loss: 0.1438 - val_accuracy: 0.7855 - lr: 0.0010\n",
            "Epoch 7/50\n",
            "72/72 [==============================] - 3s 43ms/step - loss: 0.1108 - accuracy: 0.8345 - val_loss: 0.1512 - val_accuracy: 0.7830 - lr: 0.0010\n",
            "Epoch 8/50\n",
            "72/72 [==============================] - 3s 43ms/step - loss: 0.1110 - accuracy: 0.8322 - val_loss: 0.1378 - val_accuracy: 0.7930 - lr: 0.0010\n",
            "Epoch 9/50\n",
            "72/72 [==============================] - 3s 42ms/step - loss: 0.1096 - accuracy: 0.8304 - val_loss: 0.1457 - val_accuracy: 0.7830 - lr: 0.0010\n",
            "Epoch 10/50\n",
            "72/72 [==============================] - 3s 42ms/step - loss: 0.1114 - accuracy: 0.8366 - val_loss: 0.1591 - val_accuracy: 0.7581 - lr: 0.0010\n",
            "Epoch 11/50\n",
            "72/72 [==============================] - 3s 42ms/step - loss: 0.1101 - accuracy: 0.8322 - val_loss: 0.1523 - val_accuracy: 0.7731 - lr: 0.0010\n",
            "Epoch 12/50\n",
            "72/72 [==============================] - 3s 42ms/step - loss: 0.1088 - accuracy: 0.8370 - val_loss: 0.1425 - val_accuracy: 0.7918 - lr: 0.0010\n",
            "Epoch 13/50\n",
            "72/72 [==============================] - 3s 42ms/step - loss: 0.1118 - accuracy: 0.8298 - val_loss: 0.1505 - val_accuracy: 0.7756 - lr: 0.0010\n",
            "Epoch 14/50\n",
            "72/72 [==============================] - 3s 43ms/step - loss: 0.1074 - accuracy: 0.8378 - val_loss: 0.1493 - val_accuracy: 0.7793 - lr: 0.0010\n",
            "Epoch 15/50\n",
            "72/72 [==============================] - 3s 42ms/step - loss: 0.1131 - accuracy: 0.8318 - val_loss: 0.1481 - val_accuracy: 0.7756 - lr: 0.0010\n",
            "Epoch 16/50\n",
            "72/72 [==============================] - 3s 43ms/step - loss: 0.1139 - accuracy: 0.8256 - val_loss: 0.1691 - val_accuracy: 0.7531 - lr: 0.0010\n",
            "Epoch 17/50\n",
            "72/72 [==============================] - 3s 42ms/step - loss: 0.1180 - accuracy: 0.8219 - val_loss: 0.1504 - val_accuracy: 0.7793 - lr: 0.0010\n",
            "Epoch 18/50\n",
            "72/72 [==============================] - 3s 42ms/step - loss: 0.1133 - accuracy: 0.8281 - val_loss: 0.1620 - val_accuracy: 0.7793 - lr: 0.0010\n",
            "Epoch 19/50\n",
            "72/72 [==============================] - 3s 42ms/step - loss: 0.1174 - accuracy: 0.8207 - val_loss: 0.1509 - val_accuracy: 0.7868 - lr: 0.0010\n",
            "Epoch 20/50\n",
            "72/72 [==============================] - 3s 42ms/step - loss: 0.1117 - accuracy: 0.8321 - val_loss: 0.1440 - val_accuracy: 0.7893 - lr: 0.0010\n",
            "Epoch 21/50\n",
            "72/72 [==============================] - 3s 43ms/step - loss: 0.1067 - accuracy: 0.8405 - val_loss: 0.1480 - val_accuracy: 0.7893 - lr: 0.0010\n",
            "Epoch 22/50\n",
            "72/72 [==============================] - 3s 42ms/step - loss: 0.1033 - accuracy: 0.8440 - val_loss: 0.1524 - val_accuracy: 0.7706 - lr: 0.0010\n",
            "Epoch 23/50\n",
            "72/72 [==============================] - 3s 43ms/step - loss: 0.1089 - accuracy: 0.8384 - val_loss: 0.1479 - val_accuracy: 0.7793 - lr: 0.0010\n",
            "Epoch 24/50\n",
            "72/72 [==============================] - 3s 43ms/step - loss: 0.1041 - accuracy: 0.8422 - val_loss: 0.1613 - val_accuracy: 0.7706 - lr: 0.0010\n",
            "Epoch 25/50\n",
            "72/72 [==============================] - 3s 42ms/step - loss: 0.1048 - accuracy: 0.8457 - val_loss: 0.1492 - val_accuracy: 0.7830 - lr: 0.0010\n",
            "Epoch 26/50\n",
            "72/72 [==============================] - 3s 43ms/step - loss: 0.1081 - accuracy: 0.8366 - val_loss: 0.1487 - val_accuracy: 0.7905 - lr: 0.0010\n",
            "Epoch 27/50\n",
            "72/72 [==============================] - 3s 46ms/step - loss: 0.1103 - accuracy: 0.8339 - val_loss: 0.1556 - val_accuracy: 0.7768 - lr: 0.0010\n",
            "Epoch 28/50\n",
            "72/72 [==============================] - 3s 43ms/step - loss: 0.1058 - accuracy: 0.8405 - val_loss: 0.1538 - val_accuracy: 0.7793 - lr: 0.0010\n",
            "Epoch 29/50\n",
            "72/72 [==============================] - 3s 44ms/step - loss: 0.1015 - accuracy: 0.8511 - val_loss: 0.1491 - val_accuracy: 0.7855 - lr: 0.0010\n",
            "Epoch 30/50\n",
            "72/72 [==============================] - 3s 44ms/step - loss: 0.1086 - accuracy: 0.8370 - val_loss: 0.1435 - val_accuracy: 0.8055 - lr: 0.0010\n",
            "Epoch 31/50\n",
            "72/72 [==============================] - 3s 45ms/step - loss: 0.1089 - accuracy: 0.8371 - val_loss: 0.1494 - val_accuracy: 0.7830 - lr: 0.0010\n",
            "Epoch 32/50\n",
            "72/72 [==============================] - 3s 43ms/step - loss: 0.1055 - accuracy: 0.8414 - val_loss: 0.1471 - val_accuracy: 0.7818 - lr: 0.0010\n",
            "Epoch 33/50\n",
            "72/72 [==============================] - 3s 43ms/step - loss: 0.1043 - accuracy: 0.8477 - val_loss: 0.1443 - val_accuracy: 0.8030 - lr: 0.0010\n",
            "Epoch 34/50\n",
            "72/72 [==============================] - 3s 43ms/step - loss: 0.1026 - accuracy: 0.8460 - val_loss: 0.1626 - val_accuracy: 0.7743 - lr: 0.0010\n",
            "Epoch 35/50\n",
            "72/72 [==============================] - 3s 42ms/step - loss: 0.1075 - accuracy: 0.8388 - val_loss: 0.1563 - val_accuracy: 0.7781 - lr: 0.0010\n",
            "Epoch 36/50\n",
            "72/72 [==============================] - 3s 43ms/step - loss: 0.1090 - accuracy: 0.8329 - val_loss: 0.1487 - val_accuracy: 0.7993 - lr: 0.0010\n",
            "Epoch 37/50\n",
            "72/72 [==============================] - 3s 43ms/step - loss: 0.1053 - accuracy: 0.8402 - val_loss: 0.1547 - val_accuracy: 0.7743 - lr: 0.0010\n",
            "Epoch 38/50\n",
            "72/72 [==============================] - 3s 44ms/step - loss: 0.1063 - accuracy: 0.8440 - val_loss: 0.1550 - val_accuracy: 0.7880 - lr: 0.0010\n",
            "Epoch 39/50\n",
            "72/72 [==============================] - 3s 43ms/step - loss: 0.1015 - accuracy: 0.8474 - val_loss: 0.1515 - val_accuracy: 0.7893 - lr: 0.0010\n",
            "Epoch 40/50\n",
            "72/72 [==============================] - 3s 44ms/step - loss: 0.1054 - accuracy: 0.8432 - val_loss: 0.1555 - val_accuracy: 0.7855 - lr: 0.0010\n",
            "Epoch 41/50\n",
            "72/72 [==============================] - 3s 44ms/step - loss: 0.1014 - accuracy: 0.8460 - val_loss: 0.1489 - val_accuracy: 0.7905 - lr: 0.0010\n",
            "Epoch 42/50\n",
            "72/72 [==============================] - 3s 43ms/step - loss: 0.1030 - accuracy: 0.8471 - val_loss: 0.1616 - val_accuracy: 0.7793 - lr: 0.0010\n",
            "Epoch 43/50\n",
            "72/72 [==============================] - 3s 44ms/step - loss: 0.1039 - accuracy: 0.8460 - val_loss: 0.1540 - val_accuracy: 0.7818 - lr: 0.0010\n",
            "Epoch 44/50\n",
            "72/72 [==============================] - 3s 44ms/step - loss: 0.1046 - accuracy: 0.8446 - val_loss: 0.1539 - val_accuracy: 0.7993 - lr: 0.0010\n",
            "Epoch 45/50\n",
            "72/72 [==============================] - 3s 45ms/step - loss: 0.1028 - accuracy: 0.8487 - val_loss: 0.1522 - val_accuracy: 0.7905 - lr: 0.0010\n",
            "Epoch 46/50\n",
            "72/72 [==============================] - 3s 44ms/step - loss: 0.1057 - accuracy: 0.8437 - val_loss: 0.1565 - val_accuracy: 0.7805 - lr: 0.0010\n",
            "Epoch 47/50\n",
            "72/72 [==============================] - 3s 44ms/step - loss: 0.1044 - accuracy: 0.8433 - val_loss: 0.1660 - val_accuracy: 0.7693 - lr: 0.0010\n",
            "Epoch 48/50\n",
            "72/72 [==============================] - 3s 44ms/step - loss: 0.1030 - accuracy: 0.8428 - val_loss: 0.1460 - val_accuracy: 0.7993 - lr: 0.0010\n",
            "Epoch 49/50\n",
            "72/72 [==============================] - 3s 44ms/step - loss: 0.1129 - accuracy: 0.8326 - val_loss: 0.1592 - val_accuracy: 0.7668 - lr: 0.0010\n",
            "Epoch 50/50\n",
            "72/72 [==============================] - 3s 43ms/step - loss: 0.1056 - accuracy: 0.8409 - val_loss: 0.1515 - val_accuracy: 0.7855 - lr: 0.0010\n"
          ]
        }
      ]
    },
    {
      "cell_type": "code",
      "source": [
        "# Fit the model (Iteration 5)\n",
        "epochs = 50 \n",
        "batch_size = 100\n",
        "history = model.fit_generator(\n",
        "    datagen.flow(X_train,y_train, batch_size=batch_size),\n",
        "    steps_per_epoch=X_train.shape[0] // batch_size,\n",
        "    epochs=epochs,\n",
        "    validation_data=(X_validate,y_validate),\n",
        "    validation_steps=X_validate.shape[0] // batch_size\n",
        "    ,callbacks=[learning_rate_reduction]\n",
        ")"
      ],
      "metadata": {
        "colab": {
          "base_uri": "https://localhost:8080/"
        },
        "id": "ijxKfRIDlJBp",
        "outputId": "975520f9-8004-49b2-e503-af468c53efdc"
      },
      "execution_count": 41,
      "outputs": [
        {
          "output_type": "stream",
          "name": "stdout",
          "text": [
            "Epoch 1/50\n",
            " 2/72 [..............................] - ETA: 3s - loss: 0.1141 - accuracy: 0.8300"
          ]
        },
        {
          "output_type": "stream",
          "name": "stderr",
          "text": [
            "/usr/local/lib/python3.7/dist-packages/ipykernel_launcher.py:10: UserWarning: `Model.fit_generator` is deprecated and will be removed in a future version. Please use `Model.fit`, which supports generators.\n",
            "  # Remove the CWD from sys.path while we load stuff.\n"
          ]
        },
        {
          "output_type": "stream",
          "name": "stdout",
          "text": [
            "72/72 [==============================] - 3s 45ms/step - loss: 0.1008 - accuracy: 0.8530 - val_loss: 0.1585 - val_accuracy: 0.7756 - lr: 0.0010\n",
            "Epoch 2/50\n",
            "72/72 [==============================] - 3s 44ms/step - loss: 0.1027 - accuracy: 0.8480 - val_loss: 0.1517 - val_accuracy: 0.7930 - lr: 0.0010\n",
            "Epoch 3/50\n",
            "72/72 [==============================] - 3s 43ms/step - loss: 0.1041 - accuracy: 0.8485 - val_loss: 0.1509 - val_accuracy: 0.7855 - lr: 0.0010\n",
            "Epoch 4/50\n",
            "72/72 [==============================] - 3s 43ms/step - loss: 0.0996 - accuracy: 0.8516 - val_loss: 0.1529 - val_accuracy: 0.7805 - lr: 0.0010\n",
            "Epoch 5/50\n",
            "72/72 [==============================] - 3s 43ms/step - loss: 0.1014 - accuracy: 0.8504 - val_loss: 0.1599 - val_accuracy: 0.7693 - lr: 0.0010\n",
            "Epoch 6/50\n",
            "72/72 [==============================] - 3s 42ms/step - loss: 0.1000 - accuracy: 0.8515 - val_loss: 0.1514 - val_accuracy: 0.7830 - lr: 0.0010\n",
            "Epoch 7/50\n",
            "72/72 [==============================] - 3s 42ms/step - loss: 0.1009 - accuracy: 0.8484 - val_loss: 0.1593 - val_accuracy: 0.7618 - lr: 0.0010\n",
            "Epoch 8/50\n",
            "72/72 [==============================] - 3s 42ms/step - loss: 0.1008 - accuracy: 0.8474 - val_loss: 0.1480 - val_accuracy: 0.7880 - lr: 0.0010\n",
            "Epoch 9/50\n",
            "72/72 [==============================] - 3s 43ms/step - loss: 0.1013 - accuracy: 0.8505 - val_loss: 0.1511 - val_accuracy: 0.7930 - lr: 0.0010\n",
            "Epoch 10/50\n",
            "72/72 [==============================] - 3s 43ms/step - loss: 0.0962 - accuracy: 0.8568 - val_loss: 0.1522 - val_accuracy: 0.7905 - lr: 0.0010\n",
            "Epoch 11/50\n",
            "72/72 [==============================] - 3s 42ms/step - loss: 0.1029 - accuracy: 0.8522 - val_loss: 0.1560 - val_accuracy: 0.7693 - lr: 0.0010\n",
            "Epoch 12/50\n",
            "72/72 [==============================] - 3s 42ms/step - loss: 0.1019 - accuracy: 0.8505 - val_loss: 0.1484 - val_accuracy: 0.7868 - lr: 0.0010\n",
            "Epoch 13/50\n",
            "72/72 [==============================] - 3s 43ms/step - loss: 0.1003 - accuracy: 0.8489 - val_loss: 0.1512 - val_accuracy: 0.7805 - lr: 0.0010\n",
            "Epoch 14/50\n",
            "72/72 [==============================] - 3s 43ms/step - loss: 0.0988 - accuracy: 0.8502 - val_loss: 0.1500 - val_accuracy: 0.7893 - lr: 0.0010\n",
            "Epoch 15/50\n",
            "72/72 [==============================] - 3s 43ms/step - loss: 0.1026 - accuracy: 0.8508 - val_loss: 0.1514 - val_accuracy: 0.7893 - lr: 0.0010\n",
            "Epoch 16/50\n",
            "72/72 [==============================] - 3s 43ms/step - loss: 0.1007 - accuracy: 0.8473 - val_loss: 0.1561 - val_accuracy: 0.7880 - lr: 0.0010\n",
            "Epoch 17/50\n",
            "72/72 [==============================] - 3s 42ms/step - loss: 0.0991 - accuracy: 0.8575 - val_loss: 0.1516 - val_accuracy: 0.7668 - lr: 0.0010\n",
            "Epoch 18/50\n",
            "72/72 [==============================] - 3s 43ms/step - loss: 0.0973 - accuracy: 0.8577 - val_loss: 0.1717 - val_accuracy: 0.7544 - lr: 0.0010\n",
            "Epoch 19/50\n",
            "72/72 [==============================] - 3s 43ms/step - loss: 0.1025 - accuracy: 0.8470 - val_loss: 0.1589 - val_accuracy: 0.7793 - lr: 0.0010\n",
            "Epoch 20/50\n",
            "72/72 [==============================] - 3s 43ms/step - loss: 0.1030 - accuracy: 0.8504 - val_loss: 0.1482 - val_accuracy: 0.7918 - lr: 0.0010\n",
            "Epoch 21/50\n",
            "72/72 [==============================] - 3s 43ms/step - loss: 0.0996 - accuracy: 0.8499 - val_loss: 0.1426 - val_accuracy: 0.7968 - lr: 0.0010\n",
            "Epoch 22/50\n",
            "72/72 [==============================] - 3s 43ms/step - loss: 0.1016 - accuracy: 0.8484 - val_loss: 0.1417 - val_accuracy: 0.8005 - lr: 0.0010\n",
            "Epoch 23/50\n",
            "72/72 [==============================] - 3s 42ms/step - loss: 0.0984 - accuracy: 0.8529 - val_loss: 0.1460 - val_accuracy: 0.7868 - lr: 0.0010\n",
            "Epoch 24/50\n",
            "72/72 [==============================] - 3s 43ms/step - loss: 0.1006 - accuracy: 0.8488 - val_loss: 0.1518 - val_accuracy: 0.7868 - lr: 0.0010\n",
            "Epoch 25/50\n",
            "72/72 [==============================] - 3s 42ms/step - loss: 0.1013 - accuracy: 0.8515 - val_loss: 0.1492 - val_accuracy: 0.7830 - lr: 0.0010\n",
            "Epoch 26/50\n",
            "72/72 [==============================] - 3s 43ms/step - loss: 0.1026 - accuracy: 0.8487 - val_loss: 0.1628 - val_accuracy: 0.7581 - lr: 0.0010\n",
            "Epoch 27/50\n",
            "72/72 [==============================] - 3s 43ms/step - loss: 0.1005 - accuracy: 0.8499 - val_loss: 0.1527 - val_accuracy: 0.7818 - lr: 0.0010\n",
            "Epoch 28/50\n",
            "72/72 [==============================] - 3s 43ms/step - loss: 0.1026 - accuracy: 0.8492 - val_loss: 0.1521 - val_accuracy: 0.7743 - lr: 0.0010\n",
            "Epoch 29/50\n",
            "72/72 [==============================] - 3s 43ms/step - loss: 0.0994 - accuracy: 0.8513 - val_loss: 0.1554 - val_accuracy: 0.7768 - lr: 0.0010\n",
            "Epoch 30/50\n",
            "72/72 [==============================] - 4s 56ms/step - loss: 0.0942 - accuracy: 0.8594 - val_loss: 0.1585 - val_accuracy: 0.7756 - lr: 0.0010\n",
            "Epoch 31/50\n",
            "72/72 [==============================] - 3s 43ms/step - loss: 0.1020 - accuracy: 0.8502 - val_loss: 0.1519 - val_accuracy: 0.7955 - lr: 0.0010\n",
            "Epoch 32/50\n",
            "72/72 [==============================] - 3s 42ms/step - loss: 0.1017 - accuracy: 0.8509 - val_loss: 0.1588 - val_accuracy: 0.7855 - lr: 0.0010\n",
            "Epoch 33/50\n",
            "72/72 [==============================] - 3s 43ms/step - loss: 0.1040 - accuracy: 0.8460 - val_loss: 0.1467 - val_accuracy: 0.7968 - lr: 0.0010\n",
            "Epoch 34/50\n",
            "72/72 [==============================] - 3s 43ms/step - loss: 0.0977 - accuracy: 0.8572 - val_loss: 0.1544 - val_accuracy: 0.7855 - lr: 0.0010\n",
            "Epoch 35/50\n",
            "72/72 [==============================] - 3s 43ms/step - loss: 0.0957 - accuracy: 0.8585 - val_loss: 0.1473 - val_accuracy: 0.7880 - lr: 0.0010\n",
            "Epoch 36/50\n",
            "72/72 [==============================] - 3s 42ms/step - loss: 0.1006 - accuracy: 0.8539 - val_loss: 0.1553 - val_accuracy: 0.8017 - lr: 0.0010\n",
            "Epoch 37/50\n",
            "72/72 [==============================] - 3s 42ms/step - loss: 0.1003 - accuracy: 0.8475 - val_loss: 0.1545 - val_accuracy: 0.7880 - lr: 0.0010\n",
            "Epoch 38/50\n",
            "72/72 [==============================] - 3s 43ms/step - loss: 0.0935 - accuracy: 0.8651 - val_loss: 0.1502 - val_accuracy: 0.7955 - lr: 0.0010\n",
            "Epoch 39/50\n",
            "72/72 [==============================] - 3s 43ms/step - loss: 0.1003 - accuracy: 0.8498 - val_loss: 0.1535 - val_accuracy: 0.7781 - lr: 0.0010\n",
            "Epoch 40/50\n",
            "72/72 [==============================] - 3s 42ms/step - loss: 0.0956 - accuracy: 0.8606 - val_loss: 0.1554 - val_accuracy: 0.7918 - lr: 0.0010\n",
            "Epoch 41/50\n",
            "72/72 [==============================] - 3s 43ms/step - loss: 0.1003 - accuracy: 0.8509 - val_loss: 0.1433 - val_accuracy: 0.7930 - lr: 0.0010\n",
            "Epoch 42/50\n",
            "72/72 [==============================] - 3s 43ms/step - loss: 0.0982 - accuracy: 0.8563 - val_loss: 0.1517 - val_accuracy: 0.7768 - lr: 0.0010\n",
            "Epoch 43/50\n",
            "72/72 [==============================] - 3s 43ms/step - loss: 0.0946 - accuracy: 0.8565 - val_loss: 0.1592 - val_accuracy: 0.7793 - lr: 0.0010\n",
            "Epoch 44/50\n",
            "72/72 [==============================] - 3s 43ms/step - loss: 0.0971 - accuracy: 0.8574 - val_loss: 0.1564 - val_accuracy: 0.7830 - lr: 0.0010\n",
            "Epoch 45/50\n",
            "72/72 [==============================] - 3s 43ms/step - loss: 0.0966 - accuracy: 0.8567 - val_loss: 0.1526 - val_accuracy: 0.7880 - lr: 0.0010\n",
            "Epoch 46/50\n",
            "72/72 [==============================] - 3s 43ms/step - loss: 0.0937 - accuracy: 0.8643 - val_loss: 0.1537 - val_accuracy: 0.7880 - lr: 0.0010\n",
            "Epoch 47/50\n",
            "72/72 [==============================] - 3s 42ms/step - loss: 0.0979 - accuracy: 0.8556 - val_loss: 0.1548 - val_accuracy: 0.7768 - lr: 0.0010\n",
            "Epoch 48/50\n",
            "72/72 [==============================] - 3s 42ms/step - loss: 0.0928 - accuracy: 0.8634 - val_loss: 0.1527 - val_accuracy: 0.7955 - lr: 0.0010\n",
            "Epoch 49/50\n",
            "72/72 [==============================] - 3s 44ms/step - loss: 0.0913 - accuracy: 0.8627 - val_loss: 0.1547 - val_accuracy: 0.7930 - lr: 0.0010\n",
            "Epoch 50/50\n",
            "72/72 [==============================] - 3s 43ms/step - loss: 0.0972 - accuracy: 0.8572 - val_loss: 0.1476 - val_accuracy: 0.8005 - lr: 0.0010\n"
          ]
        }
      ]
    },
    {
      "cell_type": "code",
      "source": [
        "# Fit the model (Iteration 1)\n",
        "epochs = 50 \n",
        "batch_size = 100\n",
        "history = model.fit_generator(\n",
        "    datagen.flow(X_train,y_train, batch_size=batch_size),\n",
        "    steps_per_epoch=X_train.shape[0] // batch_size,\n",
        "    epochs=epochs,\n",
        "    validation_data=(X_validate,y_validate),\n",
        "    validation_steps=X_validate.shape[0] // batch_size\n",
        "    ,callbacks=[learning_rate_reduction]\n",
        ")"
      ],
      "metadata": {
        "colab": {
          "base_uri": "https://localhost:8080/"
        },
        "id": "Iz3N-bV8lIko",
        "outputId": "186269c6-7dbe-4785-934c-a950a35c373f"
      },
      "execution_count": 42,
      "outputs": [
        {
          "output_type": "stream",
          "name": "stdout",
          "text": [
            "Epoch 1/50\n",
            " 1/72 [..............................] - ETA: 3s - loss: 0.1265 - accuracy: 0.8000"
          ]
        },
        {
          "output_type": "stream",
          "name": "stderr",
          "text": [
            "/usr/local/lib/python3.7/dist-packages/ipykernel_launcher.py:10: UserWarning: `Model.fit_generator` is deprecated and will be removed in a future version. Please use `Model.fit`, which supports generators.\n",
            "  # Remove the CWD from sys.path while we load stuff.\n"
          ]
        },
        {
          "output_type": "stream",
          "name": "stdout",
          "text": [
            "72/72 [==============================] - 3s 43ms/step - loss: 0.1009 - accuracy: 0.8504 - val_loss: 0.1508 - val_accuracy: 0.7718 - lr: 0.0010\n",
            "Epoch 2/50\n",
            "72/72 [==============================] - 3s 42ms/step - loss: 0.0974 - accuracy: 0.8567 - val_loss: 0.1522 - val_accuracy: 0.7855 - lr: 0.0010\n",
            "Epoch 3/50\n",
            "72/72 [==============================] - 3s 44ms/step - loss: 0.0985 - accuracy: 0.8539 - val_loss: 0.1618 - val_accuracy: 0.7743 - lr: 0.0010\n",
            "Epoch 4/50\n",
            "72/72 [==============================] - 3s 43ms/step - loss: 0.1006 - accuracy: 0.8487 - val_loss: 0.1489 - val_accuracy: 0.8005 - lr: 0.0010\n",
            "Epoch 5/50\n",
            "72/72 [==============================] - 3s 42ms/step - loss: 0.0967 - accuracy: 0.8556 - val_loss: 0.1576 - val_accuracy: 0.7805 - lr: 0.0010\n",
            "Epoch 6/50\n",
            "72/72 [==============================] - 3s 42ms/step - loss: 0.0947 - accuracy: 0.8615 - val_loss: 0.1486 - val_accuracy: 0.7905 - lr: 0.0010\n",
            "Epoch 7/50\n",
            "72/72 [==============================] - 3s 43ms/step - loss: 0.0983 - accuracy: 0.8544 - val_loss: 0.1528 - val_accuracy: 0.7918 - lr: 0.0010\n",
            "Epoch 8/50\n",
            "72/72 [==============================] - 3s 42ms/step - loss: 0.0945 - accuracy: 0.8603 - val_loss: 0.1582 - val_accuracy: 0.7843 - lr: 0.0010\n",
            "Epoch 9/50\n",
            "72/72 [==============================] - 3s 42ms/step - loss: 0.0939 - accuracy: 0.8612 - val_loss: 0.1636 - val_accuracy: 0.7805 - lr: 0.0010\n",
            "Epoch 10/50\n",
            "72/72 [==============================] - 3s 42ms/step - loss: 0.0944 - accuracy: 0.8651 - val_loss: 0.1667 - val_accuracy: 0.7756 - lr: 0.0010\n",
            "Epoch 11/50\n",
            "72/72 [==============================] - 3s 42ms/step - loss: 0.0941 - accuracy: 0.8568 - val_loss: 0.1538 - val_accuracy: 0.7855 - lr: 0.0010\n",
            "Epoch 12/50\n",
            "72/72 [==============================] - 3s 42ms/step - loss: 0.0949 - accuracy: 0.8620 - val_loss: 0.1646 - val_accuracy: 0.7843 - lr: 0.0010\n",
            "Epoch 13/50\n",
            "72/72 [==============================] - 3s 42ms/step - loss: 0.0939 - accuracy: 0.8655 - val_loss: 0.1502 - val_accuracy: 0.7905 - lr: 0.0010\n",
            "Epoch 14/50\n",
            "72/72 [==============================] - 3s 43ms/step - loss: 0.0980 - accuracy: 0.8557 - val_loss: 0.1453 - val_accuracy: 0.7905 - lr: 0.0010\n",
            "Epoch 15/50\n",
            "72/72 [==============================] - 3s 42ms/step - loss: 0.0932 - accuracy: 0.8648 - val_loss: 0.1482 - val_accuracy: 0.8042 - lr: 0.0010\n",
            "Epoch 16/50\n",
            "72/72 [==============================] - 3s 42ms/step - loss: 0.0905 - accuracy: 0.8675 - val_loss: 0.1516 - val_accuracy: 0.7880 - lr: 0.0010\n",
            "Epoch 17/50\n",
            "72/72 [==============================] - 3s 43ms/step - loss: 0.0921 - accuracy: 0.8629 - val_loss: 0.1605 - val_accuracy: 0.7768 - lr: 0.0010\n",
            "Epoch 18/50\n",
            "72/72 [==============================] - 3s 43ms/step - loss: 0.0949 - accuracy: 0.8608 - val_loss: 0.1567 - val_accuracy: 0.7731 - lr: 0.0010\n",
            "Epoch 19/50\n",
            "72/72 [==============================] - 3s 43ms/step - loss: 0.0993 - accuracy: 0.8529 - val_loss: 0.1532 - val_accuracy: 0.7905 - lr: 0.0010\n",
            "Epoch 20/50\n",
            "72/72 [==============================] - 3s 43ms/step - loss: 0.0909 - accuracy: 0.8691 - val_loss: 0.1637 - val_accuracy: 0.7756 - lr: 0.0010\n",
            "Epoch 21/50\n",
            "72/72 [==============================] - 3s 42ms/step - loss: 0.0952 - accuracy: 0.8608 - val_loss: 0.1472 - val_accuracy: 0.7955 - lr: 0.0010\n",
            "Epoch 22/50\n",
            "72/72 [==============================] - 3s 43ms/step - loss: 0.0944 - accuracy: 0.8601 - val_loss: 0.1466 - val_accuracy: 0.8005 - lr: 0.0010\n",
            "Epoch 23/50\n",
            "72/72 [==============================] - 3s 44ms/step - loss: 0.0935 - accuracy: 0.8672 - val_loss: 0.1505 - val_accuracy: 0.7930 - lr: 0.0010\n",
            "Epoch 24/50\n",
            "72/72 [==============================] - 3s 42ms/step - loss: 0.0962 - accuracy: 0.8602 - val_loss: 0.1601 - val_accuracy: 0.7681 - lr: 0.0010\n",
            "Epoch 25/50\n",
            "72/72 [==============================] - 3s 42ms/step - loss: 0.0951 - accuracy: 0.8617 - val_loss: 0.1500 - val_accuracy: 0.7855 - lr: 0.0010\n",
            "Epoch 26/50\n",
            "72/72 [==============================] - 3s 43ms/step - loss: 0.0890 - accuracy: 0.8696 - val_loss: 0.1676 - val_accuracy: 0.7868 - lr: 0.0010\n",
            "Epoch 27/50\n",
            "72/72 [==============================] - 3s 43ms/step - loss: 0.0952 - accuracy: 0.8602 - val_loss: 0.1681 - val_accuracy: 0.7768 - lr: 0.0010\n",
            "Epoch 28/50\n",
            "72/72 [==============================] - 3s 43ms/step - loss: 0.0956 - accuracy: 0.8596 - val_loss: 0.1540 - val_accuracy: 0.7880 - lr: 0.0010\n",
            "Epoch 29/50\n",
            "72/72 [==============================] - 3s 42ms/step - loss: 0.0938 - accuracy: 0.8582 - val_loss: 0.1484 - val_accuracy: 0.7955 - lr: 0.0010\n",
            "Epoch 30/50\n",
            "72/72 [==============================] - 3s 43ms/step - loss: 0.0941 - accuracy: 0.8629 - val_loss: 0.1484 - val_accuracy: 0.7955 - lr: 0.0010\n",
            "Epoch 31/50\n",
            "72/72 [==============================] - 3s 43ms/step - loss: 0.0981 - accuracy: 0.8568 - val_loss: 0.1496 - val_accuracy: 0.7855 - lr: 0.0010\n",
            "Epoch 32/50\n",
            "72/72 [==============================] - 3s 43ms/step - loss: 0.0968 - accuracy: 0.8549 - val_loss: 0.1564 - val_accuracy: 0.7855 - lr: 0.0010\n",
            "Epoch 33/50\n",
            "72/72 [==============================] - 3s 43ms/step - loss: 0.0896 - accuracy: 0.8693 - val_loss: 0.1575 - val_accuracy: 0.7843 - lr: 0.0010\n",
            "Epoch 34/50\n",
            "72/72 [==============================] - 3s 42ms/step - loss: 0.0894 - accuracy: 0.8702 - val_loss: 0.1573 - val_accuracy: 0.7918 - lr: 0.0010\n",
            "Epoch 35/50\n",
            "72/72 [==============================] - 3s 42ms/step - loss: 0.1010 - accuracy: 0.8547 - val_loss: 0.1597 - val_accuracy: 0.7805 - lr: 0.0010\n",
            "Epoch 36/50\n",
            "72/72 [==============================] - 3s 43ms/step - loss: 0.0905 - accuracy: 0.8699 - val_loss: 0.1645 - val_accuracy: 0.7855 - lr: 0.0010\n",
            "Epoch 37/50\n",
            "72/72 [==============================] - 3s 42ms/step - loss: 0.0898 - accuracy: 0.8702 - val_loss: 0.1549 - val_accuracy: 0.7980 - lr: 0.0010\n",
            "Epoch 38/50\n",
            "72/72 [==============================] - 3s 42ms/step - loss: 0.0912 - accuracy: 0.8679 - val_loss: 0.1778 - val_accuracy: 0.7606 - lr: 0.0010\n",
            "Epoch 39/50\n",
            "72/72 [==============================] - 3s 43ms/step - loss: 0.0919 - accuracy: 0.8668 - val_loss: 0.1587 - val_accuracy: 0.7656 - lr: 0.0010\n",
            "Epoch 40/50\n",
            "72/72 [==============================] - 3s 42ms/step - loss: 0.0945 - accuracy: 0.8640 - val_loss: 0.1542 - val_accuracy: 0.8055 - lr: 0.0010\n",
            "Epoch 41/50\n",
            "72/72 [==============================] - 3s 43ms/step - loss: 0.0932 - accuracy: 0.8608 - val_loss: 0.1542 - val_accuracy: 0.7818 - lr: 0.0010\n",
            "Epoch 42/50\n",
            "72/72 [==============================] - 3s 43ms/step - loss: 0.0922 - accuracy: 0.8672 - val_loss: 0.1567 - val_accuracy: 0.7768 - lr: 0.0010\n",
            "Epoch 43/50\n",
            "72/72 [==============================] - 3s 43ms/step - loss: 0.0881 - accuracy: 0.8686 - val_loss: 0.1481 - val_accuracy: 0.7980 - lr: 0.0010\n",
            "Epoch 44/50\n",
            "72/72 [==============================] - 3s 43ms/step - loss: 0.0898 - accuracy: 0.8679 - val_loss: 0.1573 - val_accuracy: 0.7756 - lr: 0.0010\n",
            "Epoch 45/50\n",
            "72/72 [==============================] - 3s 42ms/step - loss: 0.0872 - accuracy: 0.8681 - val_loss: 0.1558 - val_accuracy: 0.7980 - lr: 0.0010\n",
            "Epoch 46/50\n",
            "72/72 [==============================] - 3s 43ms/step - loss: 0.0897 - accuracy: 0.8706 - val_loss: 0.1590 - val_accuracy: 0.7880 - lr: 0.0010\n",
            "Epoch 47/50\n",
            "72/72 [==============================] - 3s 42ms/step - loss: 0.0898 - accuracy: 0.8706 - val_loss: 0.1602 - val_accuracy: 0.7818 - lr: 0.0010\n",
            "Epoch 48/50\n",
            "72/72 [==============================] - 3s 42ms/step - loss: 0.0905 - accuracy: 0.8700 - val_loss: 0.1581 - val_accuracy: 0.7868 - lr: 0.0010\n",
            "Epoch 49/50\n",
            "72/72 [==============================] - 3s 43ms/step - loss: 0.0873 - accuracy: 0.8700 - val_loss: 0.1557 - val_accuracy: 0.7805 - lr: 0.0010\n",
            "Epoch 50/50\n",
            "72/72 [==============================] - 3s 43ms/step - loss: 0.0902 - accuracy: 0.8691 - val_loss: 0.1630 - val_accuracy: 0.7818 - lr: 0.0010\n"
          ]
        }
      ]
    },
    {
      "cell_type": "code",
      "source": [
        "# Fit the model (Iteration 1)\n",
        "epochs = 50 \n",
        "batch_size = 100\n",
        "history = model.fit_generator(\n",
        "    datagen.flow(X_train,y_train, batch_size=batch_size),\n",
        "    steps_per_epoch=X_train.shape[0] // batch_size,\n",
        "    epochs=epochs,\n",
        "    validation_data=(X_validate,y_validate),\n",
        "    validation_steps=X_validate.shape[0] // batch_size\n",
        "    ,callbacks=[learning_rate_reduction]\n",
        ")"
      ],
      "metadata": {
        "colab": {
          "base_uri": "https://localhost:8080/"
        },
        "id": "KHaoA6H3lIM3",
        "outputId": "d95cdcc6-a4ef-4d53-a1ba-18a40543d0a4"
      },
      "execution_count": 43,
      "outputs": [
        {
          "output_type": "stream",
          "name": "stdout",
          "text": [
            "Epoch 1/50\n",
            " 1/72 [..............................] - ETA: 3s - loss: 0.0796 - accuracy: 0.8600"
          ]
        },
        {
          "output_type": "stream",
          "name": "stderr",
          "text": [
            "/usr/local/lib/python3.7/dist-packages/ipykernel_launcher.py:10: UserWarning: `Model.fit_generator` is deprecated and will be removed in a future version. Please use `Model.fit`, which supports generators.\n",
            "  # Remove the CWD from sys.path while we load stuff.\n"
          ]
        },
        {
          "output_type": "stream",
          "name": "stdout",
          "text": [
            "72/72 [==============================] - 3s 44ms/step - loss: 0.0944 - accuracy: 0.8626 - val_loss: 0.1698 - val_accuracy: 0.7618 - lr: 0.0010\n",
            "Epoch 2/50\n",
            "72/72 [==============================] - 3s 42ms/step - loss: 0.0908 - accuracy: 0.8650 - val_loss: 0.1585 - val_accuracy: 0.7868 - lr: 0.0010\n",
            "Epoch 3/50\n",
            "72/72 [==============================] - 3s 43ms/step - loss: 0.0887 - accuracy: 0.8695 - val_loss: 0.1847 - val_accuracy: 0.7481 - lr: 0.0010\n",
            "Epoch 4/50\n",
            "72/72 [==============================] - 3s 43ms/step - loss: 0.0929 - accuracy: 0.8640 - val_loss: 0.1579 - val_accuracy: 0.7905 - lr: 0.0010\n",
            "Epoch 5/50\n",
            "72/72 [==============================] - 3s 43ms/step - loss: 0.0905 - accuracy: 0.8685 - val_loss: 0.1626 - val_accuracy: 0.7781 - lr: 0.0010\n",
            "Epoch 6/50\n",
            "72/72 [==============================] - 3s 42ms/step - loss: 0.0921 - accuracy: 0.8585 - val_loss: 0.1559 - val_accuracy: 0.7930 - lr: 0.0010\n",
            "Epoch 7/50\n",
            "72/72 [==============================] - 3s 42ms/step - loss: 0.0884 - accuracy: 0.8671 - val_loss: 0.1660 - val_accuracy: 0.7793 - lr: 0.0010\n",
            "Epoch 8/50\n",
            "72/72 [==============================] - 3s 43ms/step - loss: 0.0897 - accuracy: 0.8696 - val_loss: 0.1730 - val_accuracy: 0.7618 - lr: 0.0010\n",
            "Epoch 9/50\n",
            "72/72 [==============================] - 3s 43ms/step - loss: 0.0886 - accuracy: 0.8761 - val_loss: 0.1535 - val_accuracy: 0.7880 - lr: 0.0010\n",
            "Epoch 10/50\n",
            "72/72 [==============================] - 3s 46ms/step - loss: 0.1008 - accuracy: 0.8581 - val_loss: 0.1522 - val_accuracy: 0.7793 - lr: 0.0010\n",
            "Epoch 11/50\n",
            "72/72 [==============================] - 3s 43ms/step - loss: 0.0902 - accuracy: 0.8686 - val_loss: 0.1574 - val_accuracy: 0.7830 - lr: 0.0010\n",
            "Epoch 12/50\n",
            "72/72 [==============================] - 3s 43ms/step - loss: 0.0920 - accuracy: 0.8669 - val_loss: 0.1482 - val_accuracy: 0.7843 - lr: 0.0010\n",
            "Epoch 13/50\n",
            "72/72 [==============================] - 3s 43ms/step - loss: 0.0900 - accuracy: 0.8707 - val_loss: 0.1639 - val_accuracy: 0.7681 - lr: 0.0010\n",
            "Epoch 14/50\n",
            "72/72 [==============================] - 3s 43ms/step - loss: 0.0875 - accuracy: 0.8733 - val_loss: 0.1599 - val_accuracy: 0.7818 - lr: 0.0010\n",
            "Epoch 15/50\n",
            "72/72 [==============================] - 3s 43ms/step - loss: 0.0855 - accuracy: 0.8774 - val_loss: 0.1529 - val_accuracy: 0.7968 - lr: 0.0010\n",
            "Epoch 16/50\n",
            "72/72 [==============================] - 3s 43ms/step - loss: 0.0864 - accuracy: 0.8762 - val_loss: 0.1618 - val_accuracy: 0.7943 - lr: 0.0010\n",
            "Epoch 17/50\n",
            "72/72 [==============================] - 3s 43ms/step - loss: 0.0900 - accuracy: 0.8678 - val_loss: 0.1630 - val_accuracy: 0.7905 - lr: 0.0010\n",
            "Epoch 18/50\n",
            "72/72 [==============================] - 3s 43ms/step - loss: 0.0901 - accuracy: 0.8709 - val_loss: 0.1597 - val_accuracy: 0.7893 - lr: 0.0010\n",
            "Epoch 19/50\n",
            "72/72 [==============================] - 3s 43ms/step - loss: 0.0912 - accuracy: 0.8654 - val_loss: 0.1700 - val_accuracy: 0.7594 - lr: 0.0010\n",
            "Epoch 20/50\n",
            "72/72 [==============================] - 3s 43ms/step - loss: 0.0851 - accuracy: 0.8759 - val_loss: 0.1560 - val_accuracy: 0.7893 - lr: 0.0010\n",
            "Epoch 21/50\n",
            "72/72 [==============================] - 3s 45ms/step - loss: 0.0889 - accuracy: 0.8698 - val_loss: 0.1595 - val_accuracy: 0.8067 - lr: 0.0010\n",
            "Epoch 22/50\n",
            "72/72 [==============================] - 3s 43ms/step - loss: 0.0907 - accuracy: 0.8669 - val_loss: 0.1507 - val_accuracy: 0.8030 - lr: 0.0010\n",
            "Epoch 23/50\n",
            "72/72 [==============================] - 3s 43ms/step - loss: 0.0897 - accuracy: 0.8696 - val_loss: 0.1657 - val_accuracy: 0.7830 - lr: 0.0010\n",
            "Epoch 24/50\n",
            "72/72 [==============================] - 3s 43ms/step - loss: 0.0875 - accuracy: 0.8722 - val_loss: 0.1582 - val_accuracy: 0.7930 - lr: 0.0010\n",
            "Epoch 25/50\n",
            "72/72 [==============================] - 3s 43ms/step - loss: 0.0862 - accuracy: 0.8751 - val_loss: 0.1587 - val_accuracy: 0.7905 - lr: 0.0010\n",
            "Epoch 26/50\n",
            "72/72 [==============================] - 3s 44ms/step - loss: 0.0935 - accuracy: 0.8648 - val_loss: 0.1822 - val_accuracy: 0.7668 - lr: 0.0010\n",
            "Epoch 27/50\n",
            "72/72 [==============================] - 3s 43ms/step - loss: 0.0931 - accuracy: 0.8657 - val_loss: 0.1548 - val_accuracy: 0.7880 - lr: 0.0010\n",
            "Epoch 28/50\n",
            "72/72 [==============================] - 3s 43ms/step - loss: 0.0847 - accuracy: 0.8782 - val_loss: 0.1537 - val_accuracy: 0.7818 - lr: 0.0010\n",
            "Epoch 29/50\n",
            "72/72 [==============================] - 3s 43ms/step - loss: 0.0896 - accuracy: 0.8712 - val_loss: 0.1609 - val_accuracy: 0.7718 - lr: 0.0010\n",
            "Epoch 30/50\n",
            "72/72 [==============================] - 3s 42ms/step - loss: 0.0861 - accuracy: 0.8736 - val_loss: 0.1690 - val_accuracy: 0.7756 - lr: 0.0010\n",
            "Epoch 31/50\n",
            "72/72 [==============================] - 3s 43ms/step - loss: 0.0871 - accuracy: 0.8712 - val_loss: 0.1640 - val_accuracy: 0.7656 - lr: 0.0010\n",
            "Epoch 32/50\n",
            "72/72 [==============================] - 3s 43ms/step - loss: 0.0873 - accuracy: 0.8751 - val_loss: 0.1599 - val_accuracy: 0.7830 - lr: 0.0010\n",
            "Epoch 33/50\n",
            "72/72 [==============================] - 3s 43ms/step - loss: 0.0847 - accuracy: 0.8779 - val_loss: 0.1575 - val_accuracy: 0.7993 - lr: 0.0010\n",
            "Epoch 34/50\n",
            "72/72 [==============================] - 3s 42ms/step - loss: 0.0864 - accuracy: 0.8734 - val_loss: 0.1613 - val_accuracy: 0.7706 - lr: 0.0010\n",
            "Epoch 35/50\n",
            "72/72 [==============================] - 3s 42ms/step - loss: 0.0878 - accuracy: 0.8729 - val_loss: 0.1713 - val_accuracy: 0.7868 - lr: 0.0010\n",
            "Epoch 36/50\n",
            "72/72 [==============================] - 3s 43ms/step - loss: 0.0865 - accuracy: 0.8747 - val_loss: 0.1708 - val_accuracy: 0.7843 - lr: 0.0010\n",
            "Epoch 37/50\n",
            "72/72 [==============================] - 3s 42ms/step - loss: 0.0868 - accuracy: 0.8729 - val_loss: 0.1589 - val_accuracy: 0.7880 - lr: 0.0010\n",
            "Epoch 38/50\n",
            "72/72 [==============================] - 3s 42ms/step - loss: 0.0893 - accuracy: 0.8733 - val_loss: 0.1621 - val_accuracy: 0.7843 - lr: 0.0010\n",
            "Epoch 39/50\n",
            "72/72 [==============================] - 3s 42ms/step - loss: 0.0899 - accuracy: 0.8702 - val_loss: 0.1556 - val_accuracy: 0.7993 - lr: 0.0010\n",
            "Epoch 40/50\n",
            "72/72 [==============================] - 3s 42ms/step - loss: 0.0909 - accuracy: 0.8669 - val_loss: 0.1734 - val_accuracy: 0.7793 - lr: 0.0010\n",
            "Epoch 41/50\n",
            "72/72 [==============================] - 3s 42ms/step - loss: 0.0904 - accuracy: 0.8682 - val_loss: 0.1725 - val_accuracy: 0.7805 - lr: 0.0010\n",
            "Epoch 42/50\n",
            "72/72 [==============================] - 3s 43ms/step - loss: 0.0882 - accuracy: 0.8707 - val_loss: 0.1842 - val_accuracy: 0.7656 - lr: 0.0010\n",
            "Epoch 43/50\n",
            "72/72 [==============================] - 3s 43ms/step - loss: 0.0853 - accuracy: 0.8783 - val_loss: 0.1766 - val_accuracy: 0.7955 - lr: 0.0010\n",
            "Epoch 44/50\n",
            "72/72 [==============================] - 3s 43ms/step - loss: 0.0854 - accuracy: 0.8783 - val_loss: 0.1668 - val_accuracy: 0.7693 - lr: 0.0010\n",
            "Epoch 45/50\n",
            "72/72 [==============================] - 3s 42ms/step - loss: 0.0913 - accuracy: 0.8661 - val_loss: 0.1835 - val_accuracy: 0.7307 - lr: 0.0010\n",
            "Epoch 46/50\n",
            "72/72 [==============================] - 3s 42ms/step - loss: 0.0980 - accuracy: 0.8578 - val_loss: 0.1552 - val_accuracy: 0.7893 - lr: 0.0010\n",
            "Epoch 47/50\n",
            "72/72 [==============================] - 3s 42ms/step - loss: 0.0895 - accuracy: 0.8677 - val_loss: 0.1624 - val_accuracy: 0.7830 - lr: 0.0010\n",
            "Epoch 48/50\n",
            "72/72 [==============================] - 3s 43ms/step - loss: 0.0824 - accuracy: 0.8833 - val_loss: 0.1714 - val_accuracy: 0.7793 - lr: 0.0010\n",
            "Epoch 49/50\n",
            "72/72 [==============================] - 3s 43ms/step - loss: 0.0873 - accuracy: 0.8726 - val_loss: 0.1629 - val_accuracy: 0.7768 - lr: 0.0010\n",
            "Epoch 50/50\n",
            "72/72 [==============================] - 3s 43ms/step - loss: 0.0859 - accuracy: 0.8754 - val_loss: 0.1544 - val_accuracy: 0.8017 - lr: 0.0010\n"
          ]
        }
      ]
    },
    {
      "cell_type": "code",
      "source": [
        "# Fit the model (Iteration 1)\n",
        "epochs = 50 \n",
        "batch_size = 100\n",
        "history = model.fit_generator(\n",
        "    datagen.flow(X_train,y_train, batch_size=batch_size),\n",
        "    steps_per_epoch=X_train.shape[0] // batch_size,\n",
        "    epochs=epochs,\n",
        "    validation_data=(X_validate,y_validate),\n",
        "    validation_steps=X_validate.shape[0] // batch_size\n",
        "    ,callbacks=[learning_rate_reduction]\n",
        ")"
      ],
      "metadata": {
        "colab": {
          "base_uri": "https://localhost:8080/"
        },
        "id": "BjNC5KJYlH3a",
        "outputId": "d485165e-2f17-46a0-d07f-de098928d560"
      },
      "execution_count": 44,
      "outputs": [
        {
          "output_type": "stream",
          "name": "stdout",
          "text": [
            "Epoch 1/50\n",
            " 1/72 [..............................] - ETA: 4s - loss: 0.0817 - accuracy: 0.8700"
          ]
        },
        {
          "output_type": "stream",
          "name": "stderr",
          "text": [
            "/usr/local/lib/python3.7/dist-packages/ipykernel_launcher.py:10: UserWarning: `Model.fit_generator` is deprecated and will be removed in a future version. Please use `Model.fit`, which supports generators.\n",
            "  # Remove the CWD from sys.path while we load stuff.\n"
          ]
        },
        {
          "output_type": "stream",
          "name": "stdout",
          "text": [
            "72/72 [==============================] - 3s 44ms/step - loss: 0.0808 - accuracy: 0.8783 - val_loss: 0.1555 - val_accuracy: 0.8042 - lr: 0.0010\n",
            "Epoch 2/50\n",
            "72/72 [==============================] - 3s 43ms/step - loss: 0.0833 - accuracy: 0.8852 - val_loss: 0.1525 - val_accuracy: 0.7905 - lr: 0.0010\n",
            "Epoch 3/50\n",
            "72/72 [==============================] - 3s 43ms/step - loss: 0.0842 - accuracy: 0.8772 - val_loss: 0.1681 - val_accuracy: 0.7930 - lr: 0.0010\n",
            "Epoch 4/50\n",
            "72/72 [==============================] - 3s 42ms/step - loss: 0.0908 - accuracy: 0.8657 - val_loss: 0.1627 - val_accuracy: 0.7756 - lr: 0.0010\n",
            "Epoch 5/50\n",
            "72/72 [==============================] - 3s 42ms/step - loss: 0.0915 - accuracy: 0.8654 - val_loss: 0.1603 - val_accuracy: 0.7718 - lr: 0.0010\n",
            "Epoch 6/50\n",
            "72/72 [==============================] - 3s 43ms/step - loss: 0.0848 - accuracy: 0.8737 - val_loss: 0.1679 - val_accuracy: 0.7868 - lr: 0.0010\n",
            "Epoch 7/50\n",
            "72/72 [==============================] - 3s 43ms/step - loss: 0.0823 - accuracy: 0.8837 - val_loss: 0.1590 - val_accuracy: 0.7930 - lr: 0.0010\n",
            "Epoch 8/50\n",
            "72/72 [==============================] - 3s 42ms/step - loss: 0.0821 - accuracy: 0.8805 - val_loss: 0.1648 - val_accuracy: 0.7731 - lr: 0.0010\n",
            "Epoch 9/50\n",
            "72/72 [==============================] - 3s 43ms/step - loss: 0.0814 - accuracy: 0.8796 - val_loss: 0.1814 - val_accuracy: 0.7756 - lr: 0.0010\n",
            "Epoch 10/50\n",
            "72/72 [==============================] - 3s 43ms/step - loss: 0.0845 - accuracy: 0.8797 - val_loss: 0.1697 - val_accuracy: 0.7893 - lr: 0.0010\n",
            "Epoch 11/50\n",
            "72/72 [==============================] - 3s 43ms/step - loss: 0.0861 - accuracy: 0.8750 - val_loss: 0.1607 - val_accuracy: 0.7818 - lr: 0.0010\n",
            "Epoch 12/50\n",
            "72/72 [==============================] - 3s 43ms/step - loss: 0.0825 - accuracy: 0.8793 - val_loss: 0.1674 - val_accuracy: 0.7718 - lr: 0.0010\n",
            "Epoch 13/50\n",
            "72/72 [==============================] - 3s 43ms/step - loss: 0.0820 - accuracy: 0.8802 - val_loss: 0.1701 - val_accuracy: 0.7706 - lr: 0.0010\n",
            "Epoch 14/50\n",
            "72/72 [==============================] - 3s 43ms/step - loss: 0.0834 - accuracy: 0.8792 - val_loss: 0.1698 - val_accuracy: 0.7818 - lr: 0.0010\n",
            "Epoch 15/50\n",
            "72/72 [==============================] - 3s 43ms/step - loss: 0.0900 - accuracy: 0.8743 - val_loss: 0.1700 - val_accuracy: 0.7556 - lr: 0.0010\n",
            "Epoch 16/50\n",
            "72/72 [==============================] - 3s 43ms/step - loss: 0.0903 - accuracy: 0.8706 - val_loss: 0.1577 - val_accuracy: 0.7818 - lr: 0.0010\n",
            "Epoch 17/50\n",
            "72/72 [==============================] - 3s 43ms/step - loss: 0.0810 - accuracy: 0.8857 - val_loss: 0.1576 - val_accuracy: 0.7943 - lr: 0.0010\n",
            "Epoch 18/50\n",
            "72/72 [==============================] - 3s 43ms/step - loss: 0.0908 - accuracy: 0.8682 - val_loss: 0.1625 - val_accuracy: 0.7830 - lr: 0.0010\n",
            "Epoch 19/50\n",
            "72/72 [==============================] - 3s 42ms/step - loss: 0.0825 - accuracy: 0.8850 - val_loss: 0.1617 - val_accuracy: 0.7855 - lr: 0.0010\n",
            "Epoch 20/50\n",
            "72/72 [==============================] - 3s 42ms/step - loss: 0.0832 - accuracy: 0.8823 - val_loss: 0.1655 - val_accuracy: 0.7943 - lr: 0.0010\n",
            "Epoch 21/50\n",
            "72/72 [==============================] - 3s 44ms/step - loss: 0.0856 - accuracy: 0.8734 - val_loss: 0.1516 - val_accuracy: 0.7943 - lr: 0.0010\n",
            "Epoch 22/50\n",
            "72/72 [==============================] - 3s 43ms/step - loss: 0.0855 - accuracy: 0.8792 - val_loss: 0.1705 - val_accuracy: 0.7693 - lr: 0.0010\n",
            "Epoch 23/50\n",
            "72/72 [==============================] - 3s 43ms/step - loss: 0.0835 - accuracy: 0.8783 - val_loss: 0.1720 - val_accuracy: 0.7793 - lr: 0.0010\n",
            "Epoch 24/50\n",
            "72/72 [==============================] - 3s 43ms/step - loss: 0.0834 - accuracy: 0.8812 - val_loss: 0.1630 - val_accuracy: 0.7868 - lr: 0.0010\n",
            "Epoch 25/50\n",
            "72/72 [==============================] - 3s 43ms/step - loss: 0.0856 - accuracy: 0.8800 - val_loss: 0.1533 - val_accuracy: 0.7830 - lr: 0.0010\n",
            "Epoch 26/50\n",
            "72/72 [==============================] - 3s 43ms/step - loss: 0.0797 - accuracy: 0.8857 - val_loss: 0.1522 - val_accuracy: 0.8005 - lr: 0.0010\n",
            "Epoch 27/50\n",
            "72/72 [==============================] - 3s 43ms/step - loss: 0.0809 - accuracy: 0.8831 - val_loss: 0.1654 - val_accuracy: 0.7855 - lr: 0.0010\n",
            "Epoch 28/50\n",
            "72/72 [==============================] - 3s 43ms/step - loss: 0.0848 - accuracy: 0.8778 - val_loss: 0.1479 - val_accuracy: 0.7843 - lr: 0.0010\n",
            "Epoch 29/50\n",
            "72/72 [==============================] - 3s 43ms/step - loss: 0.0822 - accuracy: 0.8828 - val_loss: 0.1586 - val_accuracy: 0.7743 - lr: 0.0010\n",
            "Epoch 30/50\n",
            "72/72 [==============================] - 3s 43ms/step - loss: 0.0812 - accuracy: 0.8821 - val_loss: 0.1624 - val_accuracy: 0.7781 - lr: 0.0010\n",
            "Epoch 31/50\n",
            "72/72 [==============================] - 3s 43ms/step - loss: 0.0836 - accuracy: 0.8810 - val_loss: 0.1650 - val_accuracy: 0.7855 - lr: 0.0010\n",
            "Epoch 32/50\n",
            "72/72 [==============================] - 3s 43ms/step - loss: 0.0867 - accuracy: 0.8754 - val_loss: 0.1637 - val_accuracy: 0.7781 - lr: 0.0010\n",
            "Epoch 33/50\n",
            "72/72 [==============================] - 3s 43ms/step - loss: 0.0835 - accuracy: 0.8848 - val_loss: 0.1826 - val_accuracy: 0.7743 - lr: 0.0010\n",
            "Epoch 34/50\n",
            "72/72 [==============================] - 3s 43ms/step - loss: 0.0854 - accuracy: 0.8769 - val_loss: 0.1620 - val_accuracy: 0.7980 - lr: 0.0010\n",
            "Epoch 35/50\n",
            "72/72 [==============================] - 3s 43ms/step - loss: 0.0846 - accuracy: 0.8797 - val_loss: 0.1673 - val_accuracy: 0.7793 - lr: 0.0010\n",
            "Epoch 36/50\n",
            "72/72 [==============================] - 3s 43ms/step - loss: 0.0810 - accuracy: 0.8842 - val_loss: 0.1684 - val_accuracy: 0.7656 - lr: 0.0010\n",
            "Epoch 37/50\n",
            "72/72 [==============================] - 3s 43ms/step - loss: 0.0797 - accuracy: 0.8882 - val_loss: 0.1578 - val_accuracy: 0.8042 - lr: 0.0010\n",
            "Epoch 38/50\n",
            "72/72 [==============================] - 3s 43ms/step - loss: 0.0825 - accuracy: 0.8802 - val_loss: 0.1470 - val_accuracy: 0.7943 - lr: 0.0010\n",
            "Epoch 39/50\n",
            "72/72 [==============================] - 3s 43ms/step - loss: 0.0785 - accuracy: 0.8861 - val_loss: 0.1682 - val_accuracy: 0.7905 - lr: 0.0010\n",
            "Epoch 40/50\n",
            "72/72 [==============================] - 3s 43ms/step - loss: 0.0841 - accuracy: 0.8774 - val_loss: 0.1653 - val_accuracy: 0.7855 - lr: 0.0010\n",
            "Epoch 41/50\n",
            "72/72 [==============================] - 4s 56ms/step - loss: 0.0803 - accuracy: 0.8812 - val_loss: 0.1896 - val_accuracy: 0.7805 - lr: 0.0010\n",
            "Epoch 42/50\n",
            "72/72 [==============================] - 3s 43ms/step - loss: 0.0793 - accuracy: 0.8882 - val_loss: 0.1559 - val_accuracy: 0.8080 - lr: 0.0010\n",
            "Epoch 43/50\n",
            "72/72 [==============================] - 3s 43ms/step - loss: 0.0823 - accuracy: 0.8813 - val_loss: 0.1583 - val_accuracy: 0.7943 - lr: 0.0010\n",
            "Epoch 44/50\n",
            "72/72 [==============================] - 3s 43ms/step - loss: 0.0841 - accuracy: 0.8793 - val_loss: 0.1498 - val_accuracy: 0.7993 - lr: 0.0010\n",
            "Epoch 45/50\n",
            "72/72 [==============================] - 3s 43ms/step - loss: 0.0831 - accuracy: 0.8830 - val_loss: 0.1617 - val_accuracy: 0.7905 - lr: 0.0010\n",
            "Epoch 46/50\n",
            "72/72 [==============================] - 3s 43ms/step - loss: 0.0813 - accuracy: 0.8800 - val_loss: 0.1650 - val_accuracy: 0.7731 - lr: 0.0010\n",
            "Epoch 47/50\n",
            "72/72 [==============================] - 3s 44ms/step - loss: 0.0816 - accuracy: 0.8838 - val_loss: 0.1594 - val_accuracy: 0.7943 - lr: 0.0010\n",
            "Epoch 48/50\n",
            "72/72 [==============================] - 3s 44ms/step - loss: 0.0788 - accuracy: 0.8887 - val_loss: 0.1741 - val_accuracy: 0.7756 - lr: 0.0010\n",
            "Epoch 49/50\n",
            "72/72 [==============================] - 3s 44ms/step - loss: 0.0810 - accuracy: 0.8848 - val_loss: 0.1719 - val_accuracy: 0.7818 - lr: 0.0010\n",
            "Epoch 50/50\n",
            "72/72 [==============================] - 3s 43ms/step - loss: 0.0906 - accuracy: 0.8700 - val_loss: 0.1555 - val_accuracy: 0.7793 - lr: 0.0010\n"
          ]
        }
      ]
    },
    {
      "cell_type": "code",
      "source": [
        "# Fit the model (Iteration 1)\n",
        "epochs = 50 \n",
        "batch_size = 100\n",
        "history = model.fit_generator(\n",
        "    datagen.flow(X_train,y_train, batch_size=batch_size),\n",
        "    steps_per_epoch=X_train.shape[0] // batch_size,\n",
        "    epochs=epochs,\n",
        "    validation_data=(X_validate,y_validate),\n",
        "    validation_steps=X_validate.shape[0] // batch_size\n",
        "    ,callbacks=[learning_rate_reduction]\n",
        ")"
      ],
      "metadata": {
        "id": "BSMu6jlblHhO",
        "colab": {
          "base_uri": "https://localhost:8080/"
        },
        "outputId": "23b0dea2-4489-423a-8753-17bbae4b8eed"
      },
      "execution_count": 45,
      "outputs": [
        {
          "output_type": "stream",
          "name": "stdout",
          "text": [
            "Epoch 1/50\n",
            " 1/72 [..............................] - ETA: 4s - loss: 0.0799 - accuracy: 0.8900"
          ]
        },
        {
          "output_type": "stream",
          "name": "stderr",
          "text": [
            "/usr/local/lib/python3.7/dist-packages/ipykernel_launcher.py:10: UserWarning: `Model.fit_generator` is deprecated and will be removed in a future version. Please use `Model.fit`, which supports generators.\n",
            "  # Remove the CWD from sys.path while we load stuff.\n"
          ]
        },
        {
          "output_type": "stream",
          "name": "stdout",
          "text": [
            "72/72 [==============================] - 3s 45ms/step - loss: 0.0839 - accuracy: 0.8781 - val_loss: 0.1506 - val_accuracy: 0.7955 - lr: 0.0010\n",
            "Epoch 2/50\n",
            "72/72 [==============================] - 3s 43ms/step - loss: 0.0786 - accuracy: 0.8885 - val_loss: 0.1542 - val_accuracy: 0.7880 - lr: 0.0010\n",
            "Epoch 3/50\n",
            "72/72 [==============================] - 3s 43ms/step - loss: 0.0781 - accuracy: 0.8892 - val_loss: 0.1664 - val_accuracy: 0.7893 - lr: 0.0010\n",
            "Epoch 4/50\n",
            "72/72 [==============================] - 3s 43ms/step - loss: 0.0818 - accuracy: 0.8814 - val_loss: 0.1641 - val_accuracy: 0.7968 - lr: 0.0010\n",
            "Epoch 5/50\n",
            "72/72 [==============================] - 3s 43ms/step - loss: 0.0813 - accuracy: 0.8857 - val_loss: 0.1537 - val_accuracy: 0.7968 - lr: 0.0010\n",
            "Epoch 6/50\n",
            "72/72 [==============================] - 3s 43ms/step - loss: 0.0865 - accuracy: 0.8731 - val_loss: 0.1657 - val_accuracy: 0.7830 - lr: 0.0010\n",
            "Epoch 7/50\n",
            "72/72 [==============================] - 3s 43ms/step - loss: 0.0829 - accuracy: 0.8845 - val_loss: 0.1707 - val_accuracy: 0.7781 - lr: 0.0010\n",
            "Epoch 8/50\n",
            "72/72 [==============================] - 3s 43ms/step - loss: 0.0788 - accuracy: 0.8889 - val_loss: 0.1701 - val_accuracy: 0.7905 - lr: 0.0010\n",
            "Epoch 9/50\n",
            "72/72 [==============================] - 3s 43ms/step - loss: 0.0843 - accuracy: 0.8805 - val_loss: 0.1692 - val_accuracy: 0.7855 - lr: 0.0010\n",
            "Epoch 10/50\n",
            "72/72 [==============================] - 3s 43ms/step - loss: 0.0833 - accuracy: 0.8865 - val_loss: 0.1786 - val_accuracy: 0.7718 - lr: 0.0010\n",
            "Epoch 11/50\n",
            "72/72 [==============================] - 3s 43ms/step - loss: 0.0805 - accuracy: 0.8858 - val_loss: 0.1628 - val_accuracy: 0.7805 - lr: 0.0010\n",
            "Epoch 12/50\n",
            "72/72 [==============================] - 3s 43ms/step - loss: 0.0781 - accuracy: 0.8873 - val_loss: 0.1794 - val_accuracy: 0.7830 - lr: 0.0010\n",
            "Epoch 13/50\n",
            "72/72 [==============================] - 3s 43ms/step - loss: 0.0809 - accuracy: 0.8885 - val_loss: 0.1677 - val_accuracy: 0.7868 - lr: 0.0010\n",
            "Epoch 14/50\n",
            "72/72 [==============================] - 3s 43ms/step - loss: 0.0808 - accuracy: 0.8848 - val_loss: 0.1697 - val_accuracy: 0.7718 - lr: 0.0010\n",
            "Epoch 15/50\n",
            "72/72 [==============================] - 3s 42ms/step - loss: 0.0824 - accuracy: 0.8820 - val_loss: 0.1527 - val_accuracy: 0.7893 - lr: 0.0010\n",
            "Epoch 16/50\n",
            "72/72 [==============================] - 3s 43ms/step - loss: 0.0772 - accuracy: 0.8906 - val_loss: 0.1606 - val_accuracy: 0.7955 - lr: 0.0010\n",
            "Epoch 17/50\n",
            "72/72 [==============================] - 3s 44ms/step - loss: 0.0764 - accuracy: 0.8925 - val_loss: 0.1491 - val_accuracy: 0.7868 - lr: 0.0010\n",
            "Epoch 18/50\n",
            "72/72 [==============================] - 3s 42ms/step - loss: 0.0773 - accuracy: 0.8940 - val_loss: 0.1571 - val_accuracy: 0.7943 - lr: 0.0010\n",
            "Epoch 19/50\n",
            "72/72 [==============================] - 3s 43ms/step - loss: 0.0782 - accuracy: 0.8887 - val_loss: 0.1647 - val_accuracy: 0.7930 - lr: 0.0010\n",
            "Epoch 20/50\n",
            "72/72 [==============================] - 3s 42ms/step - loss: 0.0881 - accuracy: 0.8799 - val_loss: 0.1670 - val_accuracy: 0.7880 - lr: 0.0010\n",
            "Epoch 21/50\n",
            "72/72 [==============================] - 3s 43ms/step - loss: 0.0834 - accuracy: 0.8817 - val_loss: 0.1687 - val_accuracy: 0.7818 - lr: 0.0010\n",
            "Epoch 22/50\n",
            "72/72 [==============================] - 3s 43ms/step - loss: 0.0771 - accuracy: 0.8906 - val_loss: 0.1753 - val_accuracy: 0.7880 - lr: 0.0010\n",
            "Epoch 23/50\n",
            "72/72 [==============================] - 3s 43ms/step - loss: 0.0828 - accuracy: 0.8826 - val_loss: 0.1687 - val_accuracy: 0.7868 - lr: 0.0010\n",
            "Epoch 24/50\n",
            "72/72 [==============================] - 3s 43ms/step - loss: 0.0800 - accuracy: 0.8865 - val_loss: 0.1692 - val_accuracy: 0.7905 - lr: 0.0010\n",
            "Epoch 25/50\n",
            "72/72 [==============================] - 3s 42ms/step - loss: 0.0752 - accuracy: 0.8914 - val_loss: 0.1658 - val_accuracy: 0.7843 - lr: 0.0010\n",
            "Epoch 26/50\n",
            "72/72 [==============================] - 3s 42ms/step - loss: 0.0827 - accuracy: 0.8785 - val_loss: 0.1751 - val_accuracy: 0.7768 - lr: 0.0010\n",
            "Epoch 27/50\n",
            "72/72 [==============================] - 3s 42ms/step - loss: 0.0806 - accuracy: 0.8848 - val_loss: 0.1732 - val_accuracy: 0.7781 - lr: 0.0010\n",
            "Epoch 28/50\n",
            "72/72 [==============================] - 3s 43ms/step - loss: 0.0805 - accuracy: 0.8857 - val_loss: 0.1788 - val_accuracy: 0.7643 - lr: 0.0010\n",
            "Epoch 29/50\n",
            "72/72 [==============================] - 3s 42ms/step - loss: 0.0785 - accuracy: 0.8906 - val_loss: 0.1619 - val_accuracy: 0.7880 - lr: 0.0010\n",
            "Epoch 30/50\n",
            "72/72 [==============================] - 3s 43ms/step - loss: 0.0807 - accuracy: 0.8869 - val_loss: 0.1697 - val_accuracy: 0.7743 - lr: 0.0010\n",
            "Epoch 31/50\n",
            "72/72 [==============================] - 3s 42ms/step - loss: 0.0791 - accuracy: 0.8880 - val_loss: 0.1587 - val_accuracy: 0.7943 - lr: 0.0010\n",
            "Epoch 32/50\n",
            "72/72 [==============================] - 3s 43ms/step - loss: 0.0790 - accuracy: 0.8882 - val_loss: 0.1699 - val_accuracy: 0.7693 - lr: 0.0010\n",
            "Epoch 33/50\n",
            "72/72 [==============================] - 3s 42ms/step - loss: 0.0780 - accuracy: 0.8878 - val_loss: 0.1665 - val_accuracy: 0.7793 - lr: 0.0010\n",
            "Epoch 34/50\n",
            "72/72 [==============================] - 3s 42ms/step - loss: 0.0762 - accuracy: 0.8885 - val_loss: 0.1659 - val_accuracy: 0.8017 - lr: 0.0010\n",
            "Epoch 35/50\n",
            "72/72 [==============================] - 3s 42ms/step - loss: 0.0775 - accuracy: 0.8965 - val_loss: 0.1839 - val_accuracy: 0.7830 - lr: 0.0010\n",
            "Epoch 36/50\n",
            "72/72 [==============================] - 3s 43ms/step - loss: 0.0786 - accuracy: 0.8883 - val_loss: 0.1636 - val_accuracy: 0.8030 - lr: 0.0010\n",
            "Epoch 37/50\n",
            "72/72 [==============================] - 3s 42ms/step - loss: 0.0835 - accuracy: 0.8826 - val_loss: 0.1641 - val_accuracy: 0.7905 - lr: 0.0010\n",
            "Epoch 38/50\n",
            "72/72 [==============================] - 3s 43ms/step - loss: 0.0801 - accuracy: 0.8873 - val_loss: 0.1773 - val_accuracy: 0.7968 - lr: 0.0010\n",
            "Epoch 39/50\n",
            "72/72 [==============================] - 3s 43ms/step - loss: 0.0792 - accuracy: 0.8878 - val_loss: 0.1678 - val_accuracy: 0.7868 - lr: 0.0010\n",
            "Epoch 40/50\n",
            "72/72 [==============================] - 3s 43ms/step - loss: 0.0805 - accuracy: 0.8833 - val_loss: 0.1493 - val_accuracy: 0.8030 - lr: 0.0010\n",
            "Epoch 41/50\n",
            "72/72 [==============================] - 3s 43ms/step - loss: 0.0797 - accuracy: 0.8880 - val_loss: 0.1602 - val_accuracy: 0.7918 - lr: 0.0010\n",
            "Epoch 42/50\n",
            "72/72 [==============================] - 3s 42ms/step - loss: 0.0770 - accuracy: 0.8911 - val_loss: 0.1817 - val_accuracy: 0.7793 - lr: 0.0010\n",
            "Epoch 43/50\n",
            "72/72 [==============================] - 3s 43ms/step - loss: 0.0770 - accuracy: 0.8903 - val_loss: 0.1718 - val_accuracy: 0.7768 - lr: 0.0010\n",
            "Epoch 44/50\n",
            "72/72 [==============================] - 3s 43ms/step - loss: 0.0789 - accuracy: 0.8914 - val_loss: 0.1782 - val_accuracy: 0.7930 - lr: 0.0010\n",
            "Epoch 45/50\n",
            "72/72 [==============================] - 3s 43ms/step - loss: 0.0782 - accuracy: 0.8899 - val_loss: 0.1668 - val_accuracy: 0.7718 - lr: 0.0010\n",
            "Epoch 46/50\n",
            "72/72 [==============================] - 3s 43ms/step - loss: 0.0845 - accuracy: 0.8834 - val_loss: 0.1714 - val_accuracy: 0.7693 - lr: 0.0010\n",
            "Epoch 47/50\n",
            "72/72 [==============================] - 3s 44ms/step - loss: 0.0834 - accuracy: 0.8796 - val_loss: 0.1669 - val_accuracy: 0.7993 - lr: 0.0010\n",
            "Epoch 48/50\n",
            "72/72 [==============================] - 3s 43ms/step - loss: 0.0799 - accuracy: 0.8895 - val_loss: 0.1704 - val_accuracy: 0.7756 - lr: 0.0010\n",
            "Epoch 49/50\n",
            "72/72 [==============================] - 3s 43ms/step - loss: 0.0800 - accuracy: 0.8876 - val_loss: 0.1751 - val_accuracy: 0.7905 - lr: 0.0010\n",
            "Epoch 50/50\n",
            "72/72 [==============================] - 3s 43ms/step - loss: 0.0810 - accuracy: 0.8803 - val_loss: 0.1683 - val_accuracy: 0.7656 - lr: 0.0010\n"
          ]
        }
      ]
    },
    {
      "cell_type": "code",
      "source": [
        "# Fit the model (Iteration 10)\n",
        "epochs = 50 \n",
        "batch_size = 100\n",
        "history = model.fit_generator(\n",
        "    datagen.flow(X_train,y_train, batch_size=batch_size),\n",
        "    steps_per_epoch=X_train.shape[0] // batch_size,\n",
        "    epochs=epochs,\n",
        "    validation_data=(X_validate,y_validate),\n",
        "    validation_steps=X_validate.shape[0] // batch_size\n",
        "    ,callbacks=[learning_rate_reduction]\n",
        ")"
      ],
      "metadata": {
        "colab": {
          "base_uri": "https://localhost:8080/"
        },
        "id": "6WTgEOuhlHIs",
        "outputId": "46cfb4e0-bed5-42e8-8928-1d4503cb8824"
      },
      "execution_count": 46,
      "outputs": [
        {
          "output_type": "stream",
          "name": "stdout",
          "text": [
            "Epoch 1/50\n",
            " 1/72 [..............................] - ETA: 3s - loss: 0.0818 - accuracy: 0.9300"
          ]
        },
        {
          "output_type": "stream",
          "name": "stderr",
          "text": [
            "/usr/local/lib/python3.7/dist-packages/ipykernel_launcher.py:10: UserWarning: `Model.fit_generator` is deprecated and will be removed in a future version. Please use `Model.fit`, which supports generators.\n",
            "  # Remove the CWD from sys.path while we load stuff.\n"
          ]
        },
        {
          "output_type": "stream",
          "name": "stdout",
          "text": [
            "72/72 [==============================] - 3s 44ms/step - loss: 0.0790 - accuracy: 0.8900 - val_loss: 0.1601 - val_accuracy: 0.7718 - lr: 0.0010\n",
            "Epoch 2/50\n",
            "72/72 [==============================] - 3s 42ms/step - loss: 0.0798 - accuracy: 0.8855 - val_loss: 0.1690 - val_accuracy: 0.7718 - lr: 0.0010\n",
            "Epoch 3/50\n",
            "72/72 [==============================] - 3s 43ms/step - loss: 0.0923 - accuracy: 0.8737 - val_loss: 0.1681 - val_accuracy: 0.7643 - lr: 0.0010\n",
            "Epoch 4/50\n",
            "72/72 [==============================] - 3s 44ms/step - loss: 0.0802 - accuracy: 0.8855 - val_loss: 0.1660 - val_accuracy: 0.7893 - lr: 0.0010\n",
            "Epoch 5/50\n",
            "72/72 [==============================] - 3s 43ms/step - loss: 0.0803 - accuracy: 0.8824 - val_loss: 0.1577 - val_accuracy: 0.7793 - lr: 0.0010\n",
            "Epoch 6/50\n",
            "72/72 [==============================] - 3s 43ms/step - loss: 0.0797 - accuracy: 0.8855 - val_loss: 0.1569 - val_accuracy: 0.7943 - lr: 0.0010\n",
            "Epoch 7/50\n",
            "72/72 [==============================] - 3s 43ms/step - loss: 0.0774 - accuracy: 0.8886 - val_loss: 0.1728 - val_accuracy: 0.7805 - lr: 0.0010\n",
            "Epoch 8/50\n",
            "72/72 [==============================] - 3s 43ms/step - loss: 0.0752 - accuracy: 0.8900 - val_loss: 0.1759 - val_accuracy: 0.7793 - lr: 0.0010\n",
            "Epoch 9/50\n",
            "72/72 [==============================] - 3s 43ms/step - loss: 0.0765 - accuracy: 0.8909 - val_loss: 0.1742 - val_accuracy: 0.7880 - lr: 0.0010\n",
            "Epoch 10/50\n",
            "72/72 [==============================] - 3s 43ms/step - loss: 0.0787 - accuracy: 0.8887 - val_loss: 0.1811 - val_accuracy: 0.7581 - lr: 0.0010\n",
            "Epoch 11/50\n",
            "72/72 [==============================] - 3s 43ms/step - loss: 0.0766 - accuracy: 0.8879 - val_loss: 0.1647 - val_accuracy: 0.7743 - lr: 0.0010\n",
            "Epoch 12/50\n",
            "72/72 [==============================] - 3s 42ms/step - loss: 0.0782 - accuracy: 0.8882 - val_loss: 0.1718 - val_accuracy: 0.7756 - lr: 0.0010\n",
            "Epoch 13/50\n",
            "72/72 [==============================] - 3s 43ms/step - loss: 0.0783 - accuracy: 0.8910 - val_loss: 0.1752 - val_accuracy: 0.7743 - lr: 0.0010\n",
            "Epoch 14/50\n",
            "72/72 [==============================] - 3s 42ms/step - loss: 0.0795 - accuracy: 0.8847 - val_loss: 0.1798 - val_accuracy: 0.7731 - lr: 0.0010\n",
            "Epoch 15/50\n",
            "72/72 [==============================] - 3s 43ms/step - loss: 0.0793 - accuracy: 0.8868 - val_loss: 0.1788 - val_accuracy: 0.7943 - lr: 0.0010\n",
            "Epoch 16/50\n",
            "72/72 [==============================] - 3s 44ms/step - loss: 0.0723 - accuracy: 0.8966 - val_loss: 0.1825 - val_accuracy: 0.7743 - lr: 0.0010\n",
            "Epoch 17/50\n",
            "72/72 [==============================] - 3s 43ms/step - loss: 0.0803 - accuracy: 0.8847 - val_loss: 0.1798 - val_accuracy: 0.7768 - lr: 0.0010\n",
            "Epoch 18/50\n",
            "72/72 [==============================] - 3s 44ms/step - loss: 0.0782 - accuracy: 0.8886 - val_loss: 0.1788 - val_accuracy: 0.7781 - lr: 0.0010\n",
            "Epoch 19/50\n",
            "72/72 [==============================] - 3s 44ms/step - loss: 0.0807 - accuracy: 0.8852 - val_loss: 0.1724 - val_accuracy: 0.7756 - lr: 0.0010\n",
            "Epoch 20/50\n",
            "72/72 [==============================] - 3s 43ms/step - loss: 0.0791 - accuracy: 0.8904 - val_loss: 0.1766 - val_accuracy: 0.7781 - lr: 0.0010\n",
            "Epoch 21/50\n",
            "72/72 [==============================] - 3s 44ms/step - loss: 0.0801 - accuracy: 0.8864 - val_loss: 0.1702 - val_accuracy: 0.7855 - lr: 0.0010\n",
            "Epoch 22/50\n",
            "72/72 [==============================] - 3s 44ms/step - loss: 0.0737 - accuracy: 0.8966 - val_loss: 0.1643 - val_accuracy: 0.7880 - lr: 0.0010\n",
            "Epoch 23/50\n",
            "72/72 [==============================] - 3s 44ms/step - loss: 0.0815 - accuracy: 0.8862 - val_loss: 0.1556 - val_accuracy: 0.7955 - lr: 0.0010\n",
            "Epoch 24/50\n",
            "72/72 [==============================] - 3s 44ms/step - loss: 0.0749 - accuracy: 0.8920 - val_loss: 0.1654 - val_accuracy: 0.7955 - lr: 0.0010\n",
            "Epoch 25/50\n",
            "72/72 [==============================] - 3s 48ms/step - loss: 0.0806 - accuracy: 0.8883 - val_loss: 0.1711 - val_accuracy: 0.7743 - lr: 0.0010\n",
            "Epoch 26/50\n",
            "72/72 [==============================] - 3s 43ms/step - loss: 0.0747 - accuracy: 0.8945 - val_loss: 0.1598 - val_accuracy: 0.7843 - lr: 0.0010\n",
            "Epoch 27/50\n",
            "72/72 [==============================] - 3s 43ms/step - loss: 0.0866 - accuracy: 0.8827 - val_loss: 0.1630 - val_accuracy: 0.7693 - lr: 0.0010\n",
            "Epoch 28/50\n",
            "72/72 [==============================] - 3s 43ms/step - loss: 0.0782 - accuracy: 0.8931 - val_loss: 0.1684 - val_accuracy: 0.7893 - lr: 0.0010\n",
            "Epoch 29/50\n",
            "72/72 [==============================] - 3s 43ms/step - loss: 0.0752 - accuracy: 0.8930 - val_loss: 0.1732 - val_accuracy: 0.7830 - lr: 0.0010\n",
            "Epoch 30/50\n",
            "72/72 [==============================] - 3s 43ms/step - loss: 0.0805 - accuracy: 0.8896 - val_loss: 0.1568 - val_accuracy: 0.7905 - lr: 0.0010\n",
            "Epoch 31/50\n",
            "72/72 [==============================] - 3s 43ms/step - loss: 0.0777 - accuracy: 0.8897 - val_loss: 0.1713 - val_accuracy: 0.7880 - lr: 0.0010\n",
            "Epoch 32/50\n",
            "72/72 [==============================] - 3s 44ms/step - loss: 0.0778 - accuracy: 0.8910 - val_loss: 0.1623 - val_accuracy: 0.7980 - lr: 0.0010\n",
            "Epoch 33/50\n",
            "72/72 [==============================] - 3s 44ms/step - loss: 0.0767 - accuracy: 0.8920 - val_loss: 0.1667 - val_accuracy: 0.7855 - lr: 0.0010\n",
            "Epoch 34/50\n",
            "72/72 [==============================] - 3s 44ms/step - loss: 0.0757 - accuracy: 0.8900 - val_loss: 0.1679 - val_accuracy: 0.7943 - lr: 0.0010\n",
            "Epoch 35/50\n",
            "72/72 [==============================] - 3s 43ms/step - loss: 0.0756 - accuracy: 0.8917 - val_loss: 0.1740 - val_accuracy: 0.7805 - lr: 0.0010\n",
            "Epoch 36/50\n",
            "72/72 [==============================] - 3s 44ms/step - loss: 0.0746 - accuracy: 0.8949 - val_loss: 0.1568 - val_accuracy: 0.7955 - lr: 0.0010\n",
            "Epoch 37/50\n",
            "72/72 [==============================] - 3s 44ms/step - loss: 0.0794 - accuracy: 0.8842 - val_loss: 0.1676 - val_accuracy: 0.7868 - lr: 0.0010\n",
            "Epoch 38/50\n",
            "72/72 [==============================] - 3s 44ms/step - loss: 0.0742 - accuracy: 0.8934 - val_loss: 0.1639 - val_accuracy: 0.7830 - lr: 0.0010\n",
            "Epoch 39/50\n",
            "72/72 [==============================] - 3s 44ms/step - loss: 0.0799 - accuracy: 0.8872 - val_loss: 0.1613 - val_accuracy: 0.7955 - lr: 0.0010\n",
            "Epoch 40/50\n",
            "72/72 [==============================] - 3s 44ms/step - loss: 0.0787 - accuracy: 0.8921 - val_loss: 0.1482 - val_accuracy: 0.8067 - lr: 0.0010\n",
            "Epoch 41/50\n",
            "72/72 [==============================] - 3s 44ms/step - loss: 0.0771 - accuracy: 0.8920 - val_loss: 0.1561 - val_accuracy: 0.7830 - lr: 0.0010\n",
            "Epoch 42/50\n",
            "72/72 [==============================] - 3s 43ms/step - loss: 0.0763 - accuracy: 0.8928 - val_loss: 0.1584 - val_accuracy: 0.7805 - lr: 0.0010\n",
            "Epoch 43/50\n",
            "72/72 [==============================] - 3s 44ms/step - loss: 0.0764 - accuracy: 0.8941 - val_loss: 0.1695 - val_accuracy: 0.7768 - lr: 0.0010\n",
            "Epoch 44/50\n",
            "72/72 [==============================] - 3s 44ms/step - loss: 0.0734 - accuracy: 0.8992 - val_loss: 0.1639 - val_accuracy: 0.7843 - lr: 0.0010\n",
            "Epoch 45/50\n",
            "72/72 [==============================] - 3s 44ms/step - loss: 0.0749 - accuracy: 0.8924 - val_loss: 0.1719 - val_accuracy: 0.7880 - lr: 0.0010\n",
            "Epoch 46/50\n",
            "72/72 [==============================] - 3s 44ms/step - loss: 0.0767 - accuracy: 0.8941 - val_loss: 0.1782 - val_accuracy: 0.7618 - lr: 0.0010\n",
            "Epoch 47/50\n",
            "72/72 [==============================] - 3s 44ms/step - loss: 0.0748 - accuracy: 0.8935 - val_loss: 0.1758 - val_accuracy: 0.7781 - lr: 0.0010\n",
            "Epoch 48/50\n",
            "72/72 [==============================] - 3s 44ms/step - loss: 0.0758 - accuracy: 0.8921 - val_loss: 0.1746 - val_accuracy: 0.7656 - lr: 0.0010\n",
            "Epoch 49/50\n",
            "72/72 [==============================] - 3s 43ms/step - loss: 0.0753 - accuracy: 0.8940 - val_loss: 0.1818 - val_accuracy: 0.7805 - lr: 0.0010\n",
            "Epoch 50/50\n",
            "72/72 [==============================] - 3s 44ms/step - loss: 0.0728 - accuracy: 0.8949 - val_loss: 0.1773 - val_accuracy: 0.7843 - lr: 0.0010\n"
          ]
        }
      ]
    },
    {
      "cell_type": "code",
      "source": [
        "# Fit the model (Iteration 1)\n",
        "epochs = 50 \n",
        "batch_size = 100\n",
        "history = model.fit_generator(\n",
        "    datagen.flow(X_train,y_train, batch_size=batch_size),\n",
        "    steps_per_epoch=X_train.shape[0] // batch_size,\n",
        "    epochs=epochs,\n",
        "    validation_data=(X_validate,y_validate),\n",
        "    validation_steps=X_validate.shape[0] // batch_size\n",
        "    ,callbacks=[learning_rate_reduction]\n",
        ")"
      ],
      "metadata": {
        "id": "F9wRcNgSlG0f",
        "colab": {
          "base_uri": "https://localhost:8080/"
        },
        "outputId": "6465cbba-41ec-46e1-e2e3-0a71e3fd53b4"
      },
      "execution_count": 47,
      "outputs": [
        {
          "output_type": "stream",
          "name": "stdout",
          "text": [
            "Epoch 1/50\n",
            " 1/72 [..............................] - ETA: 4s - loss: 0.0744 - accuracy: 0.8700"
          ]
        },
        {
          "output_type": "stream",
          "name": "stderr",
          "text": [
            "/usr/local/lib/python3.7/dist-packages/ipykernel_launcher.py:10: UserWarning: `Model.fit_generator` is deprecated and will be removed in a future version. Please use `Model.fit`, which supports generators.\n",
            "  # Remove the CWD from sys.path while we load stuff.\n"
          ]
        },
        {
          "output_type": "stream",
          "name": "stdout",
          "text": [
            "72/72 [==============================] - 3s 44ms/step - loss: 0.0780 - accuracy: 0.8937 - val_loss: 0.1610 - val_accuracy: 0.7930 - lr: 0.0010\n",
            "Epoch 2/50\n",
            "72/72 [==============================] - 3s 42ms/step - loss: 0.0815 - accuracy: 0.8859 - val_loss: 0.1751 - val_accuracy: 0.7893 - lr: 0.0010\n",
            "Epoch 3/50\n",
            "72/72 [==============================] - 3s 43ms/step - loss: 0.0749 - accuracy: 0.8927 - val_loss: 0.1671 - val_accuracy: 0.7843 - lr: 0.0010\n",
            "Epoch 4/50\n",
            "72/72 [==============================] - 3s 42ms/step - loss: 0.0754 - accuracy: 0.8923 - val_loss: 0.1928 - val_accuracy: 0.7781 - lr: 0.0010\n",
            "Epoch 5/50\n",
            "72/72 [==============================] - 3s 43ms/step - loss: 0.0746 - accuracy: 0.8942 - val_loss: 0.1759 - val_accuracy: 0.7768 - lr: 0.0010\n",
            "Epoch 6/50\n",
            "72/72 [==============================] - 3s 43ms/step - loss: 0.0815 - accuracy: 0.8859 - val_loss: 0.1701 - val_accuracy: 0.7743 - lr: 0.0010\n",
            "Epoch 7/50\n",
            "72/72 [==============================] - 3s 43ms/step - loss: 0.0784 - accuracy: 0.8868 - val_loss: 0.1583 - val_accuracy: 0.7943 - lr: 0.0010\n",
            "Epoch 8/50\n",
            "72/72 [==============================] - 3s 43ms/step - loss: 0.0762 - accuracy: 0.8925 - val_loss: 0.1730 - val_accuracy: 0.7880 - lr: 0.0010\n",
            "Epoch 9/50\n",
            "72/72 [==============================] - 3s 43ms/step - loss: 0.0755 - accuracy: 0.8938 - val_loss: 0.1776 - val_accuracy: 0.7718 - lr: 0.0010\n",
            "Epoch 10/50\n",
            "72/72 [==============================] - 3s 43ms/step - loss: 0.0770 - accuracy: 0.8930 - val_loss: 0.1784 - val_accuracy: 0.7731 - lr: 0.0010\n",
            "Epoch 11/50\n",
            "72/72 [==============================] - 3s 43ms/step - loss: 0.0767 - accuracy: 0.8935 - val_loss: 0.1755 - val_accuracy: 0.7880 - lr: 0.0010\n",
            "Epoch 12/50\n",
            "72/72 [==============================] - 3s 43ms/step - loss: 0.0770 - accuracy: 0.8941 - val_loss: 0.1735 - val_accuracy: 0.7905 - lr: 0.0010\n",
            "Epoch 13/50\n",
            "72/72 [==============================] - 3s 43ms/step - loss: 0.0734 - accuracy: 0.8959 - val_loss: 0.1685 - val_accuracy: 0.7955 - lr: 0.0010\n",
            "Epoch 14/50\n",
            "72/72 [==============================] - 3s 43ms/step - loss: 0.0765 - accuracy: 0.8916 - val_loss: 0.1777 - val_accuracy: 0.7893 - lr: 0.0010\n",
            "Epoch 15/50\n",
            "72/72 [==============================] - 3s 43ms/step - loss: 0.0837 - accuracy: 0.8838 - val_loss: 0.1822 - val_accuracy: 0.7706 - lr: 0.0010\n",
            "Epoch 16/50\n",
            "72/72 [==============================] - 3s 43ms/step - loss: 0.0811 - accuracy: 0.8830 - val_loss: 0.1702 - val_accuracy: 0.7893 - lr: 0.0010\n",
            "Epoch 17/50\n",
            "72/72 [==============================] - 3s 43ms/step - loss: 0.0732 - accuracy: 0.8955 - val_loss: 0.1863 - val_accuracy: 0.7905 - lr: 0.0010\n",
            "Epoch 18/50\n",
            "72/72 [==============================] - 3s 43ms/step - loss: 0.0823 - accuracy: 0.8831 - val_loss: 0.1713 - val_accuracy: 0.7818 - lr: 0.0010\n",
            "Epoch 19/50\n",
            "72/72 [==============================] - 3s 42ms/step - loss: 0.0746 - accuracy: 0.8911 - val_loss: 0.1666 - val_accuracy: 0.7943 - lr: 0.0010\n",
            "Epoch 20/50\n",
            "72/72 [==============================] - 3s 43ms/step - loss: 0.0707 - accuracy: 0.9044 - val_loss: 0.1801 - val_accuracy: 0.7781 - lr: 0.0010\n",
            "Epoch 21/50\n",
            "72/72 [==============================] - 3s 43ms/step - loss: 0.0735 - accuracy: 0.8972 - val_loss: 0.1736 - val_accuracy: 0.7805 - lr: 0.0010\n",
            "Epoch 22/50\n",
            "72/72 [==============================] - 3s 43ms/step - loss: 0.0726 - accuracy: 0.8980 - val_loss: 0.1895 - val_accuracy: 0.7718 - lr: 0.0010\n",
            "Epoch 23/50\n",
            "72/72 [==============================] - 3s 43ms/step - loss: 0.0752 - accuracy: 0.8959 - val_loss: 0.1783 - val_accuracy: 0.7855 - lr: 0.0010\n",
            "Epoch 24/50\n",
            "72/72 [==============================] - 3s 43ms/step - loss: 0.0720 - accuracy: 0.8975 - val_loss: 0.1751 - val_accuracy: 0.7693 - lr: 0.0010\n",
            "Epoch 25/50\n",
            "72/72 [==============================] - 3s 43ms/step - loss: 0.0719 - accuracy: 0.8979 - val_loss: 0.1654 - val_accuracy: 0.7880 - lr: 0.0010\n",
            "Epoch 26/50\n",
            "72/72 [==============================] - 3s 43ms/step - loss: 0.0746 - accuracy: 0.8907 - val_loss: 0.1580 - val_accuracy: 0.7955 - lr: 0.0010\n",
            "Epoch 27/50\n",
            "72/72 [==============================] - 3s 43ms/step - loss: 0.0758 - accuracy: 0.8937 - val_loss: 0.1716 - val_accuracy: 0.7993 - lr: 0.0010\n",
            "Epoch 28/50\n",
            "72/72 [==============================] - 3s 43ms/step - loss: 0.0693 - accuracy: 0.9024 - val_loss: 0.1967 - val_accuracy: 0.7880 - lr: 0.0010\n",
            "Epoch 29/50\n",
            "72/72 [==============================] - 3s 42ms/step - loss: 0.0775 - accuracy: 0.8880 - val_loss: 0.1738 - val_accuracy: 0.7855 - lr: 0.0010\n",
            "Epoch 30/50\n",
            "72/72 [==============================] - 3s 42ms/step - loss: 0.0744 - accuracy: 0.8961 - val_loss: 0.1775 - val_accuracy: 0.7905 - lr: 0.0010\n",
            "Epoch 31/50\n",
            "72/72 [==============================] - 3s 43ms/step - loss: 0.0727 - accuracy: 0.8996 - val_loss: 0.1614 - val_accuracy: 0.7993 - lr: 0.0010\n",
            "Epoch 32/50\n",
            "72/72 [==============================] - 3s 43ms/step - loss: 0.0741 - accuracy: 0.8961 - val_loss: 0.1743 - val_accuracy: 0.7731 - lr: 0.0010\n",
            "Epoch 33/50\n",
            "72/72 [==============================] - 3s 43ms/step - loss: 0.0738 - accuracy: 0.8962 - val_loss: 0.1752 - val_accuracy: 0.7868 - lr: 0.0010\n",
            "Epoch 34/50\n",
            "72/72 [==============================] - 3s 42ms/step - loss: 0.0738 - accuracy: 0.8927 - val_loss: 0.1687 - val_accuracy: 0.7968 - lr: 0.0010\n",
            "Epoch 35/50\n",
            "72/72 [==============================] - 3s 43ms/step - loss: 0.0753 - accuracy: 0.8962 - val_loss: 0.1776 - val_accuracy: 0.7731 - lr: 0.0010\n",
            "Epoch 36/50\n",
            "72/72 [==============================] - 3s 43ms/step - loss: 0.0732 - accuracy: 0.8989 - val_loss: 0.1737 - val_accuracy: 0.7756 - lr: 0.0010\n",
            "Epoch 37/50\n",
            "72/72 [==============================] - 3s 43ms/step - loss: 0.0781 - accuracy: 0.8895 - val_loss: 0.1675 - val_accuracy: 0.7843 - lr: 0.0010\n",
            "Epoch 38/50\n",
            "72/72 [==============================] - 3s 43ms/step - loss: 0.0748 - accuracy: 0.8955 - val_loss: 0.1723 - val_accuracy: 0.7805 - lr: 0.0010\n",
            "Epoch 39/50\n",
            "72/72 [==============================] - 3s 43ms/step - loss: 0.0715 - accuracy: 0.9030 - val_loss: 0.1652 - val_accuracy: 0.7893 - lr: 0.0010\n",
            "Epoch 40/50\n",
            "72/72 [==============================] - 3s 43ms/step - loss: 0.0782 - accuracy: 0.8928 - val_loss: 0.1696 - val_accuracy: 0.7905 - lr: 0.0010\n",
            "Epoch 41/50\n",
            "72/72 [==============================] - 3s 43ms/step - loss: 0.0756 - accuracy: 0.8937 - val_loss: 0.1658 - val_accuracy: 0.7805 - lr: 0.0010\n",
            "Epoch 42/50\n",
            "72/72 [==============================] - 3s 43ms/step - loss: 0.0820 - accuracy: 0.8861 - val_loss: 0.1573 - val_accuracy: 0.7930 - lr: 0.0010\n",
            "Epoch 43/50\n",
            "72/72 [==============================] - 3s 45ms/step - loss: 0.0749 - accuracy: 0.8924 - val_loss: 0.1719 - val_accuracy: 0.7718 - lr: 0.0010\n",
            "Epoch 44/50\n",
            "72/72 [==============================] - 3s 44ms/step - loss: 0.0772 - accuracy: 0.8989 - val_loss: 0.1777 - val_accuracy: 0.7631 - lr: 0.0010\n",
            "Epoch 45/50\n",
            "72/72 [==============================] - 3s 44ms/step - loss: 0.0712 - accuracy: 0.9037 - val_loss: 0.1785 - val_accuracy: 0.7743 - lr: 0.0010\n",
            "Epoch 46/50\n",
            "72/72 [==============================] - 3s 43ms/step - loss: 0.0721 - accuracy: 0.8989 - val_loss: 0.1652 - val_accuracy: 0.7880 - lr: 0.0010\n",
            "Epoch 47/50\n",
            "72/72 [==============================] - 3s 44ms/step - loss: 0.0748 - accuracy: 0.8968 - val_loss: 0.1635 - val_accuracy: 0.8005 - lr: 0.0010\n",
            "Epoch 48/50\n",
            "72/72 [==============================] - 3s 43ms/step - loss: 0.0694 - accuracy: 0.9055 - val_loss: 0.1763 - val_accuracy: 0.7868 - lr: 0.0010\n",
            "Epoch 49/50\n",
            "72/72 [==============================] - 3s 43ms/step - loss: 0.0764 - accuracy: 0.8938 - val_loss: 0.1810 - val_accuracy: 0.7668 - lr: 0.0010\n",
            "Epoch 50/50\n",
            "72/72 [==============================] - 3s 43ms/step - loss: 0.0702 - accuracy: 0.9051 - val_loss: 0.1880 - val_accuracy: 0.7631 - lr: 0.0010\n"
          ]
        }
      ]
    },
    {
      "cell_type": "code",
      "source": [
        "# Fit the model (Iteration 1)\n",
        "epochs = 50 \n",
        "batch_size = 100\n",
        "history = model.fit_generator(\n",
        "    datagen.flow(X_train,y_train, batch_size=batch_size),\n",
        "    steps_per_epoch=X_train.shape[0] // batch_size,\n",
        "    epochs=epochs,\n",
        "    validation_data=(X_validate,y_validate),\n",
        "    validation_steps=X_validate.shape[0] // batch_size\n",
        "    ,callbacks=[learning_rate_reduction]\n",
        ")"
      ],
      "metadata": {
        "colab": {
          "base_uri": "https://localhost:8080/"
        },
        "id": "i4Tf5geSlGDp",
        "outputId": "197cc843-457f-4946-f5b6-ff6a1ad92c00"
      },
      "execution_count": 48,
      "outputs": [
        {
          "output_type": "stream",
          "name": "stdout",
          "text": [
            "Epoch 1/50\n",
            " 1/72 [..............................] - ETA: 4s - loss: 0.0498 - accuracy: 0.9400"
          ]
        },
        {
          "output_type": "stream",
          "name": "stderr",
          "text": [
            "/usr/local/lib/python3.7/dist-packages/ipykernel_launcher.py:10: UserWarning: `Model.fit_generator` is deprecated and will be removed in a future version. Please use `Model.fit`, which supports generators.\n",
            "  # Remove the CWD from sys.path while we load stuff.\n"
          ]
        },
        {
          "output_type": "stream",
          "name": "stdout",
          "text": [
            "72/72 [==============================] - 3s 44ms/step - loss: 0.0720 - accuracy: 0.8987 - val_loss: 0.1908 - val_accuracy: 0.7830 - lr: 0.0010\n",
            "Epoch 2/50\n",
            "72/72 [==============================] - 3s 42ms/step - loss: 0.0706 - accuracy: 0.9017 - val_loss: 0.1789 - val_accuracy: 0.7805 - lr: 0.0010\n",
            "Epoch 3/50\n",
            "72/72 [==============================] - 3s 43ms/step - loss: 0.0744 - accuracy: 0.8966 - val_loss: 0.1918 - val_accuracy: 0.7668 - lr: 0.0010\n",
            "Epoch 4/50\n",
            "72/72 [==============================] - 3s 43ms/step - loss: 0.0769 - accuracy: 0.8903 - val_loss: 0.1704 - val_accuracy: 0.7818 - lr: 0.0010\n",
            "Epoch 5/50\n",
            "72/72 [==============================] - 4s 55ms/step - loss: 0.0797 - accuracy: 0.8858 - val_loss: 0.1919 - val_accuracy: 0.7631 - lr: 0.0010\n",
            "Epoch 6/50\n",
            "72/72 [==============================] - 3s 43ms/step - loss: 0.0772 - accuracy: 0.8934 - val_loss: 0.1823 - val_accuracy: 0.7743 - lr: 0.0010\n",
            "Epoch 7/50\n",
            "72/72 [==============================] - 3s 44ms/step - loss: 0.0695 - accuracy: 0.9021 - val_loss: 0.1701 - val_accuracy: 0.7768 - lr: 0.0010\n",
            "Epoch 8/50\n",
            "72/72 [==============================] - 3s 43ms/step - loss: 0.0742 - accuracy: 0.8947 - val_loss: 0.1777 - val_accuracy: 0.7793 - lr: 0.0010\n",
            "Epoch 9/50\n",
            "72/72 [==============================] - 3s 43ms/step - loss: 0.0733 - accuracy: 0.8972 - val_loss: 0.1905 - val_accuracy: 0.7531 - lr: 0.0010\n",
            "Epoch 10/50\n",
            "72/72 [==============================] - 3s 44ms/step - loss: 0.0710 - accuracy: 0.9030 - val_loss: 0.1714 - val_accuracy: 0.7843 - lr: 0.0010\n",
            "Epoch 11/50\n",
            "72/72 [==============================] - 3s 43ms/step - loss: 0.0734 - accuracy: 0.8980 - val_loss: 0.1586 - val_accuracy: 0.8117 - lr: 0.0010\n",
            "Epoch 12/50\n",
            "72/72 [==============================] - 3s 42ms/step - loss: 0.0705 - accuracy: 0.9018 - val_loss: 0.1650 - val_accuracy: 0.8017 - lr: 0.0010\n",
            "Epoch 13/50\n",
            "72/72 [==============================] - 3s 43ms/step - loss: 0.0781 - accuracy: 0.8921 - val_loss: 0.1652 - val_accuracy: 0.7930 - lr: 0.0010\n",
            "Epoch 14/50\n",
            "72/72 [==============================] - 3s 44ms/step - loss: 0.0748 - accuracy: 0.8976 - val_loss: 0.1759 - val_accuracy: 0.7818 - lr: 0.0010\n",
            "Epoch 15/50\n",
            "72/72 [==============================] - 3s 42ms/step - loss: 0.0731 - accuracy: 0.8985 - val_loss: 0.1731 - val_accuracy: 0.7843 - lr: 0.0010\n",
            "Epoch 16/50\n",
            "72/72 [==============================] - 3s 43ms/step - loss: 0.0683 - accuracy: 0.9038 - val_loss: 0.1677 - val_accuracy: 0.7930 - lr: 0.0010\n",
            "Epoch 17/50\n",
            "72/72 [==============================] - 3s 43ms/step - loss: 0.0713 - accuracy: 0.9008 - val_loss: 0.1815 - val_accuracy: 0.7706 - lr: 0.0010\n",
            "Epoch 18/50\n",
            "72/72 [==============================] - 3s 43ms/step - loss: 0.0747 - accuracy: 0.9003 - val_loss: 0.1892 - val_accuracy: 0.7606 - lr: 0.0010\n",
            "Epoch 19/50\n",
            "72/72 [==============================] - 3s 44ms/step - loss: 0.0763 - accuracy: 0.8914 - val_loss: 0.1987 - val_accuracy: 0.7693 - lr: 0.0010\n",
            "Epoch 20/50\n",
            "72/72 [==============================] - 3s 44ms/step - loss: 0.0735 - accuracy: 0.9030 - val_loss: 0.1712 - val_accuracy: 0.7743 - lr: 0.0010\n",
            "Epoch 21/50\n",
            "72/72 [==============================] - 3s 42ms/step - loss: 0.0684 - accuracy: 0.9038 - val_loss: 0.1772 - val_accuracy: 0.7905 - lr: 0.0010\n",
            "Epoch 22/50\n",
            "72/72 [==============================] - 3s 43ms/step - loss: 0.0748 - accuracy: 0.8968 - val_loss: 0.1870 - val_accuracy: 0.7731 - lr: 0.0010\n",
            "Epoch 23/50\n",
            "72/72 [==============================] - 3s 43ms/step - loss: 0.0688 - accuracy: 0.9031 - val_loss: 0.1774 - val_accuracy: 0.7781 - lr: 0.0010\n",
            "Epoch 24/50\n",
            "72/72 [==============================] - 3s 43ms/step - loss: 0.0739 - accuracy: 0.8945 - val_loss: 0.1784 - val_accuracy: 0.7681 - lr: 0.0010\n",
            "Epoch 25/50\n",
            "72/72 [==============================] - 3s 43ms/step - loss: 0.0777 - accuracy: 0.8927 - val_loss: 0.1866 - val_accuracy: 0.7805 - lr: 0.0010\n",
            "Epoch 26/50\n",
            "72/72 [==============================] - 3s 43ms/step - loss: 0.0744 - accuracy: 0.8968 - val_loss: 0.1688 - val_accuracy: 0.7980 - lr: 0.0010\n",
            "Epoch 27/50\n",
            "72/72 [==============================] - 3s 42ms/step - loss: 0.0681 - accuracy: 0.9048 - val_loss: 0.1917 - val_accuracy: 0.7880 - lr: 0.0010\n",
            "Epoch 28/50\n",
            "72/72 [==============================] - 3s 43ms/step - loss: 0.0707 - accuracy: 0.9006 - val_loss: 0.1695 - val_accuracy: 0.7918 - lr: 0.0010\n",
            "Epoch 29/50\n",
            "72/72 [==============================] - 3s 43ms/step - loss: 0.0693 - accuracy: 0.9062 - val_loss: 0.1936 - val_accuracy: 0.7756 - lr: 0.0010\n",
            "Epoch 30/50\n",
            "72/72 [==============================] - 3s 43ms/step - loss: 0.0719 - accuracy: 0.9007 - val_loss: 0.1831 - val_accuracy: 0.7706 - lr: 0.0010\n",
            "Epoch 31/50\n",
            "72/72 [==============================] - 3s 43ms/step - loss: 0.0726 - accuracy: 0.8965 - val_loss: 0.1962 - val_accuracy: 0.7818 - lr: 0.0010\n",
            "Epoch 32/50\n",
            "72/72 [==============================] - 3s 44ms/step - loss: 0.0697 - accuracy: 0.9035 - val_loss: 0.1896 - val_accuracy: 0.7556 - lr: 0.0010\n",
            "Epoch 33/50\n",
            "72/72 [==============================] - 3s 43ms/step - loss: 0.0795 - accuracy: 0.8895 - val_loss: 0.1678 - val_accuracy: 0.7893 - lr: 0.0010\n",
            "Epoch 34/50\n",
            "72/72 [==============================] - 3s 43ms/step - loss: 0.0736 - accuracy: 0.9023 - val_loss: 0.1673 - val_accuracy: 0.7818 - lr: 0.0010\n",
            "Epoch 35/50\n",
            "72/72 [==============================] - 3s 43ms/step - loss: 0.0732 - accuracy: 0.8977 - val_loss: 0.1813 - val_accuracy: 0.7768 - lr: 0.0010\n",
            "Epoch 36/50\n",
            "72/72 [==============================] - 3s 43ms/step - loss: 0.0713 - accuracy: 0.9031 - val_loss: 0.1773 - val_accuracy: 0.7868 - lr: 0.0010\n",
            "Epoch 37/50\n",
            "72/72 [==============================] - 3s 43ms/step - loss: 0.0726 - accuracy: 0.8990 - val_loss: 0.1915 - val_accuracy: 0.7743 - lr: 0.0010\n",
            "Epoch 38/50\n",
            "72/72 [==============================] - 3s 43ms/step - loss: 0.0698 - accuracy: 0.9084 - val_loss: 0.1960 - val_accuracy: 0.7656 - lr: 0.0010\n",
            "Epoch 39/50\n",
            "72/72 [==============================] - 3s 43ms/step - loss: 0.0773 - accuracy: 0.8920 - val_loss: 0.1737 - val_accuracy: 0.7868 - lr: 0.0010\n",
            "Epoch 40/50\n",
            "72/72 [==============================] - 3s 43ms/step - loss: 0.0790 - accuracy: 0.8913 - val_loss: 0.1761 - val_accuracy: 0.7880 - lr: 0.0010\n",
            "Epoch 41/50\n",
            "72/72 [==============================] - 3s 43ms/step - loss: 0.0783 - accuracy: 0.8932 - val_loss: 0.1556 - val_accuracy: 0.7968 - lr: 0.0010\n",
            "Epoch 42/50\n",
            "72/72 [==============================] - 3s 43ms/step - loss: 0.0706 - accuracy: 0.9001 - val_loss: 0.1676 - val_accuracy: 0.7893 - lr: 0.0010\n",
            "Epoch 43/50\n",
            "72/72 [==============================] - 3s 43ms/step - loss: 0.0680 - accuracy: 0.9063 - val_loss: 0.1757 - val_accuracy: 0.7781 - lr: 0.0010\n",
            "Epoch 44/50\n",
            "72/72 [==============================] - 3s 43ms/step - loss: 0.0691 - accuracy: 0.9004 - val_loss: 0.1984 - val_accuracy: 0.7531 - lr: 0.0010\n",
            "Epoch 45/50\n",
            "72/72 [==============================] - 3s 43ms/step - loss: 0.0686 - accuracy: 0.9023 - val_loss: 0.1714 - val_accuracy: 0.7855 - lr: 0.0010\n",
            "Epoch 46/50\n",
            "72/72 [==============================] - 3s 43ms/step - loss: 0.0733 - accuracy: 0.9007 - val_loss: 0.1745 - val_accuracy: 0.7893 - lr: 0.0010\n",
            "Epoch 47/50\n",
            "72/72 [==============================] - 3s 43ms/step - loss: 0.0749 - accuracy: 0.8962 - val_loss: 0.1731 - val_accuracy: 0.7855 - lr: 0.0010\n",
            "Epoch 48/50\n",
            "72/72 [==============================] - 3s 43ms/step - loss: 0.0732 - accuracy: 0.9003 - val_loss: 0.1652 - val_accuracy: 0.7805 - lr: 0.0010\n",
            "Epoch 49/50\n",
            "72/72 [==============================] - 3s 43ms/step - loss: 0.0724 - accuracy: 0.9015 - val_loss: 0.1776 - val_accuracy: 0.7768 - lr: 0.0010\n",
            "Epoch 50/50\n",
            "72/72 [==============================] - 3s 43ms/step - loss: 0.0691 - accuracy: 0.9024 - val_loss: 0.1701 - val_accuracy: 0.7868 - lr: 0.0010\n"
          ]
        }
      ]
    },
    {
      "cell_type": "code",
      "source": [
        "# Fit the model (Iteration 1)\n",
        "epochs = 50 \n",
        "batch_size = 100\n",
        "history = model.fit_generator(\n",
        "    datagen.flow(X_train,y_train, batch_size=batch_size),\n",
        "    steps_per_epoch=X_train.shape[0] // batch_size,\n",
        "    epochs=epochs,\n",
        "    validation_data=(X_validate,y_validate),\n",
        "    validation_steps=X_validate.shape[0] // batch_size\n",
        "    ,callbacks=[learning_rate_reduction]\n",
        ")"
      ],
      "metadata": {
        "id": "T69Uyd1ulFg6",
        "colab": {
          "base_uri": "https://localhost:8080/"
        },
        "outputId": "3fd8bc3d-6ddb-4d6f-f348-057a2bb3fa5a"
      },
      "execution_count": 49,
      "outputs": [
        {
          "output_type": "stream",
          "name": "stdout",
          "text": [
            "Epoch 1/50\n",
            " 1/72 [..............................] - ETA: 3s - loss: 0.0627 - accuracy: 0.9100"
          ]
        },
        {
          "output_type": "stream",
          "name": "stderr",
          "text": [
            "/usr/local/lib/python3.7/dist-packages/ipykernel_launcher.py:10: UserWarning: `Model.fit_generator` is deprecated and will be removed in a future version. Please use `Model.fit`, which supports generators.\n",
            "  # Remove the CWD from sys.path while we load stuff.\n"
          ]
        },
        {
          "output_type": "stream",
          "name": "stdout",
          "text": [
            "72/72 [==============================] - 3s 44ms/step - loss: 0.0699 - accuracy: 0.9048 - val_loss: 0.1796 - val_accuracy: 0.7818 - lr: 0.0010\n",
            "Epoch 2/50\n",
            "72/72 [==============================] - 3s 43ms/step - loss: 0.0709 - accuracy: 0.9017 - val_loss: 0.1794 - val_accuracy: 0.7818 - lr: 0.0010\n",
            "Epoch 3/50\n",
            "72/72 [==============================] - 3s 43ms/step - loss: 0.0693 - accuracy: 0.9032 - val_loss: 0.1580 - val_accuracy: 0.7918 - lr: 0.0010\n",
            "Epoch 4/50\n",
            "72/72 [==============================] - 3s 43ms/step - loss: 0.0682 - accuracy: 0.9041 - val_loss: 0.1680 - val_accuracy: 0.7855 - lr: 0.0010\n",
            "Epoch 5/50\n",
            "72/72 [==============================] - 3s 43ms/step - loss: 0.0707 - accuracy: 0.9006 - val_loss: 0.1716 - val_accuracy: 0.7793 - lr: 0.0010\n",
            "Epoch 6/50\n",
            "72/72 [==============================] - 3s 43ms/step - loss: 0.0709 - accuracy: 0.9021 - val_loss: 0.1736 - val_accuracy: 0.7905 - lr: 0.0010\n",
            "Epoch 7/50\n",
            "72/72 [==============================] - 3s 43ms/step - loss: 0.0710 - accuracy: 0.9001 - val_loss: 0.1812 - val_accuracy: 0.7718 - lr: 0.0010\n",
            "Epoch 8/50\n",
            "72/72 [==============================] - 3s 43ms/step - loss: 0.0764 - accuracy: 0.8973 - val_loss: 0.1696 - val_accuracy: 0.7805 - lr: 0.0010\n",
            "Epoch 9/50\n",
            "72/72 [==============================] - 3s 43ms/step - loss: 0.0731 - accuracy: 0.8959 - val_loss: 0.1669 - val_accuracy: 0.7768 - lr: 0.0010\n",
            "Epoch 10/50\n",
            "72/72 [==============================] - 3s 43ms/step - loss: 0.0691 - accuracy: 0.9039 - val_loss: 0.1631 - val_accuracy: 0.7855 - lr: 0.0010\n",
            "Epoch 11/50\n",
            "72/72 [==============================] - 3s 42ms/step - loss: 0.0724 - accuracy: 0.9010 - val_loss: 0.1692 - val_accuracy: 0.7905 - lr: 0.0010\n",
            "Epoch 12/50\n",
            "72/72 [==============================] - 3s 42ms/step - loss: 0.0706 - accuracy: 0.9028 - val_loss: 0.1755 - val_accuracy: 0.7893 - lr: 0.0010\n",
            "Epoch 13/50\n",
            "72/72 [==============================] - 3s 43ms/step - loss: 0.0724 - accuracy: 0.9027 - val_loss: 0.1721 - val_accuracy: 0.7868 - lr: 0.0010\n",
            "Epoch 14/50\n",
            "72/72 [==============================] - 3s 43ms/step - loss: 0.0769 - accuracy: 0.8930 - val_loss: 0.1818 - val_accuracy: 0.7693 - lr: 0.0010\n",
            "Epoch 15/50\n",
            "72/72 [==============================] - 3s 43ms/step - loss: 0.0722 - accuracy: 0.8975 - val_loss: 0.1782 - val_accuracy: 0.7918 - lr: 0.0010\n",
            "Epoch 16/50\n",
            "72/72 [==============================] - 3s 43ms/step - loss: 0.0695 - accuracy: 0.9052 - val_loss: 0.1695 - val_accuracy: 0.7805 - lr: 0.0010\n",
            "Epoch 17/50\n",
            "72/72 [==============================] - 3s 42ms/step - loss: 0.0862 - accuracy: 0.8778 - val_loss: 0.1787 - val_accuracy: 0.7681 - lr: 0.0010\n",
            "Epoch 18/50\n",
            "72/72 [==============================] - 3s 42ms/step - loss: 0.0688 - accuracy: 0.9013 - val_loss: 0.1742 - val_accuracy: 0.7993 - lr: 0.0010\n",
            "Epoch 19/50\n",
            "72/72 [==============================] - 3s 43ms/step - loss: 0.0732 - accuracy: 0.8975 - val_loss: 0.1921 - val_accuracy: 0.7743 - lr: 0.0010\n",
            "Epoch 20/50\n",
            "72/72 [==============================] - 3s 43ms/step - loss: 0.0691 - accuracy: 0.9041 - val_loss: 0.1806 - val_accuracy: 0.7893 - lr: 0.0010\n",
            "Epoch 21/50\n",
            "72/72 [==============================] - 3s 43ms/step - loss: 0.0689 - accuracy: 0.9073 - val_loss: 0.1749 - val_accuracy: 0.7668 - lr: 0.0010\n",
            "Epoch 22/50\n",
            "72/72 [==============================] - 3s 43ms/step - loss: 0.0732 - accuracy: 0.8951 - val_loss: 0.1744 - val_accuracy: 0.7756 - lr: 0.0010\n",
            "Epoch 23/50\n",
            "72/72 [==============================] - 3s 43ms/step - loss: 0.0682 - accuracy: 0.9045 - val_loss: 0.1983 - val_accuracy: 0.7818 - lr: 0.0010\n",
            "Epoch 24/50\n",
            "72/72 [==============================] - 3s 43ms/step - loss: 0.0689 - accuracy: 0.9063 - val_loss: 0.1782 - val_accuracy: 0.7556 - lr: 0.0010\n",
            "Epoch 25/50\n",
            "72/72 [==============================] - 3s 42ms/step - loss: 0.0807 - accuracy: 0.8938 - val_loss: 0.1754 - val_accuracy: 0.7743 - lr: 0.0010\n",
            "Epoch 26/50\n",
            "72/72 [==============================] - 3s 43ms/step - loss: 0.0755 - accuracy: 0.8959 - val_loss: 0.1710 - val_accuracy: 0.7718 - lr: 0.0010\n",
            "Epoch 27/50\n",
            "72/72 [==============================] - 3s 43ms/step - loss: 0.0678 - accuracy: 0.9056 - val_loss: 0.1820 - val_accuracy: 0.7743 - lr: 0.0010\n",
            "Epoch 28/50\n",
            "72/72 [==============================] - 3s 43ms/step - loss: 0.0745 - accuracy: 0.8962 - val_loss: 0.1788 - val_accuracy: 0.7706 - lr: 0.0010\n",
            "Epoch 29/50\n",
            "72/72 [==============================] - 3s 43ms/step - loss: 0.0708 - accuracy: 0.9045 - val_loss: 0.1745 - val_accuracy: 0.7606 - lr: 0.0010\n",
            "Epoch 30/50\n",
            "72/72 [==============================] - 3s 44ms/step - loss: 0.0690 - accuracy: 0.9034 - val_loss: 0.1705 - val_accuracy: 0.7781 - lr: 0.0010\n",
            "Epoch 31/50\n",
            "72/72 [==============================] - 3s 43ms/step - loss: 0.0697 - accuracy: 0.9010 - val_loss: 0.1807 - val_accuracy: 0.7805 - lr: 0.0010\n",
            "Epoch 32/50\n",
            "72/72 [==============================] - 3s 43ms/step - loss: 0.0720 - accuracy: 0.8979 - val_loss: 0.1787 - val_accuracy: 0.7905 - lr: 0.0010\n",
            "Epoch 33/50\n",
            "72/72 [==============================] - 4s 52ms/step - loss: 0.0720 - accuracy: 0.9011 - val_loss: 0.1772 - val_accuracy: 0.7668 - lr: 0.0010\n",
            "Epoch 34/50\n",
            "72/72 [==============================] - 4s 48ms/step - loss: 0.0694 - accuracy: 0.9094 - val_loss: 0.1629 - val_accuracy: 0.7768 - lr: 0.0010\n",
            "Epoch 35/50\n",
            "72/72 [==============================] - 3s 43ms/step - loss: 0.0697 - accuracy: 0.9013 - val_loss: 0.1821 - val_accuracy: 0.7818 - lr: 0.0010\n",
            "Epoch 36/50\n",
            "72/72 [==============================] - 3s 43ms/step - loss: 0.0692 - accuracy: 0.9010 - val_loss: 0.1789 - val_accuracy: 0.7718 - lr: 0.0010\n",
            "Epoch 37/50\n",
            "72/72 [==============================] - 3s 43ms/step - loss: 0.0714 - accuracy: 0.9033 - val_loss: 0.1584 - val_accuracy: 0.7793 - lr: 0.0010\n",
            "Epoch 38/50\n",
            "72/72 [==============================] - 3s 43ms/step - loss: 0.0678 - accuracy: 0.9053 - val_loss: 0.1724 - val_accuracy: 0.7768 - lr: 0.0010\n",
            "Epoch 39/50\n",
            "72/72 [==============================] - 3s 43ms/step - loss: 0.0721 - accuracy: 0.9037 - val_loss: 0.1926 - val_accuracy: 0.7818 - lr: 0.0010\n",
            "Epoch 40/50\n",
            "72/72 [==============================] - 3s 43ms/step - loss: 0.0714 - accuracy: 0.9007 - val_loss: 0.2006 - val_accuracy: 0.7606 - lr: 0.0010\n",
            "Epoch 41/50\n",
            "72/72 [==============================] - 3s 43ms/step - loss: 0.0784 - accuracy: 0.8896 - val_loss: 0.1706 - val_accuracy: 0.7756 - lr: 0.0010\n",
            "Epoch 42/50\n",
            "72/72 [==============================] - 3s 43ms/step - loss: 0.0682 - accuracy: 0.9053 - val_loss: 0.1736 - val_accuracy: 0.7830 - lr: 0.0010\n",
            "Epoch 43/50\n",
            "72/72 [==============================] - 3s 43ms/step - loss: 0.0713 - accuracy: 0.9076 - val_loss: 0.1762 - val_accuracy: 0.7905 - lr: 0.0010\n",
            "Epoch 44/50\n",
            "72/72 [==============================] - 3s 43ms/step - loss: 0.0686 - accuracy: 0.9058 - val_loss: 0.1852 - val_accuracy: 0.7880 - lr: 0.0010\n",
            "Epoch 45/50\n",
            "72/72 [==============================] - 3s 42ms/step - loss: 0.0672 - accuracy: 0.9049 - val_loss: 0.1741 - val_accuracy: 0.7731 - lr: 0.0010\n",
            "Epoch 46/50\n",
            "72/72 [==============================] - 3s 43ms/step - loss: 0.0722 - accuracy: 0.8968 - val_loss: 0.1987 - val_accuracy: 0.7631 - lr: 0.0010\n",
            "Epoch 47/50\n",
            "72/72 [==============================] - 3s 43ms/step - loss: 0.0707 - accuracy: 0.9028 - val_loss: 0.1886 - val_accuracy: 0.7631 - lr: 0.0010\n",
            "Epoch 48/50\n",
            "72/72 [==============================] - 3s 43ms/step - loss: 0.0672 - accuracy: 0.9082 - val_loss: 0.1672 - val_accuracy: 0.7930 - lr: 0.0010\n",
            "Epoch 49/50\n",
            "72/72 [==============================] - 3s 43ms/step - loss: 0.0708 - accuracy: 0.9030 - val_loss: 0.1806 - val_accuracy: 0.7731 - lr: 0.0010\n",
            "Epoch 50/50\n",
            "72/72 [==============================] - 3s 43ms/step - loss: 0.0673 - accuracy: 0.9051 - val_loss: 0.1751 - val_accuracy: 0.7706 - lr: 0.0010\n"
          ]
        }
      ]
    },
    {
      "cell_type": "code",
      "source": [
        "# Fit the model (Iteration 1)\n",
        "epochs = 50 \n",
        "batch_size = 100\n",
        "history = model.fit_generator(\n",
        "    datagen.flow(X_train,y_train, batch_size=batch_size),\n",
        "    steps_per_epoch=X_train.shape[0] // batch_size,\n",
        "    epochs=epochs,\n",
        "    validation_data=(X_validate,y_validate),\n",
        "    validation_steps=X_validate.shape[0] // batch_size\n",
        "    ,callbacks=[learning_rate_reduction]\n",
        ")"
      ],
      "metadata": {
        "id": "wp6hmK8WlFHN",
        "colab": {
          "base_uri": "https://localhost:8080/"
        },
        "outputId": "d5f13a0d-39cc-44e9-e54a-e90d012da62c"
      },
      "execution_count": 50,
      "outputs": [
        {
          "output_type": "stream",
          "name": "stdout",
          "text": [
            "Epoch 1/50\n",
            " 1/72 [..............................] - ETA: 4s - loss: 0.0401 - accuracy: 0.9500"
          ]
        },
        {
          "output_type": "stream",
          "name": "stderr",
          "text": [
            "/usr/local/lib/python3.7/dist-packages/ipykernel_launcher.py:10: UserWarning: `Model.fit_generator` is deprecated and will be removed in a future version. Please use `Model.fit`, which supports generators.\n",
            "  # Remove the CWD from sys.path while we load stuff.\n"
          ]
        },
        {
          "output_type": "stream",
          "name": "stdout",
          "text": [
            "72/72 [==============================] - 3s 44ms/step - loss: 0.0657 - accuracy: 0.9098 - val_loss: 0.1879 - val_accuracy: 0.7930 - lr: 0.0010\n",
            "Epoch 2/50\n",
            "72/72 [==============================] - 3s 43ms/step - loss: 0.0751 - accuracy: 0.8972 - val_loss: 0.1657 - val_accuracy: 0.7693 - lr: 0.0010\n",
            "Epoch 3/50\n",
            "72/72 [==============================] - 3s 43ms/step - loss: 0.0709 - accuracy: 0.9018 - val_loss: 0.1709 - val_accuracy: 0.7793 - lr: 0.0010\n",
            "Epoch 4/50\n",
            "72/72 [==============================] - 3s 43ms/step - loss: 0.0662 - accuracy: 0.9079 - val_loss: 0.1803 - val_accuracy: 0.7880 - lr: 0.0010\n",
            "Epoch 5/50\n",
            "72/72 [==============================] - 3s 44ms/step - loss: 0.0808 - accuracy: 0.8893 - val_loss: 0.1681 - val_accuracy: 0.7830 - lr: 0.0010\n",
            "Epoch 6/50\n",
            "72/72 [==============================] - 3s 44ms/step - loss: 0.0752 - accuracy: 0.8954 - val_loss: 0.1649 - val_accuracy: 0.7880 - lr: 0.0010\n",
            "Epoch 7/50\n",
            "72/72 [==============================] - 3s 44ms/step - loss: 0.0683 - accuracy: 0.9044 - val_loss: 0.1746 - val_accuracy: 0.7818 - lr: 0.0010\n",
            "Epoch 8/50\n",
            "72/72 [==============================] - 3s 43ms/step - loss: 0.0662 - accuracy: 0.9104 - val_loss: 0.1895 - val_accuracy: 0.7830 - lr: 0.0010\n",
            "Epoch 9/50\n",
            "72/72 [==============================] - 3s 44ms/step - loss: 0.0691 - accuracy: 0.9051 - val_loss: 0.1705 - val_accuracy: 0.7805 - lr: 0.0010\n",
            "Epoch 10/50\n",
            "72/72 [==============================] - 3s 44ms/step - loss: 0.0761 - accuracy: 0.8949 - val_loss: 0.1771 - val_accuracy: 0.7781 - lr: 0.0010\n",
            "Epoch 11/50\n",
            "72/72 [==============================] - 3s 44ms/step - loss: 0.0685 - accuracy: 0.9056 - val_loss: 0.1723 - val_accuracy: 0.7706 - lr: 0.0010\n",
            "Epoch 12/50\n",
            "72/72 [==============================] - 3s 45ms/step - loss: 0.0762 - accuracy: 0.8980 - val_loss: 0.1786 - val_accuracy: 0.7743 - lr: 0.0010\n",
            "Epoch 13/50\n",
            "72/72 [==============================] - 3s 45ms/step - loss: 0.0735 - accuracy: 0.9032 - val_loss: 0.1750 - val_accuracy: 0.7743 - lr: 0.0010\n",
            "Epoch 14/50\n",
            "72/72 [==============================] - 3s 44ms/step - loss: 0.0707 - accuracy: 0.9051 - val_loss: 0.1828 - val_accuracy: 0.7756 - lr: 0.0010\n",
            "Epoch 15/50\n",
            "72/72 [==============================] - 3s 43ms/step - loss: 0.0656 - accuracy: 0.9103 - val_loss: 0.1954 - val_accuracy: 0.7781 - lr: 0.0010\n",
            "Epoch 16/50\n",
            "72/72 [==============================] - 3s 44ms/step - loss: 0.0681 - accuracy: 0.9039 - val_loss: 0.1822 - val_accuracy: 0.7781 - lr: 0.0010\n",
            "Epoch 17/50\n",
            "72/72 [==============================] - 3s 43ms/step - loss: 0.0686 - accuracy: 0.9045 - val_loss: 0.1842 - val_accuracy: 0.7843 - lr: 0.0010\n",
            "Epoch 18/50\n",
            "72/72 [==============================] - 3s 44ms/step - loss: 0.0659 - accuracy: 0.9084 - val_loss: 0.1836 - val_accuracy: 0.7818 - lr: 0.0010\n",
            "Epoch 19/50\n",
            "72/72 [==============================] - 3s 45ms/step - loss: 0.0685 - accuracy: 0.9052 - val_loss: 0.1743 - val_accuracy: 0.7918 - lr: 0.0010\n",
            "Epoch 20/50\n",
            "72/72 [==============================] - 3s 43ms/step - loss: 0.0697 - accuracy: 0.9049 - val_loss: 0.1582 - val_accuracy: 0.7830 - lr: 0.0010\n",
            "Epoch 21/50\n",
            "72/72 [==============================] - 3s 44ms/step - loss: 0.0690 - accuracy: 0.9042 - val_loss: 0.1724 - val_accuracy: 0.7868 - lr: 0.0010\n",
            "Epoch 22/50\n",
            "72/72 [==============================] - 3s 44ms/step - loss: 0.0669 - accuracy: 0.9127 - val_loss: 0.1789 - val_accuracy: 0.7756 - lr: 0.0010\n",
            "Epoch 23/50\n",
            "72/72 [==============================] - 3s 44ms/step - loss: 0.0718 - accuracy: 0.9010 - val_loss: 0.1660 - val_accuracy: 0.7980 - lr: 0.0010\n",
            "Epoch 24/50\n",
            "72/72 [==============================] - 3s 45ms/step - loss: 0.0692 - accuracy: 0.9059 - val_loss: 0.1778 - val_accuracy: 0.7843 - lr: 0.0010\n",
            "Epoch 25/50\n",
            "72/72 [==============================] - 3s 44ms/step - loss: 0.0635 - accuracy: 0.9156 - val_loss: 0.1897 - val_accuracy: 0.7855 - lr: 0.0010\n",
            "Epoch 26/50\n",
            "72/72 [==============================] - 3s 43ms/step - loss: 0.0664 - accuracy: 0.9075 - val_loss: 0.1767 - val_accuracy: 0.7805 - lr: 0.0010\n",
            "Epoch 27/50\n",
            "72/72 [==============================] - 3s 44ms/step - loss: 0.0700 - accuracy: 0.9076 - val_loss: 0.1778 - val_accuracy: 0.7943 - lr: 0.0010\n",
            "Epoch 28/50\n",
            "72/72 [==============================] - 3s 43ms/step - loss: 0.0699 - accuracy: 0.9003 - val_loss: 0.1757 - val_accuracy: 0.7818 - lr: 0.0010\n",
            "Epoch 29/50\n",
            "72/72 [==============================] - 3s 43ms/step - loss: 0.0652 - accuracy: 0.9079 - val_loss: 0.1934 - val_accuracy: 0.7893 - lr: 0.0010\n",
            "Epoch 30/50\n",
            "72/72 [==============================] - 3s 43ms/step - loss: 0.0727 - accuracy: 0.9042 - val_loss: 0.2000 - val_accuracy: 0.7781 - lr: 0.0010\n",
            "Epoch 31/50\n",
            "72/72 [==============================] - 3s 43ms/step - loss: 0.0681 - accuracy: 0.9070 - val_loss: 0.1894 - val_accuracy: 0.7818 - lr: 0.0010\n",
            "Epoch 32/50\n",
            "72/72 [==============================] - 3s 44ms/step - loss: 0.0660 - accuracy: 0.9098 - val_loss: 0.1700 - val_accuracy: 0.7818 - lr: 0.0010\n",
            "Epoch 33/50\n",
            "72/72 [==============================] - 3s 45ms/step - loss: 0.0677 - accuracy: 0.9070 - val_loss: 0.1754 - val_accuracy: 0.8092 - lr: 0.0010\n",
            "Epoch 34/50\n",
            "72/72 [==============================] - 3s 43ms/step - loss: 0.0673 - accuracy: 0.9103 - val_loss: 0.1689 - val_accuracy: 0.7868 - lr: 0.0010\n",
            "Epoch 35/50\n",
            "72/72 [==============================] - 3s 44ms/step - loss: 0.0701 - accuracy: 0.9024 - val_loss: 0.1691 - val_accuracy: 0.7781 - lr: 0.0010\n",
            "Epoch 36/50\n",
            "72/72 [==============================] - 3s 43ms/step - loss: 0.0693 - accuracy: 0.9023 - val_loss: 0.1637 - val_accuracy: 0.7993 - lr: 0.0010\n",
            "Epoch 37/50\n",
            "72/72 [==============================] - 3s 42ms/step - loss: 0.0661 - accuracy: 0.9086 - val_loss: 0.1734 - val_accuracy: 0.7731 - lr: 0.0010\n",
            "Epoch 38/50\n",
            "72/72 [==============================] - 3s 44ms/step - loss: 0.0739 - accuracy: 0.8970 - val_loss: 0.1781 - val_accuracy: 0.7706 - lr: 0.0010\n",
            "Epoch 39/50\n",
            "72/72 [==============================] - 3s 44ms/step - loss: 0.0758 - accuracy: 0.8961 - val_loss: 0.1905 - val_accuracy: 0.7731 - lr: 0.0010\n",
            "Epoch 40/50\n",
            "72/72 [==============================] - 3s 44ms/step - loss: 0.0687 - accuracy: 0.9042 - val_loss: 0.1630 - val_accuracy: 0.7943 - lr: 0.0010\n",
            "Epoch 41/50\n",
            "72/72 [==============================] - 3s 42ms/step - loss: 0.0652 - accuracy: 0.9122 - val_loss: 0.1647 - val_accuracy: 0.7855 - lr: 0.0010\n",
            "Epoch 42/50\n",
            "72/72 [==============================] - 3s 43ms/step - loss: 0.0743 - accuracy: 0.8962 - val_loss: 0.1830 - val_accuracy: 0.7781 - lr: 0.0010\n",
            "Epoch 43/50\n",
            "72/72 [==============================] - 3s 44ms/step - loss: 0.0759 - accuracy: 0.8975 - val_loss: 0.1692 - val_accuracy: 0.7943 - lr: 0.0010\n",
            "Epoch 44/50\n",
            "72/72 [==============================] - 3s 44ms/step - loss: 0.0819 - accuracy: 0.8878 - val_loss: 0.1813 - val_accuracy: 0.7606 - lr: 0.0010\n",
            "Epoch 45/50\n",
            "72/72 [==============================] - 3s 44ms/step - loss: 0.0695 - accuracy: 0.9007 - val_loss: 0.1662 - val_accuracy: 0.7943 - lr: 0.0010\n",
            "Epoch 46/50\n",
            "72/72 [==============================] - 3s 42ms/step - loss: 0.0692 - accuracy: 0.9055 - val_loss: 0.1885 - val_accuracy: 0.7805 - lr: 0.0010\n",
            "Epoch 47/50\n",
            "72/72 [==============================] - 3s 44ms/step - loss: 0.0697 - accuracy: 0.9030 - val_loss: 0.1625 - val_accuracy: 0.7880 - lr: 0.0010\n",
            "Epoch 48/50\n",
            "72/72 [==============================] - 3s 45ms/step - loss: 0.0706 - accuracy: 0.9065 - val_loss: 0.1860 - val_accuracy: 0.7668 - lr: 0.0010\n",
            "Epoch 49/50\n",
            "72/72 [==============================] - 3s 44ms/step - loss: 0.0660 - accuracy: 0.9079 - val_loss: 0.1976 - val_accuracy: 0.7656 - lr: 0.0010\n",
            "Epoch 50/50\n",
            "72/72 [==============================] - 3s 44ms/step - loss: 0.0670 - accuracy: 0.9093 - val_loss: 0.1808 - val_accuracy: 0.7893 - lr: 0.0010\n"
          ]
        }
      ]
    },
    {
      "cell_type": "code",
      "source": [
        "# Fit the model (Iteration 15)\n",
        "epochs = 50 \n",
        "batch_size = 100\n",
        "history = model.fit_generator(\n",
        "    datagen.flow(X_train,y_train, batch_size=batch_size),\n",
        "    steps_per_epoch=X_train.shape[0] // batch_size,\n",
        "    epochs=epochs,\n",
        "    validation_data=(X_validate,y_validate),\n",
        "    validation_steps=X_validate.shape[0] // batch_size\n",
        "    ,callbacks=[learning_rate_reduction]\n",
        ")"
      ],
      "metadata": {
        "id": "j6oEjx5FlEjS",
        "colab": {
          "base_uri": "https://localhost:8080/"
        },
        "outputId": "efe06241-746a-4f06-aa67-43c10a3de5e5"
      },
      "execution_count": 56,
      "outputs": [
        {
          "output_type": "stream",
          "name": "stdout",
          "text": [
            "Epoch 1/50\n",
            " 2/72 [..............................] - ETA: 3s - loss: 0.0443 - accuracy: 0.9700"
          ]
        },
        {
          "output_type": "stream",
          "name": "stderr",
          "text": [
            "/usr/local/lib/python3.7/dist-packages/ipykernel_launcher.py:10: UserWarning: `Model.fit_generator` is deprecated and will be removed in a future version. Please use `Model.fit`, which supports generators.\n",
            "  # Remove the CWD from sys.path while we load stuff.\n"
          ]
        },
        {
          "output_type": "stream",
          "name": "stdout",
          "text": [
            "72/72 [==============================] - 3s 45ms/step - loss: 0.0691 - accuracy: 0.9046 - val_loss: 0.1920 - val_accuracy: 0.7793 - lr: 0.0010\n",
            "Epoch 2/50\n",
            "72/72 [==============================] - 8s 105ms/step - loss: 0.0692 - accuracy: 0.9084 - val_loss: 0.1781 - val_accuracy: 0.7793 - lr: 0.0010\n",
            "Epoch 3/50\n",
            "72/72 [==============================] - 3s 47ms/step - loss: 0.0681 - accuracy: 0.9049 - val_loss: 0.1952 - val_accuracy: 0.7830 - lr: 0.0010\n",
            "Epoch 4/50\n",
            "72/72 [==============================] - 3s 43ms/step - loss: 0.0640 - accuracy: 0.9094 - val_loss: 0.1965 - val_accuracy: 0.7793 - lr: 0.0010\n",
            "Epoch 5/50\n",
            "72/72 [==============================] - 3s 43ms/step - loss: 0.0640 - accuracy: 0.9124 - val_loss: 0.1787 - val_accuracy: 0.7855 - lr: 0.0010\n",
            "Epoch 6/50\n",
            "72/72 [==============================] - 3s 43ms/step - loss: 0.0654 - accuracy: 0.9084 - val_loss: 0.1836 - val_accuracy: 0.7793 - lr: 0.0010\n",
            "Epoch 7/50\n",
            "72/72 [==============================] - 3s 43ms/step - loss: 0.0672 - accuracy: 0.9108 - val_loss: 0.1841 - val_accuracy: 0.7855 - lr: 0.0010\n",
            "Epoch 8/50\n",
            "72/72 [==============================] - 3s 43ms/step - loss: 0.0665 - accuracy: 0.9084 - val_loss: 0.1774 - val_accuracy: 0.7930 - lr: 0.0010\n",
            "Epoch 9/50\n",
            "72/72 [==============================] - 3s 43ms/step - loss: 0.0656 - accuracy: 0.9125 - val_loss: 0.1913 - val_accuracy: 0.7756 - lr: 0.0010\n",
            "Epoch 10/50\n",
            "72/72 [==============================] - 4s 49ms/step - loss: 0.0671 - accuracy: 0.9108 - val_loss: 0.1968 - val_accuracy: 0.7781 - lr: 0.0010\n",
            "Epoch 11/50\n",
            "72/72 [==============================] - 4s 49ms/step - loss: 0.0659 - accuracy: 0.9104 - val_loss: 0.1811 - val_accuracy: 0.7706 - lr: 0.0010\n",
            "Epoch 12/50\n",
            "72/72 [==============================] - 3s 43ms/step - loss: 0.0617 - accuracy: 0.9163 - val_loss: 0.1824 - val_accuracy: 0.7731 - lr: 0.0010\n",
            "Epoch 13/50\n",
            "72/72 [==============================] - 3s 44ms/step - loss: 0.0661 - accuracy: 0.9104 - val_loss: 0.1913 - val_accuracy: 0.7781 - lr: 0.0010\n",
            "Epoch 14/50\n",
            "72/72 [==============================] - 7s 104ms/step - loss: 0.0663 - accuracy: 0.9113 - val_loss: 0.1700 - val_accuracy: 0.7743 - lr: 0.0010\n",
            "Epoch 15/50\n",
            "72/72 [==============================] - 6s 79ms/step - loss: 0.0663 - accuracy: 0.9111 - val_loss: 0.1778 - val_accuracy: 0.7681 - lr: 0.0010\n",
            "Epoch 16/50\n",
            "72/72 [==============================] - 4s 52ms/step - loss: 0.0712 - accuracy: 0.9051 - val_loss: 0.1799 - val_accuracy: 0.7743 - lr: 0.0010\n",
            "Epoch 17/50\n",
            "72/72 [==============================] - 3s 44ms/step - loss: 0.0689 - accuracy: 0.9065 - val_loss: 0.1862 - val_accuracy: 0.7681 - lr: 0.0010\n",
            "Epoch 18/50\n",
            "72/72 [==============================] - 3s 43ms/step - loss: 0.0680 - accuracy: 0.9051 - val_loss: 0.1931 - val_accuracy: 0.7756 - lr: 0.0010\n",
            "Epoch 19/50\n",
            "72/72 [==============================] - 5s 67ms/step - loss: 0.0702 - accuracy: 0.9048 - val_loss: 0.1695 - val_accuracy: 0.7843 - lr: 0.0010\n",
            "Epoch 20/50\n",
            "72/72 [==============================] - 5s 66ms/step - loss: 0.0672 - accuracy: 0.9131 - val_loss: 0.1843 - val_accuracy: 0.7943 - lr: 0.0010\n",
            "Epoch 21/50\n",
            "72/72 [==============================] - 3s 44ms/step - loss: 0.0687 - accuracy: 0.9063 - val_loss: 0.1817 - val_accuracy: 0.7781 - lr: 0.0010\n",
            "Epoch 22/50\n",
            "72/72 [==============================] - 3s 48ms/step - loss: 0.0655 - accuracy: 0.9086 - val_loss: 0.2007 - val_accuracy: 0.7656 - lr: 0.0010\n",
            "Epoch 23/50\n",
            "72/72 [==============================] - 3s 44ms/step - loss: 0.0632 - accuracy: 0.9083 - val_loss: 0.1948 - val_accuracy: 0.7818 - lr: 0.0010\n",
            "Epoch 24/50\n",
            "72/72 [==============================] - 3s 45ms/step - loss: 0.0629 - accuracy: 0.9143 - val_loss: 0.1837 - val_accuracy: 0.7793 - lr: 0.0010\n",
            "Epoch 25/50\n",
            "72/72 [==============================] - 3s 43ms/step - loss: 0.0655 - accuracy: 0.9149 - val_loss: 0.1804 - val_accuracy: 0.7756 - lr: 0.0010\n",
            "Epoch 26/50\n",
            "72/72 [==============================] - 3s 44ms/step - loss: 0.0733 - accuracy: 0.9042 - val_loss: 0.1733 - val_accuracy: 0.7905 - lr: 0.0010\n",
            "Epoch 27/50\n",
            "72/72 [==============================] - 3s 44ms/step - loss: 0.0634 - accuracy: 0.9098 - val_loss: 0.2007 - val_accuracy: 0.7681 - lr: 0.0010\n",
            "Epoch 28/50\n",
            "72/72 [==============================] - 3s 45ms/step - loss: 0.0633 - accuracy: 0.9159 - val_loss: 0.2010 - val_accuracy: 0.7581 - lr: 0.0010\n",
            "Epoch 29/50\n",
            "72/72 [==============================] - 3s 45ms/step - loss: 0.0677 - accuracy: 0.9103 - val_loss: 0.2169 - val_accuracy: 0.7519 - lr: 0.0010\n",
            "Epoch 30/50\n",
            "72/72 [==============================] - 3s 44ms/step - loss: 0.0660 - accuracy: 0.9082 - val_loss: 0.1931 - val_accuracy: 0.7781 - lr: 0.0010\n",
            "Epoch 31/50\n",
            "72/72 [==============================] - 3s 43ms/step - loss: 0.0696 - accuracy: 0.9090 - val_loss: 0.1989 - val_accuracy: 0.7781 - lr: 0.0010\n",
            "Epoch 32/50\n",
            "72/72 [==============================] - 3s 42ms/step - loss: 0.0634 - accuracy: 0.9141 - val_loss: 0.1855 - val_accuracy: 0.7631 - lr: 0.0010\n",
            "Epoch 33/50\n",
            "72/72 [==============================] - 3s 44ms/step - loss: 0.0659 - accuracy: 0.9134 - val_loss: 0.2000 - val_accuracy: 0.7793 - lr: 0.0010\n",
            "Epoch 34/50\n",
            "72/72 [==============================] - 3s 44ms/step - loss: 0.0670 - accuracy: 0.9058 - val_loss: 0.2016 - val_accuracy: 0.7693 - lr: 0.0010\n",
            "Epoch 35/50\n",
            "72/72 [==============================] - 3s 44ms/step - loss: 0.0621 - accuracy: 0.9161 - val_loss: 0.2038 - val_accuracy: 0.7830 - lr: 0.0010\n",
            "Epoch 36/50\n",
            "72/72 [==============================] - 3s 44ms/step - loss: 0.0652 - accuracy: 0.9145 - val_loss: 0.1772 - val_accuracy: 0.7918 - lr: 0.0010\n",
            "Epoch 37/50\n",
            "72/72 [==============================] - 3s 43ms/step - loss: 0.0658 - accuracy: 0.9110 - val_loss: 0.1833 - val_accuracy: 0.7830 - lr: 0.0010\n",
            "Epoch 38/50\n",
            "72/72 [==============================] - 3s 44ms/step - loss: 0.0669 - accuracy: 0.9107 - val_loss: 0.2014 - val_accuracy: 0.7706 - lr: 0.0010\n",
            "Epoch 39/50\n",
            "72/72 [==============================] - 3s 43ms/step - loss: 0.0638 - accuracy: 0.9162 - val_loss: 0.1965 - val_accuracy: 0.7668 - lr: 0.0010\n",
            "Epoch 40/50\n",
            "72/72 [==============================] - 3s 43ms/step - loss: 0.0657 - accuracy: 0.9097 - val_loss: 0.2049 - val_accuracy: 0.7731 - lr: 0.0010\n",
            "Epoch 41/50\n",
            "72/72 [==============================] - 3s 44ms/step - loss: 0.0752 - accuracy: 0.9028 - val_loss: 0.1955 - val_accuracy: 0.7668 - lr: 0.0010\n",
            "Epoch 42/50\n",
            "72/72 [==============================] - 3s 43ms/step - loss: 0.0720 - accuracy: 0.8962 - val_loss: 0.1876 - val_accuracy: 0.7706 - lr: 0.0010\n",
            "Epoch 43/50\n",
            "72/72 [==============================] - 4s 50ms/step - loss: 0.0655 - accuracy: 0.9141 - val_loss: 0.1827 - val_accuracy: 0.7818 - lr: 0.0010\n",
            "Epoch 44/50\n",
            "72/72 [==============================] - 3s 45ms/step - loss: 0.0680 - accuracy: 0.9104 - val_loss: 0.1799 - val_accuracy: 0.7843 - lr: 0.0010\n",
            "Epoch 45/50\n",
            "72/72 [==============================] - 3s 45ms/step - loss: 0.0637 - accuracy: 0.9124 - val_loss: 0.1960 - val_accuracy: 0.7743 - lr: 0.0010\n",
            "Epoch 46/50\n",
            "72/72 [==============================] - 3s 45ms/step - loss: 0.0645 - accuracy: 0.9103 - val_loss: 0.1783 - val_accuracy: 0.7743 - lr: 0.0010\n",
            "Epoch 47/50\n",
            "72/72 [==============================] - 3s 45ms/step - loss: 0.0659 - accuracy: 0.9121 - val_loss: 0.2044 - val_accuracy: 0.7743 - lr: 0.0010\n",
            "Epoch 48/50\n",
            "72/72 [==============================] - 3s 45ms/step - loss: 0.0638 - accuracy: 0.9120 - val_loss: 0.1850 - val_accuracy: 0.7793 - lr: 0.0010\n",
            "Epoch 49/50\n",
            "72/72 [==============================] - 3s 45ms/step - loss: 0.0629 - accuracy: 0.9138 - val_loss: 0.1828 - val_accuracy: 0.7793 - lr: 0.0010\n",
            "Epoch 50/50\n",
            "72/72 [==============================] - 3s 44ms/step - loss: 0.0704 - accuracy: 0.9058 - val_loss: 0.1846 - val_accuracy: 0.7843 - lr: 0.0010\n"
          ]
        }
      ]
    },
    {
      "cell_type": "markdown",
      "source": [
        "## **Evaluation**\n",
        "\n"
      ],
      "metadata": {
        "id": "U8jVMyROLp1M"
      }
    },
    {
      "cell_type": "markdown",
      "source": [
        "**Model Evaluation**\n",
        "\n",
        "In this step we will check the testing accuracy and validation accuracy of our model,plot confusion matrix and also check the missclassified images count of each type"
      ],
      "metadata": {
        "id": "QexI87C8Lwyd"
      }
    },
    {
      "cell_type": "code",
      "source": [
        "loss, accuracy = model.evaluate(X_test, y_test, verbose=1)\n",
        "loss_v, accuracy_v = model.evaluate(X_validate, y_validate, verbose=1)\n",
        "print(\"Validation: accuracy = %f  ;  loss_v = %f\" % (accuracy_v, loss_v))\n",
        "print(\"Test: accuracy = %f  ;  loss = %f\" % (accuracy, loss))"
      ],
      "metadata": {
        "id": "Z8-p5af8L19X",
        "colab": {
          "base_uri": "https://localhost:8080/"
        },
        "outputId": "39925966-1e95-4796-d3e0-ac3493972796"
      },
      "execution_count": 54,
      "outputs": [
        {
          "output_type": "stream",
          "name": "stdout",
          "text": [
            "63/63 [==============================] - 0s 4ms/step - loss: 0.1972 - accuracy: 0.7763\n",
            "26/26 [==============================] - 0s 3ms/step - loss: 0.1855 - accuracy: 0.7718\n",
            "Validation: accuracy = 0.771820  ;  loss_v = 0.185529\n",
            "Test: accuracy = 0.776335  ;  loss = 0.197204\n"
          ]
        }
      ]
    },
    {
      "cell_type": "code",
      "source": [
        "plot_model_history(history)"
      ],
      "metadata": {
        "id": "DbWP3I6RL6XW",
        "colab": {
          "base_uri": "https://localhost:8080/",
          "height": 422
        },
        "outputId": "f9939f8c-f4b2-4110-c590-04dd09d186e3"
      },
      "execution_count": 59,
      "outputs": [
        {
          "output_type": "stream",
          "name": "stderr",
          "text": [
            "/usr/local/lib/python3.7/dist-packages/ipykernel_launcher.py:10: MatplotlibDeprecationWarning: Passing the minor parameter of set_xticks() positionally is deprecated since Matplotlib 3.2; the parameter will become keyword-only two minor releases later.\n",
            "  # Remove the CWD from sys.path while we load stuff.\n",
            "/usr/local/lib/python3.7/dist-packages/ipykernel_launcher.py:18: MatplotlibDeprecationWarning: Passing the minor parameter of set_xticks() positionally is deprecated since Matplotlib 3.2; the parameter will become keyword-only two minor releases later.\n"
          ]
        },
        {
          "output_type": "display_data",
          "data": {
            "text/plain": [
              "<Figure size 1080x360 with 2 Axes>"
            ],
            "image/png": "[encoded data removed]"
          },
          "metadata": {
            "needs_background": "light"
          }
        }
      ]
    },
    {
      "cell_type": "code",
      "source": [
        "from sklearn.metrics import confusion_matrix\n",
        "import itertools\n",
        "\n",
        "plt.figure(figsize=(15,6))\n",
        "def plot_confusion_matrix(cm, classes,\n",
        "                          normalize=False,\n",
        "                          title='Confusion matrix',\n",
        "                          cmap=plt.cm.Blues):\n",
        "\n",
        "    plt.imshow(cm, interpolation='nearest', cmap=cmap)\n",
        "    plt.title(title)\n",
        "    plt.colorbar()\n",
        "    tick_marks = np.arange(len(classes))\n",
        "    plt.xticks(tick_marks, classes, rotation=45)\n",
        "    plt.yticks(tick_marks, classes)\n",
        "\n",
        "    if normalize:\n",
        "        cm = cm.astype('float') / cm.sum(axis=1)[:, np.newaxis]\n",
        "\n",
        "    thresh = cm.max() / 2.\n",
        "    for i, j in itertools.product(range(cm.shape[0]), range(cm.shape[1])):\n",
        "        plt.text(j, i, cm[i, j],\n",
        "                 horizontalalignment=\"center\",\n",
        "                 color=\"white\" if cm[i, j] > thresh else \"black\")\n",
        "\n",
        "    plt.tight_layout()\n",
        "    plt.ylabel('True label')\n",
        "    plt.xlabel('Predicted label')\n",
        "\n",
        "# Predict the values from the validation dataset\n",
        "Y_pred = model.predict(X_validate)\n",
        "# Convert predictions classes to one hot vectors \n",
        "Y_pred_classes = np.argmax(Y_pred,axis = 1) \n",
        "# Convert validation observations to one hot vectors\n",
        "Y_true = np.argmax(y_validate,axis = 1) \n",
        "# compute the confusion matrix\n",
        "confusion_mtx = confusion_matrix(Y_true, Y_pred_classes)\n",
        "\n",
        " \n",
        "\n",
        "# plot the confusion matrix\n",
        "plot_confusion_matrix(confusion_mtx, classes = range(7)) "
      ],
      "metadata": {
        "id": "0Ev_dkHBL9Py",
        "colab": {
          "base_uri": "https://localhost:8080/",
          "height": 455
        },
        "outputId": "ec3a6810-6b03-4182-ae80-f82d29ff0d21"
      },
      "execution_count": 62,
      "outputs": [
        {
          "output_type": "display_data",
          "data": {
            "text/plain": [
              "<Figure size 1080x432 with 2 Axes>"
            ],
            "image/png": "[encoded data removed]"
          },
          "metadata": {
            "needs_background": "light"
          }
        }
      ]
    },
    {
      "cell_type": "markdown",
      "source": [
        "Now, lets which category has much incorrect predictions"
      ],
      "metadata": {
        "id": "Y19UgC5mL_n9"
      }
    },
    {
      "cell_type": "code",
      "source": [
        "label_frac_error = 1 - np.diag(confusion_mtx) / np.sum(confusion_mtx, axis=1)\n",
        "sns.set_style('whitegrid')\n",
        "plt.bar(np.arange(7),label_frac_error)\n",
        "plt.xlabel('True Label')\n",
        "plt.ylabel('Fraction classified incorrectly')"
      ],
      "metadata": {
        "id": "XKBX018NMA33",
        "colab": {
          "base_uri": "https://localhost:8080/",
          "height": 296
        },
        "outputId": "1e208572-7615-4a4b-e430-ade5a1462ebe"
      },
      "execution_count": 63,
      "outputs": [
        {
          "output_type": "execute_result",
          "data": {
            "text/plain": [
              "Text(0, 0.5, 'Fraction classified incorrectly')"
            ]
          },
          "metadata": {},
          "execution_count": 63
        },
        {
          "output_type": "display_data",
          "data": {
            "text/plain": [
              "<Figure size 432x288 with 1 Axes>"
            ],
            "image/png": "[encoded data removed]"
          },
          "metadata": {}
        }
      ]
    },
    {
      "cell_type": "markdown",
      "source": [
        "## **Conclusion**\n",
        "\n",
        "It seems our model has maximum number of incorrect predictions for Basal cell carcinoma which has code 3, then second most missclassified type is Vascular lesions code 5 then Melanocytic nevi code 0 where as Actinic keratoses code 4 has least misclassified type.\n",
        "\n",
        "We can also further tune our model to easily achieve the accuracy above 80% and I think still this model is efficient in comparison to detection with human eyes having 77.0344% accuracy"
      ],
      "metadata": {
        "id": "RKcJZu1CMCf8"
      }
    },
    {
      "cell_type": "markdown",
      "source": [
        "## **Saved Model Deployment**"
      ],
      "metadata": {
        "id": "TLyODDm7MJpW"
      }
    },
    {
      "cell_type": "code",
      "source": [
        "# SAVE MODEL TO JSON\n",
        "from keras.models import model_from_json\n",
        "\n",
        "# serialize model to JSON\n",
        "model_json = model.to_json()\n",
        "\n",
        "with open(\"model.json\", \"w\") as json_file:\n",
        "    json_file.write(model_json)\n",
        "\n",
        "print(\"Model saved\")"
      ],
      "metadata": {
        "id": "nXIp2OsDNLfx",
        "colab": {
          "base_uri": "https://localhost:8080/"
        },
        "outputId": "e8334b2d-ecf0-4b67-b89e-b54f19d174ae"
      },
      "execution_count": 64,
      "outputs": [
        {
          "output_type": "stream",
          "name": "stdout",
          "text": [
            "Model saved\n"
          ]
        }
      ]
    },
    {
      "cell_type": "code",
      "source": [
        "# Save Model to HDF5\n",
        "model.save(\"model.h5\")\n",
        "print(\"Model saved\")"
      ],
      "metadata": {
        "id": "s0WT3_6LNMBQ",
        "colab": {
          "base_uri": "https://localhost:8080/"
        },
        "outputId": "ee23d755-7577-42c1-a197-bcb131362d8f"
      },
      "execution_count": 66,
      "outputs": [
        {
          "output_type": "stream",
          "name": "stdout",
          "text": [
            "Model saved\n"
          ]
        }
      ]
    },
    {
      "cell_type": "code",
      "source": [
        "# save weights to HDF5\n",
        "model.save_weights(\"model_weight.h5\")\n",
        "print(\"Model saved\")"
      ],
      "metadata": {
        "id": "PoKqZHMiNPZ8",
        "colab": {
          "base_uri": "https://localhost:8080/"
        },
        "outputId": "db36c0d6-5051-4fde-e78f-12e2e62a4924"
      },
      "execution_count": 67,
      "outputs": [
        {
          "output_type": "stream",
          "name": "stdout",
          "text": [
            "Model saved\n"
          ]
        }
      ]
    },
    {
      "cell_type": "code",
      "source": [
        "# Save Model to Format TF-Lite\n",
        "import tensorflow as tf\n",
        "# Conversion Model\n",
        "converter = tf.lite.TFLiteConverter.from_keras_model(model)\n",
        "tflite_model = converter.convert()\n",
        "\n",
        "# Save Model\n",
        "with open('model.tflite', 'wb') as f:\n",
        "    f.write(tflite_model)"
      ],
      "metadata": {
        "id": "dItJf4gVNRXL",
        "colab": {
          "base_uri": "https://localhost:8080/"
        },
        "outputId": "510aa657-3dc2-49cd-bdd4-348586650790"
      },
      "execution_count": 69,
      "outputs": [
        {
          "output_type": "stream",
          "name": "stdout",
          "text": [
            "INFO:tensorflow:Assets written to: /tmp/tmp31scpuql/assets\n"
          ]
        },
        {
          "output_type": "stream",
          "name": "stderr",
          "text": [
            "WARNING:absl:Buffer deduplication procedure will be skipped when flatbuffer library is not properly loaded\n"
          ]
        }
      ]
    }
  ]
}